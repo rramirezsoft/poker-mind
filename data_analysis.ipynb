{
 "cells": [
  {
   "cell_type": "markdown",
   "metadata": {},
   "source": [
    "# Póker Mind - Análisis de Datos"
   ]
  },
  {
   "cell_type": "markdown",
   "metadata": {},
   "source": [
    "**Introducción**\n",
    "\n",
    "Este módulo del proyecto Póker Mind tiene como objetivo analizar en profundidad los datos generados previamente en nuestro dataset de simulaciones de póker. A través de un análisis exploratorio de datos (EDA), buscamos descubrir patrones, tendencias y relaciones clave que nos permitan entender mejor las probabilidades y los factores que influyen en el éxito de las manos de póker en diferentes escenarios.\n",
    "\n",
    "**Objetivos del Análisis Exploratorio**\n",
    "\n",
    "El análisis exploratorio de datos (EDA) en este módulo se organiza en una serie de preguntas clave que guían nuestra investigación. Estas preguntas están diseñadas para aprovechar al máximo la estructura de nuestro dataset y obtener respuestas a problemas fundamentales en el póker.\n",
    "\n",
    "**Visualización del Dataset**\n",
    "\n",
    "El dataset generado previamente incluye las siguientes columnas principales:\n",
    "\n",
    "- `cartas_jugador`: Las dos cartas iniciales del jugador.\n",
    "- `num_rivales`: Número de rivales en la partida simulada.\n",
    "- `mano_preflop`: Clasificación de las cartas iniciales (por ejemplo, \"Pareja\" o \"Carta Alta Suited\").\n",
    "- `flop`, `turn`, `river`: Cartas comunitarias en cada fase del juego.\n",
    "- `mano_flop`, `mano_turn`, `mano_river`: Clasificación de la mano del jugador en cada etapa.\n",
    "- `resultado`: Resultado final del juego (Victoria, Derrota, Empate).\n",
    "\n",
    "Este conjunto de datos es ideal para responder preguntas estratégicas relacionadas con el póker y para identificar los factores que determinan el éxito en este juego. A lo largo del notebook, utilizaremos estas columnas para explorar y visualizar relaciones que nos ayuden a tomar decisiones más informadas en el póker.\n"
   ]
  },
  {
   "cell_type": "markdown",
   "metadata": {},
   "source": [
    "##### **¡¡Observación!!**\n",
    "\n",
    "Ten en cuenta que los porcentajes y datos que doy en los análisis de cada pregunta a la que respondo son estrictamente sacados de mi dataset actual, si tú deseas actualizar el dataset y/o re-ejecutar el notebook de generación de dataset para generar una simulación diferente de 1 millón de manos, tienes que sabes que los porcentajes que veas en las estadisticas no coincidirán al 100% con los que doy yo en el análisis, pero sí que deberían ser muy similares. Por lo tanto, es una buena practica incluso volver a ejecutar el notebook de generación del dataset para asegurarse que las estadísticas y los datos generados tienen coherencia y están funcionando corréctamente. Recuerda que cuantas más manos simuladas generes, más exactitud y veracidad tendrán las estadísticas generadas.\n",
    "\n",
    "Dicho esto, disfruta del análisis del dataset."
   ]
  },
  {
   "cell_type": "markdown",
   "metadata": {},
   "source": [
    "### Importación de librerías"
   ]
  },
  {
   "cell_type": "code",
   "execution_count": 61,
   "metadata": {},
   "outputs": [],
   "source": [
    "import pandas as pd\n",
    "import plotly.express as px"
   ]
  },
  {
   "cell_type": "markdown",
   "metadata": {},
   "source": [
    "### Carga y visualización del dataset"
   ]
  },
  {
   "cell_type": "code",
   "execution_count": 62,
   "metadata": {},
   "outputs": [
    {
     "data": {
      "text/html": [
       "<div>\n",
       "<style scoped>\n",
       "    .dataframe tbody tr th:only-of-type {\n",
       "        vertical-align: middle;\n",
       "    }\n",
       "\n",
       "    .dataframe tbody tr th {\n",
       "        vertical-align: top;\n",
       "    }\n",
       "\n",
       "    .dataframe thead th {\n",
       "        text-align: right;\n",
       "    }\n",
       "</style>\n",
       "<table border=\"1\" class=\"dataframe\">\n",
       "  <thead>\n",
       "    <tr style=\"text-align: right;\">\n",
       "      <th></th>\n",
       "      <th>cartas_jugador</th>\n",
       "      <th>num_rivales</th>\n",
       "      <th>mano_preflop</th>\n",
       "      <th>flop</th>\n",
       "      <th>mano_flop</th>\n",
       "      <th>cartas_flop</th>\n",
       "      <th>turn</th>\n",
       "      <th>mano_turn</th>\n",
       "      <th>cartas_turn</th>\n",
       "      <th>river</th>\n",
       "      <th>mano_river</th>\n",
       "      <th>cartas_river</th>\n",
       "      <th>resultado</th>\n",
       "    </tr>\n",
       "  </thead>\n",
       "  <tbody>\n",
       "    <tr>\n",
       "      <th>0</th>\n",
       "      <td>['9♥', 'Q♣']</td>\n",
       "      <td>5</td>\n",
       "      <td>Carta Alta Offsuit</td>\n",
       "      <td>['3♦', 'Q♥', 'A♥']</td>\n",
       "      <td>Pareja</td>\n",
       "      <td>['9♥', 'Q♣', '3♦', 'Q♥', 'A♥']</td>\n",
       "      <td>['J♣']</td>\n",
       "      <td>Pareja</td>\n",
       "      <td>['9♥', 'Q♣', 'Q♥', 'A♥', 'J♣']</td>\n",
       "      <td>['J♠']</td>\n",
       "      <td>Doble Pareja</td>\n",
       "      <td>['Q♣', 'Q♥', 'A♥', 'J♣', 'J♠']</td>\n",
       "      <td>Derrota</td>\n",
       "    </tr>\n",
       "    <tr>\n",
       "      <th>1</th>\n",
       "      <td>['4♠', '10♥']</td>\n",
       "      <td>5</td>\n",
       "      <td>Carta Alta Offsuit</td>\n",
       "      <td>['8♥', 'A♥', '8♦']</td>\n",
       "      <td>Pareja</td>\n",
       "      <td>['4♠', '10♥', '8♥', 'A♥', '8♦']</td>\n",
       "      <td>['K♠']</td>\n",
       "      <td>Pareja</td>\n",
       "      <td>['10♥', '8♥', 'A♥', '8♦', 'K♠']</td>\n",
       "      <td>['J♥']</td>\n",
       "      <td>Pareja</td>\n",
       "      <td>['8♥', 'A♥', '8♦', 'K♠', 'J♥']</td>\n",
       "      <td>Derrota</td>\n",
       "    </tr>\n",
       "    <tr>\n",
       "      <th>2</th>\n",
       "      <td>['7♦', '8♦']</td>\n",
       "      <td>7</td>\n",
       "      <td>Carta Alta Suited</td>\n",
       "      <td>['10♥', '10♠', '8♥']</td>\n",
       "      <td>Doble Pareja</td>\n",
       "      <td>['7♦', '8♦', '10♥', '10♠', '8♥']</td>\n",
       "      <td>['7♥']</td>\n",
       "      <td>Doble Pareja</td>\n",
       "      <td>['7♦', '8♦', '10♥', '10♠', '8♥']</td>\n",
       "      <td>['2♥']</td>\n",
       "      <td>Doble Pareja</td>\n",
       "      <td>['7♦', '8♦', '10♥', '10♠', '8♥']</td>\n",
       "      <td>Derrota</td>\n",
       "    </tr>\n",
       "    <tr>\n",
       "      <th>3</th>\n",
       "      <td>['A♠', '6♥']</td>\n",
       "      <td>5</td>\n",
       "      <td>Carta Alta Offsuit</td>\n",
       "      <td>['10♣', 'A♦', '10♥']</td>\n",
       "      <td>Doble Pareja</td>\n",
       "      <td>['A♠', '6♥', '10♣', 'A♦', '10♥']</td>\n",
       "      <td>['2♠']</td>\n",
       "      <td>Doble Pareja</td>\n",
       "      <td>['A♠', '6♥', '10♣', 'A♦', '10♥']</td>\n",
       "      <td>['4♥']</td>\n",
       "      <td>Doble Pareja</td>\n",
       "      <td>['A♠', '6♥', '10♣', 'A♦', '10♥']</td>\n",
       "      <td>Derrota</td>\n",
       "    </tr>\n",
       "    <tr>\n",
       "      <th>4</th>\n",
       "      <td>['9♥', '5♣']</td>\n",
       "      <td>8</td>\n",
       "      <td>Carta Alta Offsuit</td>\n",
       "      <td>['K♦', '2♣', 'A♥']</td>\n",
       "      <td>Carta Alta</td>\n",
       "      <td>['9♥', '5♣', 'K♦', '2♣', 'A♥']</td>\n",
       "      <td>['Q♣']</td>\n",
       "      <td>Carta Alta</td>\n",
       "      <td>['9♥', '5♣', 'K♦', 'A♥', 'Q♣']</td>\n",
       "      <td>['6♦']</td>\n",
       "      <td>Carta Alta</td>\n",
       "      <td>['9♥', 'K♦', 'A♥', 'Q♣', '6♦']</td>\n",
       "      <td>Derrota</td>\n",
       "    </tr>\n",
       "  </tbody>\n",
       "</table>\n",
       "</div>"
      ],
      "text/plain": [
       "  cartas_jugador  num_rivales        mano_preflop                  flop  \\\n",
       "0   ['9♥', 'Q♣']            5  Carta Alta Offsuit    ['3♦', 'Q♥', 'A♥']   \n",
       "1  ['4♠', '10♥']            5  Carta Alta Offsuit    ['8♥', 'A♥', '8♦']   \n",
       "2   ['7♦', '8♦']            7   Carta Alta Suited  ['10♥', '10♠', '8♥']   \n",
       "3   ['A♠', '6♥']            5  Carta Alta Offsuit  ['10♣', 'A♦', '10♥']   \n",
       "4   ['9♥', '5♣']            8  Carta Alta Offsuit    ['K♦', '2♣', 'A♥']   \n",
       "\n",
       "      mano_flop                       cartas_flop    turn     mano_turn  \\\n",
       "0        Pareja    ['9♥', 'Q♣', '3♦', 'Q♥', 'A♥']  ['J♣']        Pareja   \n",
       "1        Pareja   ['4♠', '10♥', '8♥', 'A♥', '8♦']  ['K♠']        Pareja   \n",
       "2  Doble Pareja  ['7♦', '8♦', '10♥', '10♠', '8♥']  ['7♥']  Doble Pareja   \n",
       "3  Doble Pareja  ['A♠', '6♥', '10♣', 'A♦', '10♥']  ['2♠']  Doble Pareja   \n",
       "4    Carta Alta    ['9♥', '5♣', 'K♦', '2♣', 'A♥']  ['Q♣']    Carta Alta   \n",
       "\n",
       "                        cartas_turn   river    mano_river  \\\n",
       "0    ['9♥', 'Q♣', 'Q♥', 'A♥', 'J♣']  ['J♠']  Doble Pareja   \n",
       "1   ['10♥', '8♥', 'A♥', '8♦', 'K♠']  ['J♥']        Pareja   \n",
       "2  ['7♦', '8♦', '10♥', '10♠', '8♥']  ['2♥']  Doble Pareja   \n",
       "3  ['A♠', '6♥', '10♣', 'A♦', '10♥']  ['4♥']  Doble Pareja   \n",
       "4    ['9♥', '5♣', 'K♦', 'A♥', 'Q♣']  ['6♦']    Carta Alta   \n",
       "\n",
       "                       cartas_river resultado  \n",
       "0    ['Q♣', 'Q♥', 'A♥', 'J♣', 'J♠']   Derrota  \n",
       "1    ['8♥', 'A♥', '8♦', 'K♠', 'J♥']   Derrota  \n",
       "2  ['7♦', '8♦', '10♥', '10♠', '8♥']   Derrota  \n",
       "3  ['A♠', '6♥', '10♣', 'A♦', '10♥']   Derrota  \n",
       "4    ['9♥', 'K♦', 'A♥', 'Q♣', '6♦']   Derrota  "
      ]
     },
     "execution_count": 62,
     "metadata": {},
     "output_type": "execute_result"
    }
   ],
   "source": [
    "file_path = \"data/simulacion_poker.csv\"\n",
    "df = pd.read_csv(file_path)\n",
    "\n",
    "df.head()"
   ]
  },
  {
   "cell_type": "markdown",
   "metadata": {},
   "source": [
    "## EDA"
   ]
  },
  {
   "cell_type": "markdown",
   "metadata": {},
   "source": [
    "### 1. **Manos iniciales y probabilidades de éxito**"
   ]
  },
  {
   "cell_type": "markdown",
   "metadata": {},
   "source": [
    "#### 1.1 ¿Cuáles son las manos iniciales (preflop) con mayor probabilidad de victoria?"
   ]
  },
  {
   "cell_type": "code",
   "execution_count": 63,
   "metadata": {},
   "outputs": [
    {
     "data": {
      "application/vnd.plotly.v1+json": {
       "config": {
        "plotlyServerURL": "https://plot.ly"
       },
       "data": [
        {
         "alignmentgroup": "True",
         "hovertemplate": "Tipo de Mano=%{x}<br>Tasa de Victoria (%)=%{text}<extra></extra>",
         "legendgroup": "Carta Alta Offsuit",
         "marker": {
          "color": "rgb(229, 134, 6)",
          "pattern": {
           "shape": ""
          }
         },
         "name": "Carta Alta Offsuit",
         "offsetgroup": "Carta Alta Offsuit",
         "orientation": "v",
         "showlegend": true,
         "text": [
          0.2000977468639548
         ],
         "textposition": "outside",
         "texttemplate": "%{text:.2%}",
         "type": "bar",
         "x": [
          "Carta Alta Offsuit"
         ],
         "xaxis": "x",
         "y": [
          0.2000977468639548
         ],
         "yaxis": "y"
        },
        {
         "alignmentgroup": "True",
         "hovertemplate": "Tipo de Mano=%{x}<br>Tasa de Victoria (%)=%{text}<extra></extra>",
         "legendgroup": "Carta Alta Suited",
         "marker": {
          "color": "rgb(93, 105, 177)",
          "pattern": {
           "shape": ""
          }
         },
         "name": "Carta Alta Suited",
         "offsetgroup": "Carta Alta Suited",
         "orientation": "v",
         "showlegend": true,
         "text": [
          0.23772065444536944
         ],
         "textposition": "outside",
         "texttemplate": "%{text:.2%}",
         "type": "bar",
         "x": [
          "Carta Alta Suited"
         ],
         "xaxis": "x",
         "y": [
          0.23772065444536944
         ],
         "yaxis": "y"
        },
        {
         "alignmentgroup": "True",
         "hovertemplate": "Tipo de Mano=%{x}<br>Tasa de Victoria (%)=%{text}<extra></extra>",
         "legendgroup": "Pareja Offsuit",
         "marker": {
          "color": "rgb(82, 188, 163)",
          "pattern": {
           "shape": ""
          }
         },
         "name": "Pareja Offsuit",
         "offsetgroup": "Pareja Offsuit",
         "orientation": "v",
         "showlegend": true,
         "text": [
          0.31814384834381765
         ],
         "textposition": "outside",
         "texttemplate": "%{text:.2%}",
         "type": "bar",
         "x": [
          "Pareja Offsuit"
         ],
         "xaxis": "x",
         "y": [
          0.31814384834381765
         ],
         "yaxis": "y"
        }
       ],
       "layout": {
        "barmode": "relative",
        "legend": {
         "title": {
          "text": "Tipo de Mano"
         },
         "tracegroupgap": 0
        },
        "margin": {
         "b": 40,
         "l": 40,
         "r": 40,
         "t": 60
        },
        "plot_bgcolor": "White",
        "template": {
         "data": {
          "bar": [
           {
            "error_x": {
             "color": "#2a3f5f"
            },
            "error_y": {
             "color": "#2a3f5f"
            },
            "marker": {
             "line": {
              "color": "#E5ECF6",
              "width": 0.5
             },
             "pattern": {
              "fillmode": "overlay",
              "size": 10,
              "solidity": 0.2
             }
            },
            "type": "bar"
           }
          ],
          "barpolar": [
           {
            "marker": {
             "line": {
              "color": "#E5ECF6",
              "width": 0.5
             },
             "pattern": {
              "fillmode": "overlay",
              "size": 10,
              "solidity": 0.2
             }
            },
            "type": "barpolar"
           }
          ],
          "carpet": [
           {
            "aaxis": {
             "endlinecolor": "#2a3f5f",
             "gridcolor": "white",
             "linecolor": "white",
             "minorgridcolor": "white",
             "startlinecolor": "#2a3f5f"
            },
            "baxis": {
             "endlinecolor": "#2a3f5f",
             "gridcolor": "white",
             "linecolor": "white",
             "minorgridcolor": "white",
             "startlinecolor": "#2a3f5f"
            },
            "type": "carpet"
           }
          ],
          "choropleth": [
           {
            "colorbar": {
             "outlinewidth": 0,
             "ticks": ""
            },
            "type": "choropleth"
           }
          ],
          "contour": [
           {
            "colorbar": {
             "outlinewidth": 0,
             "ticks": ""
            },
            "colorscale": [
             [
              0,
              "#0d0887"
             ],
             [
              0.1111111111111111,
              "#46039f"
             ],
             [
              0.2222222222222222,
              "#7201a8"
             ],
             [
              0.3333333333333333,
              "#9c179e"
             ],
             [
              0.4444444444444444,
              "#bd3786"
             ],
             [
              0.5555555555555556,
              "#d8576b"
             ],
             [
              0.6666666666666666,
              "#ed7953"
             ],
             [
              0.7777777777777778,
              "#fb9f3a"
             ],
             [
              0.8888888888888888,
              "#fdca26"
             ],
             [
              1,
              "#f0f921"
             ]
            ],
            "type": "contour"
           }
          ],
          "contourcarpet": [
           {
            "colorbar": {
             "outlinewidth": 0,
             "ticks": ""
            },
            "type": "contourcarpet"
           }
          ],
          "heatmap": [
           {
            "colorbar": {
             "outlinewidth": 0,
             "ticks": ""
            },
            "colorscale": [
             [
              0,
              "#0d0887"
             ],
             [
              0.1111111111111111,
              "#46039f"
             ],
             [
              0.2222222222222222,
              "#7201a8"
             ],
             [
              0.3333333333333333,
              "#9c179e"
             ],
             [
              0.4444444444444444,
              "#bd3786"
             ],
             [
              0.5555555555555556,
              "#d8576b"
             ],
             [
              0.6666666666666666,
              "#ed7953"
             ],
             [
              0.7777777777777778,
              "#fb9f3a"
             ],
             [
              0.8888888888888888,
              "#fdca26"
             ],
             [
              1,
              "#f0f921"
             ]
            ],
            "type": "heatmap"
           }
          ],
          "heatmapgl": [
           {
            "colorbar": {
             "outlinewidth": 0,
             "ticks": ""
            },
            "colorscale": [
             [
              0,
              "#0d0887"
             ],
             [
              0.1111111111111111,
              "#46039f"
             ],
             [
              0.2222222222222222,
              "#7201a8"
             ],
             [
              0.3333333333333333,
              "#9c179e"
             ],
             [
              0.4444444444444444,
              "#bd3786"
             ],
             [
              0.5555555555555556,
              "#d8576b"
             ],
             [
              0.6666666666666666,
              "#ed7953"
             ],
             [
              0.7777777777777778,
              "#fb9f3a"
             ],
             [
              0.8888888888888888,
              "#fdca26"
             ],
             [
              1,
              "#f0f921"
             ]
            ],
            "type": "heatmapgl"
           }
          ],
          "histogram": [
           {
            "marker": {
             "pattern": {
              "fillmode": "overlay",
              "size": 10,
              "solidity": 0.2
             }
            },
            "type": "histogram"
           }
          ],
          "histogram2d": [
           {
            "colorbar": {
             "outlinewidth": 0,
             "ticks": ""
            },
            "colorscale": [
             [
              0,
              "#0d0887"
             ],
             [
              0.1111111111111111,
              "#46039f"
             ],
             [
              0.2222222222222222,
              "#7201a8"
             ],
             [
              0.3333333333333333,
              "#9c179e"
             ],
             [
              0.4444444444444444,
              "#bd3786"
             ],
             [
              0.5555555555555556,
              "#d8576b"
             ],
             [
              0.6666666666666666,
              "#ed7953"
             ],
             [
              0.7777777777777778,
              "#fb9f3a"
             ],
             [
              0.8888888888888888,
              "#fdca26"
             ],
             [
              1,
              "#f0f921"
             ]
            ],
            "type": "histogram2d"
           }
          ],
          "histogram2dcontour": [
           {
            "colorbar": {
             "outlinewidth": 0,
             "ticks": ""
            },
            "colorscale": [
             [
              0,
              "#0d0887"
             ],
             [
              0.1111111111111111,
              "#46039f"
             ],
             [
              0.2222222222222222,
              "#7201a8"
             ],
             [
              0.3333333333333333,
              "#9c179e"
             ],
             [
              0.4444444444444444,
              "#bd3786"
             ],
             [
              0.5555555555555556,
              "#d8576b"
             ],
             [
              0.6666666666666666,
              "#ed7953"
             ],
             [
              0.7777777777777778,
              "#fb9f3a"
             ],
             [
              0.8888888888888888,
              "#fdca26"
             ],
             [
              1,
              "#f0f921"
             ]
            ],
            "type": "histogram2dcontour"
           }
          ],
          "mesh3d": [
           {
            "colorbar": {
             "outlinewidth": 0,
             "ticks": ""
            },
            "type": "mesh3d"
           }
          ],
          "parcoords": [
           {
            "line": {
             "colorbar": {
              "outlinewidth": 0,
              "ticks": ""
             }
            },
            "type": "parcoords"
           }
          ],
          "pie": [
           {
            "automargin": true,
            "type": "pie"
           }
          ],
          "scatter": [
           {
            "fillpattern": {
             "fillmode": "overlay",
             "size": 10,
             "solidity": 0.2
            },
            "type": "scatter"
           }
          ],
          "scatter3d": [
           {
            "line": {
             "colorbar": {
              "outlinewidth": 0,
              "ticks": ""
             }
            },
            "marker": {
             "colorbar": {
              "outlinewidth": 0,
              "ticks": ""
             }
            },
            "type": "scatter3d"
           }
          ],
          "scattercarpet": [
           {
            "marker": {
             "colorbar": {
              "outlinewidth": 0,
              "ticks": ""
             }
            },
            "type": "scattercarpet"
           }
          ],
          "scattergeo": [
           {
            "marker": {
             "colorbar": {
              "outlinewidth": 0,
              "ticks": ""
             }
            },
            "type": "scattergeo"
           }
          ],
          "scattergl": [
           {
            "marker": {
             "colorbar": {
              "outlinewidth": 0,
              "ticks": ""
             }
            },
            "type": "scattergl"
           }
          ],
          "scattermapbox": [
           {
            "marker": {
             "colorbar": {
              "outlinewidth": 0,
              "ticks": ""
             }
            },
            "type": "scattermapbox"
           }
          ],
          "scatterpolar": [
           {
            "marker": {
             "colorbar": {
              "outlinewidth": 0,
              "ticks": ""
             }
            },
            "type": "scatterpolar"
           }
          ],
          "scatterpolargl": [
           {
            "marker": {
             "colorbar": {
              "outlinewidth": 0,
              "ticks": ""
             }
            },
            "type": "scatterpolargl"
           }
          ],
          "scatterternary": [
           {
            "marker": {
             "colorbar": {
              "outlinewidth": 0,
              "ticks": ""
             }
            },
            "type": "scatterternary"
           }
          ],
          "surface": [
           {
            "colorbar": {
             "outlinewidth": 0,
             "ticks": ""
            },
            "colorscale": [
             [
              0,
              "#0d0887"
             ],
             [
              0.1111111111111111,
              "#46039f"
             ],
             [
              0.2222222222222222,
              "#7201a8"
             ],
             [
              0.3333333333333333,
              "#9c179e"
             ],
             [
              0.4444444444444444,
              "#bd3786"
             ],
             [
              0.5555555555555556,
              "#d8576b"
             ],
             [
              0.6666666666666666,
              "#ed7953"
             ],
             [
              0.7777777777777778,
              "#fb9f3a"
             ],
             [
              0.8888888888888888,
              "#fdca26"
             ],
             [
              1,
              "#f0f921"
             ]
            ],
            "type": "surface"
           }
          ],
          "table": [
           {
            "cells": {
             "fill": {
              "color": "#EBF0F8"
             },
             "line": {
              "color": "white"
             }
            },
            "header": {
             "fill": {
              "color": "#C8D4E3"
             },
             "line": {
              "color": "white"
             }
            },
            "type": "table"
           }
          ]
         },
         "layout": {
          "annotationdefaults": {
           "arrowcolor": "#2a3f5f",
           "arrowhead": 0,
           "arrowwidth": 1
          },
          "autotypenumbers": "strict",
          "coloraxis": {
           "colorbar": {
            "outlinewidth": 0,
            "ticks": ""
           }
          },
          "colorscale": {
           "diverging": [
            [
             0,
             "#8e0152"
            ],
            [
             0.1,
             "#c51b7d"
            ],
            [
             0.2,
             "#de77ae"
            ],
            [
             0.3,
             "#f1b6da"
            ],
            [
             0.4,
             "#fde0ef"
            ],
            [
             0.5,
             "#f7f7f7"
            ],
            [
             0.6,
             "#e6f5d0"
            ],
            [
             0.7,
             "#b8e186"
            ],
            [
             0.8,
             "#7fbc41"
            ],
            [
             0.9,
             "#4d9221"
            ],
            [
             1,
             "#276419"
            ]
           ],
           "sequential": [
            [
             0,
             "#0d0887"
            ],
            [
             0.1111111111111111,
             "#46039f"
            ],
            [
             0.2222222222222222,
             "#7201a8"
            ],
            [
             0.3333333333333333,
             "#9c179e"
            ],
            [
             0.4444444444444444,
             "#bd3786"
            ],
            [
             0.5555555555555556,
             "#d8576b"
            ],
            [
             0.6666666666666666,
             "#ed7953"
            ],
            [
             0.7777777777777778,
             "#fb9f3a"
            ],
            [
             0.8888888888888888,
             "#fdca26"
            ],
            [
             1,
             "#f0f921"
            ]
           ],
           "sequentialminus": [
            [
             0,
             "#0d0887"
            ],
            [
             0.1111111111111111,
             "#46039f"
            ],
            [
             0.2222222222222222,
             "#7201a8"
            ],
            [
             0.3333333333333333,
             "#9c179e"
            ],
            [
             0.4444444444444444,
             "#bd3786"
            ],
            [
             0.5555555555555556,
             "#d8576b"
            ],
            [
             0.6666666666666666,
             "#ed7953"
            ],
            [
             0.7777777777777778,
             "#fb9f3a"
            ],
            [
             0.8888888888888888,
             "#fdca26"
            ],
            [
             1,
             "#f0f921"
            ]
           ]
          },
          "colorway": [
           "#636efa",
           "#EF553B",
           "#00cc96",
           "#ab63fa",
           "#FFA15A",
           "#19d3f3",
           "#FF6692",
           "#B6E880",
           "#FF97FF",
           "#FECB52"
          ],
          "font": {
           "color": "#2a3f5f"
          },
          "geo": {
           "bgcolor": "white",
           "lakecolor": "white",
           "landcolor": "#E5ECF6",
           "showlakes": true,
           "showland": true,
           "subunitcolor": "white"
          },
          "hoverlabel": {
           "align": "left"
          },
          "hovermode": "closest",
          "mapbox": {
           "style": "light"
          },
          "paper_bgcolor": "white",
          "plot_bgcolor": "#E5ECF6",
          "polar": {
           "angularaxis": {
            "gridcolor": "white",
            "linecolor": "white",
            "ticks": ""
           },
           "bgcolor": "#E5ECF6",
           "radialaxis": {
            "gridcolor": "white",
            "linecolor": "white",
            "ticks": ""
           }
          },
          "scene": {
           "xaxis": {
            "backgroundcolor": "#E5ECF6",
            "gridcolor": "white",
            "gridwidth": 2,
            "linecolor": "white",
            "showbackground": true,
            "ticks": "",
            "zerolinecolor": "white"
           },
           "yaxis": {
            "backgroundcolor": "#E5ECF6",
            "gridcolor": "white",
            "gridwidth": 2,
            "linecolor": "white",
            "showbackground": true,
            "ticks": "",
            "zerolinecolor": "white"
           },
           "zaxis": {
            "backgroundcolor": "#E5ECF6",
            "gridcolor": "white",
            "gridwidth": 2,
            "linecolor": "white",
            "showbackground": true,
            "ticks": "",
            "zerolinecolor": "white"
           }
          },
          "shapedefaults": {
           "line": {
            "color": "#2a3f5f"
           }
          },
          "ternary": {
           "aaxis": {
            "gridcolor": "white",
            "linecolor": "white",
            "ticks": ""
           },
           "baxis": {
            "gridcolor": "white",
            "linecolor": "white",
            "ticks": ""
           },
           "bgcolor": "#E5ECF6",
           "caxis": {
            "gridcolor": "white",
            "linecolor": "white",
            "ticks": ""
           }
          },
          "title": {
           "x": 0.05
          },
          "xaxis": {
           "automargin": true,
           "gridcolor": "white",
           "linecolor": "white",
           "ticks": "",
           "title": {
            "standoff": 15
           },
           "zerolinecolor": "white",
           "zerolinewidth": 2
          },
          "yaxis": {
           "automargin": true,
           "gridcolor": "white",
           "linecolor": "white",
           "ticks": "",
           "title": {
            "standoff": 15
           },
           "zerolinecolor": "white",
           "zerolinewidth": 2
          }
         }
        },
        "title": {
         "font": {
          "size": 20
         },
         "text": "Tasa de Victoria por Tipo de Mano Preflop",
         "x": 0.5
        },
        "xaxis": {
         "anchor": "y",
         "categoryarray": [
          "Carta Alta Offsuit",
          "Carta Alta Suited",
          "Pareja Offsuit"
         ],
         "categoryorder": "array",
         "domain": [
          0,
          1
         ],
         "tickfont": {
          "size": 14
         },
         "title": {
          "font": {
           "size": 18
          },
          "text": "Tipo de Mano Preflop"
         }
        },
        "yaxis": {
         "anchor": "x",
         "domain": [
          0,
          1
         ],
         "tickfont": {
          "size": 14
         },
         "title": {
          "font": {
           "size": 18
          },
          "text": "Tasa de Victoria"
         }
        }
       }
      }
     },
     "metadata": {},
     "output_type": "display_data"
    }
   ],
   "source": [
    "# Calculamos la tasa de victoria por tipo de mano preflop\n",
    "victory_rates = (\n",
    "    df.groupby('mano_preflop')['resultado']\n",
    "    .apply(lambda x: (x == 'Victoria').mean())\n",
    "    .reset_index()\n",
    ")\n",
    "victory_rates.columns = ['Tipo de Mano Preflop', 'Tasa de Victoria']\n",
    "\n",
    "# Grafico de barras con Plotly\n",
    "fig = px.bar(\n",
    "    victory_rates,\n",
    "    x='Tipo de Mano Preflop',\n",
    "    y='Tasa de Victoria',\n",
    "    color='Tipo de Mano Preflop',  \n",
    "    text='Tasa de Victoria', \n",
    "    title=\"Tasa de Victoria por Tipo de Mano Preflop\",\n",
    "    labels={\"Tipo de Mano Preflop\": \"Tipo de Mano\", \"Tasa de Victoria\": \"Tasa de Victoria (%)\"},\n",
    "    color_discrete_sequence=px.colors.qualitative.Vivid  \n",
    ")\n",
    "\n",
    "# Formato del gráfico\n",
    "fig.update_traces(texttemplate='%{text:.2%}', textposition='outside') \n",
    "fig.update_layout(\n",
    "    xaxis=dict(\n",
    "        title=\"Tipo de Mano Preflop\",\n",
    "        title_font=dict(size=18),\n",
    "        tickfont=dict(size=14),\n",
    "    ),\n",
    "    yaxis=dict(\n",
    "        title=\"Tasa de Victoria\",\n",
    "        title_font=dict(size=18),\n",
    "        tickfont=dict(size=14),\n",
    "    ),\n",
    "    title=dict(\n",
    "        font=dict(size=20),\n",
    "        x=0.5,  \n",
    "    ),\n",
    "    margin=dict(l=40, r=40, t=60, b=40),  \n",
    "    plot_bgcolor=\"White\"  \n",
    ")\n",
    "\n",
    "fig.show()"
   ]
  },
  {
   "cell_type": "markdown",
   "metadata": {},
   "source": [
    "##### **Análisis de la Tasa de Victoria por Tipo de Mano Preflop**\n",
    "\n",
    "La gráfica muestra que las **parejas** tienen la mayor tasa de victoria preflop con un 31.81%. Le siguen las **cartas altas suited** (23.77%) y las **cartas altas offsuit** (20.01%). Las parejas tienen una clara ventaja sobre los otros tipos de mano.\n",
    "\n",
    "##### **Conclusión**\n",
    "\n",
    "Las **parejas** son las manos preflop más fuertes, seguidas de las **cartas altas suited**. Las **cartas altas offsuit** tienen la menor probabilidad de victoria, pero aún pueden ser competitivas según las cartas comunitarias.\n"
   ]
  },
  {
   "cell_type": "markdown",
   "metadata": {},
   "source": [
    "#### 1.2 ¿Qué porcentaje de Parejas Preflop conectan un Trío en cada etapa de la mano (flop, turn y river)?"
   ]
  },
  {
   "cell_type": "code",
   "execution_count": 64,
   "metadata": {},
   "outputs": [],
   "source": [
    "# Filtramos las manos preflop que son parejas\n",
    "pair_hands = df[df['mano_preflop'] == 'Pareja Offsuit'].copy()\n",
    "\n",
    "# Calculamos la probabilidad de conectar un trío en cada etapa\n",
    "pair_hands['trio_flop'] = pair_hands['mano_flop'].str.contains('Trío')\n",
    "pair_hands['trio_turn'] = pair_hands['mano_turn'].str.contains('Trío') & ~pair_hands['trio_flop']\n",
    "pair_hands['trio_river'] = pair_hands['mano_river'].str.contains('Trío') & ~pair_hands['trio_flop'] & ~pair_hands['trio_turn']\n",
    "\n",
    "# Calculamos porcentajes de probabilidad\n",
    "flop_rate = pair_hands['trio_flop'].mean() * 100\n",
    "turn_rate = pair_hands['trio_turn'].mean() * 100\n",
    "river_rate = pair_hands['trio_river'].mean() * 100\n",
    "total_rate = pair_hands[['trio_flop', 'trio_turn', 'trio_river']].any(axis=1).mean() * 100\n",
    "\n",
    "# Creamos un dataframe para la visualización\n",
    "stages = ['Flop', 'Turn', 'River', 'Total']\n",
    "rates = [flop_rate, turn_rate, river_rate, total_rate]\n",
    "probabilities = pd.DataFrame({'Etapa': stages, 'Probabilidad (%)': rates})"
   ]
  },
  {
   "cell_type": "code",
   "execution_count": 65,
   "metadata": {},
   "outputs": [
    {
     "data": {
      "application/vnd.plotly.v1+json": {
       "config": {
        "plotlyServerURL": "https://plot.ly"
       },
       "data": [
        {
         "hovertemplate": "Etapa de la Mano=%{x}<br>Probabilidad (%)=%{y}<extra></extra>",
         "legendgroup": "",
         "line": {
          "color": "royalblue",
          "dash": "solid",
          "width": 2.5
         },
         "marker": {
          "size": 9,
          "symbol": "circle"
         },
         "mode": "lines+markers",
         "name": "",
         "orientation": "v",
         "showlegend": false,
         "type": "scatter",
         "x": [
          "Flop",
          "Turn",
          "River",
          "Total"
         ],
         "xaxis": "x",
         "y": [
          10.753678037470806,
          3.0515351437972007,
          2.33723725259551,
          16.142450433863516
         ],
         "yaxis": "y"
        }
       ],
       "layout": {
        "annotations": [
         {
          "arrowcolor": "black",
          "arrowhead": 2,
          "ax": 0,
          "ay": -30,
          "bgcolor": "white",
          "font": {
           "color": "black",
           "size": 12
          },
          "opacity": 0.8,
          "showarrow": false,
          "text": "10.75%",
          "x": "Flop",
          "y": 12.753678037470806
         },
         {
          "arrowcolor": "black",
          "arrowhead": 2,
          "ax": 0,
          "ay": -30,
          "bgcolor": "white",
          "font": {
           "color": "black",
           "size": 12
          },
          "opacity": 0.8,
          "showarrow": false,
          "text": "3.05%",
          "x": "Turn",
          "y": 5.051535143797201
         },
         {
          "arrowcolor": "black",
          "arrowhead": 2,
          "ax": 0,
          "ay": -30,
          "bgcolor": "white",
          "font": {
           "color": "black",
           "size": 12
          },
          "opacity": 0.8,
          "showarrow": false,
          "text": "2.34%",
          "x": "River",
          "y": 4.33723725259551
         },
         {
          "arrowcolor": "black",
          "arrowhead": 2,
          "ax": 0,
          "ay": -30,
          "bgcolor": "white",
          "font": {
           "color": "black",
           "size": 12
          },
          "opacity": 0.8,
          "showarrow": false,
          "text": "16.14%",
          "x": "Total",
          "y": 18.142450433863516
         }
        ],
        "legend": {
         "tracegroupgap": 0
        },
        "margin": {
         "b": 40,
         "l": 40,
         "r": 40,
         "t": 60
        },
        "plot_bgcolor": "White",
        "template": {
         "data": {
          "bar": [
           {
            "error_x": {
             "color": "#2a3f5f"
            },
            "error_y": {
             "color": "#2a3f5f"
            },
            "marker": {
             "line": {
              "color": "#E5ECF6",
              "width": 0.5
             },
             "pattern": {
              "fillmode": "overlay",
              "size": 10,
              "solidity": 0.2
             }
            },
            "type": "bar"
           }
          ],
          "barpolar": [
           {
            "marker": {
             "line": {
              "color": "#E5ECF6",
              "width": 0.5
             },
             "pattern": {
              "fillmode": "overlay",
              "size": 10,
              "solidity": 0.2
             }
            },
            "type": "barpolar"
           }
          ],
          "carpet": [
           {
            "aaxis": {
             "endlinecolor": "#2a3f5f",
             "gridcolor": "white",
             "linecolor": "white",
             "minorgridcolor": "white",
             "startlinecolor": "#2a3f5f"
            },
            "baxis": {
             "endlinecolor": "#2a3f5f",
             "gridcolor": "white",
             "linecolor": "white",
             "minorgridcolor": "white",
             "startlinecolor": "#2a3f5f"
            },
            "type": "carpet"
           }
          ],
          "choropleth": [
           {
            "colorbar": {
             "outlinewidth": 0,
             "ticks": ""
            },
            "type": "choropleth"
           }
          ],
          "contour": [
           {
            "colorbar": {
             "outlinewidth": 0,
             "ticks": ""
            },
            "colorscale": [
             [
              0,
              "#0d0887"
             ],
             [
              0.1111111111111111,
              "#46039f"
             ],
             [
              0.2222222222222222,
              "#7201a8"
             ],
             [
              0.3333333333333333,
              "#9c179e"
             ],
             [
              0.4444444444444444,
              "#bd3786"
             ],
             [
              0.5555555555555556,
              "#d8576b"
             ],
             [
              0.6666666666666666,
              "#ed7953"
             ],
             [
              0.7777777777777778,
              "#fb9f3a"
             ],
             [
              0.8888888888888888,
              "#fdca26"
             ],
             [
              1,
              "#f0f921"
             ]
            ],
            "type": "contour"
           }
          ],
          "contourcarpet": [
           {
            "colorbar": {
             "outlinewidth": 0,
             "ticks": ""
            },
            "type": "contourcarpet"
           }
          ],
          "heatmap": [
           {
            "colorbar": {
             "outlinewidth": 0,
             "ticks": ""
            },
            "colorscale": [
             [
              0,
              "#0d0887"
             ],
             [
              0.1111111111111111,
              "#46039f"
             ],
             [
              0.2222222222222222,
              "#7201a8"
             ],
             [
              0.3333333333333333,
              "#9c179e"
             ],
             [
              0.4444444444444444,
              "#bd3786"
             ],
             [
              0.5555555555555556,
              "#d8576b"
             ],
             [
              0.6666666666666666,
              "#ed7953"
             ],
             [
              0.7777777777777778,
              "#fb9f3a"
             ],
             [
              0.8888888888888888,
              "#fdca26"
             ],
             [
              1,
              "#f0f921"
             ]
            ],
            "type": "heatmap"
           }
          ],
          "heatmapgl": [
           {
            "colorbar": {
             "outlinewidth": 0,
             "ticks": ""
            },
            "colorscale": [
             [
              0,
              "#0d0887"
             ],
             [
              0.1111111111111111,
              "#46039f"
             ],
             [
              0.2222222222222222,
              "#7201a8"
             ],
             [
              0.3333333333333333,
              "#9c179e"
             ],
             [
              0.4444444444444444,
              "#bd3786"
             ],
             [
              0.5555555555555556,
              "#d8576b"
             ],
             [
              0.6666666666666666,
              "#ed7953"
             ],
             [
              0.7777777777777778,
              "#fb9f3a"
             ],
             [
              0.8888888888888888,
              "#fdca26"
             ],
             [
              1,
              "#f0f921"
             ]
            ],
            "type": "heatmapgl"
           }
          ],
          "histogram": [
           {
            "marker": {
             "pattern": {
              "fillmode": "overlay",
              "size": 10,
              "solidity": 0.2
             }
            },
            "type": "histogram"
           }
          ],
          "histogram2d": [
           {
            "colorbar": {
             "outlinewidth": 0,
             "ticks": ""
            },
            "colorscale": [
             [
              0,
              "#0d0887"
             ],
             [
              0.1111111111111111,
              "#46039f"
             ],
             [
              0.2222222222222222,
              "#7201a8"
             ],
             [
              0.3333333333333333,
              "#9c179e"
             ],
             [
              0.4444444444444444,
              "#bd3786"
             ],
             [
              0.5555555555555556,
              "#d8576b"
             ],
             [
              0.6666666666666666,
              "#ed7953"
             ],
             [
              0.7777777777777778,
              "#fb9f3a"
             ],
             [
              0.8888888888888888,
              "#fdca26"
             ],
             [
              1,
              "#f0f921"
             ]
            ],
            "type": "histogram2d"
           }
          ],
          "histogram2dcontour": [
           {
            "colorbar": {
             "outlinewidth": 0,
             "ticks": ""
            },
            "colorscale": [
             [
              0,
              "#0d0887"
             ],
             [
              0.1111111111111111,
              "#46039f"
             ],
             [
              0.2222222222222222,
              "#7201a8"
             ],
             [
              0.3333333333333333,
              "#9c179e"
             ],
             [
              0.4444444444444444,
              "#bd3786"
             ],
             [
              0.5555555555555556,
              "#d8576b"
             ],
             [
              0.6666666666666666,
              "#ed7953"
             ],
             [
              0.7777777777777778,
              "#fb9f3a"
             ],
             [
              0.8888888888888888,
              "#fdca26"
             ],
             [
              1,
              "#f0f921"
             ]
            ],
            "type": "histogram2dcontour"
           }
          ],
          "mesh3d": [
           {
            "colorbar": {
             "outlinewidth": 0,
             "ticks": ""
            },
            "type": "mesh3d"
           }
          ],
          "parcoords": [
           {
            "line": {
             "colorbar": {
              "outlinewidth": 0,
              "ticks": ""
             }
            },
            "type": "parcoords"
           }
          ],
          "pie": [
           {
            "automargin": true,
            "type": "pie"
           }
          ],
          "scatter": [
           {
            "fillpattern": {
             "fillmode": "overlay",
             "size": 10,
             "solidity": 0.2
            },
            "type": "scatter"
           }
          ],
          "scatter3d": [
           {
            "line": {
             "colorbar": {
              "outlinewidth": 0,
              "ticks": ""
             }
            },
            "marker": {
             "colorbar": {
              "outlinewidth": 0,
              "ticks": ""
             }
            },
            "type": "scatter3d"
           }
          ],
          "scattercarpet": [
           {
            "marker": {
             "colorbar": {
              "outlinewidth": 0,
              "ticks": ""
             }
            },
            "type": "scattercarpet"
           }
          ],
          "scattergeo": [
           {
            "marker": {
             "colorbar": {
              "outlinewidth": 0,
              "ticks": ""
             }
            },
            "type": "scattergeo"
           }
          ],
          "scattergl": [
           {
            "marker": {
             "colorbar": {
              "outlinewidth": 0,
              "ticks": ""
             }
            },
            "type": "scattergl"
           }
          ],
          "scattermapbox": [
           {
            "marker": {
             "colorbar": {
              "outlinewidth": 0,
              "ticks": ""
             }
            },
            "type": "scattermapbox"
           }
          ],
          "scatterpolar": [
           {
            "marker": {
             "colorbar": {
              "outlinewidth": 0,
              "ticks": ""
             }
            },
            "type": "scatterpolar"
           }
          ],
          "scatterpolargl": [
           {
            "marker": {
             "colorbar": {
              "outlinewidth": 0,
              "ticks": ""
             }
            },
            "type": "scatterpolargl"
           }
          ],
          "scatterternary": [
           {
            "marker": {
             "colorbar": {
              "outlinewidth": 0,
              "ticks": ""
             }
            },
            "type": "scatterternary"
           }
          ],
          "surface": [
           {
            "colorbar": {
             "outlinewidth": 0,
             "ticks": ""
            },
            "colorscale": [
             [
              0,
              "#0d0887"
             ],
             [
              0.1111111111111111,
              "#46039f"
             ],
             [
              0.2222222222222222,
              "#7201a8"
             ],
             [
              0.3333333333333333,
              "#9c179e"
             ],
             [
              0.4444444444444444,
              "#bd3786"
             ],
             [
              0.5555555555555556,
              "#d8576b"
             ],
             [
              0.6666666666666666,
              "#ed7953"
             ],
             [
              0.7777777777777778,
              "#fb9f3a"
             ],
             [
              0.8888888888888888,
              "#fdca26"
             ],
             [
              1,
              "#f0f921"
             ]
            ],
            "type": "surface"
           }
          ],
          "table": [
           {
            "cells": {
             "fill": {
              "color": "#EBF0F8"
             },
             "line": {
              "color": "white"
             }
            },
            "header": {
             "fill": {
              "color": "#C8D4E3"
             },
             "line": {
              "color": "white"
             }
            },
            "type": "table"
           }
          ]
         },
         "layout": {
          "annotationdefaults": {
           "arrowcolor": "#2a3f5f",
           "arrowhead": 0,
           "arrowwidth": 1
          },
          "autotypenumbers": "strict",
          "coloraxis": {
           "colorbar": {
            "outlinewidth": 0,
            "ticks": ""
           }
          },
          "colorscale": {
           "diverging": [
            [
             0,
             "#8e0152"
            ],
            [
             0.1,
             "#c51b7d"
            ],
            [
             0.2,
             "#de77ae"
            ],
            [
             0.3,
             "#f1b6da"
            ],
            [
             0.4,
             "#fde0ef"
            ],
            [
             0.5,
             "#f7f7f7"
            ],
            [
             0.6,
             "#e6f5d0"
            ],
            [
             0.7,
             "#b8e186"
            ],
            [
             0.8,
             "#7fbc41"
            ],
            [
             0.9,
             "#4d9221"
            ],
            [
             1,
             "#276419"
            ]
           ],
           "sequential": [
            [
             0,
             "#0d0887"
            ],
            [
             0.1111111111111111,
             "#46039f"
            ],
            [
             0.2222222222222222,
             "#7201a8"
            ],
            [
             0.3333333333333333,
             "#9c179e"
            ],
            [
             0.4444444444444444,
             "#bd3786"
            ],
            [
             0.5555555555555556,
             "#d8576b"
            ],
            [
             0.6666666666666666,
             "#ed7953"
            ],
            [
             0.7777777777777778,
             "#fb9f3a"
            ],
            [
             0.8888888888888888,
             "#fdca26"
            ],
            [
             1,
             "#f0f921"
            ]
           ],
           "sequentialminus": [
            [
             0,
             "#0d0887"
            ],
            [
             0.1111111111111111,
             "#46039f"
            ],
            [
             0.2222222222222222,
             "#7201a8"
            ],
            [
             0.3333333333333333,
             "#9c179e"
            ],
            [
             0.4444444444444444,
             "#bd3786"
            ],
            [
             0.5555555555555556,
             "#d8576b"
            ],
            [
             0.6666666666666666,
             "#ed7953"
            ],
            [
             0.7777777777777778,
             "#fb9f3a"
            ],
            [
             0.8888888888888888,
             "#fdca26"
            ],
            [
             1,
             "#f0f921"
            ]
           ]
          },
          "colorway": [
           "#636efa",
           "#EF553B",
           "#00cc96",
           "#ab63fa",
           "#FFA15A",
           "#19d3f3",
           "#FF6692",
           "#B6E880",
           "#FF97FF",
           "#FECB52"
          ],
          "font": {
           "color": "#2a3f5f"
          },
          "geo": {
           "bgcolor": "white",
           "lakecolor": "white",
           "landcolor": "#E5ECF6",
           "showlakes": true,
           "showland": true,
           "subunitcolor": "white"
          },
          "hoverlabel": {
           "align": "left"
          },
          "hovermode": "closest",
          "mapbox": {
           "style": "light"
          },
          "paper_bgcolor": "white",
          "plot_bgcolor": "#E5ECF6",
          "polar": {
           "angularaxis": {
            "gridcolor": "white",
            "linecolor": "white",
            "ticks": ""
           },
           "bgcolor": "#E5ECF6",
           "radialaxis": {
            "gridcolor": "white",
            "linecolor": "white",
            "ticks": ""
           }
          },
          "scene": {
           "xaxis": {
            "backgroundcolor": "#E5ECF6",
            "gridcolor": "white",
            "gridwidth": 2,
            "linecolor": "white",
            "showbackground": true,
            "ticks": "",
            "zerolinecolor": "white"
           },
           "yaxis": {
            "backgroundcolor": "#E5ECF6",
            "gridcolor": "white",
            "gridwidth": 2,
            "linecolor": "white",
            "showbackground": true,
            "ticks": "",
            "zerolinecolor": "white"
           },
           "zaxis": {
            "backgroundcolor": "#E5ECF6",
            "gridcolor": "white",
            "gridwidth": 2,
            "linecolor": "white",
            "showbackground": true,
            "ticks": "",
            "zerolinecolor": "white"
           }
          },
          "shapedefaults": {
           "line": {
            "color": "#2a3f5f"
           }
          },
          "ternary": {
           "aaxis": {
            "gridcolor": "white",
            "linecolor": "white",
            "ticks": ""
           },
           "baxis": {
            "gridcolor": "white",
            "linecolor": "white",
            "ticks": ""
           },
           "bgcolor": "#E5ECF6",
           "caxis": {
            "gridcolor": "white",
            "linecolor": "white",
            "ticks": ""
           }
          },
          "title": {
           "x": 0.05
          },
          "xaxis": {
           "automargin": true,
           "gridcolor": "white",
           "linecolor": "white",
           "ticks": "",
           "title": {
            "standoff": 15
           },
           "zerolinecolor": "white",
           "zerolinewidth": 2
          },
          "yaxis": {
           "automargin": true,
           "gridcolor": "white",
           "linecolor": "white",
           "ticks": "",
           "title": {
            "standoff": 15
           },
           "zerolinecolor": "white",
           "zerolinewidth": 2
          }
         }
        },
        "title": {
         "font": {
          "family": "Arial",
          "size": 20
         },
         "text": "Probabilidad de Conectar un Trío con Pareja Preflop por Etapa",
         "x": 0.5
        },
        "xaxis": {
         "anchor": "y",
         "domain": [
          0,
          1
         ],
         "tickfont": {
          "size": 12
         },
         "title": {
          "font": {
           "size": 16
          },
          "text": "Etapa de la Mano"
         }
        },
        "yaxis": {
         "anchor": "x",
         "domain": [
          0,
          1
         ],
         "range": [
          0,
          21.142450433863516
         ],
         "tickfont": {
          "size": 12
         },
         "title": {
          "font": {
           "size": 16
          },
          "text": "Probabilidad (%)"
         }
        }
       }
      }
     },
     "metadata": {},
     "output_type": "display_data"
    }
   ],
   "source": [
    "# Visualización\n",
    "fig = px.line(\n",
    "    probabilities,  \n",
    "    x='Etapa',     \n",
    "    y='Probabilidad (%)',\n",
    "    markers=True,   \n",
    "    title=\"Probabilidad de Conectar un Trío con Pareja Preflop por Etapa\",  \n",
    "    labels={\n",
    "        \"Etapa\": \"Etapa de la Mano\", \n",
    "        \"Probabilidad (%)\": \"Probabilidad (%)\"\n",
    "    },\n",
    "    color_discrete_sequence=['royalblue'] \n",
    ")\n",
    "\n",
    "# Ajustes adicionales al diseño\n",
    "fig.update_traces(\n",
    "    line=dict(width=2.5), \n",
    "    marker=dict(size=9),  \n",
    ")\n",
    "\n",
    "fig.update_layout(\n",
    "    title=dict(\n",
    "        font=dict(size=20, family=\"Arial\"),  \n",
    "        x=0.5  \n",
    "    ),\n",
    "    xaxis=dict(\n",
    "        title=\"Etapa de la Mano\", \n",
    "        title_font=dict(size=16),  \n",
    "        tickfont=dict(size=12),    \n",
    "    ),\n",
    "    yaxis=dict(\n",
    "        title=\"Probabilidad (%)\",  \n",
    "        title_font=dict(size=16), \n",
    "        tickfont=dict(size=12),    \n",
    "        range=[0, probabilities['Probabilidad (%)'].max() + 5] \n",
    "    ),\n",
    "    plot_bgcolor=\"White\", \n",
    "    margin=dict(l=40, r=40, t=60, b=40),  \n",
    ")\n",
    "\n",
    "# Anotaciones con los porcentajes\n",
    "for i, row in probabilities.iterrows():\n",
    "    fig.add_annotation(\n",
    "        x=row['Etapa'],\n",
    "        y=row['Probabilidad (%)'] + 2,\n",
    "        text=f\"{row['Probabilidad (%)']:.2f}%\",\n",
    "        showarrow=False,\n",
    "        arrowhead=2,    \n",
    "        ax=0, ay=-30,   \n",
    "        font=dict(size=12, color=\"black\"), \n",
    "        arrowcolor=\"black\",  \n",
    "        bgcolor=\"white\",     \n",
    "        opacity=0.8         \n",
    "    )\n",
    "\n",
    "fig.show()"
   ]
  },
  {
   "cell_type": "markdown",
   "metadata": {},
   "source": [
    "##### **Análisis de la probabilidad de conectar un trío**\n",
    "\n",
    "Las parejas preflop tienen una probabilidad acumulada del 16.14% de conectar un trío en alguna etapa de la mano. Este resultado se distribuye de la siguiente manera:\n",
    "\n",
    "- Flop: La mayor probabilidad de conectar ocurre aquí (10.75%) porque tres cartas comunitarias se revelan de golpe.\n",
    "- Turn: Si no se conectó en el flop, la probabilidad de conectar en esta etapa baja al 3.05%.\n",
    "- River: La probabilidad es aún menor (2.34%) para conectar con la última carta.\n",
    "\n",
    "En conjunto, este análisis destaca la importancia del flop para mejorar la mano con una pareja inicial. Esto también subraya la dificultad de formar tríos en las etapas posteriores, reforzando que en póker, cada etapa presenta oportunidades decrecientes para mejorar una mano."
   ]
  },
  {
   "cell_type": "markdown",
   "metadata": {},
   "source": [
    "#### 1.3 ¿Cuál es la probabilidad de que los Suited Connectors conecten Escalera, Color o Escalera de Color?"
   ]
  },
  {
   "cell_type": "markdown",
   "metadata": {},
   "source": [
    "En póker, los *Suited Connectors* (dos cartas consecutivas del mismo palo) son manos con gran potencial para formar combinaciones fuertes como escaleras, colores o incluso escaleras de color. En este análisis, evaluaremos qué porcentaje de estas manos preflop terminan conectando alguno de estos proyectos al final de la mano."
   ]
  },
  {
   "cell_type": "code",
   "execution_count": 66,
   "metadata": {},
   "outputs": [],
   "source": [
    "# Función para filtrar manos preflop que son Suited Connectors\n",
    "def is_suited_connector(cards):\n",
    "    ranks = {'2': 2, '3': 3, '4': 4, '5': 5, '6': 6, '7': 7, '8': 8, '9': 9, '10': 10, 'J': 11, 'Q': 12, 'K': 13, 'A': 14}\n",
    "    card1, card2 = cards\n",
    "    return (\n",
    "        card1[-1] == card2[-1] and  # Mismo palo\n",
    "        abs(ranks[card1[:-1]] - ranks[card2[:-1]]) == 1  # Consecutivas\n",
    "    )"
   ]
  },
  {
   "cell_type": "code",
   "execution_count": 67,
   "metadata": {},
   "outputs": [],
   "source": [
    "# Extraemos los suited connectors del dataset\n",
    "df['suited_connector'] = df['cartas_jugador'].apply(eval).apply(is_suited_connector)\n",
    "suited_connectors = df[df['suited_connector']].copy()\n",
    "\n",
    "# Evaluamos si conectan proyectos\n",
    "suited_connectors.loc[:, 'escalera'] = suited_connectors['mano_river'].str.contains('Escalera')\n",
    "suited_connectors.loc[:, 'color'] = suited_connectors['mano_river'].str.contains('Color')\n",
    "suited_connectors.loc[:, 'escalera_color'] = suited_connectors['mano_river'].str.contains('Escalera de Color')\n",
    "\n",
    "# Calculamos % de probabilidad de conectar cada proyecto\n",
    "escalera_rate = suited_connectors['escalera'].mean() * 100\n",
    "color_rate = suited_connectors['color'].mean() * 100\n",
    "escalera_color_rate = suited_connectors['escalera_color'].mean() * 100\n",
    "total_rate = suited_connectors[['escalera', 'color', 'escalera_color']].any(axis=1).mean() * 100\n",
    "\n",
    "# Creamos un dataframe para la visualización\n",
    "categories = ['Escalera', 'Color', 'Escalera de Color', 'Cualquier Proyecto']\n",
    "rates = [escalera_rate, color_rate, escalera_color_rate, total_rate]\n",
    "results = pd.DataFrame({'Categoría': categories, 'Probabilidad (%)': rates})"
   ]
  },
  {
   "cell_type": "code",
   "execution_count": 68,
   "metadata": {},
   "outputs": [
    {
     "data": {
      "application/vnd.plotly.v1+json": {
       "config": {
        "plotlyServerURL": "https://plot.ly"
       },
       "data": [
        {
         "alignmentgroup": "True",
         "hovertemplate": "Tipo de Proyecto=%{x}<br>Probabilidad (%)=%{marker.color}<extra></extra>",
         "legendgroup": "",
         "marker": {
          "color": [
           7.42665966212293,
           6.641413443194072,
           0.1631321370309951,
           13.904940968286006
          ],
          "coloraxis": "coloraxis",
          "line": {
           "color": "black",
           "width": 0.5
          },
          "pattern": {
           "shape": ""
          }
         },
         "name": "",
         "offsetgroup": "",
         "orientation": "v",
         "showlegend": false,
         "text": [
          7.42665966212293,
          6.641413443194072,
          0.1631321370309951,
          13.904940968286006
         ],
         "textposition": "outside",
         "texttemplate": "%{text:.2f}%",
         "type": "bar",
         "x": [
          "Escalera",
          "Color",
          "Escalera de Color",
          "Cualquier Proyecto"
         ],
         "xaxis": "x",
         "y": [
          7.42665966212293,
          6.641413443194072,
          0.1631321370309951,
          13.904940968286006
         ],
         "yaxis": "y"
        }
       ],
       "layout": {
        "barmode": "relative",
        "coloraxis": {
         "colorbar": {
          "title": {
           "text": "Probabilidad (%)"
          }
         },
         "colorscale": [
          [
           0,
           "rgb(255,245,240)"
          ],
          [
           0.125,
           "rgb(254,224,210)"
          ],
          [
           0.25,
           "rgb(252,187,161)"
          ],
          [
           0.375,
           "rgb(252,146,114)"
          ],
          [
           0.5,
           "rgb(251,106,74)"
          ],
          [
           0.625,
           "rgb(239,59,44)"
          ],
          [
           0.75,
           "rgb(203,24,29)"
          ],
          [
           0.875,
           "rgb(165,15,21)"
          ],
          [
           1,
           "rgb(103,0,13)"
          ]
         ],
         "showscale": true
        },
        "legend": {
         "tracegroupgap": 0
        },
        "margin": {
         "b": 40,
         "l": 40,
         "r": 40,
         "t": 60
        },
        "plot_bgcolor": "White",
        "template": {
         "data": {
          "bar": [
           {
            "error_x": {
             "color": "#2a3f5f"
            },
            "error_y": {
             "color": "#2a3f5f"
            },
            "marker": {
             "line": {
              "color": "#E5ECF6",
              "width": 0.5
             },
             "pattern": {
              "fillmode": "overlay",
              "size": 10,
              "solidity": 0.2
             }
            },
            "type": "bar"
           }
          ],
          "barpolar": [
           {
            "marker": {
             "line": {
              "color": "#E5ECF6",
              "width": 0.5
             },
             "pattern": {
              "fillmode": "overlay",
              "size": 10,
              "solidity": 0.2
             }
            },
            "type": "barpolar"
           }
          ],
          "carpet": [
           {
            "aaxis": {
             "endlinecolor": "#2a3f5f",
             "gridcolor": "white",
             "linecolor": "white",
             "minorgridcolor": "white",
             "startlinecolor": "#2a3f5f"
            },
            "baxis": {
             "endlinecolor": "#2a3f5f",
             "gridcolor": "white",
             "linecolor": "white",
             "minorgridcolor": "white",
             "startlinecolor": "#2a3f5f"
            },
            "type": "carpet"
           }
          ],
          "choropleth": [
           {
            "colorbar": {
             "outlinewidth": 0,
             "ticks": ""
            },
            "type": "choropleth"
           }
          ],
          "contour": [
           {
            "colorbar": {
             "outlinewidth": 0,
             "ticks": ""
            },
            "colorscale": [
             [
              0,
              "#0d0887"
             ],
             [
              0.1111111111111111,
              "#46039f"
             ],
             [
              0.2222222222222222,
              "#7201a8"
             ],
             [
              0.3333333333333333,
              "#9c179e"
             ],
             [
              0.4444444444444444,
              "#bd3786"
             ],
             [
              0.5555555555555556,
              "#d8576b"
             ],
             [
              0.6666666666666666,
              "#ed7953"
             ],
             [
              0.7777777777777778,
              "#fb9f3a"
             ],
             [
              0.8888888888888888,
              "#fdca26"
             ],
             [
              1,
              "#f0f921"
             ]
            ],
            "type": "contour"
           }
          ],
          "contourcarpet": [
           {
            "colorbar": {
             "outlinewidth": 0,
             "ticks": ""
            },
            "type": "contourcarpet"
           }
          ],
          "heatmap": [
           {
            "colorbar": {
             "outlinewidth": 0,
             "ticks": ""
            },
            "colorscale": [
             [
              0,
              "#0d0887"
             ],
             [
              0.1111111111111111,
              "#46039f"
             ],
             [
              0.2222222222222222,
              "#7201a8"
             ],
             [
              0.3333333333333333,
              "#9c179e"
             ],
             [
              0.4444444444444444,
              "#bd3786"
             ],
             [
              0.5555555555555556,
              "#d8576b"
             ],
             [
              0.6666666666666666,
              "#ed7953"
             ],
             [
              0.7777777777777778,
              "#fb9f3a"
             ],
             [
              0.8888888888888888,
              "#fdca26"
             ],
             [
              1,
              "#f0f921"
             ]
            ],
            "type": "heatmap"
           }
          ],
          "heatmapgl": [
           {
            "colorbar": {
             "outlinewidth": 0,
             "ticks": ""
            },
            "colorscale": [
             [
              0,
              "#0d0887"
             ],
             [
              0.1111111111111111,
              "#46039f"
             ],
             [
              0.2222222222222222,
              "#7201a8"
             ],
             [
              0.3333333333333333,
              "#9c179e"
             ],
             [
              0.4444444444444444,
              "#bd3786"
             ],
             [
              0.5555555555555556,
              "#d8576b"
             ],
             [
              0.6666666666666666,
              "#ed7953"
             ],
             [
              0.7777777777777778,
              "#fb9f3a"
             ],
             [
              0.8888888888888888,
              "#fdca26"
             ],
             [
              1,
              "#f0f921"
             ]
            ],
            "type": "heatmapgl"
           }
          ],
          "histogram": [
           {
            "marker": {
             "pattern": {
              "fillmode": "overlay",
              "size": 10,
              "solidity": 0.2
             }
            },
            "type": "histogram"
           }
          ],
          "histogram2d": [
           {
            "colorbar": {
             "outlinewidth": 0,
             "ticks": ""
            },
            "colorscale": [
             [
              0,
              "#0d0887"
             ],
             [
              0.1111111111111111,
              "#46039f"
             ],
             [
              0.2222222222222222,
              "#7201a8"
             ],
             [
              0.3333333333333333,
              "#9c179e"
             ],
             [
              0.4444444444444444,
              "#bd3786"
             ],
             [
              0.5555555555555556,
              "#d8576b"
             ],
             [
              0.6666666666666666,
              "#ed7953"
             ],
             [
              0.7777777777777778,
              "#fb9f3a"
             ],
             [
              0.8888888888888888,
              "#fdca26"
             ],
             [
              1,
              "#f0f921"
             ]
            ],
            "type": "histogram2d"
           }
          ],
          "histogram2dcontour": [
           {
            "colorbar": {
             "outlinewidth": 0,
             "ticks": ""
            },
            "colorscale": [
             [
              0,
              "#0d0887"
             ],
             [
              0.1111111111111111,
              "#46039f"
             ],
             [
              0.2222222222222222,
              "#7201a8"
             ],
             [
              0.3333333333333333,
              "#9c179e"
             ],
             [
              0.4444444444444444,
              "#bd3786"
             ],
             [
              0.5555555555555556,
              "#d8576b"
             ],
             [
              0.6666666666666666,
              "#ed7953"
             ],
             [
              0.7777777777777778,
              "#fb9f3a"
             ],
             [
              0.8888888888888888,
              "#fdca26"
             ],
             [
              1,
              "#f0f921"
             ]
            ],
            "type": "histogram2dcontour"
           }
          ],
          "mesh3d": [
           {
            "colorbar": {
             "outlinewidth": 0,
             "ticks": ""
            },
            "type": "mesh3d"
           }
          ],
          "parcoords": [
           {
            "line": {
             "colorbar": {
              "outlinewidth": 0,
              "ticks": ""
             }
            },
            "type": "parcoords"
           }
          ],
          "pie": [
           {
            "automargin": true,
            "type": "pie"
           }
          ],
          "scatter": [
           {
            "fillpattern": {
             "fillmode": "overlay",
             "size": 10,
             "solidity": 0.2
            },
            "type": "scatter"
           }
          ],
          "scatter3d": [
           {
            "line": {
             "colorbar": {
              "outlinewidth": 0,
              "ticks": ""
             }
            },
            "marker": {
             "colorbar": {
              "outlinewidth": 0,
              "ticks": ""
             }
            },
            "type": "scatter3d"
           }
          ],
          "scattercarpet": [
           {
            "marker": {
             "colorbar": {
              "outlinewidth": 0,
              "ticks": ""
             }
            },
            "type": "scattercarpet"
           }
          ],
          "scattergeo": [
           {
            "marker": {
             "colorbar": {
              "outlinewidth": 0,
              "ticks": ""
             }
            },
            "type": "scattergeo"
           }
          ],
          "scattergl": [
           {
            "marker": {
             "colorbar": {
              "outlinewidth": 0,
              "ticks": ""
             }
            },
            "type": "scattergl"
           }
          ],
          "scattermapbox": [
           {
            "marker": {
             "colorbar": {
              "outlinewidth": 0,
              "ticks": ""
             }
            },
            "type": "scattermapbox"
           }
          ],
          "scatterpolar": [
           {
            "marker": {
             "colorbar": {
              "outlinewidth": 0,
              "ticks": ""
             }
            },
            "type": "scatterpolar"
           }
          ],
          "scatterpolargl": [
           {
            "marker": {
             "colorbar": {
              "outlinewidth": 0,
              "ticks": ""
             }
            },
            "type": "scatterpolargl"
           }
          ],
          "scatterternary": [
           {
            "marker": {
             "colorbar": {
              "outlinewidth": 0,
              "ticks": ""
             }
            },
            "type": "scatterternary"
           }
          ],
          "surface": [
           {
            "colorbar": {
             "outlinewidth": 0,
             "ticks": ""
            },
            "colorscale": [
             [
              0,
              "#0d0887"
             ],
             [
              0.1111111111111111,
              "#46039f"
             ],
             [
              0.2222222222222222,
              "#7201a8"
             ],
             [
              0.3333333333333333,
              "#9c179e"
             ],
             [
              0.4444444444444444,
              "#bd3786"
             ],
             [
              0.5555555555555556,
              "#d8576b"
             ],
             [
              0.6666666666666666,
              "#ed7953"
             ],
             [
              0.7777777777777778,
              "#fb9f3a"
             ],
             [
              0.8888888888888888,
              "#fdca26"
             ],
             [
              1,
              "#f0f921"
             ]
            ],
            "type": "surface"
           }
          ],
          "table": [
           {
            "cells": {
             "fill": {
              "color": "#EBF0F8"
             },
             "line": {
              "color": "white"
             }
            },
            "header": {
             "fill": {
              "color": "#C8D4E3"
             },
             "line": {
              "color": "white"
             }
            },
            "type": "table"
           }
          ]
         },
         "layout": {
          "annotationdefaults": {
           "arrowcolor": "#2a3f5f",
           "arrowhead": 0,
           "arrowwidth": 1
          },
          "autotypenumbers": "strict",
          "coloraxis": {
           "colorbar": {
            "outlinewidth": 0,
            "ticks": ""
           }
          },
          "colorscale": {
           "diverging": [
            [
             0,
             "#8e0152"
            ],
            [
             0.1,
             "#c51b7d"
            ],
            [
             0.2,
             "#de77ae"
            ],
            [
             0.3,
             "#f1b6da"
            ],
            [
             0.4,
             "#fde0ef"
            ],
            [
             0.5,
             "#f7f7f7"
            ],
            [
             0.6,
             "#e6f5d0"
            ],
            [
             0.7,
             "#b8e186"
            ],
            [
             0.8,
             "#7fbc41"
            ],
            [
             0.9,
             "#4d9221"
            ],
            [
             1,
             "#276419"
            ]
           ],
           "sequential": [
            [
             0,
             "#0d0887"
            ],
            [
             0.1111111111111111,
             "#46039f"
            ],
            [
             0.2222222222222222,
             "#7201a8"
            ],
            [
             0.3333333333333333,
             "#9c179e"
            ],
            [
             0.4444444444444444,
             "#bd3786"
            ],
            [
             0.5555555555555556,
             "#d8576b"
            ],
            [
             0.6666666666666666,
             "#ed7953"
            ],
            [
             0.7777777777777778,
             "#fb9f3a"
            ],
            [
             0.8888888888888888,
             "#fdca26"
            ],
            [
             1,
             "#f0f921"
            ]
           ],
           "sequentialminus": [
            [
             0,
             "#0d0887"
            ],
            [
             0.1111111111111111,
             "#46039f"
            ],
            [
             0.2222222222222222,
             "#7201a8"
            ],
            [
             0.3333333333333333,
             "#9c179e"
            ],
            [
             0.4444444444444444,
             "#bd3786"
            ],
            [
             0.5555555555555556,
             "#d8576b"
            ],
            [
             0.6666666666666666,
             "#ed7953"
            ],
            [
             0.7777777777777778,
             "#fb9f3a"
            ],
            [
             0.8888888888888888,
             "#fdca26"
            ],
            [
             1,
             "#f0f921"
            ]
           ]
          },
          "colorway": [
           "#636efa",
           "#EF553B",
           "#00cc96",
           "#ab63fa",
           "#FFA15A",
           "#19d3f3",
           "#FF6692",
           "#B6E880",
           "#FF97FF",
           "#FECB52"
          ],
          "font": {
           "color": "#2a3f5f"
          },
          "geo": {
           "bgcolor": "white",
           "lakecolor": "white",
           "landcolor": "#E5ECF6",
           "showlakes": true,
           "showland": true,
           "subunitcolor": "white"
          },
          "hoverlabel": {
           "align": "left"
          },
          "hovermode": "closest",
          "mapbox": {
           "style": "light"
          },
          "paper_bgcolor": "white",
          "plot_bgcolor": "#E5ECF6",
          "polar": {
           "angularaxis": {
            "gridcolor": "white",
            "linecolor": "white",
            "ticks": ""
           },
           "bgcolor": "#E5ECF6",
           "radialaxis": {
            "gridcolor": "white",
            "linecolor": "white",
            "ticks": ""
           }
          },
          "scene": {
           "xaxis": {
            "backgroundcolor": "#E5ECF6",
            "gridcolor": "white",
            "gridwidth": 2,
            "linecolor": "white",
            "showbackground": true,
            "ticks": "",
            "zerolinecolor": "white"
           },
           "yaxis": {
            "backgroundcolor": "#E5ECF6",
            "gridcolor": "white",
            "gridwidth": 2,
            "linecolor": "white",
            "showbackground": true,
            "ticks": "",
            "zerolinecolor": "white"
           },
           "zaxis": {
            "backgroundcolor": "#E5ECF6",
            "gridcolor": "white",
            "gridwidth": 2,
            "linecolor": "white",
            "showbackground": true,
            "ticks": "",
            "zerolinecolor": "white"
           }
          },
          "shapedefaults": {
           "line": {
            "color": "#2a3f5f"
           }
          },
          "ternary": {
           "aaxis": {
            "gridcolor": "white",
            "linecolor": "white",
            "ticks": ""
           },
           "baxis": {
            "gridcolor": "white",
            "linecolor": "white",
            "ticks": ""
           },
           "bgcolor": "#E5ECF6",
           "caxis": {
            "gridcolor": "white",
            "linecolor": "white",
            "ticks": ""
           }
          },
          "title": {
           "x": 0.05
          },
          "xaxis": {
           "automargin": true,
           "gridcolor": "white",
           "linecolor": "white",
           "ticks": "",
           "title": {
            "standoff": 15
           },
           "zerolinecolor": "white",
           "zerolinewidth": 2
          },
          "yaxis": {
           "automargin": true,
           "gridcolor": "white",
           "linecolor": "white",
           "ticks": "",
           "title": {
            "standoff": 15
           },
           "zerolinecolor": "white",
           "zerolinewidth": 2
          }
         }
        },
        "title": {
         "font": {
          "family": "Arial",
          "size": 20
         },
         "text": "Probabilidad de Conectar Proyectos con Suited Connectors",
         "x": 0.5
        },
        "xaxis": {
         "anchor": "y",
         "domain": [
          0,
          1
         ],
         "tickfont": {
          "size": 12
         },
         "title": {
          "font": {
           "size": 16
          },
          "text": "Categoría"
         }
        },
        "yaxis": {
         "anchor": "x",
         "domain": [
          0,
          1
         ],
         "range": [
          0,
          18.904940968286006
         ],
         "tickfont": {
          "size": 12
         },
         "title": {
          "font": {
           "size": 16
          },
          "text": "Probabilidad (%)"
         }
        }
       }
      }
     },
     "metadata": {},
     "output_type": "display_data"
    }
   ],
   "source": [
    "# Visualización\n",
    "fig = px.bar(\n",
    "    results,\n",
    "    x='Categoría',\n",
    "    y='Probabilidad (%)',\n",
    "    text='Probabilidad (%)',\n",
    "    title=\"Probabilidad de Conectar Proyectos con Suited Connectors\",\n",
    "    labels={\n",
    "        \"Categoría\": \"Tipo de Proyecto\",\n",
    "        \"Probabilidad (%)\": \"Probabilidad (%)\"\n",
    "    },\n",
    "    color='Probabilidad (%)',\n",
    "    color_continuous_scale='Reds'  \n",
    ")\n",
    "\n",
    "# Ajustes adicionales al diseño\n",
    "fig.update_traces(\n",
    "    texttemplate='%{text:.2f}%', \n",
    "    textposition='outside',     \n",
    "    marker=dict(line=dict(color='black', width=0.5)) \n",
    ")\n",
    "\n",
    "fig.update_layout(\n",
    "    title=dict(\n",
    "        font=dict(size=20, family=\"Arial\"),  \n",
    "        x=0.5  \n",
    "    ),\n",
    "    xaxis=dict(\n",
    "        title=\"Categoría\", \n",
    "        title_font=dict(size=16), \n",
    "        tickfont=dict(size=12),   \n",
    "    ),\n",
    "    yaxis=dict(\n",
    "        title=\"Probabilidad (%)\",  \n",
    "        title_font=dict(size=16), \n",
    "        tickfont=dict(size=12),    \n",
    "        range=[0, max(rates) + 5]  \n",
    "    ),\n",
    "    plot_bgcolor=\"White\", \n",
    "    margin=dict(l=40, r=40, t=60, b=40), \n",
    "    coloraxis_showscale=True \n",
    ")\n",
    "\n",
    "fig.show()"
   ]
  },
  {
   "cell_type": "markdown",
   "metadata": {},
   "source": [
    "##### **Análisis de la probabilidad de conectar proyectos con *Suited Connectors***\n",
    "\n",
    "Hemos observado en esta gráfica que los *Suited Connectors* son manos muy interesantes de jugar ya que en partidas de 2-9 jugadores conectan proyectos el 13.90% divididos en:\n",
    "\n",
    "- Escalera: 7.43%\n",
    "- Color: 6.64%\n",
    "- Escalera de color: 0.16%\n",
    "\n",
    "Esto sin tener en cuenta proyectos que pueden llegar a conectar de Dobles Parejas, Tríos e incluso Full Houses en algunos de los casos."
   ]
  },
  {
   "cell_type": "markdown",
   "metadata": {},
   "source": [
    "#### 1.4 ¿Cuál es y cómo varía el porcentaje de victorias preflop según la fuerza de la mano y sus características? ¿Cuál es la mano más fuerte? ¿Y la más débil?"
   ]
  },
  {
   "cell_type": "markdown",
   "metadata": {},
   "source": [
    "Para realizar este análisis y poder visualizarlo mediante un Scatterplot o nube de puntos, lo primero que tenemos que hacer es guardar en un dataframe cada combinación de dos cartas que te pueden salir del mazo de Poker. Cómo el dataset no sabe que [A♠, A♦] y [A♦, A♠] es lo mismo, tenemos que normalizar las manos que sean iguales pero en distinto orden y quedarnos con la media de las proporciones de victoria de ambas manos.\n",
    "\n",
    "Obtendremos un total de 1326 manos posibles."
   ]
  },
  {
   "cell_type": "code",
   "execution_count": 69,
   "metadata": {},
   "outputs": [],
   "source": [
    "# Normalizamos las manos para eliminar duplicados\n",
    "def normalize_hand(hand):\n",
    "    cards = eval(hand)\n",
    "    return str(sorted(cards))\n",
    "\n",
    "df['normalized_hand'] = df['cartas_jugador'].apply(normalize_hand)"
   ]
  },
  {
   "cell_type": "markdown",
   "metadata": {},
   "source": [
    "Seguidamente tendremos que calcular el porcentaje de victoria que tiene cada una de las 1326 manos y calcular la probabilidad que tiene el jugador de ganar una partida antes de repartir cartas en manos de 2-9 jugadores. Para ello calculamos la media de jugadores que hay en el millón de simulaciones que tenemos como referencia y sacamos la probabilidad de ganar contra ese número de jugadores. Lo utilizaremos como recta de regresión en nuestro Scatterplot."
   ]
  },
  {
   "cell_type": "code",
   "execution_count": 70,
   "metadata": {},
   "outputs": [],
   "source": [
    "# Calculamos el porcentaje de victoria para manos únicas\n",
    "df['resultado_bin'] = (df['resultado'] == 'Victoria').astype(int)\n",
    "victory_rate_by_hand = df.groupby('normalized_hand')['resultado_bin'].mean() * 100\n",
    "\n",
    "# Calculamos la probabilidad media esperada\n",
    "df['expected_win_rate'] = 100 / (df['num_rivales'] + 1)"
   ]
  },
  {
   "cell_type": "markdown",
   "metadata": {},
   "source": [
    "Por último, visualizamos los datos en un Scatterplot con leyenda para dividir cada tipo de mano en colores, información de cada mano específica al hacer hover sobre ella, recta de regresión lineal para tener como referencia la probabilidad media de ganar una mano etc."
   ]
  },
  {
   "cell_type": "code",
   "execution_count": 71,
   "metadata": {},
   "outputs": [
    {
     "data": {
      "application/vnd.plotly.v1+json": {
       "config": {
        "plotlyServerURL": "https://plot.ly"
       },
       "data": [
        {
         "customdata": [
          [
           "['10♠', '10♣']"
          ],
          [
           "['10♠', '10♥']"
          ],
          [
           "['10♠', '10♦']"
          ],
          [
           "['10♣', '10♥']"
          ],
          [
           "['10♣', '10♦']"
          ],
          [
           "['10♥', '10♦']"
          ],
          [
           "['2♠', '2♣']"
          ],
          [
           "['2♠', '2♥']"
          ],
          [
           "['2♠', '2♦']"
          ],
          [
           "['2♣', '2♥']"
          ],
          [
           "['2♣', '2♦']"
          ],
          [
           "['2♥', '2♦']"
          ],
          [
           "['3♠', '3♣']"
          ],
          [
           "['3♠', '3♥']"
          ],
          [
           "['3♠', '3♦']"
          ],
          [
           "['3♣', '3♥']"
          ],
          [
           "['3♣', '3♦']"
          ],
          [
           "['3♥', '3♦']"
          ],
          [
           "['4♠', '4♣']"
          ],
          [
           "['4♠', '4♥']"
          ],
          [
           "['4♠', '4♦']"
          ],
          [
           "['4♣', '4♥']"
          ],
          [
           "['4♣', '4♦']"
          ],
          [
           "['4♥', '4♦']"
          ],
          [
           "['5♠', '5♣']"
          ],
          [
           "['5♠', '5♥']"
          ],
          [
           "['5♠', '5♦']"
          ],
          [
           "['5♣', '5♥']"
          ],
          [
           "['5♣', '5♦']"
          ],
          [
           "['5♥', '5♦']"
          ],
          [
           "['6♠', '6♣']"
          ],
          [
           "['6♠', '6♥']"
          ],
          [
           "['6♠', '6♦']"
          ],
          [
           "['6♣', '6♥']"
          ],
          [
           "['6♣', '6♦']"
          ],
          [
           "['6♥', '6♦']"
          ],
          [
           "['7♠', '7♣']"
          ],
          [
           "['7♠', '7♥']"
          ],
          [
           "['7♠', '7♦']"
          ],
          [
           "['7♣', '7♥']"
          ],
          [
           "['7♣', '7♦']"
          ],
          [
           "['7♥', '7♦']"
          ],
          [
           "['8♠', '8♣']"
          ],
          [
           "['8♠', '8♥']"
          ],
          [
           "['8♠', '8♦']"
          ],
          [
           "['8♣', '8♥']"
          ],
          [
           "['8♣', '8♦']"
          ],
          [
           "['8♥', '8♦']"
          ],
          [
           "['9♠', '9♣']"
          ],
          [
           "['9♠', '9♥']"
          ],
          [
           "['9♠', '9♦']"
          ],
          [
           "['9♣', '9♥']"
          ],
          [
           "['9♣', '9♦']"
          ],
          [
           "['9♥', '9♦']"
          ],
          [
           "['A♠', 'A♣']"
          ],
          [
           "['A♠', 'A♥']"
          ],
          [
           "['A♠', 'A♦']"
          ],
          [
           "['A♣', 'A♥']"
          ],
          [
           "['A♣', 'A♦']"
          ],
          [
           "['A♥', 'A♦']"
          ],
          [
           "['J♠', 'J♣']"
          ],
          [
           "['J♠', 'J♥']"
          ],
          [
           "['J♠', 'J♦']"
          ],
          [
           "['J♣', 'J♥']"
          ],
          [
           "['J♣', 'J♦']"
          ],
          [
           "['J♥', 'J♦']"
          ],
          [
           "['K♠', 'K♣']"
          ],
          [
           "['K♠', 'K♥']"
          ],
          [
           "['K♠', 'K♦']"
          ],
          [
           "['K♣', 'K♥']"
          ],
          [
           "['K♣', 'K♦']"
          ],
          [
           "['K♥', 'K♦']"
          ],
          [
           "['Q♠', 'Q♣']"
          ],
          [
           "['Q♠', 'Q♥']"
          ],
          [
           "['Q♠', 'Q♦']"
          ],
          [
           "['Q♣', 'Q♥']"
          ],
          [
           "['Q♣', 'Q♦']"
          ],
          [
           "['Q♥', 'Q♦']"
          ]
         ],
         "hovertemplate": "Categoría=Parejas<br>Fuerza de la Mano=%{x}<br>Porcentaje de Victoria=%{y:.2f}<br>Cartas=%{customdata[0]}<extra></extra>",
         "legendgroup": "Parejas",
         "marker": {
          "color": "blue",
          "line": {
           "color": "DarkSlateGrey",
           "width": 1
          },
          "opacity": 0.8,
          "size": 8,
          "symbol": "circle"
         },
         "mode": "markers",
         "name": "Parejas",
         "showlegend": true,
         "type": "scattergl",
         "x": [
          20,
          20,
          20,
          20,
          20,
          20,
          4,
          4,
          4,
          4,
          4,
          4,
          6,
          6,
          6,
          6,
          6,
          6,
          8,
          8,
          8,
          8,
          8,
          8,
          10,
          10,
          10,
          10,
          10,
          10,
          12,
          12,
          12,
          12,
          12,
          12,
          14,
          14,
          14,
          14,
          14,
          14,
          16,
          16,
          16,
          16,
          16,
          16,
          18,
          18,
          18,
          18,
          18,
          18,
          28,
          28,
          28,
          28,
          28,
          28,
          22,
          22,
          22,
          22,
          22,
          22,
          26,
          26,
          26,
          26,
          26,
          26,
          24,
          24,
          24,
          24,
          24,
          24
         ],
         "xaxis": "x",
         "y": [
          31.02094240837696,
          30.474934036939317,
          32.123655913978496,
          33.87096774193548,
          32.162921348314605,
          32.90155440414508,
          22.542595019659238,
          20.209973753280842,
          21.73913043478261,
          23.929471032745592,
          22.561863173216885,
          19.812583668005352,
          23.376623376623375,
          24.8,
          24.54308093994778,
          23.313782991202345,
          22.12041884816754,
          25.134408602150536,
          26.463104325699742,
          21.895006402048654,
          24.525745257452574,
          22.79596977329975,
          22.64957264957265,
          23.71967654986523,
          24.93150684931507,
          26.628895184135974,
          25.130208333333332,
          25.384615384615383,
          25.979112271540473,
          25.232403718459494,
          25.802310654685495,
          26.75496688741722,
          26.770538243626063,
          23.27823691460055,
          26.72176308539945,
          24.031007751937985,
          27.247579529737205,
          27.955493741307368,
          28.75318066157761,
          27.248322147651006,
          23.537414965986393,
          27.333333333333332,
          28.6493860845839,
          24.645892351274785,
          27.284595300261095,
          28.14910025706941,
          25.80246913580247,
          30.65395095367847,
          31.493943472409153,
          29.19334186939821,
          30.294530154277698,
          33.38028169014085,
          29.288702928870293,
          30.080213903743314,
          53.42820181112549,
          53.825857519788926,
          55.16372795969773,
          53.96634615384615,
          56.32333767926988,
          53.78151260504202,
          34.62566844919786,
          38.65771812080537,
          35.723771580345286,
          35.59096945551129,
          34.41558441558442,
          34.437086092715234,
          46.26865671641791,
          47.56258234519104,
          46.22516556291391,
          47.18498659517426,
          46.666666666666664,
          44.07814407814408,
          38.65435356200528,
          38.778220451527226,
          40.78624078624078,
          39.19793014230272,
          37.5668449197861,
          36.351706036745405
         ],
         "yaxis": "y"
        },
        {
         "customdata": [
          [
           "['10♠', '2♠']"
          ],
          [
           "['10♠', '3♠']"
          ],
          [
           "['10♠', '4♠']"
          ],
          [
           "['10♠', '5♠']"
          ],
          [
           "['10♠', '6♠']"
          ],
          [
           "['10♠', '7♠']"
          ],
          [
           "['10♠', '8♠']"
          ],
          [
           "['10♠', 'A♠']"
          ],
          [
           "['10♠', 'K♠']"
          ],
          [
           "['10♠', 'Q♠']"
          ],
          [
           "['10♣', '2♣']"
          ],
          [
           "['10♣', '3♣']"
          ],
          [
           "['10♣', '4♣']"
          ],
          [
           "['10♣', '5♣']"
          ],
          [
           "['10♣', '6♣']"
          ],
          [
           "['10♣', '7♣']"
          ],
          [
           "['10♣', '8♣']"
          ],
          [
           "['10♣', 'A♣']"
          ],
          [
           "['10♣', 'K♣']"
          ],
          [
           "['10♣', 'Q♣']"
          ],
          [
           "['10♥', '2♥']"
          ],
          [
           "['10♥', '3♥']"
          ],
          [
           "['10♥', '4♥']"
          ],
          [
           "['10♥', '5♥']"
          ],
          [
           "['10♥', '6♥']"
          ],
          [
           "['10♥', '7♥']"
          ],
          [
           "['10♥', '8♥']"
          ],
          [
           "['10♥', 'A♥']"
          ],
          [
           "['10♥', 'K♥']"
          ],
          [
           "['10♥', 'Q♥']"
          ],
          [
           "['10♦', '2♦']"
          ],
          [
           "['10♦', '3♦']"
          ],
          [
           "['10♦', '4♦']"
          ],
          [
           "['10♦', '5♦']"
          ],
          [
           "['10♦', '6♦']"
          ],
          [
           "['10♦', '7♦']"
          ],
          [
           "['10♦', '8♦']"
          ],
          [
           "['10♦', 'A♦']"
          ],
          [
           "['10♦', 'K♦']"
          ],
          [
           "['10♦', 'Q♦']"
          ],
          [
           "['2♠', '4♠']"
          ],
          [
           "['2♠', '5♠']"
          ],
          [
           "['2♠', '6♠']"
          ],
          [
           "['2♠', '7♠']"
          ],
          [
           "['2♠', '8♠']"
          ],
          [
           "['2♠', '9♠']"
          ],
          [
           "['2♠', 'A♠']"
          ],
          [
           "['2♠', 'J♠']"
          ],
          [
           "['2♠', 'K♠']"
          ],
          [
           "['2♠', 'Q♠']"
          ],
          [
           "['2♣', '4♣']"
          ],
          [
           "['2♣', '5♣']"
          ],
          [
           "['2♣', '6♣']"
          ],
          [
           "['2♣', '7♣']"
          ],
          [
           "['2♣', '8♣']"
          ],
          [
           "['2♣', '9♣']"
          ],
          [
           "['2♣', 'A♣']"
          ],
          [
           "['2♣', 'J♣']"
          ],
          [
           "['2♣', 'K♣']"
          ],
          [
           "['2♣', 'Q♣']"
          ],
          [
           "['2♥', '4♥']"
          ],
          [
           "['2♥', '5♥']"
          ],
          [
           "['2♥', '6♥']"
          ],
          [
           "['2♥', '7♥']"
          ],
          [
           "['2♥', '8♥']"
          ],
          [
           "['2♥', '9♥']"
          ],
          [
           "['2♥', 'A♥']"
          ],
          [
           "['2♥', 'J♥']"
          ],
          [
           "['2♥', 'K♥']"
          ],
          [
           "['2♥', 'Q♥']"
          ],
          [
           "['2♦', '4♦']"
          ],
          [
           "['2♦', '5♦']"
          ],
          [
           "['2♦', '6♦']"
          ],
          [
           "['2♦', '7♦']"
          ],
          [
           "['2♦', '8♦']"
          ],
          [
           "['2♦', '9♦']"
          ],
          [
           "['2♦', 'A♦']"
          ],
          [
           "['2♦', 'J♦']"
          ],
          [
           "['2♦', 'K♦']"
          ],
          [
           "['2♦', 'Q♦']"
          ],
          [
           "['3♠', '5♠']"
          ],
          [
           "['3♠', '6♠']"
          ],
          [
           "['3♠', '7♠']"
          ],
          [
           "['3♠', '8♠']"
          ],
          [
           "['3♠', '9♠']"
          ],
          [
           "['3♠', 'A♠']"
          ],
          [
           "['3♠', 'J♠']"
          ],
          [
           "['3♠', 'K♠']"
          ],
          [
           "['3♠', 'Q♠']"
          ],
          [
           "['3♣', '5♣']"
          ],
          [
           "['3♣', '6♣']"
          ],
          [
           "['3♣', '7♣']"
          ],
          [
           "['3♣', '8♣']"
          ],
          [
           "['3♣', '9♣']"
          ],
          [
           "['3♣', 'A♣']"
          ],
          [
           "['3♣', 'J♣']"
          ],
          [
           "['3♣', 'K♣']"
          ],
          [
           "['3♣', 'Q♣']"
          ],
          [
           "['3♥', '5♥']"
          ],
          [
           "['3♥', '6♥']"
          ],
          [
           "['3♥', '7♥']"
          ],
          [
           "['3♥', '8♥']"
          ],
          [
           "['3♥', '9♥']"
          ],
          [
           "['3♥', 'A♥']"
          ],
          [
           "['3♥', 'J♥']"
          ],
          [
           "['3♥', 'K♥']"
          ],
          [
           "['3♥', 'Q♥']"
          ],
          [
           "['3♦', '5♦']"
          ],
          [
           "['3♦', '6♦']"
          ],
          [
           "['3♦', '7♦']"
          ],
          [
           "['3♦', '8♦']"
          ],
          [
           "['3♦', '9♦']"
          ],
          [
           "['3♦', 'A♦']"
          ],
          [
           "['3♦', 'J♦']"
          ],
          [
           "['3♦', 'K♦']"
          ],
          [
           "['3♦', 'Q♦']"
          ],
          [
           "['4♠', '6♠']"
          ],
          [
           "['4♠', '7♠']"
          ],
          [
           "['4♠', '8♠']"
          ],
          [
           "['4♠', '9♠']"
          ],
          [
           "['4♠', 'A♠']"
          ],
          [
           "['4♠', 'J♠']"
          ],
          [
           "['4♠', 'K♠']"
          ],
          [
           "['4♠', 'Q♠']"
          ],
          [
           "['4♣', '6♣']"
          ],
          [
           "['4♣', '7♣']"
          ],
          [
           "['4♣', '8♣']"
          ],
          [
           "['4♣', '9♣']"
          ],
          [
           "['4♣', 'A♣']"
          ],
          [
           "['4♣', 'J♣']"
          ],
          [
           "['4♣', 'K♣']"
          ],
          [
           "['4♣', 'Q♣']"
          ],
          [
           "['4♥', '6♥']"
          ],
          [
           "['4♥', '7♥']"
          ],
          [
           "['4♥', '8♥']"
          ],
          [
           "['4♥', '9♥']"
          ],
          [
           "['4♥', 'A♥']"
          ],
          [
           "['4♥', 'J♥']"
          ],
          [
           "['4♥', 'K♥']"
          ],
          [
           "['4♥', 'Q♥']"
          ],
          [
           "['4♦', '6♦']"
          ],
          [
           "['4♦', '7♦']"
          ],
          [
           "['4♦', '8♦']"
          ],
          [
           "['4♦', '9♦']"
          ],
          [
           "['4♦', 'A♦']"
          ],
          [
           "['4♦', 'J♦']"
          ],
          [
           "['4♦', 'K♦']"
          ],
          [
           "['4♦', 'Q♦']"
          ],
          [
           "['5♠', '7♠']"
          ],
          [
           "['5♠', '8♠']"
          ],
          [
           "['5♠', '9♠']"
          ],
          [
           "['5♠', 'A♠']"
          ],
          [
           "['5♠', 'J♠']"
          ],
          [
           "['5♠', 'K♠']"
          ],
          [
           "['5♠', 'Q♠']"
          ],
          [
           "['5♣', '7♣']"
          ],
          [
           "['5♣', '8♣']"
          ],
          [
           "['5♣', '9♣']"
          ],
          [
           "['5♣', 'A♣']"
          ],
          [
           "['5♣', 'J♣']"
          ],
          [
           "['5♣', 'K♣']"
          ],
          [
           "['5♣', 'Q♣']"
          ],
          [
           "['5♥', '7♥']"
          ],
          [
           "['5♥', '8♥']"
          ],
          [
           "['5♥', '9♥']"
          ],
          [
           "['5♥', 'A♥']"
          ],
          [
           "['5♥', 'J♥']"
          ],
          [
           "['5♥', 'K♥']"
          ],
          [
           "['5♥', 'Q♥']"
          ],
          [
           "['5♦', '7♦']"
          ],
          [
           "['5♦', '8♦']"
          ],
          [
           "['5♦', '9♦']"
          ],
          [
           "['5♦', 'A♦']"
          ],
          [
           "['5♦', 'J♦']"
          ],
          [
           "['5♦', 'K♦']"
          ],
          [
           "['5♦', 'Q♦']"
          ],
          [
           "['6♠', '8♠']"
          ],
          [
           "['6♠', '9♠']"
          ],
          [
           "['6♠', 'A♠']"
          ],
          [
           "['6♠', 'J♠']"
          ],
          [
           "['6♠', 'K♠']"
          ],
          [
           "['6♠', 'Q♠']"
          ],
          [
           "['6♣', '8♣']"
          ],
          [
           "['6♣', '9♣']"
          ],
          [
           "['6♣', 'A♣']"
          ],
          [
           "['6♣', 'J♣']"
          ],
          [
           "['6♣', 'K♣']"
          ],
          [
           "['6♣', 'Q♣']"
          ],
          [
           "['6♥', '8♥']"
          ],
          [
           "['6♥', '9♥']"
          ],
          [
           "['6♥', 'A♥']"
          ],
          [
           "['6♥', 'J♥']"
          ],
          [
           "['6♥', 'K♥']"
          ],
          [
           "['6♥', 'Q♥']"
          ],
          [
           "['6♦', '8♦']"
          ],
          [
           "['6♦', '9♦']"
          ],
          [
           "['6♦', 'A♦']"
          ],
          [
           "['6♦', 'J♦']"
          ],
          [
           "['6♦', 'K♦']"
          ],
          [
           "['6♦', 'Q♦']"
          ],
          [
           "['7♠', '9♠']"
          ],
          [
           "['7♠', 'A♠']"
          ],
          [
           "['7♠', 'J♠']"
          ],
          [
           "['7♠', 'K♠']"
          ],
          [
           "['7♠', 'Q♠']"
          ],
          [
           "['7♣', '9♣']"
          ],
          [
           "['7♣', 'A♣']"
          ],
          [
           "['7♣', 'J♣']"
          ],
          [
           "['7♣', 'K♣']"
          ],
          [
           "['7♣', 'Q♣']"
          ],
          [
           "['7♥', '9♥']"
          ],
          [
           "['7♥', 'A♥']"
          ],
          [
           "['7♥', 'J♥']"
          ],
          [
           "['7♥', 'K♥']"
          ],
          [
           "['7♥', 'Q♥']"
          ],
          [
           "['7♦', '9♦']"
          ],
          [
           "['7♦', 'A♦']"
          ],
          [
           "['7♦', 'J♦']"
          ],
          [
           "['7♦', 'K♦']"
          ],
          [
           "['7♦', 'Q♦']"
          ],
          [
           "['8♠', 'A♠']"
          ],
          [
           "['8♠', 'J♠']"
          ],
          [
           "['8♠', 'K♠']"
          ],
          [
           "['8♠', 'Q♠']"
          ],
          [
           "['8♣', 'A♣']"
          ],
          [
           "['8♣', 'J♣']"
          ],
          [
           "['8♣', 'K♣']"
          ],
          [
           "['8♣', 'Q♣']"
          ],
          [
           "['8♥', 'A♥']"
          ],
          [
           "['8♥', 'J♥']"
          ],
          [
           "['8♥', 'K♥']"
          ],
          [
           "['8♥', 'Q♥']"
          ],
          [
           "['8♦', 'A♦']"
          ],
          [
           "['8♦', 'J♦']"
          ],
          [
           "['8♦', 'K♦']"
          ],
          [
           "['8♦', 'Q♦']"
          ],
          [
           "['9♠', 'A♠']"
          ],
          [
           "['9♠', 'J♠']"
          ],
          [
           "['9♠', 'K♠']"
          ],
          [
           "['9♠', 'Q♠']"
          ],
          [
           "['9♣', 'A♣']"
          ],
          [
           "['9♣', 'J♣']"
          ],
          [
           "['9♣', 'K♣']"
          ],
          [
           "['9♣', 'Q♣']"
          ],
          [
           "['9♥', 'A♥']"
          ],
          [
           "['9♥', 'J♥']"
          ],
          [
           "['9♥', 'K♥']"
          ],
          [
           "['9♥', 'Q♥']"
          ],
          [
           "['9♦', 'A♦']"
          ],
          [
           "['9♦', 'J♦']"
          ],
          [
           "['9♦', 'K♦']"
          ],
          [
           "['9♦', 'Q♦']"
          ],
          [
           "['A♠', 'J♠']"
          ],
          [
           "['A♠', 'Q♠']"
          ],
          [
           "['A♣', 'J♣']"
          ],
          [
           "['A♣', 'Q♣']"
          ],
          [
           "['A♥', 'J♥']"
          ],
          [
           "['A♥', 'Q♥']"
          ],
          [
           "['A♦', 'J♦']"
          ],
          [
           "['A♦', 'Q♦']"
          ],
          [
           "['J♠', 'K♠']"
          ],
          [
           "['J♣', 'K♣']"
          ],
          [
           "['J♥', 'K♥']"
          ],
          [
           "['J♦', 'K♦']"
          ]
         ],
         "hovertemplate": "Categoría=Cartas Distintas Suited<br>Fuerza de la Mano=%{x}<br>Porcentaje de Victoria=%{y:.2f}<br>Cartas=%{customdata[0]}<extra></extra>",
         "legendgroup": "Cartas Distintas Suited",
         "marker": {
          "color": "green",
          "line": {
           "color": "DarkSlateGrey",
           "width": 1
          },
          "opacity": 0.8,
          "size": 8,
          "symbol": "circle"
         },
         "mode": "markers",
         "name": "Cartas Distintas Suited",
         "showlegend": true,
         "type": "scattergl",
         "x": [
          12,
          13,
          14,
          15,
          16,
          17,
          18,
          24,
          23,
          22,
          12,
          13,
          14,
          15,
          16,
          17,
          18,
          24,
          23,
          22,
          12,
          13,
          14,
          15,
          16,
          17,
          18,
          24,
          23,
          22,
          12,
          13,
          14,
          15,
          16,
          17,
          18,
          24,
          23,
          22,
          6,
          7,
          8,
          9,
          10,
          11,
          16,
          13,
          15,
          14,
          6,
          7,
          8,
          9,
          10,
          11,
          16,
          13,
          15,
          14,
          6,
          7,
          8,
          9,
          10,
          11,
          16,
          13,
          15,
          14,
          6,
          7,
          8,
          9,
          10,
          11,
          16,
          13,
          15,
          14,
          8,
          9,
          10,
          11,
          12,
          17,
          14,
          16,
          15,
          8,
          9,
          10,
          11,
          12,
          17,
          14,
          16,
          15,
          8,
          9,
          10,
          11,
          12,
          17,
          14,
          16,
          15,
          8,
          9,
          10,
          11,
          12,
          17,
          14,
          16,
          15,
          10,
          11,
          12,
          13,
          18,
          15,
          17,
          16,
          10,
          11,
          12,
          13,
          18,
          15,
          17,
          16,
          10,
          11,
          12,
          13,
          18,
          15,
          17,
          16,
          10,
          11,
          12,
          13,
          18,
          15,
          17,
          16,
          12,
          13,
          14,
          19,
          16,
          18,
          17,
          12,
          13,
          14,
          19,
          16,
          18,
          17,
          12,
          13,
          14,
          19,
          16,
          18,
          17,
          12,
          13,
          14,
          19,
          16,
          18,
          17,
          14,
          15,
          20,
          17,
          19,
          18,
          14,
          15,
          20,
          17,
          19,
          18,
          14,
          15,
          20,
          17,
          19,
          18,
          14,
          15,
          20,
          17,
          19,
          18,
          16,
          21,
          18,
          20,
          19,
          16,
          21,
          18,
          20,
          19,
          16,
          21,
          18,
          20,
          19,
          16,
          21,
          18,
          20,
          19,
          22,
          19,
          21,
          20,
          22,
          19,
          21,
          20,
          22,
          19,
          21,
          20,
          22,
          19,
          21,
          20,
          23,
          20,
          22,
          21,
          23,
          20,
          22,
          21,
          23,
          20,
          22,
          21,
          23,
          20,
          22,
          21,
          25,
          26,
          25,
          26,
          25,
          26,
          25,
          26,
          24,
          24,
          24,
          24
         ],
         "xaxis": "x",
         "y": [
          18.230563002680967,
          19.76127320954907,
          20.64343163538874,
          18.766756032171582,
          21.18758434547908,
          22.081575246132207,
          24.72972972972973,
          32.5706594885599,
          30.778894472361806,
          26.702269692923895,
          19.17989417989418,
          18.823529411764707,
          19.654714475431607,
          18.005540166204987,
          22.33375156838143,
          25.41720154043646,
          25.868725868725868,
          35.26315789473684,
          28.286852589641438,
          30.484330484330485,
          18.22849807445443,
          20.416124837451235,
          17.852522639068564,
          20.457604306864063,
          18.14569536423841,
          23.759791122715406,
          20.680628272251308,
          35.67708333333333,
          31.216931216931215,
          29.577464788732392,
          20.51282051282051,
          21.237693389592124,
          19.08713692946058,
          17.897371714643302,
          19.550858652575958,
          20.37037037037037,
          23.067010309278352,
          31.557377049180328,
          29.389312977099237,
          27.715355805243448,
          15.48223350253807,
          19.843342036553523,
          15.966386554621847,
          16.57608695652174,
          17.589175891758916,
          15.836526181353769,
          32.11875843454791,
          20.079260237780712,
          26.03626943005181,
          22.606382978723406,
          16.51376146788991,
          15.637319316688567,
          17.447916666666664,
          18.051948051948052,
          17.24137931034483,
          16.64392905866303,
          30.73825503355705,
          17.4931129476584,
          24.641460234680572,
          22.938144329896907,
          16.490765171503956,
          18.575418994413408,
          16.026490066225165,
          14.17624521072797,
          17.096336499321573,
          17.90450928381963,
          31.043956043956044,
          18.473895582329316,
          24.187256176853055,
          22.456575682382134,
          16.158940397350992,
          17.735849056603772,
          14.745308310991955,
          17.97432239657632,
          17.096336499321573,
          19.390581717451525,
          31.071913161465396,
          19.767441860465116,
          27.53441802252816,
          21.994535519125684,
          16.893732970027248,
          15.66265060240964,
          19.186785260482846,
          17.496635262449526,
          18.929016189290163,
          30.186170212765955,
          21.4190093708166,
          26.549865229110516,
          24.128686327077748,
          19.06040268456376,
          17.189631650750343,
          17.006802721088434,
          16.174582798459564,
          20.754716981132077,
          32.77545327754533,
          20.37037037037037,
          28.05486284289277,
          23.424657534246577,
          16.881443298969074,
          15.906288532675708,
          17.900403768506056,
          17.323943661971832,
          17.96565389696169,
          31.071913161465396,
          22.90862290862291,
          24.46808510638298,
          23.47222222222222,
          15.902964959568733,
          17.92207792207792,
          17.693315858453474,
          16.84931506849315,
          18.181818181818183,
          32.098765432098766,
          24.423337856173678,
          26.00834492350487,
          21.335078534031414,
          17.369093231162196,
          17.43869209809264,
          16.840731070496084,
          17.01346389228886,
          32.5706594885599,
          21.014492753623188,
          28.177458033573146,
          24.074074074074073,
          17.955439056356486,
          17.6158940397351,
          15.8311345646438,
          19.27554980595084,
          33.513513513513516,
          20,
          24.838292367399742,
          22.70861833105335,
          17.797695262483995,
          19.63109354413702,
          18.972332015810274,
          18.51851851851852,
          29.554655870445345,
          20.915032679738562,
          26.582278481012654,
          24.96714848883049,
          18.523316062176164,
          22.85318559556787,
          17.4037089871612,
          16.558018252933508,
          33.09002433090024,
          22.45430809399478,
          25.949367088607595,
          25.290322580645164,
          22.431077694235587,
          20.16348773841962,
          15.837696335078533,
          35,
          20.316622691292878,
          27.715877437325904,
          24.081632653061224,
          18.428184281842817,
          18.396846254927727,
          20.075282308657467,
          33.587786259541986,
          21.603260869565215,
          26.613965744400524,
          23.15930388219545,
          21.161290322580644,
          17.934782608695652,
          17.726657645466847,
          30.469798657718123,
          21.115537848605577,
          26.716604244694132,
          22.933333333333334,
          19.426336375488916,
          19.42257217847769,
          18.252933507170795,
          34.417344173441734,
          18.94484412470024,
          25.90529247910863,
          22.585034013605444,
          19.778699861687414,
          21.059602649006624,
          31.48148148148148,
          18.870346598202826,
          31.170483460559794,
          25.358166189111746,
          18.96551724137931,
          20.343461030383093,
          32.34501347708895,
          20.60857538035961,
          27.807486631016044,
          26.55217965653897,
          17.624521072796934,
          19.670050761421322,
          31.805157593123205,
          20.806241872561767,
          28.011204481792717,
          24.47368421052632,
          22.14484679665738,
          21.030640668523677,
          32.35294117647059,
          18.22849807445443,
          32.25419664268585,
          20.76813655761024,
          19.26605504587156,
          31.061598951507207,
          22.823218997361476,
          27.756653992395435,
          24.68354430379747,
          21.151271753681392,
          30.35230352303523,
          23.31536388140162,
          24.680306905370845,
          23.230974632843793,
          22.673656618610746,
          30.510585305105852,
          19.972640218878247,
          26.869806094182824,
          24.894514767932492,
          21.31367292225201,
          29.973118279569892,
          23.204419889502763,
          27.951153324287652,
          23.658872077028885,
          31.309041835357625,
          23.56241234221599,
          25.471698113207548,
          26.869455006337134,
          33.28822733423545,
          24.37745740498034,
          30.914368650217703,
          26.184210526315788,
          30.86092715231788,
          23.10810810810811,
          28.668478260869566,
          24.517906336088156,
          30.674002751031637,
          23.97959183673469,
          28.514056224899598,
          25.814863102998697,
          32.85340314136126,
          24.719101123595504,
          29.567642956764296,
          27.725437415881558,
          34.196891191709845,
          27.386934673366838,
          30.160857908847184,
          27.202072538860104,
          33.422103861517975,
          26.47058823529412,
          27.906976744186046,
          27.563249001331556,
          33.64238410596027,
          24,
          28.591352859135288,
          27.27272727272727,
          36.31578947368421,
          36.26373626373626,
          36.56509695290859,
          32.37221494102228,
          39.44954128440367,
          35.83441138421733,
          37.5,
          34.8692403486924,
          33.96704689480355,
          34.04255319148936,
          33.88429752066116,
          32.74695534506089
         ],
         "yaxis": "y"
        },
        {
         "customdata": [
          [
           "['10♠', '2♣']"
          ],
          [
           "['10♠', '2♥']"
          ],
          [
           "['10♠', '2♦']"
          ],
          [
           "['10♠', '3♣']"
          ],
          [
           "['10♠', '3♥']"
          ],
          [
           "['10♠', '3♦']"
          ],
          [
           "['10♠', '4♣']"
          ],
          [
           "['10♠', '4♥']"
          ],
          [
           "['10♠', '4♦']"
          ],
          [
           "['10♠', '5♣']"
          ],
          [
           "['10♠', '5♥']"
          ],
          [
           "['10♠', '5♦']"
          ],
          [
           "['10♠', '6♣']"
          ],
          [
           "['10♠', '6♥']"
          ],
          [
           "['10♠', '6♦']"
          ],
          [
           "['10♠', '7♣']"
          ],
          [
           "['10♠', '7♥']"
          ],
          [
           "['10♠', '7♦']"
          ],
          [
           "['10♠', '8♣']"
          ],
          [
           "['10♠', '8♥']"
          ],
          [
           "['10♠', '8♦']"
          ],
          [
           "['10♠', 'A♣']"
          ],
          [
           "['10♠', 'A♥']"
          ],
          [
           "['10♠', 'A♦']"
          ],
          [
           "['10♠', 'K♣']"
          ],
          [
           "['10♠', 'K♥']"
          ],
          [
           "['10♠', 'K♦']"
          ],
          [
           "['10♠', 'Q♣']"
          ],
          [
           "['10♠', 'Q♥']"
          ],
          [
           "['10♠', 'Q♦']"
          ],
          [
           "['10♣', '2♠']"
          ],
          [
           "['10♣', '2♥']"
          ],
          [
           "['10♣', '2♦']"
          ],
          [
           "['10♣', '3♠']"
          ],
          [
           "['10♣', '3♥']"
          ],
          [
           "['10♣', '3♦']"
          ],
          [
           "['10♣', '4♠']"
          ],
          [
           "['10♣', '4♥']"
          ],
          [
           "['10♣', '4♦']"
          ],
          [
           "['10♣', '5♠']"
          ],
          [
           "['10♣', '5♥']"
          ],
          [
           "['10♣', '5♦']"
          ],
          [
           "['10♣', '6♠']"
          ],
          [
           "['10♣', '6♥']"
          ],
          [
           "['10♣', '6♦']"
          ],
          [
           "['10♣', '7♠']"
          ],
          [
           "['10♣', '7♥']"
          ],
          [
           "['10♣', '7♦']"
          ],
          [
           "['10♣', '8♠']"
          ],
          [
           "['10♣', '8♥']"
          ],
          [
           "['10♣', '8♦']"
          ],
          [
           "['10♣', 'A♠']"
          ],
          [
           "['10♣', 'A♥']"
          ],
          [
           "['10♣', 'A♦']"
          ],
          [
           "['10♣', 'K♠']"
          ],
          [
           "['10♣', 'K♥']"
          ],
          [
           "['10♣', 'K♦']"
          ],
          [
           "['10♣', 'Q♠']"
          ],
          [
           "['10♣', 'Q♥']"
          ],
          [
           "['10♣', 'Q♦']"
          ],
          [
           "['10♥', '2♠']"
          ],
          [
           "['10♥', '2♣']"
          ],
          [
           "['10♥', '2♦']"
          ],
          [
           "['10♥', '3♠']"
          ],
          [
           "['10♥', '3♣']"
          ],
          [
           "['10♥', '3♦']"
          ],
          [
           "['10♥', '4♠']"
          ],
          [
           "['10♥', '4♣']"
          ],
          [
           "['10♥', '4♦']"
          ],
          [
           "['10♥', '5♠']"
          ],
          [
           "['10♥', '5♣']"
          ],
          [
           "['10♥', '5♦']"
          ],
          [
           "['10♥', '6♠']"
          ],
          [
           "['10♥', '6♣']"
          ],
          [
           "['10♥', '6♦']"
          ],
          [
           "['10♥', '7♠']"
          ],
          [
           "['10♥', '7♣']"
          ],
          [
           "['10♥', '7♦']"
          ],
          [
           "['10♥', '8♠']"
          ],
          [
           "['10♥', '8♣']"
          ],
          [
           "['10♥', '8♦']"
          ],
          [
           "['10♥', 'A♠']"
          ],
          [
           "['10♥', 'A♣']"
          ],
          [
           "['10♥', 'A♦']"
          ],
          [
           "['10♥', 'K♠']"
          ],
          [
           "['10♥', 'K♣']"
          ],
          [
           "['10♥', 'K♦']"
          ],
          [
           "['10♥', 'Q♠']"
          ],
          [
           "['10♥', 'Q♣']"
          ],
          [
           "['10♥', 'Q♦']"
          ],
          [
           "['10♦', '2♠']"
          ],
          [
           "['10♦', '2♣']"
          ],
          [
           "['10♦', '2♥']"
          ],
          [
           "['10♦', '3♠']"
          ],
          [
           "['10♦', '3♣']"
          ],
          [
           "['10♦', '3♥']"
          ],
          [
           "['10♦', '4♠']"
          ],
          [
           "['10♦', '4♣']"
          ],
          [
           "['10♦', '4♥']"
          ],
          [
           "['10♦', '5♠']"
          ],
          [
           "['10♦', '5♣']"
          ],
          [
           "['10♦', '5♥']"
          ],
          [
           "['10♦', '6♠']"
          ],
          [
           "['10♦', '6♣']"
          ],
          [
           "['10♦', '6♥']"
          ],
          [
           "['10♦', '7♠']"
          ],
          [
           "['10♦', '7♣']"
          ],
          [
           "['10♦', '7♥']"
          ],
          [
           "['10♦', '8♠']"
          ],
          [
           "['10♦', '8♣']"
          ],
          [
           "['10♦', '8♥']"
          ],
          [
           "['10♦', 'A♠']"
          ],
          [
           "['10♦', 'A♣']"
          ],
          [
           "['10♦', 'A♥']"
          ],
          [
           "['10♦', 'K♠']"
          ],
          [
           "['10♦', 'K♣']"
          ],
          [
           "['10♦', 'K♥']"
          ],
          [
           "['10♦', 'Q♠']"
          ],
          [
           "['10♦', 'Q♣']"
          ],
          [
           "['10♦', 'Q♥']"
          ],
          [
           "['2♠', '4♣']"
          ],
          [
           "['2♠', '4♥']"
          ],
          [
           "['2♠', '4♦']"
          ],
          [
           "['2♠', '5♣']"
          ],
          [
           "['2♠', '5♥']"
          ],
          [
           "['2♠', '5♦']"
          ],
          [
           "['2♠', '6♣']"
          ],
          [
           "['2♠', '6♥']"
          ],
          [
           "['2♠', '6♦']"
          ],
          [
           "['2♠', '7♣']"
          ],
          [
           "['2♠', '7♥']"
          ],
          [
           "['2♠', '7♦']"
          ],
          [
           "['2♠', '8♣']"
          ],
          [
           "['2♠', '8♥']"
          ],
          [
           "['2♠', '8♦']"
          ],
          [
           "['2♠', '9♣']"
          ],
          [
           "['2♠', '9♥']"
          ],
          [
           "['2♠', '9♦']"
          ],
          [
           "['2♠', 'A♣']"
          ],
          [
           "['2♠', 'A♥']"
          ],
          [
           "['2♠', 'A♦']"
          ],
          [
           "['2♠', 'J♣']"
          ],
          [
           "['2♠', 'J♥']"
          ],
          [
           "['2♠', 'J♦']"
          ],
          [
           "['2♠', 'K♣']"
          ],
          [
           "['2♠', 'K♥']"
          ],
          [
           "['2♠', 'K♦']"
          ],
          [
           "['2♠', 'Q♣']"
          ],
          [
           "['2♠', 'Q♥']"
          ],
          [
           "['2♠', 'Q♦']"
          ],
          [
           "['2♣', '4♠']"
          ],
          [
           "['2♣', '4♥']"
          ],
          [
           "['2♣', '4♦']"
          ],
          [
           "['2♣', '5♠']"
          ],
          [
           "['2♣', '5♥']"
          ],
          [
           "['2♣', '5♦']"
          ],
          [
           "['2♣', '6♠']"
          ],
          [
           "['2♣', '6♥']"
          ],
          [
           "['2♣', '6♦']"
          ],
          [
           "['2♣', '7♠']"
          ],
          [
           "['2♣', '7♥']"
          ],
          [
           "['2♣', '7♦']"
          ],
          [
           "['2♣', '8♠']"
          ],
          [
           "['2♣', '8♥']"
          ],
          [
           "['2♣', '8♦']"
          ],
          [
           "['2♣', '9♠']"
          ],
          [
           "['2♣', '9♥']"
          ],
          [
           "['2♣', '9♦']"
          ],
          [
           "['2♣', 'A♠']"
          ],
          [
           "['2♣', 'A♥']"
          ],
          [
           "['2♣', 'A♦']"
          ],
          [
           "['2♣', 'J♠']"
          ],
          [
           "['2♣', 'J♥']"
          ],
          [
           "['2♣', 'J♦']"
          ],
          [
           "['2♣', 'K♠']"
          ],
          [
           "['2♣', 'K♥']"
          ],
          [
           "['2♣', 'K♦']"
          ],
          [
           "['2♣', 'Q♠']"
          ],
          [
           "['2♣', 'Q♥']"
          ],
          [
           "['2♣', 'Q♦']"
          ],
          [
           "['2♥', '4♠']"
          ],
          [
           "['2♥', '4♣']"
          ],
          [
           "['2♥', '4♦']"
          ],
          [
           "['2♥', '5♠']"
          ],
          [
           "['2♥', '5♣']"
          ],
          [
           "['2♥', '5♦']"
          ],
          [
           "['2♥', '6♠']"
          ],
          [
           "['2♥', '6♣']"
          ],
          [
           "['2♥', '6♦']"
          ],
          [
           "['2♥', '7♠']"
          ],
          [
           "['2♥', '7♣']"
          ],
          [
           "['2♥', '7♦']"
          ],
          [
           "['2♥', '8♠']"
          ],
          [
           "['2♥', '8♣']"
          ],
          [
           "['2♥', '8♦']"
          ],
          [
           "['2♥', '9♠']"
          ],
          [
           "['2♥', '9♣']"
          ],
          [
           "['2♥', '9♦']"
          ],
          [
           "['2♥', 'A♠']"
          ],
          [
           "['2♥', 'A♣']"
          ],
          [
           "['2♥', 'A♦']"
          ],
          [
           "['2♥', 'J♠']"
          ],
          [
           "['2♥', 'J♣']"
          ],
          [
           "['2♥', 'J♦']"
          ],
          [
           "['2♥', 'K♠']"
          ],
          [
           "['2♥', 'K♣']"
          ],
          [
           "['2♥', 'K♦']"
          ],
          [
           "['2♥', 'Q♠']"
          ],
          [
           "['2♥', 'Q♣']"
          ],
          [
           "['2♥', 'Q♦']"
          ],
          [
           "['2♦', '4♠']"
          ],
          [
           "['2♦', '4♣']"
          ],
          [
           "['2♦', '4♥']"
          ],
          [
           "['2♦', '5♠']"
          ],
          [
           "['2♦', '5♣']"
          ],
          [
           "['2♦', '5♥']"
          ],
          [
           "['2♦', '6♠']"
          ],
          [
           "['2♦', '6♣']"
          ],
          [
           "['2♦', '6♥']"
          ],
          [
           "['2♦', '7♠']"
          ],
          [
           "['2♦', '7♣']"
          ],
          [
           "['2♦', '7♥']"
          ],
          [
           "['2♦', '8♠']"
          ],
          [
           "['2♦', '8♣']"
          ],
          [
           "['2♦', '8♥']"
          ],
          [
           "['2♦', '9♠']"
          ],
          [
           "['2♦', '9♣']"
          ],
          [
           "['2♦', '9♥']"
          ],
          [
           "['2♦', 'A♠']"
          ],
          [
           "['2♦', 'A♣']"
          ],
          [
           "['2♦', 'A♥']"
          ],
          [
           "['2♦', 'J♠']"
          ],
          [
           "['2♦', 'J♣']"
          ],
          [
           "['2♦', 'J♥']"
          ],
          [
           "['2♦', 'K♠']"
          ],
          [
           "['2♦', 'K♣']"
          ],
          [
           "['2♦', 'K♥']"
          ],
          [
           "['2♦', 'Q♠']"
          ],
          [
           "['2♦', 'Q♣']"
          ],
          [
           "['2♦', 'Q♥']"
          ],
          [
           "['3♠', '5♣']"
          ],
          [
           "['3♠', '5♥']"
          ],
          [
           "['3♠', '5♦']"
          ],
          [
           "['3♠', '6♣']"
          ],
          [
           "['3♠', '6♥']"
          ],
          [
           "['3♠', '6♦']"
          ],
          [
           "['3♠', '7♣']"
          ],
          [
           "['3♠', '7♥']"
          ],
          [
           "['3♠', '7♦']"
          ],
          [
           "['3♠', '8♣']"
          ],
          [
           "['3♠', '8♥']"
          ],
          [
           "['3♠', '8♦']"
          ],
          [
           "['3♠', '9♣']"
          ],
          [
           "['3♠', '9♥']"
          ],
          [
           "['3♠', '9♦']"
          ],
          [
           "['3♠', 'A♣']"
          ],
          [
           "['3♠', 'A♥']"
          ],
          [
           "['3♠', 'A♦']"
          ],
          [
           "['3♠', 'J♣']"
          ],
          [
           "['3♠', 'J♥']"
          ],
          [
           "['3♠', 'J♦']"
          ],
          [
           "['3♠', 'K♣']"
          ],
          [
           "['3♠', 'K♥']"
          ],
          [
           "['3♠', 'K♦']"
          ],
          [
           "['3♠', 'Q♣']"
          ],
          [
           "['3♠', 'Q♥']"
          ],
          [
           "['3♠', 'Q♦']"
          ],
          [
           "['3♣', '5♠']"
          ],
          [
           "['3♣', '5♥']"
          ],
          [
           "['3♣', '5♦']"
          ],
          [
           "['3♣', '6♠']"
          ],
          [
           "['3♣', '6♥']"
          ],
          [
           "['3♣', '6♦']"
          ],
          [
           "['3♣', '7♠']"
          ],
          [
           "['3♣', '7♥']"
          ],
          [
           "['3♣', '7♦']"
          ],
          [
           "['3♣', '8♠']"
          ],
          [
           "['3♣', '8♥']"
          ],
          [
           "['3♣', '8♦']"
          ],
          [
           "['3♣', '9♠']"
          ],
          [
           "['3♣', '9♥']"
          ],
          [
           "['3♣', '9♦']"
          ],
          [
           "['3♣', 'A♠']"
          ],
          [
           "['3♣', 'A♥']"
          ],
          [
           "['3♣', 'A♦']"
          ],
          [
           "['3♣', 'J♠']"
          ],
          [
           "['3♣', 'J♥']"
          ],
          [
           "['3♣', 'J♦']"
          ],
          [
           "['3♣', 'K♠']"
          ],
          [
           "['3♣', 'K♥']"
          ],
          [
           "['3♣', 'K♦']"
          ],
          [
           "['3♣', 'Q♠']"
          ],
          [
           "['3♣', 'Q♥']"
          ],
          [
           "['3♣', 'Q♦']"
          ],
          [
           "['3♥', '5♠']"
          ],
          [
           "['3♥', '5♣']"
          ],
          [
           "['3♥', '5♦']"
          ],
          [
           "['3♥', '6♠']"
          ],
          [
           "['3♥', '6♣']"
          ],
          [
           "['3♥', '6♦']"
          ],
          [
           "['3♥', '7♠']"
          ],
          [
           "['3♥', '7♣']"
          ],
          [
           "['3♥', '7♦']"
          ],
          [
           "['3♥', '8♠']"
          ],
          [
           "['3♥', '8♣']"
          ],
          [
           "['3♥', '8♦']"
          ],
          [
           "['3♥', '9♠']"
          ],
          [
           "['3♥', '9♣']"
          ],
          [
           "['3♥', '9♦']"
          ],
          [
           "['3♥', 'A♠']"
          ],
          [
           "['3♥', 'A♣']"
          ],
          [
           "['3♥', 'A♦']"
          ],
          [
           "['3♥', 'J♠']"
          ],
          [
           "['3♥', 'J♣']"
          ],
          [
           "['3♥', 'J♦']"
          ],
          [
           "['3♥', 'K♠']"
          ],
          [
           "['3♥', 'K♣']"
          ],
          [
           "['3♥', 'K♦']"
          ],
          [
           "['3♥', 'Q♠']"
          ],
          [
           "['3♥', 'Q♣']"
          ],
          [
           "['3♥', 'Q♦']"
          ],
          [
           "['3♦', '5♠']"
          ],
          [
           "['3♦', '5♣']"
          ],
          [
           "['3♦', '5♥']"
          ],
          [
           "['3♦', '6♠']"
          ],
          [
           "['3♦', '6♣']"
          ],
          [
           "['3♦', '6♥']"
          ],
          [
           "['3♦', '7♠']"
          ],
          [
           "['3♦', '7♣']"
          ],
          [
           "['3♦', '7♥']"
          ],
          [
           "['3♦', '8♠']"
          ],
          [
           "['3♦', '8♣']"
          ],
          [
           "['3♦', '8♥']"
          ],
          [
           "['3♦', '9♠']"
          ],
          [
           "['3♦', '9♣']"
          ],
          [
           "['3♦', '9♥']"
          ],
          [
           "['3♦', 'A♠']"
          ],
          [
           "['3♦', 'A♣']"
          ],
          [
           "['3♦', 'A♥']"
          ],
          [
           "['3♦', 'J♠']"
          ],
          [
           "['3♦', 'J♣']"
          ],
          [
           "['3♦', 'J♥']"
          ],
          [
           "['3♦', 'K♠']"
          ],
          [
           "['3♦', 'K♣']"
          ],
          [
           "['3♦', 'K♥']"
          ],
          [
           "['3♦', 'Q♠']"
          ],
          [
           "['3♦', 'Q♣']"
          ],
          [
           "['3♦', 'Q♥']"
          ],
          [
           "['4♠', '6♣']"
          ],
          [
           "['4♠', '6♥']"
          ],
          [
           "['4♠', '6♦']"
          ],
          [
           "['4♠', '7♣']"
          ],
          [
           "['4♠', '7♥']"
          ],
          [
           "['4♠', '7♦']"
          ],
          [
           "['4♠', '8♣']"
          ],
          [
           "['4♠', '8♥']"
          ],
          [
           "['4♠', '8♦']"
          ],
          [
           "['4♠', '9♣']"
          ],
          [
           "['4♠', '9♥']"
          ],
          [
           "['4♠', '9♦']"
          ],
          [
           "['4♠', 'A♣']"
          ],
          [
           "['4♠', 'A♥']"
          ],
          [
           "['4♠', 'A♦']"
          ],
          [
           "['4♠', 'J♣']"
          ],
          [
           "['4♠', 'J♥']"
          ],
          [
           "['4♠', 'J♦']"
          ],
          [
           "['4♠', 'K♣']"
          ],
          [
           "['4♠', 'K♥']"
          ],
          [
           "['4♠', 'K♦']"
          ],
          [
           "['4♠', 'Q♣']"
          ],
          [
           "['4♠', 'Q♥']"
          ],
          [
           "['4♠', 'Q♦']"
          ],
          [
           "['4♣', '6♠']"
          ],
          [
           "['4♣', '6♥']"
          ],
          [
           "['4♣', '6♦']"
          ],
          [
           "['4♣', '7♠']"
          ],
          [
           "['4♣', '7♥']"
          ],
          [
           "['4♣', '7♦']"
          ],
          [
           "['4♣', '8♠']"
          ],
          [
           "['4♣', '8♥']"
          ],
          [
           "['4♣', '8♦']"
          ],
          [
           "['4♣', '9♠']"
          ],
          [
           "['4♣', '9♥']"
          ],
          [
           "['4♣', '9♦']"
          ],
          [
           "['4♣', 'A♠']"
          ],
          [
           "['4♣', 'A♥']"
          ],
          [
           "['4♣', 'A♦']"
          ],
          [
           "['4♣', 'J♠']"
          ],
          [
           "['4♣', 'J♥']"
          ],
          [
           "['4♣', 'J♦']"
          ],
          [
           "['4♣', 'K♠']"
          ],
          [
           "['4♣', 'K♥']"
          ],
          [
           "['4♣', 'K♦']"
          ],
          [
           "['4♣', 'Q♠']"
          ],
          [
           "['4♣', 'Q♥']"
          ],
          [
           "['4♣', 'Q♦']"
          ],
          [
           "['4♥', '6♠']"
          ],
          [
           "['4♥', '6♣']"
          ],
          [
           "['4♥', '6♦']"
          ],
          [
           "['4♥', '7♠']"
          ],
          [
           "['4♥', '7♣']"
          ],
          [
           "['4♥', '7♦']"
          ],
          [
           "['4♥', '8♠']"
          ],
          [
           "['4♥', '8♣']"
          ],
          [
           "['4♥', '8♦']"
          ],
          [
           "['4♥', '9♠']"
          ],
          [
           "['4♥', '9♣']"
          ],
          [
           "['4♥', '9♦']"
          ],
          [
           "['4♥', 'A♠']"
          ],
          [
           "['4♥', 'A♣']"
          ],
          [
           "['4♥', 'A♦']"
          ],
          [
           "['4♥', 'J♠']"
          ],
          [
           "['4♥', 'J♣']"
          ],
          [
           "['4♥', 'J♦']"
          ],
          [
           "['4♥', 'K♠']"
          ],
          [
           "['4♥', 'K♣']"
          ],
          [
           "['4♥', 'K♦']"
          ],
          [
           "['4♥', 'Q♠']"
          ],
          [
           "['4♥', 'Q♣']"
          ],
          [
           "['4♥', 'Q♦']"
          ],
          [
           "['4♦', '6♠']"
          ],
          [
           "['4♦', '6♣']"
          ],
          [
           "['4♦', '6♥']"
          ],
          [
           "['4♦', '7♠']"
          ],
          [
           "['4♦', '7♣']"
          ],
          [
           "['4♦', '7♥']"
          ],
          [
           "['4♦', '8♠']"
          ],
          [
           "['4♦', '8♣']"
          ],
          [
           "['4♦', '8♥']"
          ],
          [
           "['4♦', '9♠']"
          ],
          [
           "['4♦', '9♣']"
          ],
          [
           "['4♦', '9♥']"
          ],
          [
           "['4♦', 'A♠']"
          ],
          [
           "['4♦', 'A♣']"
          ],
          [
           "['4♦', 'A♥']"
          ],
          [
           "['4♦', 'J♠']"
          ],
          [
           "['4♦', 'J♣']"
          ],
          [
           "['4♦', 'J♥']"
          ],
          [
           "['4♦', 'K♠']"
          ],
          [
           "['4♦', 'K♣']"
          ],
          [
           "['4♦', 'K♥']"
          ],
          [
           "['4♦', 'Q♠']"
          ],
          [
           "['4♦', 'Q♣']"
          ],
          [
           "['4♦', 'Q♥']"
          ],
          [
           "['5♠', '7♣']"
          ],
          [
           "['5♠', '7♥']"
          ],
          [
           "['5♠', '7♦']"
          ],
          [
           "['5♠', '8♣']"
          ],
          [
           "['5♠', '8♥']"
          ],
          [
           "['5♠', '8♦']"
          ],
          [
           "['5♠', '9♣']"
          ],
          [
           "['5♠', '9♥']"
          ],
          [
           "['5♠', '9♦']"
          ],
          [
           "['5♠', 'A♣']"
          ],
          [
           "['5♠', 'A♥']"
          ],
          [
           "['5♠', 'A♦']"
          ],
          [
           "['5♠', 'J♣']"
          ],
          [
           "['5♠', 'J♥']"
          ],
          [
           "['5♠', 'J♦']"
          ],
          [
           "['5♠', 'K♣']"
          ],
          [
           "['5♠', 'K♥']"
          ],
          [
           "['5♠', 'K♦']"
          ],
          [
           "['5♠', 'Q♣']"
          ],
          [
           "['5♠', 'Q♥']"
          ],
          [
           "['5♠', 'Q♦']"
          ],
          [
           "['5♣', '7♠']"
          ],
          [
           "['5♣', '7♥']"
          ],
          [
           "['5♣', '7♦']"
          ],
          [
           "['5♣', '8♠']"
          ],
          [
           "['5♣', '8♥']"
          ],
          [
           "['5♣', '8♦']"
          ],
          [
           "['5♣', '9♠']"
          ],
          [
           "['5♣', '9♥']"
          ],
          [
           "['5♣', '9♦']"
          ],
          [
           "['5♣', 'A♠']"
          ],
          [
           "['5♣', 'A♥']"
          ],
          [
           "['5♣', 'A♦']"
          ],
          [
           "['5♣', 'J♠']"
          ],
          [
           "['5♣', 'J♥']"
          ],
          [
           "['5♣', 'J♦']"
          ],
          [
           "['5♣', 'K♠']"
          ],
          [
           "['5♣', 'K♥']"
          ],
          [
           "['5♣', 'K♦']"
          ],
          [
           "['5♣', 'Q♠']"
          ],
          [
           "['5♣', 'Q♥']"
          ],
          [
           "['5♣', 'Q♦']"
          ],
          [
           "['5♥', '7♠']"
          ],
          [
           "['5♥', '7♣']"
          ],
          [
           "['5♥', '7♦']"
          ],
          [
           "['5♥', '8♠']"
          ],
          [
           "['5♥', '8♣']"
          ],
          [
           "['5♥', '8♦']"
          ],
          [
           "['5♥', '9♠']"
          ],
          [
           "['5♥', '9♣']"
          ],
          [
           "['5♥', '9♦']"
          ],
          [
           "['5♥', 'A♠']"
          ],
          [
           "['5♥', 'A♣']"
          ],
          [
           "['5♥', 'A♦']"
          ],
          [
           "['5♥', 'J♠']"
          ],
          [
           "['5♥', 'J♣']"
          ],
          [
           "['5♥', 'J♦']"
          ],
          [
           "['5♥', 'K♠']"
          ],
          [
           "['5♥', 'K♣']"
          ],
          [
           "['5♥', 'K♦']"
          ],
          [
           "['5♥', 'Q♠']"
          ],
          [
           "['5♥', 'Q♣']"
          ],
          [
           "['5♥', 'Q♦']"
          ],
          [
           "['5♦', '7♠']"
          ],
          [
           "['5♦', '7♣']"
          ],
          [
           "['5♦', '7♥']"
          ],
          [
           "['5♦', '8♠']"
          ],
          [
           "['5♦', '8♣']"
          ],
          [
           "['5♦', '8♥']"
          ],
          [
           "['5♦', '9♠']"
          ],
          [
           "['5♦', '9♣']"
          ],
          [
           "['5♦', '9♥']"
          ],
          [
           "['5♦', 'A♠']"
          ],
          [
           "['5♦', 'A♣']"
          ],
          [
           "['5♦', 'A♥']"
          ],
          [
           "['5♦', 'J♠']"
          ],
          [
           "['5♦', 'J♣']"
          ],
          [
           "['5♦', 'J♥']"
          ],
          [
           "['5♦', 'K♠']"
          ],
          [
           "['5♦', 'K♣']"
          ],
          [
           "['5♦', 'K♥']"
          ],
          [
           "['5♦', 'Q♠']"
          ],
          [
           "['5♦', 'Q♣']"
          ],
          [
           "['5♦', 'Q♥']"
          ],
          [
           "['6♠', '8♣']"
          ],
          [
           "['6♠', '8♥']"
          ],
          [
           "['6♠', '8♦']"
          ],
          [
           "['6♠', '9♣']"
          ],
          [
           "['6♠', '9♥']"
          ],
          [
           "['6♠', '9♦']"
          ],
          [
           "['6♠', 'A♣']"
          ],
          [
           "['6♠', 'A♥']"
          ],
          [
           "['6♠', 'A♦']"
          ],
          [
           "['6♠', 'J♣']"
          ],
          [
           "['6♠', 'J♥']"
          ],
          [
           "['6♠', 'J♦']"
          ],
          [
           "['6♠', 'K♣']"
          ],
          [
           "['6♠', 'K♥']"
          ],
          [
           "['6♠', 'K♦']"
          ],
          [
           "['6♠', 'Q♣']"
          ],
          [
           "['6♠', 'Q♥']"
          ],
          [
           "['6♠', 'Q♦']"
          ],
          [
           "['6♣', '8♠']"
          ],
          [
           "['6♣', '8♥']"
          ],
          [
           "['6♣', '8♦']"
          ],
          [
           "['6♣', '9♠']"
          ],
          [
           "['6♣', '9♥']"
          ],
          [
           "['6♣', '9♦']"
          ],
          [
           "['6♣', 'A♠']"
          ],
          [
           "['6♣', 'A♥']"
          ],
          [
           "['6♣', 'A♦']"
          ],
          [
           "['6♣', 'J♠']"
          ],
          [
           "['6♣', 'J♥']"
          ],
          [
           "['6♣', 'J♦']"
          ],
          [
           "['6♣', 'K♠']"
          ],
          [
           "['6♣', 'K♥']"
          ],
          [
           "['6♣', 'K♦']"
          ],
          [
           "['6♣', 'Q♠']"
          ],
          [
           "['6♣', 'Q♥']"
          ],
          [
           "['6♣', 'Q♦']"
          ],
          [
           "['6♥', '8♠']"
          ],
          [
           "['6♥', '8♣']"
          ],
          [
           "['6♥', '8♦']"
          ],
          [
           "['6♥', '9♠']"
          ],
          [
           "['6♥', '9♣']"
          ],
          [
           "['6♥', '9♦']"
          ],
          [
           "['6♥', 'A♠']"
          ],
          [
           "['6♥', 'A♣']"
          ],
          [
           "['6♥', 'A♦']"
          ],
          [
           "['6♥', 'J♠']"
          ],
          [
           "['6♥', 'J♣']"
          ],
          [
           "['6♥', 'J♦']"
          ],
          [
           "['6♥', 'K♠']"
          ],
          [
           "['6♥', 'K♣']"
          ],
          [
           "['6♥', 'K♦']"
          ],
          [
           "['6♥', 'Q♠']"
          ],
          [
           "['6♥', 'Q♣']"
          ],
          [
           "['6♥', 'Q♦']"
          ],
          [
           "['6♦', '8♠']"
          ],
          [
           "['6♦', '8♣']"
          ],
          [
           "['6♦', '8♥']"
          ],
          [
           "['6♦', '9♠']"
          ],
          [
           "['6♦', '9♣']"
          ],
          [
           "['6♦', '9♥']"
          ],
          [
           "['6♦', 'A♠']"
          ],
          [
           "['6♦', 'A♣']"
          ],
          [
           "['6♦', 'A♥']"
          ],
          [
           "['6♦', 'J♠']"
          ],
          [
           "['6♦', 'J♣']"
          ],
          [
           "['6♦', 'J♥']"
          ],
          [
           "['6♦', 'K♠']"
          ],
          [
           "['6♦', 'K♣']"
          ],
          [
           "['6♦', 'K♥']"
          ],
          [
           "['6♦', 'Q♠']"
          ],
          [
           "['6♦', 'Q♣']"
          ],
          [
           "['6♦', 'Q♥']"
          ],
          [
           "['7♠', '9♣']"
          ],
          [
           "['7♠', '9♥']"
          ],
          [
           "['7♠', '9♦']"
          ],
          [
           "['7♠', 'A♣']"
          ],
          [
           "['7♠', 'A♥']"
          ],
          [
           "['7♠', 'A♦']"
          ],
          [
           "['7♠', 'J♣']"
          ],
          [
           "['7♠', 'J♥']"
          ],
          [
           "['7♠', 'J♦']"
          ],
          [
           "['7♠', 'K♣']"
          ],
          [
           "['7♠', 'K♥']"
          ],
          [
           "['7♠', 'K♦']"
          ],
          [
           "['7♠', 'Q♣']"
          ],
          [
           "['7♠', 'Q♥']"
          ],
          [
           "['7♠', 'Q♦']"
          ],
          [
           "['7♣', '9♠']"
          ],
          [
           "['7♣', '9♥']"
          ],
          [
           "['7♣', '9♦']"
          ],
          [
           "['7♣', 'A♠']"
          ],
          [
           "['7♣', 'A♥']"
          ],
          [
           "['7♣', 'A♦']"
          ],
          [
           "['7♣', 'J♠']"
          ],
          [
           "['7♣', 'J♥']"
          ],
          [
           "['7♣', 'J♦']"
          ],
          [
           "['7♣', 'K♠']"
          ],
          [
           "['7♣', 'K♥']"
          ],
          [
           "['7♣', 'K♦']"
          ],
          [
           "['7♣', 'Q♠']"
          ],
          [
           "['7♣', 'Q♥']"
          ],
          [
           "['7♣', 'Q♦']"
          ],
          [
           "['7♥', '9♠']"
          ],
          [
           "['7♥', '9♣']"
          ],
          [
           "['7♥', '9♦']"
          ],
          [
           "['7♥', 'A♠']"
          ],
          [
           "['7♥', 'A♣']"
          ],
          [
           "['7♥', 'A♦']"
          ],
          [
           "['7♥', 'J♠']"
          ],
          [
           "['7♥', 'J♣']"
          ],
          [
           "['7♥', 'J♦']"
          ],
          [
           "['7♥', 'K♠']"
          ],
          [
           "['7♥', 'K♣']"
          ],
          [
           "['7♥', 'K♦']"
          ],
          [
           "['7♥', 'Q♠']"
          ],
          [
           "['7♥', 'Q♣']"
          ],
          [
           "['7♥', 'Q♦']"
          ],
          [
           "['7♦', '9♠']"
          ],
          [
           "['7♦', '9♣']"
          ],
          [
           "['7♦', '9♥']"
          ],
          [
           "['7♦', 'A♠']"
          ],
          [
           "['7♦', 'A♣']"
          ],
          [
           "['7♦', 'A♥']"
          ],
          [
           "['7♦', 'J♠']"
          ],
          [
           "['7♦', 'J♣']"
          ],
          [
           "['7♦', 'J♥']"
          ],
          [
           "['7♦', 'K♠']"
          ],
          [
           "['7♦', 'K♣']"
          ],
          [
           "['7♦', 'K♥']"
          ],
          [
           "['7♦', 'Q♠']"
          ],
          [
           "['7♦', 'Q♣']"
          ],
          [
           "['7♦', 'Q♥']"
          ],
          [
           "['8♠', 'A♣']"
          ],
          [
           "['8♠', 'A♥']"
          ],
          [
           "['8♠', 'A♦']"
          ],
          [
           "['8♠', 'J♣']"
          ],
          [
           "['8♠', 'J♥']"
          ],
          [
           "['8♠', 'J♦']"
          ],
          [
           "['8♠', 'K♣']"
          ],
          [
           "['8♠', 'K♥']"
          ],
          [
           "['8♠', 'K♦']"
          ],
          [
           "['8♠', 'Q♣']"
          ],
          [
           "['8♠', 'Q♥']"
          ],
          [
           "['8♠', 'Q♦']"
          ],
          [
           "['8♣', 'A♠']"
          ],
          [
           "['8♣', 'A♥']"
          ],
          [
           "['8♣', 'A♦']"
          ],
          [
           "['8♣', 'J♠']"
          ],
          [
           "['8♣', 'J♥']"
          ],
          [
           "['8♣', 'J♦']"
          ],
          [
           "['8♣', 'K♠']"
          ],
          [
           "['8♣', 'K♥']"
          ],
          [
           "['8♣', 'K♦']"
          ],
          [
           "['8♣', 'Q♠']"
          ],
          [
           "['8♣', 'Q♥']"
          ],
          [
           "['8♣', 'Q♦']"
          ],
          [
           "['8♥', 'A♠']"
          ],
          [
           "['8♥', 'A♣']"
          ],
          [
           "['8♥', 'A♦']"
          ],
          [
           "['8♥', 'J♠']"
          ],
          [
           "['8♥', 'J♣']"
          ],
          [
           "['8♥', 'J♦']"
          ],
          [
           "['8♥', 'K♠']"
          ],
          [
           "['8♥', 'K♣']"
          ],
          [
           "['8♥', 'K♦']"
          ],
          [
           "['8♥', 'Q♠']"
          ],
          [
           "['8♥', 'Q♣']"
          ],
          [
           "['8♥', 'Q♦']"
          ],
          [
           "['8♦', 'A♠']"
          ],
          [
           "['8♦', 'A♣']"
          ],
          [
           "['8♦', 'A♥']"
          ],
          [
           "['8♦', 'J♠']"
          ],
          [
           "['8♦', 'J♣']"
          ],
          [
           "['8♦', 'J♥']"
          ],
          [
           "['8♦', 'K♠']"
          ],
          [
           "['8♦', 'K♣']"
          ],
          [
           "['8♦', 'K♥']"
          ],
          [
           "['8♦', 'Q♠']"
          ],
          [
           "['8♦', 'Q♣']"
          ],
          [
           "['8♦', 'Q♥']"
          ],
          [
           "['9♠', 'A♣']"
          ],
          [
           "['9♠', 'A♥']"
          ],
          [
           "['9♠', 'A♦']"
          ],
          [
           "['9♠', 'J♣']"
          ],
          [
           "['9♠', 'J♥']"
          ],
          [
           "['9♠', 'J♦']"
          ],
          [
           "['9♠', 'K♣']"
          ],
          [
           "['9♠', 'K♥']"
          ],
          [
           "['9♠', 'K♦']"
          ],
          [
           "['9♠', 'Q♣']"
          ],
          [
           "['9♠', 'Q♥']"
          ],
          [
           "['9♠', 'Q♦']"
          ],
          [
           "['9♣', 'A♠']"
          ],
          [
           "['9♣', 'A♥']"
          ],
          [
           "['9♣', 'A♦']"
          ],
          [
           "['9♣', 'J♠']"
          ],
          [
           "['9♣', 'J♥']"
          ],
          [
           "['9♣', 'J♦']"
          ],
          [
           "['9♣', 'K♠']"
          ],
          [
           "['9♣', 'K♥']"
          ],
          [
           "['9♣', 'K♦']"
          ],
          [
           "['9♣', 'Q♠']"
          ],
          [
           "['9♣', 'Q♥']"
          ],
          [
           "['9♣', 'Q♦']"
          ],
          [
           "['9♥', 'A♠']"
          ],
          [
           "['9♥', 'A♣']"
          ],
          [
           "['9♥', 'A♦']"
          ],
          [
           "['9♥', 'J♠']"
          ],
          [
           "['9♥', 'J♣']"
          ],
          [
           "['9♥', 'J♦']"
          ],
          [
           "['9♥', 'K♠']"
          ],
          [
           "['9♥', 'K♣']"
          ],
          [
           "['9♥', 'K♦']"
          ],
          [
           "['9♥', 'Q♠']"
          ],
          [
           "['9♥', 'Q♣']"
          ],
          [
           "['9♥', 'Q♦']"
          ],
          [
           "['9♦', 'A♠']"
          ],
          [
           "['9♦', 'A♣']"
          ],
          [
           "['9♦', 'A♥']"
          ],
          [
           "['9♦', 'J♠']"
          ],
          [
           "['9♦', 'J♣']"
          ],
          [
           "['9♦', 'J♥']"
          ],
          [
           "['9♦', 'K♠']"
          ],
          [
           "['9♦', 'K♣']"
          ],
          [
           "['9♦', 'K♥']"
          ],
          [
           "['9♦', 'Q♠']"
          ],
          [
           "['9♦', 'Q♣']"
          ],
          [
           "['9♦', 'Q♥']"
          ],
          [
           "['A♠', 'J♣']"
          ],
          [
           "['A♠', 'J♥']"
          ],
          [
           "['A♠', 'J♦']"
          ],
          [
           "['A♠', 'Q♣']"
          ],
          [
           "['A♠', 'Q♥']"
          ],
          [
           "['A♠', 'Q♦']"
          ],
          [
           "['A♣', 'J♠']"
          ],
          [
           "['A♣', 'J♥']"
          ],
          [
           "['A♣', 'J♦']"
          ],
          [
           "['A♣', 'Q♠']"
          ],
          [
           "['A♣', 'Q♥']"
          ],
          [
           "['A♣', 'Q♦']"
          ],
          [
           "['A♥', 'J♠']"
          ],
          [
           "['A♥', 'J♣']"
          ],
          [
           "['A♥', 'J♦']"
          ],
          [
           "['A♥', 'Q♠']"
          ],
          [
           "['A♥', 'Q♣']"
          ],
          [
           "['A♥', 'Q♦']"
          ],
          [
           "['A♦', 'J♠']"
          ],
          [
           "['A♦', 'J♣']"
          ],
          [
           "['A♦', 'J♥']"
          ],
          [
           "['A♦', 'Q♠']"
          ],
          [
           "['A♦', 'Q♣']"
          ],
          [
           "['A♦', 'Q♥']"
          ],
          [
           "['J♠', 'K♣']"
          ],
          [
           "['J♠', 'K♥']"
          ],
          [
           "['J♠', 'K♦']"
          ],
          [
           "['J♣', 'K♠']"
          ],
          [
           "['J♣', 'K♥']"
          ],
          [
           "['J♣', 'K♦']"
          ],
          [
           "['J♥', 'K♠']"
          ],
          [
           "['J♥', 'K♣']"
          ],
          [
           "['J♥', 'K♦']"
          ],
          [
           "['J♦', 'K♠']"
          ],
          [
           "['J♦', 'K♣']"
          ],
          [
           "['J♦', 'K♥']"
          ]
         ],
         "hovertemplate": "Categoría=Cartas Distintas Offsuit<br>Fuerza de la Mano=%{x}<br>Porcentaje de Victoria=%{y:.2f}<br>Cartas=%{customdata[0]}<extra></extra>",
         "legendgroup": "Cartas Distintas Offsuit",
         "marker": {
          "color": "orange",
          "line": {
           "color": "DarkSlateGrey",
           "width": 1
          },
          "opacity": 0.8,
          "size": 8,
          "symbol": "circle"
         },
         "mode": "markers",
         "name": "Cartas Distintas Offsuit",
         "showlegend": true,
         "type": "scattergl",
         "x": [
          12,
          12,
          12,
          13,
          13,
          13,
          14,
          14,
          14,
          15,
          15,
          15,
          16,
          16,
          16,
          17,
          17,
          17,
          18,
          18,
          18,
          24,
          24,
          24,
          23,
          23,
          23,
          22,
          22,
          22,
          12,
          12,
          12,
          13,
          13,
          13,
          14,
          14,
          14,
          15,
          15,
          15,
          16,
          16,
          16,
          17,
          17,
          17,
          18,
          18,
          18,
          24,
          24,
          24,
          23,
          23,
          23,
          22,
          22,
          22,
          12,
          12,
          12,
          13,
          13,
          13,
          14,
          14,
          14,
          15,
          15,
          15,
          16,
          16,
          16,
          17,
          17,
          17,
          18,
          18,
          18,
          24,
          24,
          24,
          23,
          23,
          23,
          22,
          22,
          22,
          12,
          12,
          12,
          13,
          13,
          13,
          14,
          14,
          14,
          15,
          15,
          15,
          16,
          16,
          16,
          17,
          17,
          17,
          18,
          18,
          18,
          24,
          24,
          24,
          23,
          23,
          23,
          22,
          22,
          22,
          6,
          6,
          6,
          7,
          7,
          7,
          8,
          8,
          8,
          9,
          9,
          9,
          10,
          10,
          10,
          11,
          11,
          11,
          16,
          16,
          16,
          13,
          13,
          13,
          15,
          15,
          15,
          14,
          14,
          14,
          6,
          6,
          6,
          7,
          7,
          7,
          8,
          8,
          8,
          9,
          9,
          9,
          10,
          10,
          10,
          11,
          11,
          11,
          16,
          16,
          16,
          13,
          13,
          13,
          15,
          15,
          15,
          14,
          14,
          14,
          6,
          6,
          6,
          7,
          7,
          7,
          8,
          8,
          8,
          9,
          9,
          9,
          10,
          10,
          10,
          11,
          11,
          11,
          16,
          16,
          16,
          13,
          13,
          13,
          15,
          15,
          15,
          14,
          14,
          14,
          6,
          6,
          6,
          7,
          7,
          7,
          8,
          8,
          8,
          9,
          9,
          9,
          10,
          10,
          10,
          11,
          11,
          11,
          16,
          16,
          16,
          13,
          13,
          13,
          15,
          15,
          15,
          14,
          14,
          14,
          8,
          8,
          8,
          9,
          9,
          9,
          10,
          10,
          10,
          11,
          11,
          11,
          12,
          12,
          12,
          17,
          17,
          17,
          14,
          14,
          14,
          16,
          16,
          16,
          15,
          15,
          15,
          8,
          8,
          8,
          9,
          9,
          9,
          10,
          10,
          10,
          11,
          11,
          11,
          12,
          12,
          12,
          17,
          17,
          17,
          14,
          14,
          14,
          16,
          16,
          16,
          15,
          15,
          15,
          8,
          8,
          8,
          9,
          9,
          9,
          10,
          10,
          10,
          11,
          11,
          11,
          12,
          12,
          12,
          17,
          17,
          17,
          14,
          14,
          14,
          16,
          16,
          16,
          15,
          15,
          15,
          8,
          8,
          8,
          9,
          9,
          9,
          10,
          10,
          10,
          11,
          11,
          11,
          12,
          12,
          12,
          17,
          17,
          17,
          14,
          14,
          14,
          16,
          16,
          16,
          15,
          15,
          15,
          10,
          10,
          10,
          11,
          11,
          11,
          12,
          12,
          12,
          13,
          13,
          13,
          18,
          18,
          18,
          15,
          15,
          15,
          17,
          17,
          17,
          16,
          16,
          16,
          10,
          10,
          10,
          11,
          11,
          11,
          12,
          12,
          12,
          13,
          13,
          13,
          18,
          18,
          18,
          15,
          15,
          15,
          17,
          17,
          17,
          16,
          16,
          16,
          10,
          10,
          10,
          11,
          11,
          11,
          12,
          12,
          12,
          13,
          13,
          13,
          18,
          18,
          18,
          15,
          15,
          15,
          17,
          17,
          17,
          16,
          16,
          16,
          10,
          10,
          10,
          11,
          11,
          11,
          12,
          12,
          12,
          13,
          13,
          13,
          18,
          18,
          18,
          15,
          15,
          15,
          17,
          17,
          17,
          16,
          16,
          16,
          12,
          12,
          12,
          13,
          13,
          13,
          14,
          14,
          14,
          19,
          19,
          19,
          16,
          16,
          16,
          18,
          18,
          18,
          17,
          17,
          17,
          12,
          12,
          12,
          13,
          13,
          13,
          14,
          14,
          14,
          19,
          19,
          19,
          16,
          16,
          16,
          18,
          18,
          18,
          17,
          17,
          17,
          12,
          12,
          12,
          13,
          13,
          13,
          14,
          14,
          14,
          19,
          19,
          19,
          16,
          16,
          16,
          18,
          18,
          18,
          17,
          17,
          17,
          12,
          12,
          12,
          13,
          13,
          13,
          14,
          14,
          14,
          19,
          19,
          19,
          16,
          16,
          16,
          18,
          18,
          18,
          17,
          17,
          17,
          14,
          14,
          14,
          15,
          15,
          15,
          20,
          20,
          20,
          17,
          17,
          17,
          19,
          19,
          19,
          18,
          18,
          18,
          14,
          14,
          14,
          15,
          15,
          15,
          20,
          20,
          20,
          17,
          17,
          17,
          19,
          19,
          19,
          18,
          18,
          18,
          14,
          14,
          14,
          15,
          15,
          15,
          20,
          20,
          20,
          17,
          17,
          17,
          19,
          19,
          19,
          18,
          18,
          18,
          14,
          14,
          14,
          15,
          15,
          15,
          20,
          20,
          20,
          17,
          17,
          17,
          19,
          19,
          19,
          18,
          18,
          18,
          16,
          16,
          16,
          21,
          21,
          21,
          18,
          18,
          18,
          20,
          20,
          20,
          19,
          19,
          19,
          16,
          16,
          16,
          21,
          21,
          21,
          18,
          18,
          18,
          20,
          20,
          20,
          19,
          19,
          19,
          16,
          16,
          16,
          21,
          21,
          21,
          18,
          18,
          18,
          20,
          20,
          20,
          19,
          19,
          19,
          16,
          16,
          16,
          21,
          21,
          21,
          18,
          18,
          18,
          20,
          20,
          20,
          19,
          19,
          19,
          22,
          22,
          22,
          19,
          19,
          19,
          21,
          21,
          21,
          20,
          20,
          20,
          22,
          22,
          22,
          19,
          19,
          19,
          21,
          21,
          21,
          20,
          20,
          20,
          22,
          22,
          22,
          19,
          19,
          19,
          21,
          21,
          21,
          20,
          20,
          20,
          22,
          22,
          22,
          19,
          19,
          19,
          21,
          21,
          21,
          20,
          20,
          20,
          23,
          23,
          23,
          20,
          20,
          20,
          22,
          22,
          22,
          21,
          21,
          21,
          23,
          23,
          23,
          20,
          20,
          20,
          22,
          22,
          22,
          21,
          21,
          21,
          23,
          23,
          23,
          20,
          20,
          20,
          22,
          22,
          22,
          21,
          21,
          21,
          23,
          23,
          23,
          20,
          20,
          20,
          22,
          22,
          22,
          21,
          21,
          21,
          25,
          25,
          25,
          26,
          26,
          26,
          25,
          25,
          25,
          26,
          26,
          26,
          25,
          25,
          25,
          26,
          26,
          26,
          25,
          25,
          25,
          26,
          26,
          26,
          24,
          24,
          24,
          24,
          24,
          24,
          24,
          24,
          24,
          24,
          24,
          24
         ],
         "xaxis": "x",
         "y": [
          13.376623376623375,
          15.03957783641161,
          14.359637774902975,
          15.334207077326342,
          14.733969986357435,
          13.93103448275862,
          16.603295310519645,
          16.191709844559586,
          16.939890710382514,
          14.614343707713125,
          15.616438356164384,
          18.121693121693124,
          15.582655826558264,
          17.59036144578313,
          17.294281729428175,
          18.733850129198967,
          17.73049645390071,
          18.75,
          17.433751743375176,
          19.492656875834445,
          20.358514724711906,
          32.44325767690254,
          34.75533249686324,
          33.19444444444444,
          25.236167341430498,
          30.140485312899106,
          26.34338138925295,
          24.187256176853055,
          22.996057818659658,
          22.128851540616246,
          16.0427807486631,
          15.710382513661203,
          14.18918918918919,
          15.74074074074074,
          13.962765957446807,
          15.678524374176547,
          15.258855585831062,
          14.947089947089948,
          14.397905759162304,
          15.018773466833544,
          15.98951507208388,
          13.204951856946353,
          15.456989247311828,
          19.808743169398905,
          21.012658227848103,
          17.79310344827586,
          19.429347826086957,
          16.644295302013422,
          22.432432432432435,
          19.24629878869448,
          18.239795918367346,
          29.625,
          31.00558659217877,
          29.59889349930844,
          27.443105756358772,
          28.607918263090674,
          27.29766803840878,
          24.967658473479947,
          25.45691906005222,
          24.475524475524477,
          13.20754716981132,
          15.240641711229946,
          13.520749665327978,
          16.43312101910828,
          15.538847117794486,
          15.514809590973202,
          14.766839378238341,
          16.040100250626566,
          14.814814814814813,
          16.689098250336475,
          14.475431606905712,
          15.501905972045742,
          16.149068322981368,
          16.281895504252734,
          13.865546218487395,
          17.12846347607053,
          15.612382234185734,
          19.054054054054053,
          21.701602959309493,
          20.998719590268884,
          17.84338896020539,
          33.10533515731874,
          35.90425531914894,
          30.362116991643457,
          29.06208718626156,
          29.419354838709676,
          29.799426934097422,
          26.052631578947366,
          24.20907840440165,
          24.57293035479632,
          13.604488078541374,
          15.527950310559005,
          17.564102564102562,
          17.05963938973648,
          15.903307888040713,
          14.513981358189081,
          15.968586387434556,
          14.45945945945946,
          15.609137055837563,
          15.151515151515152,
          14.725568942436412,
          15.471167369901547,
          16.9811320754717,
          16.901408450704224,
          14.774281805745554,
          17.588652482269502,
          17.812061711079945,
          16.373477672530445,
          19.735099337748345,
          21.75032175032175,
          22.94871794871795,
          32.005312084993356,
          30.22670025188917,
          32.0659062103929,
          27.476882430647294,
          29.931972789115648,
          29.213483146067414,
          26.76962676962677,
          24.20907840440165,
          23.243933588761177,
          14.172185430463577,
          14.190093708165996,
          13.597033374536466,
          13.430851063829788,
          15,
          15.64102564102564,
          12.941176470588237,
          12.96043656207367,
          11.239193083573488,
          10.5,
          12.6514131897712,
          13.392857142857142,
          13.324175824175825,
          12.933333333333334,
          10.597826086956522,
          12.597402597402596,
          12.397820163487738,
          11.796982167352537,
          30.05050505050505,
          29.301075268817208,
          28.934010152284262,
          17.894736842105264,
          17.934782608695652,
          16.209150326797385,
          20.188425302826378,
          19.47019867549669,
          20.603674540682416,
          17.988668555240793,
          19.94750656167979,
          18.55146124523507,
          13.744740532959327,
          14.190093708165996,
          12.939698492462313,
          13.83399209486166,
          11.809045226130653,
          13.930348258706468,
          12.6514131897712,
          10.897435897435898,
          12.283236994219653,
          11.139240506329113,
          12.875536480686694,
          8.152866242038217,
          12.631578947368421,
          12.105926860025221,
          12.941176470588237,
          14.265927977839334,
          13.770053475935828,
          12.129032258064516,
          30.15006821282401,
          29.880478087649404,
          30.08241758241758,
          14.524421593830333,
          15.517241379310345,
          16.182572614107883,
          21.548387096774192,
          18.96551724137931,
          22.193877551020407,
          19.240837696335078,
          18.181818181818183,
          16.61676646706587,
          13.896457765667575,
          11.067193675889328,
          13.164893617021276,
          13.458950201884253,
          12.05298013245033,
          12.972972972972974,
          10.70528967254408,
          11.604938271604938,
          11.89488243430152,
          11.866859623733719,
          11.757269279393173,
          11.328125,
          11.421319796954315,
          12.61744966442953,
          14.698162729658792,
          13.950276243093922,
          13.738441215323647,
          12.23922114047288,
          29.133858267716533,
          26.83578104138852,
          26.400000000000002,
          15.446071904127828,
          17.817679558011047,
          15.96958174904943,
          23.75,
          22.902796271637815,
          22.015915119363395,
          21.532364597093792,
          18.704156479217605,
          20.18716577540107,
          13.385826771653544,
          12.43455497382199,
          12.084993359893758,
          13.654618473895583,
          12.677878395860285,
          15.208613728129205,
          11.140235910878113,
          11.25,
          13.0374479889043,
          12.449255751014885,
          10.807291666666668,
          11.677852348993287,
          10.136986301369863,
          13.270777479892763,
          12.466124661246612,
          14.663143989431967,
          13.421052631578947,
          15.027322404371585,
          30.45751633986928,
          30.598958333333332,
          29.48885976408912,
          16.9811320754717,
          17.357512953367877,
          16.102841677943168,
          21.675531914893618,
          20.8731241473397,
          23.42105263157895,
          19.16243654822335,
          17.82437745740498,
          17.555266579973992,
          15.902964959568733,
          16.26733921815889,
          14.378238341968913,
          12.945838837516513,
          11.213720316622691,
          12.855377008652658,
          11.901681759379043,
          14.50381679389313,
          11.812080536912752,
          13.110181311018131,
          12.920592193808883,
          13.084112149532709,
          14.305949008498583,
          15.601023017902813,
          13.88888888888889,
          27.66531713900135,
          26.455696202531648,
          28.286852589641438,
          15.974025974025974,
          15.334207077326342,
          16.52281134401973,
          24.86842105263158,
          21.693121693121693,
          25.274725274725274,
          17.569352708058126,
          17.236662106703147,
          19.834710743801654,
          13.202247191011235,
          15.191545574636725,
          15.176151761517614,
          12.419146183699871,
          14.664981036662454,
          13.219895287958114,
          12.78600269179004,
          13.121019108280255,
          12.291933418693981,
          12.86624203821656,
          13.237221494102227,
          13.317191283292978,
          15.104166666666666,
          15.561224489795919,
          13.480055020632737,
          27.00135685210312,
          29.380053908355798,
          27.492877492877493,
          17.6158940397351,
          16.819973718791065,
          15.718157181571815,
          19.41340782122905,
          22.649006622516556,
          21.132596685082873,
          19.680851063829788,
          21.6,
          17.890520694259013,
          13.428943937418513,
          15.336658354114713,
          14.485387547649301,
          13.688212927756654,
          12.005277044854882,
          13.529411764705882,
          16.370558375634516,
          12.311901504787961,
          11.826544021024969,
          13.324175824175825,
          12.23404255319149,
          11.89488243430152,
          12.225274725274724,
          12.146892655367232,
          12.45136186770428,
          26.88311688311688,
          29.545454545454547,
          27.61394101876676,
          17.464788732394364,
          16.459197786998615,
          15.641711229946523,
          20.883534136546185,
          22.97650130548303,
          23.589743589743588,
          17.48633879781421,
          17.177097203728362,
          19.426336375488916,
          11.772853185595569,
          13.20754716981132,
          12.450331125827814,
          14.580645161290324,
          16.00547195622435,
          14.790575916230367,
          13.150684931506849,
          11.741935483870968,
          12.010796221322536,
          13.472222222222221,
          13.917525773195877,
          12.215909090909092,
          11.904761904761903,
          14.84593837535014,
          14.209827357237717,
          27.58169934640523,
          27.034482758620687,
          28.915662650602407,
          16.005121638924454,
          16.334661354581673,
          15.864022662889518,
          20.877659574468087,
          21.25,
          21.668909825033648,
          18.907563025210084,
          16.951566951566953,
          20.708446866485016,
          15.5049786628734,
          15.172413793103448,
          13.397790055248619,
          14.208389715832206,
          15.56420233463035,
          12.384716732542818,
          14.594594594594595,
          14.117647058823529,
          11.99421965317919,
          14.917825537294563,
          15.760869565217392,
          11.848958333333332,
          30.38309114927345,
          27.260812581913502,
          29.2713567839196,
          16.557161629434955,
          19.400855920114125,
          17.050067658998646,
          20.10443864229765,
          23.178807947019866,
          24.09152086137281,
          17.98063623789765,
          20.78804347826087,
          14.46280991735537,
          15.335051546391753,
          15.290933694181327,
          17.66268260292165,
          14.453125,
          12.781954887218044,
          13.5752688172043,
          14.586070959264127,
          16.933333333333334,
          13.189771197846568,
          13.241379310344827,
          10.96433289299868,
          13.186813186813188,
          29.50391644908616,
          26.21870882740448,
          27.012278308321964,
          14.340588988476313,
          18.30238726790451,
          15.166461159062885,
          23.246753246753247,
          21.57968970380818,
          22.95285359801489,
          20.98765432098765,
          18.078381795195956,
          18.58288770053476,
          13.956639566395665,
          13.959390862944163,
          15.013054830287206,
          12.602739726027398,
          15.384615384615385,
          14.701986754966887,
          17.117117117117118,
          13.722826086956522,
          13.727959697732997,
          14.130434782608695,
          14.249363867684478,
          12.317880794701987,
          29.016189290161893,
          29.740259740259738,
          32.241153342070774,
          18.581560283687942,
          20.3551912568306,
          16.688918558077436,
          24.214659685863875,
          24.12831241283124,
          22.20812182741117,
          17.51336898395722,
          17.936117936117938,
          21.643835616438356,
          16.983695652173914,
          15.59633027522936,
          12.11734693877551,
          16.01123595505618,
          15.159944367176633,
          13.788487282463185,
          14.088397790055248,
          13.226744186046513,
          11.749680715197956,
          14.34108527131783,
          12.332439678284182,
          12.162162162162163,
          29.795918367346943,
          28.2336578581363,
          27.224435590969453,
          17.181208053691275,
          20.71240105540897,
          13.793103448275861,
          22.65625,
          22.08835341365462,
          23.758389261744966,
          21.265141318977122,
          18.99592944369064,
          21.07329842931937,
          15.22911051212938,
          16.688741721854306,
          14.180929095354522,
          15.300546448087433,
          13.630229419703104,
          13.106159895150721,
          16.598639455782312,
          17.557251908396946,
          16.40625,
          29.747675962815407,
          31.284153005464482,
          29.49547218628719,
          17.580872011251756,
          15.91203104786546,
          18.567961165048544,
          21.548387096774192,
          22.807017543859647,
          23.73113854595336,
          20.29372496662216,
          19.418758256274767,
          19.404915912031047,
          14.266487213997308,
          15.342465753424658,
          15.0066401062417,
          17.00404858299595,
          14.747736093143596,
          15.936254980079681,
          17.673048600883654,
          14.863102998696217,
          16.496163682864452,
          28.534031413612563,
          29.854689564068693,
          27.35723771580345,
          17.894736842105264,
          15.555555555555555,
          20.492866407263293,
          24.736842105263158,
          21.951219512195124,
          23.480662983425415,
          21.003963011889034,
          18.28793774319066,
          18.87052341597796,
          18.631732168850075,
          15.2832674571805,
          14.378238341968913,
          14.73551637279597,
          14.002828854314004,
          14.794520547945206,
          12.406015037593985,
          16.933333333333334,
          15.178571428571427,
          29.910141206675224,
          29.331514324693043,
          27.86259541984733,
          16.16294349540079,
          18.181818181818183,
          16.77675033025099,
          22.105263157894736,
          23.138297872340424,
          20.94240837696335,
          19.53232462173315,
          21.143617021276594,
          19,
          14.6374829001368,
          14.268292682926829,
          14.614343707713125,
          13.83399209486166,
          15.36231884057971,
          17.13520749665328,
          14.471968709256844,
          14.267015706806282,
          14.210526315789473,
          29.134860050890588,
          30.125523012552303,
          27.977044476327116,
          18.306351183063512,
          17.914438502673796,
          18.15680880330124,
          24.836601307189543,
          24.878048780487806,
          21.675531914893618,
          18.30985915492958,
          19.923857868020303,
          19.605263157894736,
          18.80448318804483,
          14.157014157014158,
          16.90340909090909,
          17.31301939058172,
          13.289473684210526,
          15.789473684210526,
          25.336927223719673,
          30.18335684062059,
          26.93877551020408,
          19.003931847968545,
          17.2,
          17.82437745740498,
          23.6318407960199,
          24.62987886944818,
          22.02304737516005,
          19.733333333333334,
          20.341207349081365,
          19.971870604781998,
          16.548463356973993,
          15.384615384615385,
          16.472114137483786,
          17.794117647058822,
          16.666666666666664,
          16.711229946524064,
          29.605263157894733,
          26.22739018087855,
          29.442282749675748,
          16.301369863013697,
          18.01801801801802,
          17.41424802110818,
          24.061196105702365,
          24.285714285714285,
          20.670391061452513,
          16.77943166441137,
          19.754768392370572,
          21.448863636363637,
          16.43132220795892,
          15.41501976284585,
          13.342503438789546,
          16.11185086551265,
          16.75461741424802,
          16.032608695652172,
          26.455696202531648,
          25.815217391304344,
          26.658163265306122,
          19.47019867549669,
          17.825537294563844,
          18.30808080808081,
          23.55263157894737,
          24.873737373737374,
          22.939560439560438,
          18.848167539267017,
          22.295514511873353,
          20.025673940949936,
          14.869888475836431,
          15.240641711229946,
          16.27260083449235,
          17.42738589211618,
          17.391304347826086,
          16.442048517520217,
          30.567081604426004,
          27.46666666666667,
          27.386934673366838,
          15.132408575031524,
          19.75,
          15.620998719590268,
          22.47340425531915,
          22.721268163804492,
          24.867021276595743,
          21.53846153846154,
          18.60174781523096,
          18.734491315136477,
          20.3125,
          19.741935483870968,
          15.903307888040713,
          28.83263009845288,
          28.877679697351827,
          30.90185676392573,
          18.503401360544217,
          16.99346405228758,
          20.73669849931787,
          23.045267489711936,
          27.236315086782376,
          23.513870541611624,
          22.5891677675033,
          20.263157894736842,
          18.946047678795484,
          17.346938775510203,
          17.191601049868765,
          16.334661354581673,
          24.93638676844784,
          27.139037433155078,
          29.472329472329474,
          16.713483146067414,
          17.035110533159948,
          16.158940397350992,
          19.64512040557668,
          22.17948717948718,
          23.904382470119522,
          20.88050314465409,
          18.58529819694868,
          19.82323232323232,
          17.602040816326532,
          17.934782608695652,
          17.13917525773196,
          24.25421530479896,
          26.863572433192683,
          29.45945945945946,
          19.674185463659146,
          15.625,
          18.329177057356606,
          24.210526315789473,
          24.455825864276566,
          23.398692810457515,
          21.875,
          20.10178117048346,
          19.556714471968707,
          17.912371134020617,
          19.148936170212767,
          17.362924281984334,
          27.417218543046356,
          27.6536312849162,
          29.177718832891248,
          21.895861148197596,
          18.601583113456467,
          19.363762102351316,
          21.288515406162464,
          24.23076923076923,
          24.42455242966752,
          19.05354919053549,
          20.812182741116754,
          19.17241379310345,
          30.4,
          31.52777777777778,
          31.18421052631579,
          20.26143790849673,
          16.153846153846153,
          19.94818652849741,
          24.966622162883844,
          21.828103683492497,
          23.046875,
          24.89905787348587,
          22.337662337662337,
          22.36111111111111,
          30.89005235602094,
          28.26086956521739,
          31.36482939632546,
          18.503401360544217,
          20.53231939163498,
          19.77329974811083,
          23.506988564167724,
          25.225225225225223,
          22.207621550591327,
          20.083102493074794,
          22.57142857142857,
          20.73011734028683,
          29.78986402966625,
          27.146814404432135,
          31.897711978465683,
          19.613259668508288,
          20.94508301404853,
          19.131455399061036,
          22.78308321964529,
          22.53886010362694,
          26.46657571623465,
          23.27823691460055,
          21.63978494623656,
          21.41935483870968,
          31.521739130434785,
          29.985855728429982,
          30.635118306351185,
          19.973009446693656,
          17.07920792079208,
          17.208672086720867,
          24.77302204928664,
          24.907521578298397,
          24.277456647398843,
          23.29700272479564,
          21.294964028776977,
          22.670025188916874,
          30.140485312899106,
          29.72222222222222,
          30.97686375321337,
          20.72072072072072,
          22.95285359801489,
          23.62002567394095,
          28.167115902964962,
          25.572519083969464,
          26.891891891891888,
          22.88021534320323,
          26.26131953428202,
          20.880681818181817,
          32.71767810026385,
          27.019867549668874,
          26.58569500674764,
          23.26869806094183,
          21.282401091405184,
          24.54308093994778,
          24.393530997304584,
          24.717691342534504,
          24.01129943502825,
          23.783783783783786,
          25.229960578186596,
          23.383768913342504,
          32.26744186046512,
          32.28454172366621,
          25.435073627844712,
          22.744599745870396,
          21.428571428571427,
          22.074468085106382,
          24.585987261146496,
          24.566088117489986,
          25.21246458923513,
          23.013698630136986,
          24.206349206349206,
          22.131147540983605,
          28.7248322147651,
          31.586402266288953,
          30.311231393775373,
          22.178477690288716,
          22.852983988355167,
          24.275862068965516,
          26.351351351351347,
          25.688073394495415,
          24.899598393574294,
          21.84065934065934,
          22.797927461139896,
          27.439886845827438,
          31.68044077134986,
          32.66129032258064,
          34.18693982074264,
          31.557922769640477,
          33.51648351648351,
          32.904884318766065,
          32.57575757575758,
          29.219858156028366,
          30.808080808080806,
          30.967741935483872,
          35.1123595505618,
          32.46414602346806,
          34,
          30.5,
          32.390745501285345,
          33.87533875338754,
          32.97730307076102,
          32.49336870026525,
          33.25,
          31.874145006839942,
          32.15739484396201,
          37.43016759776536,
          35.204081632653065,
          32.15686274509804,
          25.61307901907357,
          29.784537389100123,
          30.73654390934844,
          29.551451187335093,
          29.88980716253444,
          27.806788511749346,
          28.47769028871391,
          27.586206896551722,
          27.668539325842694,
          28.749999999999996,
          30.256410256410255,
          27.717391304347828
         ],
         "yaxis": "y"
        },
        {
         "customdata": [
          [
           "['10♠', '9♠']"
          ],
          [
           "['10♠', 'J♠']"
          ],
          [
           "['10♣', '9♣']"
          ],
          [
           "['10♣', 'J♣']"
          ],
          [
           "['10♥', '9♥']"
          ],
          [
           "['10♥', 'J♥']"
          ],
          [
           "['10♦', '9♦']"
          ],
          [
           "['10♦', 'J♦']"
          ],
          [
           "['2♠', '3♠']"
          ],
          [
           "['2♣', '3♣']"
          ],
          [
           "['2♥', '3♥']"
          ],
          [
           "['2♦', '3♦']"
          ],
          [
           "['3♠', '4♠']"
          ],
          [
           "['3♣', '4♣']"
          ],
          [
           "['3♥', '4♥']"
          ],
          [
           "['3♦', '4♦']"
          ],
          [
           "['4♠', '5♠']"
          ],
          [
           "['4♣', '5♣']"
          ],
          [
           "['4♥', '5♥']"
          ],
          [
           "['4♦', '5♦']"
          ],
          [
           "['5♠', '6♠']"
          ],
          [
           "['5♣', '6♣']"
          ],
          [
           "['5♥', '6♥']"
          ],
          [
           "['5♦', '6♦']"
          ],
          [
           "['6♠', '7♠']"
          ],
          [
           "['6♣', '7♣']"
          ],
          [
           "['6♥', '7♥']"
          ],
          [
           "['6♦', '7♦']"
          ],
          [
           "['7♠', '8♠']"
          ],
          [
           "['7♣', '8♣']"
          ],
          [
           "['7♥', '8♥']"
          ],
          [
           "['7♦', '8♦']"
          ],
          [
           "['8♠', '9♠']"
          ],
          [
           "['8♣', '9♣']"
          ],
          [
           "['8♥', '9♥']"
          ],
          [
           "['8♦', '9♦']"
          ],
          [
           "['A♠', 'K♠']"
          ],
          [
           "['A♣', 'K♣']"
          ],
          [
           "['A♥', 'K♥']"
          ],
          [
           "['A♦', 'K♦']"
          ],
          [
           "['J♠', 'Q♠']"
          ],
          [
           "['J♣', 'Q♣']"
          ],
          [
           "['J♥', 'Q♥']"
          ],
          [
           "['J♦', 'Q♦']"
          ],
          [
           "['K♠', 'Q♠']"
          ],
          [
           "['K♣', 'Q♣']"
          ],
          [
           "['K♥', 'Q♥']"
          ],
          [
           "['K♦', 'Q♦']"
          ]
         ],
         "hovertemplate": "Categoría=Conectores Suited<br>Fuerza de la Mano=%{x}<br>Porcentaje de Victoria=%{y:.2f}<br>Cartas=%{customdata[0]}<extra></extra>",
         "legendgroup": "Conectores Suited",
         "marker": {
          "color": "purple",
          "line": {
           "color": "DarkSlateGrey",
           "width": 1
          },
          "opacity": 0.8,
          "size": 8,
          "symbol": "circle"
         },
         "mode": "markers",
         "name": "Conectores Suited",
         "showlegend": true,
         "type": "scattergl",
         "x": [
          19,
          21,
          19,
          21,
          19,
          21,
          19,
          21,
          5,
          5,
          5,
          5,
          7,
          7,
          7,
          7,
          9,
          9,
          9,
          9,
          11,
          11,
          11,
          11,
          13,
          13,
          13,
          13,
          15,
          15,
          15,
          15,
          17,
          17,
          17,
          17,
          27,
          27,
          27,
          27,
          23,
          23,
          23,
          23,
          25,
          25,
          25,
          25
         ],
         "xaxis": "x",
         "y": [
          23.36065573770492,
          29.045092838196286,
          24.766977363515313,
          29.324324324324323,
          23.636363636363637,
          27.725437415881558,
          26.149802890932982,
          27.459016393442624,
          16.03905160390516,
          14.705882352941178,
          17.353308364544322,
          16.97645600991326,
          19.106699751861044,
          18.75,
          16.971279373368144,
          20.33898305084746,
          17.876344086021508,
          19.078104993597954,
          19.922380336351875,
          21.57622739018088,
          20.027624309392262,
          18.562091503267975,
          19.00826446280992,
          18.090452261306535,
          20.49934296977661,
          18.81051175656985,
          22.356091030789827,
          20.053475935828878,
          20.82758620689655,
          23.63150867823765,
          22.71505376344086,
          21.2707182320442,
          22.894736842105264,
          24.03598971722365,
          26.136363636363637,
          21.236559139784948,
          34.27041499330656,
          36.74775928297055,
          33.42140026420079,
          38.73144399460189,
          30.614973262032088,
          27.023498694516974,
          29.548387096774192,
          28.41068917018284,
          27.463863337713533,
          31.47410358565737,
          32.84182305630027,
          33.81770145310436
         ],
         "yaxis": "y"
        },
        {
         "customdata": [
          [
           "['10♠', '9♣']"
          ],
          [
           "['10♠', '9♥']"
          ],
          [
           "['10♠', '9♦']"
          ],
          [
           "['10♠', 'J♣']"
          ],
          [
           "['10♠', 'J♥']"
          ],
          [
           "['10♠', 'J♦']"
          ],
          [
           "['10♣', '9♠']"
          ],
          [
           "['10♣', '9♥']"
          ],
          [
           "['10♣', '9♦']"
          ],
          [
           "['10♣', 'J♠']"
          ],
          [
           "['10♣', 'J♥']"
          ],
          [
           "['10♣', 'J♦']"
          ],
          [
           "['10♥', '9♠']"
          ],
          [
           "['10♥', '9♣']"
          ],
          [
           "['10♥', '9♦']"
          ],
          [
           "['10♥', 'J♠']"
          ],
          [
           "['10♥', 'J♣']"
          ],
          [
           "['10♥', 'J♦']"
          ],
          [
           "['10♦', '9♠']"
          ],
          [
           "['10♦', '9♣']"
          ],
          [
           "['10♦', '9♥']"
          ],
          [
           "['10♦', 'J♠']"
          ],
          [
           "['10♦', 'J♣']"
          ],
          [
           "['10♦', 'J♥']"
          ],
          [
           "['2♠', '3♣']"
          ],
          [
           "['2♠', '3♥']"
          ],
          [
           "['2♠', '3♦']"
          ],
          [
           "['2♣', '3♠']"
          ],
          [
           "['2♣', '3♥']"
          ],
          [
           "['2♣', '3♦']"
          ],
          [
           "['2♥', '3♠']"
          ],
          [
           "['2♥', '3♣']"
          ],
          [
           "['2♥', '3♦']"
          ],
          [
           "['2♦', '3♠']"
          ],
          [
           "['2♦', '3♣']"
          ],
          [
           "['2♦', '3♥']"
          ],
          [
           "['3♠', '4♣']"
          ],
          [
           "['3♠', '4♥']"
          ],
          [
           "['3♠', '4♦']"
          ],
          [
           "['3♣', '4♠']"
          ],
          [
           "['3♣', '4♥']"
          ],
          [
           "['3♣', '4♦']"
          ],
          [
           "['3♥', '4♠']"
          ],
          [
           "['3♥', '4♣']"
          ],
          [
           "['3♥', '4♦']"
          ],
          [
           "['3♦', '4♠']"
          ],
          [
           "['3♦', '4♣']"
          ],
          [
           "['3♦', '4♥']"
          ],
          [
           "['4♠', '5♣']"
          ],
          [
           "['4♠', '5♥']"
          ],
          [
           "['4♠', '5♦']"
          ],
          [
           "['4♣', '5♠']"
          ],
          [
           "['4♣', '5♥']"
          ],
          [
           "['4♣', '5♦']"
          ],
          [
           "['4♥', '5♠']"
          ],
          [
           "['4♥', '5♣']"
          ],
          [
           "['4♥', '5♦']"
          ],
          [
           "['4♦', '5♠']"
          ],
          [
           "['4♦', '5♣']"
          ],
          [
           "['4♦', '5♥']"
          ],
          [
           "['5♠', '6♣']"
          ],
          [
           "['5♠', '6♥']"
          ],
          [
           "['5♠', '6♦']"
          ],
          [
           "['5♣', '6♠']"
          ],
          [
           "['5♣', '6♥']"
          ],
          [
           "['5♣', '6♦']"
          ],
          [
           "['5♥', '6♠']"
          ],
          [
           "['5♥', '6♣']"
          ],
          [
           "['5♥', '6♦']"
          ],
          [
           "['5♦', '6♠']"
          ],
          [
           "['5♦', '6♣']"
          ],
          [
           "['5♦', '6♥']"
          ],
          [
           "['6♠', '7♣']"
          ],
          [
           "['6♠', '7♥']"
          ],
          [
           "['6♠', '7♦']"
          ],
          [
           "['6♣', '7♠']"
          ],
          [
           "['6♣', '7♥']"
          ],
          [
           "['6♣', '7♦']"
          ],
          [
           "['6♥', '7♠']"
          ],
          [
           "['6♥', '7♣']"
          ],
          [
           "['6♥', '7♦']"
          ],
          [
           "['6♦', '7♠']"
          ],
          [
           "['6♦', '7♣']"
          ],
          [
           "['6♦', '7♥']"
          ],
          [
           "['7♠', '8♣']"
          ],
          [
           "['7♠', '8♥']"
          ],
          [
           "['7♠', '8♦']"
          ],
          [
           "['7♣', '8♠']"
          ],
          [
           "['7♣', '8♥']"
          ],
          [
           "['7♣', '8♦']"
          ],
          [
           "['7♥', '8♠']"
          ],
          [
           "['7♥', '8♣']"
          ],
          [
           "['7♥', '8♦']"
          ],
          [
           "['7♦', '8♠']"
          ],
          [
           "['7♦', '8♣']"
          ],
          [
           "['7♦', '8♥']"
          ],
          [
           "['8♠', '9♣']"
          ],
          [
           "['8♠', '9♥']"
          ],
          [
           "['8♠', '9♦']"
          ],
          [
           "['8♣', '9♠']"
          ],
          [
           "['8♣', '9♥']"
          ],
          [
           "['8♣', '9♦']"
          ],
          [
           "['8♥', '9♠']"
          ],
          [
           "['8♥', '9♣']"
          ],
          [
           "['8♥', '9♦']"
          ],
          [
           "['8♦', '9♠']"
          ],
          [
           "['8♦', '9♣']"
          ],
          [
           "['8♦', '9♥']"
          ],
          [
           "['A♠', 'K♣']"
          ],
          [
           "['A♠', 'K♥']"
          ],
          [
           "['A♠', 'K♦']"
          ],
          [
           "['A♣', 'K♠']"
          ],
          [
           "['A♣', 'K♥']"
          ],
          [
           "['A♣', 'K♦']"
          ],
          [
           "['A♥', 'K♠']"
          ],
          [
           "['A♥', 'K♣']"
          ],
          [
           "['A♥', 'K♦']"
          ],
          [
           "['A♦', 'K♠']"
          ],
          [
           "['A♦', 'K♣']"
          ],
          [
           "['A♦', 'K♥']"
          ],
          [
           "['J♠', 'Q♣']"
          ],
          [
           "['J♠', 'Q♥']"
          ],
          [
           "['J♠', 'Q♦']"
          ],
          [
           "['J♣', 'Q♠']"
          ],
          [
           "['J♣', 'Q♥']"
          ],
          [
           "['J♣', 'Q♦']"
          ],
          [
           "['J♥', 'Q♠']"
          ],
          [
           "['J♥', 'Q♣']"
          ],
          [
           "['J♥', 'Q♦']"
          ],
          [
           "['J♦', 'Q♠']"
          ],
          [
           "['J♦', 'Q♣']"
          ],
          [
           "['J♦', 'Q♥']"
          ],
          [
           "['K♠', 'Q♣']"
          ],
          [
           "['K♠', 'Q♥']"
          ],
          [
           "['K♠', 'Q♦']"
          ],
          [
           "['K♣', 'Q♠']"
          ],
          [
           "['K♣', 'Q♥']"
          ],
          [
           "['K♣', 'Q♦']"
          ],
          [
           "['K♥', 'Q♠']"
          ],
          [
           "['K♥', 'Q♣']"
          ],
          [
           "['K♥', 'Q♦']"
          ],
          [
           "['K♦', 'Q♠']"
          ],
          [
           "['K♦', 'Q♣']"
          ],
          [
           "['K♦', 'Q♥']"
          ]
         ],
         "hovertemplate": "Categoría=Conectores Offsuit<br>Fuerza de la Mano=%{x}<br>Porcentaje de Victoria=%{y:.2f}<br>Cartas=%{customdata[0]}<extra></extra>",
         "legendgroup": "Conectores Offsuit",
         "marker": {
          "color": "red",
          "line": {
           "color": "DarkSlateGrey",
           "width": 1
          },
          "opacity": 0.8,
          "size": 8,
          "symbol": "circle"
         },
         "mode": "markers",
         "name": "Conectores Offsuit",
         "showlegend": true,
         "type": "scattergl",
         "x": [
          19,
          19,
          19,
          21,
          21,
          21,
          19,
          19,
          19,
          21,
          21,
          21,
          19,
          19,
          19,
          21,
          21,
          21,
          19,
          19,
          19,
          21,
          21,
          21,
          5,
          5,
          5,
          5,
          5,
          5,
          5,
          5,
          5,
          5,
          5,
          5,
          7,
          7,
          7,
          7,
          7,
          7,
          7,
          7,
          7,
          7,
          7,
          7,
          9,
          9,
          9,
          9,
          9,
          9,
          9,
          9,
          9,
          9,
          9,
          9,
          11,
          11,
          11,
          11,
          11,
          11,
          11,
          11,
          11,
          11,
          11,
          11,
          13,
          13,
          13,
          13,
          13,
          13,
          13,
          13,
          13,
          13,
          13,
          13,
          15,
          15,
          15,
          15,
          15,
          15,
          15,
          15,
          15,
          15,
          15,
          15,
          17,
          17,
          17,
          17,
          17,
          17,
          17,
          17,
          17,
          17,
          17,
          17,
          27,
          27,
          27,
          27,
          27,
          27,
          27,
          27,
          27,
          27,
          27,
          27,
          23,
          23,
          23,
          23,
          23,
          23,
          23,
          23,
          23,
          23,
          23,
          23,
          25,
          25,
          25,
          25,
          25,
          25,
          25,
          25,
          25,
          25,
          25,
          25
         ],
         "xaxis": "x",
         "y": [
          17.373461012311903,
          20.54054054054054,
          22.448979591836736,
          23.226703755215578,
          24.214659685863875,
          20.76502732240437,
          19.42257217847769,
          23.177083333333336,
          20.21709633649932,
          25.22875816993464,
          27.419354838709676,
          22.727272727272727,
          19.602649006622517,
          20.158102766798418,
          22.778473091364205,
          22.607489597780862,
          25.45931758530184,
          29.34306569343066,
          22.506738544474395,
          19.518377693282638,
          20.353982300884958,
          24.89905787348587,
          23.506493506493506,
          23.401688781664657,
          14.725568942436412,
          12.847682119205297,
          13.944723618090451,
          13.297150610583447,
          12.447552447552447,
          11.333333333333332,
          12.117177097203728,
          12.290502793296088,
          12.185430463576159,
          13.520749665327978,
          12.005649717514125,
          11.083437110834371,
          13.231552162849871,
          13.456464379947231,
          13.612565445026178,
          16.893732970027248,
          12.384716732542818,
          12.823834196891193,
          12.962962962962962,
          15.155615696887686,
          14.131897711978466,
          11.994609164420485,
          14.56953642384106,
          13.828425096030731,
          15.646258503401361,
          16.226912928759894,
          15.625,
          16.93121693121693,
          14.925373134328357,
          15.27027027027027,
          13.994565217391305,
          15.819209039548024,
          15.033557046979865,
          12.75820170109356,
          17.341040462427745,
          17.560321715817693,
          15.413070283600494,
          17.994505494505493,
          14.73551637279597,
          14.013605442176871,
          15.220293724966622,
          15.01416430594901,
          17.255434782608695,
          17.302452316076295,
          15.479452054794521,
          16.182048040455122,
          16.91542288557214,
          16.447368421052634,
          16.219667943805874,
          17.287234042553195,
          15.918367346938775,
          15.086782376502002,
          15.019762845849801,
          16.666666666666664,
          15.03957783641161,
          15.131578947368421,
          17.006802721088434,
          15.041782729805014,
          20.497803806734993,
          17.639257294429708,
          17.118226600985224,
          17.986577181208055,
          16.90885072655218,
          19.612903225806452,
          17.532467532467532,
          15.483870967741936,
          16.801075268817204,
          13.636363636363635,
          15.217391304347828,
          15.586034912718205,
          18.206521739130434,
          19.003931847968545,
          18.867924528301888,
          19.319727891156464,
          20.263157894736842,
          18.75843454790823,
          19.154228855721392,
          19.52191235059761,
          20.474777448071215,
          21.49532710280374,
          18.97506925207756,
          19.021739130434785,
          17.079889807162534,
          19.492656875834445,
          33.76623376623377,
          33.546734955185656,
          33.87755102040816,
          35.63068920676203,
          37.27647867950481,
          33.1151832460733,
          36.02015113350126,
          39.14209115281501,
          35.15312916111851,
          35.602094240837694,
          35.8974358974359,
          33.91304347826087,
          26.301369863013697,
          25.401459854014597,
          27.247956403269757,
          23.066485753052916,
          24.581724581724583,
          27.27272727272727,
          23.9454094292804,
          27.224435590969453,
          27.052489905787347,
          28.53107344632768,
          27.35483870967742,
          26.040268456375838,
          29.059829059829063,
          29.527559055118108,
          25.452196382428944,
          29.43495400788436,
          27.70083102493075,
          31.83673469387755,
          31.393775372124495,
          27.22298221614227,
          28.98172323759791,
          29.65034965034965,
          31.585365853658537,
          28.191489361702125
         ],
         "yaxis": "y"
        }
       ],
       "layout": {
        "annotations": [
         {
          "align": "center",
          "bgcolor": "white",
          "bordercolor": "red",
          "borderwidth": 1,
          "font": {
           "color": "Red",
           "size": 14
          },
          "opacity": 0.8,
          "showarrow": false,
          "text": "Probabilidad media esperada (22.85%)",
          "x": 16,
          "xref": "x",
          "y": 45.70943769841272,
          "yref": "y"
         }
        ],
        "legend": {
         "title": {
          "text": "Categoría de Mano"
         },
         "tracegroupgap": 0
        },
        "margin": {
         "b": 40,
         "l": 40,
         "r": 40,
         "t": 60
        },
        "shapes": [
         {
          "line": {
           "color": "Red",
           "dash": "dash",
           "width": 2
          },
          "type": "line",
          "x0": 4,
          "x1": 28,
          "xref": "x",
          "y0": 22.85471884920636,
          "y1": 22.85471884920636,
          "yref": "y"
         }
        ],
        "template": {
         "data": {
          "bar": [
           {
            "error_x": {
             "color": "#2a3f5f"
            },
            "error_y": {
             "color": "#2a3f5f"
            },
            "marker": {
             "line": {
              "color": "#E5ECF6",
              "width": 0.5
             },
             "pattern": {
              "fillmode": "overlay",
              "size": 10,
              "solidity": 0.2
             }
            },
            "type": "bar"
           }
          ],
          "barpolar": [
           {
            "marker": {
             "line": {
              "color": "#E5ECF6",
              "width": 0.5
             },
             "pattern": {
              "fillmode": "overlay",
              "size": 10,
              "solidity": 0.2
             }
            },
            "type": "barpolar"
           }
          ],
          "carpet": [
           {
            "aaxis": {
             "endlinecolor": "#2a3f5f",
             "gridcolor": "white",
             "linecolor": "white",
             "minorgridcolor": "white",
             "startlinecolor": "#2a3f5f"
            },
            "baxis": {
             "endlinecolor": "#2a3f5f",
             "gridcolor": "white",
             "linecolor": "white",
             "minorgridcolor": "white",
             "startlinecolor": "#2a3f5f"
            },
            "type": "carpet"
           }
          ],
          "choropleth": [
           {
            "colorbar": {
             "outlinewidth": 0,
             "ticks": ""
            },
            "type": "choropleth"
           }
          ],
          "contour": [
           {
            "colorbar": {
             "outlinewidth": 0,
             "ticks": ""
            },
            "colorscale": [
             [
              0,
              "#0d0887"
             ],
             [
              0.1111111111111111,
              "#46039f"
             ],
             [
              0.2222222222222222,
              "#7201a8"
             ],
             [
              0.3333333333333333,
              "#9c179e"
             ],
             [
              0.4444444444444444,
              "#bd3786"
             ],
             [
              0.5555555555555556,
              "#d8576b"
             ],
             [
              0.6666666666666666,
              "#ed7953"
             ],
             [
              0.7777777777777778,
              "#fb9f3a"
             ],
             [
              0.8888888888888888,
              "#fdca26"
             ],
             [
              1,
              "#f0f921"
             ]
            ],
            "type": "contour"
           }
          ],
          "contourcarpet": [
           {
            "colorbar": {
             "outlinewidth": 0,
             "ticks": ""
            },
            "type": "contourcarpet"
           }
          ],
          "heatmap": [
           {
            "colorbar": {
             "outlinewidth": 0,
             "ticks": ""
            },
            "colorscale": [
             [
              0,
              "#0d0887"
             ],
             [
              0.1111111111111111,
              "#46039f"
             ],
             [
              0.2222222222222222,
              "#7201a8"
             ],
             [
              0.3333333333333333,
              "#9c179e"
             ],
             [
              0.4444444444444444,
              "#bd3786"
             ],
             [
              0.5555555555555556,
              "#d8576b"
             ],
             [
              0.6666666666666666,
              "#ed7953"
             ],
             [
              0.7777777777777778,
              "#fb9f3a"
             ],
             [
              0.8888888888888888,
              "#fdca26"
             ],
             [
              1,
              "#f0f921"
             ]
            ],
            "type": "heatmap"
           }
          ],
          "heatmapgl": [
           {
            "colorbar": {
             "outlinewidth": 0,
             "ticks": ""
            },
            "colorscale": [
             [
              0,
              "#0d0887"
             ],
             [
              0.1111111111111111,
              "#46039f"
             ],
             [
              0.2222222222222222,
              "#7201a8"
             ],
             [
              0.3333333333333333,
              "#9c179e"
             ],
             [
              0.4444444444444444,
              "#bd3786"
             ],
             [
              0.5555555555555556,
              "#d8576b"
             ],
             [
              0.6666666666666666,
              "#ed7953"
             ],
             [
              0.7777777777777778,
              "#fb9f3a"
             ],
             [
              0.8888888888888888,
              "#fdca26"
             ],
             [
              1,
              "#f0f921"
             ]
            ],
            "type": "heatmapgl"
           }
          ],
          "histogram": [
           {
            "marker": {
             "pattern": {
              "fillmode": "overlay",
              "size": 10,
              "solidity": 0.2
             }
            },
            "type": "histogram"
           }
          ],
          "histogram2d": [
           {
            "colorbar": {
             "outlinewidth": 0,
             "ticks": ""
            },
            "colorscale": [
             [
              0,
              "#0d0887"
             ],
             [
              0.1111111111111111,
              "#46039f"
             ],
             [
              0.2222222222222222,
              "#7201a8"
             ],
             [
              0.3333333333333333,
              "#9c179e"
             ],
             [
              0.4444444444444444,
              "#bd3786"
             ],
             [
              0.5555555555555556,
              "#d8576b"
             ],
             [
              0.6666666666666666,
              "#ed7953"
             ],
             [
              0.7777777777777778,
              "#fb9f3a"
             ],
             [
              0.8888888888888888,
              "#fdca26"
             ],
             [
              1,
              "#f0f921"
             ]
            ],
            "type": "histogram2d"
           }
          ],
          "histogram2dcontour": [
           {
            "colorbar": {
             "outlinewidth": 0,
             "ticks": ""
            },
            "colorscale": [
             [
              0,
              "#0d0887"
             ],
             [
              0.1111111111111111,
              "#46039f"
             ],
             [
              0.2222222222222222,
              "#7201a8"
             ],
             [
              0.3333333333333333,
              "#9c179e"
             ],
             [
              0.4444444444444444,
              "#bd3786"
             ],
             [
              0.5555555555555556,
              "#d8576b"
             ],
             [
              0.6666666666666666,
              "#ed7953"
             ],
             [
              0.7777777777777778,
              "#fb9f3a"
             ],
             [
              0.8888888888888888,
              "#fdca26"
             ],
             [
              1,
              "#f0f921"
             ]
            ],
            "type": "histogram2dcontour"
           }
          ],
          "mesh3d": [
           {
            "colorbar": {
             "outlinewidth": 0,
             "ticks": ""
            },
            "type": "mesh3d"
           }
          ],
          "parcoords": [
           {
            "line": {
             "colorbar": {
              "outlinewidth": 0,
              "ticks": ""
             }
            },
            "type": "parcoords"
           }
          ],
          "pie": [
           {
            "automargin": true,
            "type": "pie"
           }
          ],
          "scatter": [
           {
            "fillpattern": {
             "fillmode": "overlay",
             "size": 10,
             "solidity": 0.2
            },
            "type": "scatter"
           }
          ],
          "scatter3d": [
           {
            "line": {
             "colorbar": {
              "outlinewidth": 0,
              "ticks": ""
             }
            },
            "marker": {
             "colorbar": {
              "outlinewidth": 0,
              "ticks": ""
             }
            },
            "type": "scatter3d"
           }
          ],
          "scattercarpet": [
           {
            "marker": {
             "colorbar": {
              "outlinewidth": 0,
              "ticks": ""
             }
            },
            "type": "scattercarpet"
           }
          ],
          "scattergeo": [
           {
            "marker": {
             "colorbar": {
              "outlinewidth": 0,
              "ticks": ""
             }
            },
            "type": "scattergeo"
           }
          ],
          "scattergl": [
           {
            "marker": {
             "colorbar": {
              "outlinewidth": 0,
              "ticks": ""
             }
            },
            "type": "scattergl"
           }
          ],
          "scattermapbox": [
           {
            "marker": {
             "colorbar": {
              "outlinewidth": 0,
              "ticks": ""
             }
            },
            "type": "scattermapbox"
           }
          ],
          "scatterpolar": [
           {
            "marker": {
             "colorbar": {
              "outlinewidth": 0,
              "ticks": ""
             }
            },
            "type": "scatterpolar"
           }
          ],
          "scatterpolargl": [
           {
            "marker": {
             "colorbar": {
              "outlinewidth": 0,
              "ticks": ""
             }
            },
            "type": "scatterpolargl"
           }
          ],
          "scatterternary": [
           {
            "marker": {
             "colorbar": {
              "outlinewidth": 0,
              "ticks": ""
             }
            },
            "type": "scatterternary"
           }
          ],
          "surface": [
           {
            "colorbar": {
             "outlinewidth": 0,
             "ticks": ""
            },
            "colorscale": [
             [
              0,
              "#0d0887"
             ],
             [
              0.1111111111111111,
              "#46039f"
             ],
             [
              0.2222222222222222,
              "#7201a8"
             ],
             [
              0.3333333333333333,
              "#9c179e"
             ],
             [
              0.4444444444444444,
              "#bd3786"
             ],
             [
              0.5555555555555556,
              "#d8576b"
             ],
             [
              0.6666666666666666,
              "#ed7953"
             ],
             [
              0.7777777777777778,
              "#fb9f3a"
             ],
             [
              0.8888888888888888,
              "#fdca26"
             ],
             [
              1,
              "#f0f921"
             ]
            ],
            "type": "surface"
           }
          ],
          "table": [
           {
            "cells": {
             "fill": {
              "color": "#EBF0F8"
             },
             "line": {
              "color": "white"
             }
            },
            "header": {
             "fill": {
              "color": "#C8D4E3"
             },
             "line": {
              "color": "white"
             }
            },
            "type": "table"
           }
          ]
         },
         "layout": {
          "annotationdefaults": {
           "arrowcolor": "#2a3f5f",
           "arrowhead": 0,
           "arrowwidth": 1
          },
          "autotypenumbers": "strict",
          "coloraxis": {
           "colorbar": {
            "outlinewidth": 0,
            "ticks": ""
           }
          },
          "colorscale": {
           "diverging": [
            [
             0,
             "#8e0152"
            ],
            [
             0.1,
             "#c51b7d"
            ],
            [
             0.2,
             "#de77ae"
            ],
            [
             0.3,
             "#f1b6da"
            ],
            [
             0.4,
             "#fde0ef"
            ],
            [
             0.5,
             "#f7f7f7"
            ],
            [
             0.6,
             "#e6f5d0"
            ],
            [
             0.7,
             "#b8e186"
            ],
            [
             0.8,
             "#7fbc41"
            ],
            [
             0.9,
             "#4d9221"
            ],
            [
             1,
             "#276419"
            ]
           ],
           "sequential": [
            [
             0,
             "#0d0887"
            ],
            [
             0.1111111111111111,
             "#46039f"
            ],
            [
             0.2222222222222222,
             "#7201a8"
            ],
            [
             0.3333333333333333,
             "#9c179e"
            ],
            [
             0.4444444444444444,
             "#bd3786"
            ],
            [
             0.5555555555555556,
             "#d8576b"
            ],
            [
             0.6666666666666666,
             "#ed7953"
            ],
            [
             0.7777777777777778,
             "#fb9f3a"
            ],
            [
             0.8888888888888888,
             "#fdca26"
            ],
            [
             1,
             "#f0f921"
            ]
           ],
           "sequentialminus": [
            [
             0,
             "#0d0887"
            ],
            [
             0.1111111111111111,
             "#46039f"
            ],
            [
             0.2222222222222222,
             "#7201a8"
            ],
            [
             0.3333333333333333,
             "#9c179e"
            ],
            [
             0.4444444444444444,
             "#bd3786"
            ],
            [
             0.5555555555555556,
             "#d8576b"
            ],
            [
             0.6666666666666666,
             "#ed7953"
            ],
            [
             0.7777777777777778,
             "#fb9f3a"
            ],
            [
             0.8888888888888888,
             "#fdca26"
            ],
            [
             1,
             "#f0f921"
            ]
           ]
          },
          "colorway": [
           "#636efa",
           "#EF553B",
           "#00cc96",
           "#ab63fa",
           "#FFA15A",
           "#19d3f3",
           "#FF6692",
           "#B6E880",
           "#FF97FF",
           "#FECB52"
          ],
          "font": {
           "color": "#2a3f5f"
          },
          "geo": {
           "bgcolor": "white",
           "lakecolor": "white",
           "landcolor": "#E5ECF6",
           "showlakes": true,
           "showland": true,
           "subunitcolor": "white"
          },
          "hoverlabel": {
           "align": "left"
          },
          "hovermode": "closest",
          "mapbox": {
           "style": "light"
          },
          "paper_bgcolor": "white",
          "plot_bgcolor": "#E5ECF6",
          "polar": {
           "angularaxis": {
            "gridcolor": "white",
            "linecolor": "white",
            "ticks": ""
           },
           "bgcolor": "#E5ECF6",
           "radialaxis": {
            "gridcolor": "white",
            "linecolor": "white",
            "ticks": ""
           }
          },
          "scene": {
           "xaxis": {
            "backgroundcolor": "#E5ECF6",
            "gridcolor": "white",
            "gridwidth": 2,
            "linecolor": "white",
            "showbackground": true,
            "ticks": "",
            "zerolinecolor": "white"
           },
           "yaxis": {
            "backgroundcolor": "#E5ECF6",
            "gridcolor": "white",
            "gridwidth": 2,
            "linecolor": "white",
            "showbackground": true,
            "ticks": "",
            "zerolinecolor": "white"
           },
           "zaxis": {
            "backgroundcolor": "#E5ECF6",
            "gridcolor": "white",
            "gridwidth": 2,
            "linecolor": "white",
            "showbackground": true,
            "ticks": "",
            "zerolinecolor": "white"
           }
          },
          "shapedefaults": {
           "line": {
            "color": "#2a3f5f"
           }
          },
          "ternary": {
           "aaxis": {
            "gridcolor": "white",
            "linecolor": "white",
            "ticks": ""
           },
           "baxis": {
            "gridcolor": "white",
            "linecolor": "white",
            "ticks": ""
           },
           "bgcolor": "#E5ECF6",
           "caxis": {
            "gridcolor": "white",
            "linecolor": "white",
            "ticks": ""
           }
          },
          "title": {
           "x": 0.05
          },
          "xaxis": {
           "automargin": true,
           "gridcolor": "white",
           "linecolor": "white",
           "ticks": "",
           "title": {
            "standoff": 15
           },
           "zerolinecolor": "white",
           "zerolinewidth": 2
          },
          "yaxis": {
           "automargin": true,
           "gridcolor": "white",
           "linecolor": "white",
           "ticks": "",
           "title": {
            "standoff": 15
           },
           "zerolinecolor": "white",
           "zerolinewidth": 2
          }
         }
        },
        "title": {
         "font": {
          "family": "Arial",
          "size": 20
         },
         "text": "Porcentaje de Victoria de Manos Preflop Exactas",
         "x": 0.5
        },
        "xaxis": {
         "anchor": "y",
         "domain": [
          0,
          1
         ],
         "title": {
          "text": "Fuerza de la Mano"
         }
        },
        "yaxis": {
         "anchor": "x",
         "domain": [
          0,
          1
         ],
         "title": {
          "text": "Porcentaje de Victoria"
         }
        }
       }
      }
     },
     "metadata": {},
     "output_type": "display_data"
    }
   ],
   "source": [
    "# Creamos una métrica para el eje X: fuerza de la mano\n",
    "card_values = {str(i): i for i in range(2, 10)}\n",
    "card_values.update({'10': 10, 'J': 11, 'Q': 12, 'K': 13, 'A': 14})\n",
    "\n",
    "def hand_strength(hand):\n",
    "    cards = eval(hand)\n",
    "    return sum(card_values[card[:-1]] for card in cards)\n",
    "\n",
    "scatter_data = victory_rate_by_hand.reset_index()\n",
    "scatter_data.columns = ['Cartas', 'Win Rate']\n",
    "scatter_data['Strength'] = scatter_data['Cartas'].apply(hand_strength)\n",
    "\n",
    "# Categorizamos las manos para colorear el scatterplot\n",
    "def categorize_hand(hand):\n",
    "    cards = eval(hand)\n",
    "    values = [card[:-1] for card in cards]\n",
    "    suits = [card[-1] for card in cards]\n",
    "    value_ranks = sorted([card_values[v] for v in values])\n",
    "    \n",
    "    if values[0] == values[1]:\n",
    "        return \"Parejas\"\n",
    "    elif suits[0] == suits[1]:\n",
    "        if abs(value_ranks[1] - value_ranks[0]) == 1:\n",
    "            return \"Conectores Suited\"\n",
    "        else:\n",
    "            return \"Cartas Distintas Suited\"\n",
    "    else:\n",
    "        if abs(value_ranks[1] - value_ranks[0]) == 1:\n",
    "            return \"Conectores Offsuit\"\n",
    "        else:\n",
    "            return \"Cartas Distintas Offsuit\"\n",
    "\n",
    "# Guardamos la categoría en el dataframe\n",
    "scatter_data['Category'] = scatter_data['Cartas'].apply(categorize_hand)\n",
    "\n",
    "# Creamos el scatterplot con la categoría como color\n",
    "fig = px.scatter(\n",
    "    scatter_data,\n",
    "    x='Strength',\n",
    "    y='Win Rate',\n",
    "    color='Category',\n",
    "    hover_data={\n",
    "        'Cartas': True,\n",
    "        'Win Rate': ':.2f',\n",
    "    },\n",
    "    title=\"Porcentaje de Victoria de Manos Preflop Exactas\",\n",
    "    labels={\"Strength\": \"Fuerza de la Mano\", \"Win Rate\": \"Porcentaje de Victoria\", \"Category\": \"Categoría\"},\n",
    "    color_discrete_map={\n",
    "        \"Parejas\": \"blue\",\n",
    "        \"Cartas Distintas Offsuit\": \"orange\",\n",
    "        \"Cartas Distintas Suited\": \"green\",\n",
    "        \"Conectores Suited\": \"purple\",\n",
    "        \"Conectores Offsuit\": \"red\",\n",
    "    }\n",
    ")\n",
    "\n",
    "# Agregamos la recta de regresión lineal como referencia\n",
    "average_expected_rate = df['expected_win_rate'].mean()\n",
    "fig.add_shape(\n",
    "    type=\"line\",\n",
    "    x0=scatter_data['Strength'].min(),\n",
    "    y0=average_expected_rate,\n",
    "    x1=scatter_data['Strength'].max(),\n",
    "    y1=average_expected_rate,\n",
    "    line=dict(color=\"Red\", width=2, dash=\"dash\"),\n",
    "    xref=\"x\",\n",
    "    yref=\"y\"\n",
    ")\n",
    "\n",
    "# Añadimos una anotación con la probabilidad media esperada\n",
    "fig.add_annotation(\n",
    "    x=scatter_data['Strength'].mean(),  \n",
    "    y=average_expected_rate * 2,\n",
    "    xref=\"x\",\n",
    "    yref=\"y\",\n",
    "    text=f\"Probabilidad media esperada ({average_expected_rate:.2f}%)\",\n",
    "    showarrow=False,\n",
    "    font=dict(color=\"Red\", size=14),\n",
    "    align=\"center\",\n",
    "    bgcolor=\"white\",\n",
    "    bordercolor=\"red\",\n",
    "    borderwidth=1,\n",
    "    opacity=0.8\n",
    ")\n",
    "\n",
    "# Ajustamos el diseño del gráfico\n",
    "fig.update_traces(marker=dict(size=8, opacity=0.8, line=dict(width=1, color='DarkSlateGrey')))\n",
    "fig.update_layout(\n",
    "    legend=dict(title=\"Categoría de Mano\"),\n",
    "    title=dict(font=dict(size=20, family=\"Arial\"), x=0.5),\n",
    "    margin=dict(l=40, r=40, t=60, b=40)\n",
    ")\n",
    "\n",
    "# Mostrar el gráfico\n",
    "fig.show()"
   ]
  },
  {
   "cell_type": "markdown",
   "metadata": {},
   "source": [
    "##### **Análisis del porcentaje de victoria de cada mano**\n",
    "\n",
    "Gracias a este Scatterplot estamos viendo a primer golpe de vista que la mano con menos proporción de victoria es el [2, 7] Offsuit. En el caso de nuestro dataset (recuerda que este porcentaje exacto varía si vuelves a generar el dataset con 1 millón de manos simuladas) el porcentaje de victoria de esta mano es del 8.15% mientras que, evidentemente, la mano más fuerte [A, A] tiene una tasa de victoria de en torno al 55% cada combinación de manos [A, A]\n",
    "\n",
    "También se puede apreciar muy rapido que en cada nivel de fuerza de la mano (la medimos por la suma de los números de las dos cartas) las parejas predominan en todos los niveles de fuerza par, ya que en el impar es imposible formar una pareja. Sin embargo, en todos los niveles vemos que las peores manos siempre están representadas por las cartas distintas suited.\n",
    "\n",
    "En resumen, si te tiran All In preflop, ten muy en cuenta esta estadística para plantearte ver el All In estríctamente si la mano que posees tiene un % de victoria por encima de la recta de regresión."
   ]
  },
  {
   "cell_type": "markdown",
   "metadata": {},
   "source": [
    "### 2. **Tipos de manos finales**"
   ]
  },
  {
   "cell_type": "markdown",
   "metadata": {},
   "source": [
    "#### 2.1 ¿Cuál es la proporción de cada tipo de mano que se forma al final de una mano de Poker?"
   ]
  },
  {
   "cell_type": "code",
   "execution_count": 72,
   "metadata": {},
   "outputs": [],
   "source": [
    "# Calculamos la proporción de cada tipo de mano final\n",
    "hand_type_distribution = df['mano_river'].value_counts(normalize=True) * 100\n",
    "hand_type_distribution = hand_type_distribution.reset_index()\n",
    "hand_type_distribution.columns = ['Tipo de Mano', 'Proporción (%)']"
   ]
  },
  {
   "cell_type": "code",
   "execution_count": 73,
   "metadata": {},
   "outputs": [
    {
     "data": {
      "application/vnd.plotly.v1+json": {
       "config": {
        "plotlyServerURL": "https://plot.ly"
       },
       "data": [
        {
         "customdata": [
          [
           "Pareja"
          ],
          [
           "Doble Pareja"
          ],
          [
           "Carta Alta"
          ],
          [
           "Trío"
          ],
          [
           "Escalera"
          ],
          [
           "Color"
          ],
          [
           "Full House"
          ],
          [
           "Póker"
          ],
          [
           "Escalera de Color"
          ],
          [
           "Escalera Real"
          ]
         ],
         "domain": {
          "x": [
           0,
           1
          ],
          "y": [
           0,
           1
          ]
         },
         "hole": 0.4,
         "hovertemplate": "Tipo de Mano=%{customdata[0]}<br>Proporción (%)=%{value}<extra></extra>",
         "labels": [
          "Pareja",
          "Doble Pareja",
          "Carta Alta",
          "Trío",
          "Escalera",
          "Color",
          "Full House",
          "Póker",
          "Escalera de Color",
          "Escalera Real"
         ],
         "legendgroup": "",
         "marker": {
          "colors": [
           "rgb(102,194,165)",
           "rgb(252,141,98)",
           "rgb(141,160,203)",
           "rgb(231,138,195)",
           "rgb(166,216,84)",
           "rgb(255,217,47)",
           "rgb(229,196,148)",
           "rgb(179,179,179)",
           "rgb(102,194,165)",
           "rgb(252,141,98)"
          ]
         },
         "name": "",
         "showlegend": true,
         "type": "pie",
         "values": [
          43.8145,
          23.500899999999998,
          17.384,
          4.8576,
          4.6129999999999995,
          3.0286,
          2.5994,
          0.1693,
          0.03,
          0.0026999999999999997
         ]
        }
       ],
       "layout": {
        "annotations": [
         {
          "font": {
           "family": "Arial",
           "size": 15
          },
          "showarrow": false,
          "text": "Total: 1,000,000 manos",
          "x": 0.5,
          "y": 1.1
         }
        ],
        "legend": {
         "tracegroupgap": 0
        },
        "piecolorway": [
         "rgb(102,194,165)",
         "rgb(252,141,98)",
         "rgb(141,160,203)",
         "rgb(231,138,195)",
         "rgb(166,216,84)",
         "rgb(255,217,47)",
         "rgb(229,196,148)",
         "rgb(179,179,179)"
        ],
        "template": {
         "data": {
          "bar": [
           {
            "error_x": {
             "color": "#2a3f5f"
            },
            "error_y": {
             "color": "#2a3f5f"
            },
            "marker": {
             "line": {
              "color": "#E5ECF6",
              "width": 0.5
             },
             "pattern": {
              "fillmode": "overlay",
              "size": 10,
              "solidity": 0.2
             }
            },
            "type": "bar"
           }
          ],
          "barpolar": [
           {
            "marker": {
             "line": {
              "color": "#E5ECF6",
              "width": 0.5
             },
             "pattern": {
              "fillmode": "overlay",
              "size": 10,
              "solidity": 0.2
             }
            },
            "type": "barpolar"
           }
          ],
          "carpet": [
           {
            "aaxis": {
             "endlinecolor": "#2a3f5f",
             "gridcolor": "white",
             "linecolor": "white",
             "minorgridcolor": "white",
             "startlinecolor": "#2a3f5f"
            },
            "baxis": {
             "endlinecolor": "#2a3f5f",
             "gridcolor": "white",
             "linecolor": "white",
             "minorgridcolor": "white",
             "startlinecolor": "#2a3f5f"
            },
            "type": "carpet"
           }
          ],
          "choropleth": [
           {
            "colorbar": {
             "outlinewidth": 0,
             "ticks": ""
            },
            "type": "choropleth"
           }
          ],
          "contour": [
           {
            "colorbar": {
             "outlinewidth": 0,
             "ticks": ""
            },
            "colorscale": [
             [
              0,
              "#0d0887"
             ],
             [
              0.1111111111111111,
              "#46039f"
             ],
             [
              0.2222222222222222,
              "#7201a8"
             ],
             [
              0.3333333333333333,
              "#9c179e"
             ],
             [
              0.4444444444444444,
              "#bd3786"
             ],
             [
              0.5555555555555556,
              "#d8576b"
             ],
             [
              0.6666666666666666,
              "#ed7953"
             ],
             [
              0.7777777777777778,
              "#fb9f3a"
             ],
             [
              0.8888888888888888,
              "#fdca26"
             ],
             [
              1,
              "#f0f921"
             ]
            ],
            "type": "contour"
           }
          ],
          "contourcarpet": [
           {
            "colorbar": {
             "outlinewidth": 0,
             "ticks": ""
            },
            "type": "contourcarpet"
           }
          ],
          "heatmap": [
           {
            "colorbar": {
             "outlinewidth": 0,
             "ticks": ""
            },
            "colorscale": [
             [
              0,
              "#0d0887"
             ],
             [
              0.1111111111111111,
              "#46039f"
             ],
             [
              0.2222222222222222,
              "#7201a8"
             ],
             [
              0.3333333333333333,
              "#9c179e"
             ],
             [
              0.4444444444444444,
              "#bd3786"
             ],
             [
              0.5555555555555556,
              "#d8576b"
             ],
             [
              0.6666666666666666,
              "#ed7953"
             ],
             [
              0.7777777777777778,
              "#fb9f3a"
             ],
             [
              0.8888888888888888,
              "#fdca26"
             ],
             [
              1,
              "#f0f921"
             ]
            ],
            "type": "heatmap"
           }
          ],
          "heatmapgl": [
           {
            "colorbar": {
             "outlinewidth": 0,
             "ticks": ""
            },
            "colorscale": [
             [
              0,
              "#0d0887"
             ],
             [
              0.1111111111111111,
              "#46039f"
             ],
             [
              0.2222222222222222,
              "#7201a8"
             ],
             [
              0.3333333333333333,
              "#9c179e"
             ],
             [
              0.4444444444444444,
              "#bd3786"
             ],
             [
              0.5555555555555556,
              "#d8576b"
             ],
             [
              0.6666666666666666,
              "#ed7953"
             ],
             [
              0.7777777777777778,
              "#fb9f3a"
             ],
             [
              0.8888888888888888,
              "#fdca26"
             ],
             [
              1,
              "#f0f921"
             ]
            ],
            "type": "heatmapgl"
           }
          ],
          "histogram": [
           {
            "marker": {
             "pattern": {
              "fillmode": "overlay",
              "size": 10,
              "solidity": 0.2
             }
            },
            "type": "histogram"
           }
          ],
          "histogram2d": [
           {
            "colorbar": {
             "outlinewidth": 0,
             "ticks": ""
            },
            "colorscale": [
             [
              0,
              "#0d0887"
             ],
             [
              0.1111111111111111,
              "#46039f"
             ],
             [
              0.2222222222222222,
              "#7201a8"
             ],
             [
              0.3333333333333333,
              "#9c179e"
             ],
             [
              0.4444444444444444,
              "#bd3786"
             ],
             [
              0.5555555555555556,
              "#d8576b"
             ],
             [
              0.6666666666666666,
              "#ed7953"
             ],
             [
              0.7777777777777778,
              "#fb9f3a"
             ],
             [
              0.8888888888888888,
              "#fdca26"
             ],
             [
              1,
              "#f0f921"
             ]
            ],
            "type": "histogram2d"
           }
          ],
          "histogram2dcontour": [
           {
            "colorbar": {
             "outlinewidth": 0,
             "ticks": ""
            },
            "colorscale": [
             [
              0,
              "#0d0887"
             ],
             [
              0.1111111111111111,
              "#46039f"
             ],
             [
              0.2222222222222222,
              "#7201a8"
             ],
             [
              0.3333333333333333,
              "#9c179e"
             ],
             [
              0.4444444444444444,
              "#bd3786"
             ],
             [
              0.5555555555555556,
              "#d8576b"
             ],
             [
              0.6666666666666666,
              "#ed7953"
             ],
             [
              0.7777777777777778,
              "#fb9f3a"
             ],
             [
              0.8888888888888888,
              "#fdca26"
             ],
             [
              1,
              "#f0f921"
             ]
            ],
            "type": "histogram2dcontour"
           }
          ],
          "mesh3d": [
           {
            "colorbar": {
             "outlinewidth": 0,
             "ticks": ""
            },
            "type": "mesh3d"
           }
          ],
          "parcoords": [
           {
            "line": {
             "colorbar": {
              "outlinewidth": 0,
              "ticks": ""
             }
            },
            "type": "parcoords"
           }
          ],
          "pie": [
           {
            "automargin": true,
            "type": "pie"
           }
          ],
          "scatter": [
           {
            "fillpattern": {
             "fillmode": "overlay",
             "size": 10,
             "solidity": 0.2
            },
            "type": "scatter"
           }
          ],
          "scatter3d": [
           {
            "line": {
             "colorbar": {
              "outlinewidth": 0,
              "ticks": ""
             }
            },
            "marker": {
             "colorbar": {
              "outlinewidth": 0,
              "ticks": ""
             }
            },
            "type": "scatter3d"
           }
          ],
          "scattercarpet": [
           {
            "marker": {
             "colorbar": {
              "outlinewidth": 0,
              "ticks": ""
             }
            },
            "type": "scattercarpet"
           }
          ],
          "scattergeo": [
           {
            "marker": {
             "colorbar": {
              "outlinewidth": 0,
              "ticks": ""
             }
            },
            "type": "scattergeo"
           }
          ],
          "scattergl": [
           {
            "marker": {
             "colorbar": {
              "outlinewidth": 0,
              "ticks": ""
             }
            },
            "type": "scattergl"
           }
          ],
          "scattermapbox": [
           {
            "marker": {
             "colorbar": {
              "outlinewidth": 0,
              "ticks": ""
             }
            },
            "type": "scattermapbox"
           }
          ],
          "scatterpolar": [
           {
            "marker": {
             "colorbar": {
              "outlinewidth": 0,
              "ticks": ""
             }
            },
            "type": "scatterpolar"
           }
          ],
          "scatterpolargl": [
           {
            "marker": {
             "colorbar": {
              "outlinewidth": 0,
              "ticks": ""
             }
            },
            "type": "scatterpolargl"
           }
          ],
          "scatterternary": [
           {
            "marker": {
             "colorbar": {
              "outlinewidth": 0,
              "ticks": ""
             }
            },
            "type": "scatterternary"
           }
          ],
          "surface": [
           {
            "colorbar": {
             "outlinewidth": 0,
             "ticks": ""
            },
            "colorscale": [
             [
              0,
              "#0d0887"
             ],
             [
              0.1111111111111111,
              "#46039f"
             ],
             [
              0.2222222222222222,
              "#7201a8"
             ],
             [
              0.3333333333333333,
              "#9c179e"
             ],
             [
              0.4444444444444444,
              "#bd3786"
             ],
             [
              0.5555555555555556,
              "#d8576b"
             ],
             [
              0.6666666666666666,
              "#ed7953"
             ],
             [
              0.7777777777777778,
              "#fb9f3a"
             ],
             [
              0.8888888888888888,
              "#fdca26"
             ],
             [
              1,
              "#f0f921"
             ]
            ],
            "type": "surface"
           }
          ],
          "table": [
           {
            "cells": {
             "fill": {
              "color": "#EBF0F8"
             },
             "line": {
              "color": "white"
             }
            },
            "header": {
             "fill": {
              "color": "#C8D4E3"
             },
             "line": {
              "color": "white"
             }
            },
            "type": "table"
           }
          ]
         },
         "layout": {
          "annotationdefaults": {
           "arrowcolor": "#2a3f5f",
           "arrowhead": 0,
           "arrowwidth": 1
          },
          "autotypenumbers": "strict",
          "coloraxis": {
           "colorbar": {
            "outlinewidth": 0,
            "ticks": ""
           }
          },
          "colorscale": {
           "diverging": [
            [
             0,
             "#8e0152"
            ],
            [
             0.1,
             "#c51b7d"
            ],
            [
             0.2,
             "#de77ae"
            ],
            [
             0.3,
             "#f1b6da"
            ],
            [
             0.4,
             "#fde0ef"
            ],
            [
             0.5,
             "#f7f7f7"
            ],
            [
             0.6,
             "#e6f5d0"
            ],
            [
             0.7,
             "#b8e186"
            ],
            [
             0.8,
             "#7fbc41"
            ],
            [
             0.9,
             "#4d9221"
            ],
            [
             1,
             "#276419"
            ]
           ],
           "sequential": [
            [
             0,
             "#0d0887"
            ],
            [
             0.1111111111111111,
             "#46039f"
            ],
            [
             0.2222222222222222,
             "#7201a8"
            ],
            [
             0.3333333333333333,
             "#9c179e"
            ],
            [
             0.4444444444444444,
             "#bd3786"
            ],
            [
             0.5555555555555556,
             "#d8576b"
            ],
            [
             0.6666666666666666,
             "#ed7953"
            ],
            [
             0.7777777777777778,
             "#fb9f3a"
            ],
            [
             0.8888888888888888,
             "#fdca26"
            ],
            [
             1,
             "#f0f921"
            ]
           ],
           "sequentialminus": [
            [
             0,
             "#0d0887"
            ],
            [
             0.1111111111111111,
             "#46039f"
            ],
            [
             0.2222222222222222,
             "#7201a8"
            ],
            [
             0.3333333333333333,
             "#9c179e"
            ],
            [
             0.4444444444444444,
             "#bd3786"
            ],
            [
             0.5555555555555556,
             "#d8576b"
            ],
            [
             0.6666666666666666,
             "#ed7953"
            ],
            [
             0.7777777777777778,
             "#fb9f3a"
            ],
            [
             0.8888888888888888,
             "#fdca26"
            ],
            [
             1,
             "#f0f921"
            ]
           ]
          },
          "colorway": [
           "#636efa",
           "#EF553B",
           "#00cc96",
           "#ab63fa",
           "#FFA15A",
           "#19d3f3",
           "#FF6692",
           "#B6E880",
           "#FF97FF",
           "#FECB52"
          ],
          "font": {
           "color": "#2a3f5f"
          },
          "geo": {
           "bgcolor": "white",
           "lakecolor": "white",
           "landcolor": "#E5ECF6",
           "showlakes": true,
           "showland": true,
           "subunitcolor": "white"
          },
          "hoverlabel": {
           "align": "left"
          },
          "hovermode": "closest",
          "mapbox": {
           "style": "light"
          },
          "paper_bgcolor": "white",
          "plot_bgcolor": "#E5ECF6",
          "polar": {
           "angularaxis": {
            "gridcolor": "white",
            "linecolor": "white",
            "ticks": ""
           },
           "bgcolor": "#E5ECF6",
           "radialaxis": {
            "gridcolor": "white",
            "linecolor": "white",
            "ticks": ""
           }
          },
          "scene": {
           "xaxis": {
            "backgroundcolor": "#E5ECF6",
            "gridcolor": "white",
            "gridwidth": 2,
            "linecolor": "white",
            "showbackground": true,
            "ticks": "",
            "zerolinecolor": "white"
           },
           "yaxis": {
            "backgroundcolor": "#E5ECF6",
            "gridcolor": "white",
            "gridwidth": 2,
            "linecolor": "white",
            "showbackground": true,
            "ticks": "",
            "zerolinecolor": "white"
           },
           "zaxis": {
            "backgroundcolor": "#E5ECF6",
            "gridcolor": "white",
            "gridwidth": 2,
            "linecolor": "white",
            "showbackground": true,
            "ticks": "",
            "zerolinecolor": "white"
           }
          },
          "shapedefaults": {
           "line": {
            "color": "#2a3f5f"
           }
          },
          "ternary": {
           "aaxis": {
            "gridcolor": "white",
            "linecolor": "white",
            "ticks": ""
           },
           "baxis": {
            "gridcolor": "white",
            "linecolor": "white",
            "ticks": ""
           },
           "bgcolor": "#E5ECF6",
           "caxis": {
            "gridcolor": "white",
            "linecolor": "white",
            "ticks": ""
           }
          },
          "title": {
           "x": 0.05
          },
          "xaxis": {
           "automargin": true,
           "gridcolor": "white",
           "linecolor": "white",
           "ticks": "",
           "title": {
            "standoff": 15
           },
           "zerolinecolor": "white",
           "zerolinewidth": 2
          },
          "yaxis": {
           "automargin": true,
           "gridcolor": "white",
           "linecolor": "white",
           "ticks": "",
           "title": {
            "standoff": 15
           },
           "zerolinecolor": "white",
           "zerolinewidth": 2
          }
         }
        },
        "title": {
         "font": {
          "family": "Arial",
          "size": 20
         },
         "text": "Proporción de Cada Tipo de Mano Final",
         "x": 0.5
        }
       }
      }
     },
     "metadata": {},
     "output_type": "display_data"
    }
   ],
   "source": [
    "# Visualización en un gráfico de rosquilla\n",
    "fig = px.pie(\n",
    "    hand_type_distribution,\n",
    "    names='Tipo de Mano',\n",
    "    values='Proporción (%)',\n",
    "    title='Proporción de Cada Tipo de Mano Final',\n",
    "    hole=0.4,\n",
    "    color='Tipo de Mano',\n",
    "    color_discrete_sequence=px.colors.qualitative.Set2\n",
    ")\n",
    "\n",
    "# Diseño\n",
    "fig.update_layout(\n",
    "    title=dict(font=dict(size=20, family=\"Arial\"), x=0.5),\n",
    "    annotations=[\n",
    "        dict(\n",
    "            text=f\"Total: {df.shape[0]:,} manos\",\n",
    "            x=0.5, y=1.1,\n",
    "            font=dict(size=15, family=\"Arial\"),\n",
    "            showarrow=False\n",
    "        )\n",
    "    ]\n",
    ")\n",
    "\n",
    "fig.show()"
   ]
  },
  {
   "cell_type": "markdown",
   "metadata": {},
   "source": [
    "##### **Análisis de las proporciones de cada tipo de mano final**\n",
    "\n",
    "En este gráfico de Rosquilla, hemos observado que el tipo de mano mas frecuente con diferencia es la *Pareja*. Esto tiene mucho sentido ya que para conseguir este tipo de mano sólo tienes que conectar 2 cartas iguales entre las 7 posibles cartas de la mano.\n",
    "\n",
    "A este tipo de mano le siguen las *Dobles Parejas* y la *Carta Alta* con porcentajes bastante similares. Es sorprendente ver que sean más frecuenten las *Dobles Parejas* que la *Carta Alta* pero tiene todo el sentido del mundo.\n",
    "\n",
    "Finalmente vemos manos como *Trío* y *Escalera* que son muy parecidas porcentualmente. A estas manos las siguen también muy similares, el *Color* y el *Full House* con porcentajes bastante similares, y por último tenemos las tres manos menos probables que son *Poker*, *Escalera de Color* y *Escalera Real* con porcentajes tan bajos que no suman ni un 0.25% entre las 3. Son manos realmente poco comunes."
   ]
  },
  {
   "cell_type": "markdown",
   "metadata": {},
   "source": [
    "#### 2.2 ¿Cuál es la probabilidad de victoria asociada con cada tipo de mano final?"
   ]
  },
  {
   "cell_type": "markdown",
   "metadata": {},
   "source": [
    "Una vez analizada la rareza de cada mano, queremos ver cómo de probable es ser la mano mas fuerte de la partida con cada uno de los tipos de manos. posibles"
   ]
  },
  {
   "cell_type": "code",
   "execution_count": 74,
   "metadata": {},
   "outputs": [],
   "source": [
    "# Calculamos la proporción de victorias por tipo de mano final y convertimos a porcentaje\n",
    "victory_rate_by_hand_type = (\n",
    "    df.groupby('mano_river')['resultado_bin']\n",
    "    .mean()\n",
    "    .reset_index()\n",
    "    .rename(columns={'resultado_bin': 'Win Rate'})\n",
    "    .sort_values(by='Win Rate', ascending=False)\n",
    ")\n",
    "\n",
    "victory_rate_by_hand_type['Win Rate'] *= 100"
   ]
  },
  {
   "cell_type": "code",
   "execution_count": 75,
   "metadata": {},
   "outputs": [
    {
     "data": {
      "application/vnd.plotly.v1+json": {
       "config": {
        "plotlyServerURL": "https://plot.ly"
       },
       "data": [
        {
         "alignmentgroup": "True",
         "hovertemplate": "Proporción de Victoria (%)=%{marker.color}<br>Tipo de Mano Final=%{y}<extra></extra>",
         "legendgroup": "",
         "marker": {
          "color": [
           100,
           94.33333333333334,
           88.54105138806851,
           69.54681849657614,
           64.26071452156111,
           54.93171471927162,
           50.918148880105406,
           28.77294061078512,
           12.41324219151194,
           2.5598251265531524
          ],
          "coloraxis": "coloraxis",
          "line": {
           "color": "black",
           "width": 0.5
          },
          "opacity": 0.85,
          "pattern": {
           "shape": ""
          }
         },
         "name": "",
         "offsetgroup": "",
         "orientation": "h",
         "showlegend": false,
         "text": [
          100,
          94.33333333333334,
          88.54105138806851,
          69.54681849657614,
          64.26071452156111,
          54.93171471927162,
          50.918148880105406,
          28.77294061078512,
          12.41324219151194,
          2.5598251265531524
         ],
         "textposition": "outside",
         "texttemplate": "%{text:.2f}%",
         "type": "bar",
         "x": [
          100,
          94.33333333333334,
          88.54105138806851,
          69.54681849657614,
          64.26071452156111,
          54.93171471927162,
          50.918148880105406,
          28.77294061078512,
          12.41324219151194,
          2.5598251265531524
         ],
         "xaxis": "x",
         "y": [
          "Escalera Real",
          "Escalera de Color",
          "Póker",
          "Full House",
          "Color",
          "Escalera",
          "Trío",
          "Doble Pareja",
          "Pareja",
          "Carta Alta"
         ],
         "yaxis": "y"
        }
       ],
       "layout": {
        "barmode": "relative",
        "coloraxis": {
         "colorbar": {
          "title": {
           "text": "Proporción de Victoria (%)"
          }
         },
         "colorscale": [
          [
           0,
           "#440154"
          ],
          [
           0.1111111111111111,
           "#482878"
          ],
          [
           0.2222222222222222,
           "#3e4989"
          ],
          [
           0.3333333333333333,
           "#31688e"
          ],
          [
           0.4444444444444444,
           "#26828e"
          ],
          [
           0.5555555555555556,
           "#1f9e89"
          ],
          [
           0.6666666666666666,
           "#35b779"
          ],
          [
           0.7777777777777778,
           "#6ece58"
          ],
          [
           0.8888888888888888,
           "#b5de2b"
          ],
          [
           1,
           "#fde725"
          ]
         ],
         "showscale": false
        },
        "legend": {
         "tracegroupgap": 0
        },
        "margin": {
         "b": 50,
         "l": 100,
         "r": 50,
         "t": 80
        },
        "plot_bgcolor": "White",
        "template": {
         "data": {
          "bar": [
           {
            "error_x": {
             "color": "#2a3f5f"
            },
            "error_y": {
             "color": "#2a3f5f"
            },
            "marker": {
             "line": {
              "color": "#E5ECF6",
              "width": 0.5
             },
             "pattern": {
              "fillmode": "overlay",
              "size": 10,
              "solidity": 0.2
             }
            },
            "type": "bar"
           }
          ],
          "barpolar": [
           {
            "marker": {
             "line": {
              "color": "#E5ECF6",
              "width": 0.5
             },
             "pattern": {
              "fillmode": "overlay",
              "size": 10,
              "solidity": 0.2
             }
            },
            "type": "barpolar"
           }
          ],
          "carpet": [
           {
            "aaxis": {
             "endlinecolor": "#2a3f5f",
             "gridcolor": "white",
             "linecolor": "white",
             "minorgridcolor": "white",
             "startlinecolor": "#2a3f5f"
            },
            "baxis": {
             "endlinecolor": "#2a3f5f",
             "gridcolor": "white",
             "linecolor": "white",
             "minorgridcolor": "white",
             "startlinecolor": "#2a3f5f"
            },
            "type": "carpet"
           }
          ],
          "choropleth": [
           {
            "colorbar": {
             "outlinewidth": 0,
             "ticks": ""
            },
            "type": "choropleth"
           }
          ],
          "contour": [
           {
            "colorbar": {
             "outlinewidth": 0,
             "ticks": ""
            },
            "colorscale": [
             [
              0,
              "#0d0887"
             ],
             [
              0.1111111111111111,
              "#46039f"
             ],
             [
              0.2222222222222222,
              "#7201a8"
             ],
             [
              0.3333333333333333,
              "#9c179e"
             ],
             [
              0.4444444444444444,
              "#bd3786"
             ],
             [
              0.5555555555555556,
              "#d8576b"
             ],
             [
              0.6666666666666666,
              "#ed7953"
             ],
             [
              0.7777777777777778,
              "#fb9f3a"
             ],
             [
              0.8888888888888888,
              "#fdca26"
             ],
             [
              1,
              "#f0f921"
             ]
            ],
            "type": "contour"
           }
          ],
          "contourcarpet": [
           {
            "colorbar": {
             "outlinewidth": 0,
             "ticks": ""
            },
            "type": "contourcarpet"
           }
          ],
          "heatmap": [
           {
            "colorbar": {
             "outlinewidth": 0,
             "ticks": ""
            },
            "colorscale": [
             [
              0,
              "#0d0887"
             ],
             [
              0.1111111111111111,
              "#46039f"
             ],
             [
              0.2222222222222222,
              "#7201a8"
             ],
             [
              0.3333333333333333,
              "#9c179e"
             ],
             [
              0.4444444444444444,
              "#bd3786"
             ],
             [
              0.5555555555555556,
              "#d8576b"
             ],
             [
              0.6666666666666666,
              "#ed7953"
             ],
             [
              0.7777777777777778,
              "#fb9f3a"
             ],
             [
              0.8888888888888888,
              "#fdca26"
             ],
             [
              1,
              "#f0f921"
             ]
            ],
            "type": "heatmap"
           }
          ],
          "heatmapgl": [
           {
            "colorbar": {
             "outlinewidth": 0,
             "ticks": ""
            },
            "colorscale": [
             [
              0,
              "#0d0887"
             ],
             [
              0.1111111111111111,
              "#46039f"
             ],
             [
              0.2222222222222222,
              "#7201a8"
             ],
             [
              0.3333333333333333,
              "#9c179e"
             ],
             [
              0.4444444444444444,
              "#bd3786"
             ],
             [
              0.5555555555555556,
              "#d8576b"
             ],
             [
              0.6666666666666666,
              "#ed7953"
             ],
             [
              0.7777777777777778,
              "#fb9f3a"
             ],
             [
              0.8888888888888888,
              "#fdca26"
             ],
             [
              1,
              "#f0f921"
             ]
            ],
            "type": "heatmapgl"
           }
          ],
          "histogram": [
           {
            "marker": {
             "pattern": {
              "fillmode": "overlay",
              "size": 10,
              "solidity": 0.2
             }
            },
            "type": "histogram"
           }
          ],
          "histogram2d": [
           {
            "colorbar": {
             "outlinewidth": 0,
             "ticks": ""
            },
            "colorscale": [
             [
              0,
              "#0d0887"
             ],
             [
              0.1111111111111111,
              "#46039f"
             ],
             [
              0.2222222222222222,
              "#7201a8"
             ],
             [
              0.3333333333333333,
              "#9c179e"
             ],
             [
              0.4444444444444444,
              "#bd3786"
             ],
             [
              0.5555555555555556,
              "#d8576b"
             ],
             [
              0.6666666666666666,
              "#ed7953"
             ],
             [
              0.7777777777777778,
              "#fb9f3a"
             ],
             [
              0.8888888888888888,
              "#fdca26"
             ],
             [
              1,
              "#f0f921"
             ]
            ],
            "type": "histogram2d"
           }
          ],
          "histogram2dcontour": [
           {
            "colorbar": {
             "outlinewidth": 0,
             "ticks": ""
            },
            "colorscale": [
             [
              0,
              "#0d0887"
             ],
             [
              0.1111111111111111,
              "#46039f"
             ],
             [
              0.2222222222222222,
              "#7201a8"
             ],
             [
              0.3333333333333333,
              "#9c179e"
             ],
             [
              0.4444444444444444,
              "#bd3786"
             ],
             [
              0.5555555555555556,
              "#d8576b"
             ],
             [
              0.6666666666666666,
              "#ed7953"
             ],
             [
              0.7777777777777778,
              "#fb9f3a"
             ],
             [
              0.8888888888888888,
              "#fdca26"
             ],
             [
              1,
              "#f0f921"
             ]
            ],
            "type": "histogram2dcontour"
           }
          ],
          "mesh3d": [
           {
            "colorbar": {
             "outlinewidth": 0,
             "ticks": ""
            },
            "type": "mesh3d"
           }
          ],
          "parcoords": [
           {
            "line": {
             "colorbar": {
              "outlinewidth": 0,
              "ticks": ""
             }
            },
            "type": "parcoords"
           }
          ],
          "pie": [
           {
            "automargin": true,
            "type": "pie"
           }
          ],
          "scatter": [
           {
            "fillpattern": {
             "fillmode": "overlay",
             "size": 10,
             "solidity": 0.2
            },
            "type": "scatter"
           }
          ],
          "scatter3d": [
           {
            "line": {
             "colorbar": {
              "outlinewidth": 0,
              "ticks": ""
             }
            },
            "marker": {
             "colorbar": {
              "outlinewidth": 0,
              "ticks": ""
             }
            },
            "type": "scatter3d"
           }
          ],
          "scattercarpet": [
           {
            "marker": {
             "colorbar": {
              "outlinewidth": 0,
              "ticks": ""
             }
            },
            "type": "scattercarpet"
           }
          ],
          "scattergeo": [
           {
            "marker": {
             "colorbar": {
              "outlinewidth": 0,
              "ticks": ""
             }
            },
            "type": "scattergeo"
           }
          ],
          "scattergl": [
           {
            "marker": {
             "colorbar": {
              "outlinewidth": 0,
              "ticks": ""
             }
            },
            "type": "scattergl"
           }
          ],
          "scattermapbox": [
           {
            "marker": {
             "colorbar": {
              "outlinewidth": 0,
              "ticks": ""
             }
            },
            "type": "scattermapbox"
           }
          ],
          "scatterpolar": [
           {
            "marker": {
             "colorbar": {
              "outlinewidth": 0,
              "ticks": ""
             }
            },
            "type": "scatterpolar"
           }
          ],
          "scatterpolargl": [
           {
            "marker": {
             "colorbar": {
              "outlinewidth": 0,
              "ticks": ""
             }
            },
            "type": "scatterpolargl"
           }
          ],
          "scatterternary": [
           {
            "marker": {
             "colorbar": {
              "outlinewidth": 0,
              "ticks": ""
             }
            },
            "type": "scatterternary"
           }
          ],
          "surface": [
           {
            "colorbar": {
             "outlinewidth": 0,
             "ticks": ""
            },
            "colorscale": [
             [
              0,
              "#0d0887"
             ],
             [
              0.1111111111111111,
              "#46039f"
             ],
             [
              0.2222222222222222,
              "#7201a8"
             ],
             [
              0.3333333333333333,
              "#9c179e"
             ],
             [
              0.4444444444444444,
              "#bd3786"
             ],
             [
              0.5555555555555556,
              "#d8576b"
             ],
             [
              0.6666666666666666,
              "#ed7953"
             ],
             [
              0.7777777777777778,
              "#fb9f3a"
             ],
             [
              0.8888888888888888,
              "#fdca26"
             ],
             [
              1,
              "#f0f921"
             ]
            ],
            "type": "surface"
           }
          ],
          "table": [
           {
            "cells": {
             "fill": {
              "color": "#EBF0F8"
             },
             "line": {
              "color": "white"
             }
            },
            "header": {
             "fill": {
              "color": "#C8D4E3"
             },
             "line": {
              "color": "white"
             }
            },
            "type": "table"
           }
          ]
         },
         "layout": {
          "annotationdefaults": {
           "arrowcolor": "#2a3f5f",
           "arrowhead": 0,
           "arrowwidth": 1
          },
          "autotypenumbers": "strict",
          "coloraxis": {
           "colorbar": {
            "outlinewidth": 0,
            "ticks": ""
           }
          },
          "colorscale": {
           "diverging": [
            [
             0,
             "#8e0152"
            ],
            [
             0.1,
             "#c51b7d"
            ],
            [
             0.2,
             "#de77ae"
            ],
            [
             0.3,
             "#f1b6da"
            ],
            [
             0.4,
             "#fde0ef"
            ],
            [
             0.5,
             "#f7f7f7"
            ],
            [
             0.6,
             "#e6f5d0"
            ],
            [
             0.7,
             "#b8e186"
            ],
            [
             0.8,
             "#7fbc41"
            ],
            [
             0.9,
             "#4d9221"
            ],
            [
             1,
             "#276419"
            ]
           ],
           "sequential": [
            [
             0,
             "#0d0887"
            ],
            [
             0.1111111111111111,
             "#46039f"
            ],
            [
             0.2222222222222222,
             "#7201a8"
            ],
            [
             0.3333333333333333,
             "#9c179e"
            ],
            [
             0.4444444444444444,
             "#bd3786"
            ],
            [
             0.5555555555555556,
             "#d8576b"
            ],
            [
             0.6666666666666666,
             "#ed7953"
            ],
            [
             0.7777777777777778,
             "#fb9f3a"
            ],
            [
             0.8888888888888888,
             "#fdca26"
            ],
            [
             1,
             "#f0f921"
            ]
           ],
           "sequentialminus": [
            [
             0,
             "#0d0887"
            ],
            [
             0.1111111111111111,
             "#46039f"
            ],
            [
             0.2222222222222222,
             "#7201a8"
            ],
            [
             0.3333333333333333,
             "#9c179e"
            ],
            [
             0.4444444444444444,
             "#bd3786"
            ],
            [
             0.5555555555555556,
             "#d8576b"
            ],
            [
             0.6666666666666666,
             "#ed7953"
            ],
            [
             0.7777777777777778,
             "#fb9f3a"
            ],
            [
             0.8888888888888888,
             "#fdca26"
            ],
            [
             1,
             "#f0f921"
            ]
           ]
          },
          "colorway": [
           "#636efa",
           "#EF553B",
           "#00cc96",
           "#ab63fa",
           "#FFA15A",
           "#19d3f3",
           "#FF6692",
           "#B6E880",
           "#FF97FF",
           "#FECB52"
          ],
          "font": {
           "color": "#2a3f5f"
          },
          "geo": {
           "bgcolor": "white",
           "lakecolor": "white",
           "landcolor": "#E5ECF6",
           "showlakes": true,
           "showland": true,
           "subunitcolor": "white"
          },
          "hoverlabel": {
           "align": "left"
          },
          "hovermode": "closest",
          "mapbox": {
           "style": "light"
          },
          "paper_bgcolor": "white",
          "plot_bgcolor": "#E5ECF6",
          "polar": {
           "angularaxis": {
            "gridcolor": "white",
            "linecolor": "white",
            "ticks": ""
           },
           "bgcolor": "#E5ECF6",
           "radialaxis": {
            "gridcolor": "white",
            "linecolor": "white",
            "ticks": ""
           }
          },
          "scene": {
           "xaxis": {
            "backgroundcolor": "#E5ECF6",
            "gridcolor": "white",
            "gridwidth": 2,
            "linecolor": "white",
            "showbackground": true,
            "ticks": "",
            "zerolinecolor": "white"
           },
           "yaxis": {
            "backgroundcolor": "#E5ECF6",
            "gridcolor": "white",
            "gridwidth": 2,
            "linecolor": "white",
            "showbackground": true,
            "ticks": "",
            "zerolinecolor": "white"
           },
           "zaxis": {
            "backgroundcolor": "#E5ECF6",
            "gridcolor": "white",
            "gridwidth": 2,
            "linecolor": "white",
            "showbackground": true,
            "ticks": "",
            "zerolinecolor": "white"
           }
          },
          "shapedefaults": {
           "line": {
            "color": "#2a3f5f"
           }
          },
          "ternary": {
           "aaxis": {
            "gridcolor": "white",
            "linecolor": "white",
            "ticks": ""
           },
           "baxis": {
            "gridcolor": "white",
            "linecolor": "white",
            "ticks": ""
           },
           "bgcolor": "#E5ECF6",
           "caxis": {
            "gridcolor": "white",
            "linecolor": "white",
            "ticks": ""
           }
          },
          "title": {
           "x": 0.05
          },
          "xaxis": {
           "automargin": true,
           "gridcolor": "white",
           "linecolor": "white",
           "ticks": "",
           "title": {
            "standoff": 15
           },
           "zerolinecolor": "white",
           "zerolinewidth": 2
          },
          "yaxis": {
           "automargin": true,
           "gridcolor": "white",
           "linecolor": "white",
           "ticks": "",
           "title": {
            "standoff": 15
           },
           "zerolinecolor": "white",
           "zerolinewidth": 2
          }
         }
        },
        "title": {
         "font": {
          "color": "Black",
          "family": "Arial",
          "size": 24
         },
         "text": "Proporción de Victoria Según el Tipo de Mano Final",
         "x": 0.5
        },
        "xaxis": {
         "anchor": "y",
         "domain": [
          0,
          1
         ],
         "gridcolor": "LightGray",
         "tickfont": {
          "color": "Gray",
          "family": "Arial",
          "size": 14
         },
         "title": {
          "font": {
           "color": "Gray",
           "family": "Arial",
           "size": 18
          },
          "text": "Proporción de Victoria (%)"
         },
         "zeroline": false
        },
        "yaxis": {
         "anchor": "x",
         "domain": [
          0,
          1
         ],
         "tickfont": {
          "color": "Gray",
          "family": "Arial",
          "size": 14
         },
         "title": {
          "font": {
           "color": "Gray",
           "family": "Arial",
           "size": 18
          },
          "text": "Tipo de Mano Final"
         }
        }
       }
      }
     },
     "metadata": {},
     "output_type": "display_data"
    }
   ],
   "source": [
    "# Visualización en un gráfico de barras horizontales\n",
    "fig = px.bar(\n",
    "    victory_rate_by_hand_type,\n",
    "    x='Win Rate',\n",
    "    y='mano_river',\n",
    "    orientation='h',\n",
    "    text='Win Rate',\n",
    "    title=\"Proporción de Victoria Según el Tipo de Mano Final\",\n",
    "    labels={\"mano_river\": \"Tipo de Mano Final\", \"Win Rate\": \"Proporción de Victoria (%)\"},\n",
    "    color='Win Rate',\n",
    "    color_continuous_scale=px.colors.sequential.Viridis,\n",
    ")\n",
    "\n",
    "# Diseño de las barras\n",
    "fig.update_traces(\n",
    "    texttemplate='%{text:.2f}%', \n",
    "    textposition='outside',    \n",
    "    marker=dict(\n",
    "        line=dict(color='black', width=0.5),  \n",
    "        opacity=0.85                          \n",
    "    )\n",
    ")\n",
    "\n",
    "# Diseño general\n",
    "fig.update_layout(\n",
    "    title=dict(\n",
    "        text=\"Proporción de Victoria Según el Tipo de Mano Final\",\n",
    "        font=dict(size=24, family=\"Arial\", color=\"Black\"),\n",
    "        x=0.5\n",
    "    ),\n",
    "    xaxis=dict(\n",
    "        title=\"Proporción de Victoria (%)\",\n",
    "        title_font=dict(size=18, family=\"Arial\", color=\"Gray\"),\n",
    "        tickfont=dict(size=14, family=\"Arial\", color=\"Gray\"),\n",
    "        gridcolor=\"LightGray\",  \n",
    "        zeroline=False         \n",
    "    ),\n",
    "    yaxis=dict(\n",
    "        title=\"Tipo de Mano Final\",\n",
    "        title_font=dict(size=18, family=\"Arial\", color=\"Gray\"),\n",
    "        tickfont=dict(size=14, family=\"Arial\", color=\"Gray\"),\n",
    "    ),\n",
    "    coloraxis_showscale=False,  \n",
    "    margin=dict(l=100, r=50, t=80, b=50),  \n",
    "    plot_bgcolor=\"White\",\n",
    ")\n",
    "\n",
    "fig.show()"
   ]
  },
  {
   "cell_type": "markdown",
   "metadata": {},
   "source": [
    "##### **Análisis de la proporción de victoria según el tipo de mano final**\n",
    "\n",
    "En este gráfico podemos observar que efectivamente las manos menos comunes que habíamos visto en el grafico anterior, *Poker, Escalera de Color y Escalera Real*, son manos realmente fuertes y la tasa de victoria es altísima.\n",
    "\n",
    "De hecho este análisis lo realizamos para todas las manos en el River únicamente, es por eso que el *Poker* por ejemplo tiene un 11.46% en el que pierde o empata, porque habrá alguna simulación en la que nos encontremos el *Poker* en las cartas comunitarias y habrá empates y partidas decididas por el *Kicker*. Este tipo de manos, si empezamos con proyecto preflop tienen una tasa de victoria que tiende a 100.\n",
    "\n",
    "También podemos observar que la tasa de *Escalera Real* es del 100%. Es una mano que sale aproximadamente 1 de cada 30,000 veces pero esa vez que es prácticamente victoria asegurada.\n",
    "\n",
    "Por último, es muy destacable el bajo porcentaje de victoria de *Carta Alta*, en nuestro caso un 2.56%. Esto nos da una idea de que en la gran mayoría de los casos si nos vamos al River con *Carta Alta* es una mano que ganaremos 1 de cada 40 veces aproximádamente en partidas de 2-9 jugadores, unos 4-5 jugadores de media."
   ]
  }
 ],
 "metadata": {
  "kernelspec": {
   "display_name": "poker-env",
   "language": "python",
   "name": "python3"
  },
  "language_info": {
   "codemirror_mode": {
    "name": "ipython",
    "version": 3
   },
   "file_extension": ".py",
   "mimetype": "text/x-python",
   "name": "python",
   "nbconvert_exporter": "python",
   "pygments_lexer": "ipython3",
   "version": "3.11.9"
  }
 },
 "nbformat": 4,
 "nbformat_minor": 2
}
