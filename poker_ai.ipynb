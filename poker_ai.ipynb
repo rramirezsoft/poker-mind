{
 "cells": [
  {
   "cell_type": "markdown",
   "metadata": {},
   "source": [
    "# Poker Mind - Modelo ANN"
   ]
  },
  {
   "cell_type": "markdown",
   "metadata": {},
   "source": [
    "#### **Introducción**\n",
    "Este último módulo de **Poker Mind** tiene como objetivo utilizar una red neuronal artificial (ANN) para predecir el resultado de una partida de póker basándose en los datos de entrada proporcionados, como las cartas del jugador, las cartas comunitarias, y el número de rivales. Este modelo es un ejemplo de cómo las técnicas avanzadas de aprendizaje automático pueden aplicarse a juegos complejos para analizar y mejorar la toma de decisiones.\n",
    "\n",
    "#### **Redes Neuronales Artificiales (ANN)**\n",
    "Una red neuronal artificial (ANN) es un modelo matemático inspirado en la estructura y funcionamiento del cerebro humano. Una ANN consta de nodos interconectados, organizados en capas:\n",
    "\n",
    "1. **Capa de entrada:** Recibe las características iniciales del problema (cartas del jugador, número de jugadores...).\n",
    "2. **Capas ocultas:** Procesan y transforman los datos mediante funciones no lineales.\n",
    "3. **Capa de salida:** Produce la predicción final (victoria/empate/derrota).\n",
    "\n",
    "La ANN aprende ajustando sus pesos mediante un proceso de optimización llamado retropropagación (backpropagation), basado en el cálculo del error entre la predicción y el valor real.\n",
    "\n",
    "#### **Modelo Matemático de una Neurona**\n",
    "La salida de una neurona se calcula como:\n",
    "\n",
    "$$\n",
    "z = \\sum_{i=1}^{n} w_i x_i + b\n",
    "$$\n",
    "\n",
    "Donde:\n",
    "- \\(x_i\\): Valores de entrada.\n",
    "- \\(w_i\\): Pesos asignados a cada entrada.\n",
    "- \\(b\\): Término de sesgo (bias).\n",
    "- \\(z\\): Salida ponderada (preactivación).\n",
    "\n",
    "Posteriormente, se aplica una función de activación f(z) para introducir no linealidad:\n",
    "\n",
    "$$\n",
    "a = f(z)\n",
    "$$\n",
    "\n",
    "Algunas funciones de activación comunes incluyen:\n",
    "- ReLU (Rectified Linear Unit): $$ f(z) = \\max(0, z) $$\n",
    "- Sigmoide: $$ f(z) = \\frac{1}{1 + e^{-z}} $$\n",
    "\n",
    "#### **Arquitectura del modelo**\n",
    "\n",
    "La arquitectura de Poker Mind se basa en una red neuronal artificial (ANN) diseñada para predecir el resultado de una mano de póker, considerando diversas características de las cartas y el estado de la partida. Esta red tiene múltiples capas ocultas y emplea funciones de activación no lineales, como ReLU, para introducir complejidad y capacidad de generalización.\n",
    "\n",
    "![Red Neuronal Artificial (ANN)](https://procesia.com/wp-content/uploads/2024/10/Leonardo_Lightning_XL_neural_networks_2.jpg)\n",
    "\n",
    "\n",
    "#### Expresión matemática del algoritmo\n",
    "\n",
    "Para un ejemplo de entrada $x^{(i)}$:\n",
    "$$z^{(i)} = w^T x^{(i)} + b \\tag{1}$$\n",
    "$$\\hat{y}^{(i)} = a^{(i)} = sigmoid(z^{(i)})\\tag{2}$$ \n",
    "$$ \\mathcal{L}(a^{(i)}, y^{(i)}) =  - y^{(i)}  \\log(a^{(i)}) - (1-y^{(i)} )  \\log(1-a^{(i)})\\tag{3}$$\n",
    "\n",
    "Luego, el coste se calcula sumando todos los ejemplos de entrenamiento:\n",
    "$$ J = \\frac{1}{m} \\sum_{i=1}^m \\mathcal{L}(a^{(i)}, y^{(i)})\\tag{4}$$"
   ]
  },
  {
   "cell_type": "markdown",
   "metadata": {},
   "source": [
    "### Importación de Librerías"
   ]
  },
  {
   "cell_type": "code",
   "execution_count": 1,
   "metadata": {},
   "outputs": [],
   "source": [
    "import os\n",
    "import pandas as pd\n",
    "import numpy as np\n",
    "import ast\n",
    "from sklearn.preprocessing import MinMaxScaler\n",
    "from sklearn.model_selection import train_test_split\n",
    "import tensorflow as tf\n",
    "from tensorflow.keras.models import Sequential, load_model # type: ignore\n",
    "from tensorflow.keras.optimizers import Adam # type: ignore\n",
    "from tensorflow.keras.layers import Dense, Input, Dropout, BatchNormalization, LeakyReLU # type: ignore\n",
    "from tensorflow.keras.callbacks import ReduceLROnPlateau, EarlyStopping, ModelCheckpoint # type: ignore\n",
    "from tensorflow.keras.regularizers import l2 # type: ignore\n",
    "import joblib\n",
    "from sklearn.metrics import confusion_matrix\n",
    "import seaborn as sns\n",
    "import matplotlib.pyplot as plt\n",
    "from sklearn.metrics import classification_report"
   ]
  },
  {
   "cell_type": "markdown",
   "metadata": {},
   "source": [
    "### Conversión de cartas a números y dataset aplanado\n",
    "\n",
    "En esta celda, hemos convertido los valores de las cartas a numéricos y hemos aplanado el dataset de tal manera que nos queden todas las columnas separadas con números en cada columna mapeando las cartas. El proceso incluye:\n",
    "\n",
    "1. **Conversión de cartas a números**: \n",
    "   - Se ha creado una función `carta_a_numero` que convierte las cartas de póker (por ejemplo, 'A♠' o 'K♥') a un valor numérico. Los valores de las cartas (2-14) y los palos (♠, ♣, ♦, ♥ ) se asignan con números específicos (1-4).\n",
    "   \n",
    "2. **Conversión de las manos**:\n",
    "   - Las manos preflop (\"Carta Alta Offsuit\", \"Carta Alta Suited\" y \"Pareja\") se convierten a valores numéricos mediante la función `clasifica_mano_preflop` y las manos clásicas de Póker (Carta Alta, Pareja, Doble Pareja...) con la función `clasifica_mano`.\n",
    "\n",
    "3. **Procesamiento de columnas**:\n",
    "   - Se han aplanado las columnas que contienen las cartas del jugador y las cartas comunitarias (flop, turn, river). Cada carta ha sido separada y convertida a un valor numérico correspondiente.\n",
    "   - Las manos preflop, flop, turn y river también se han convertido en valores numéricos utilizando las funciones correspondientes.\n",
    "\n",
    "4. **Resultado**: \n",
    "   - Se ha convertido el resultado de la mano (Victoria, Empate, Derrota) en números: `Victoria = 2`, `Empate = 1`, `Derrota = 0`.\n",
    "\n",
    "### Ejemplo de línea con el dataset aplanado\n",
    "\n",
    "A continuación se muestra un ejemplo de una línea de datos después de aplicar el aplanado y conversión a números:\n",
    "\n",
    "| carta_1 | carta_2 | num_rivales | mano_preflop | flop_1 | flop_2 | flop_3 | mano_flop | turn | mano_turn | river | mano_river |\n",
    "|---------|---------|-------------|--------------|--------|--------|--------|-----------|------|-----------|-------|------------|\n",
    "| 94      | 122     | 5           | 0            | 33     | 124    | 144    | 1         | 112  | 1         | 111   | 2          | \n",
    "\n",
    "Finalmente, el DataFrame resultante contiene solo las columnas numéricas relevantes, que serán utilizadas para entrenar el modelo.\n"
   ]
  },
  {
   "cell_type": "code",
   "execution_count": 2,
   "metadata": {},
   "outputs": [],
   "source": [
    "# Convertimos las cartas en números\n",
    "def carta_a_numero(carta):\n",
    "    valores = {'2': 2, '3': 3, '4': 4, '5': 5, '6': 6, '7': 7, '8': 8, '9': 9, '10': 10, 'J': 11, 'Q': 12, 'K': 13, 'A': 14}\n",
    "    palos = {'♠': 1, '♣': 2, '♦': 3, '♥': 4}\n",
    "    \n",
    "    valor = carta[:-1]\n",
    "    palo = carta[-1]\n",
    "    \n",
    "    return valores[valor] * 10 + palos[palo]\n",
    "\n",
    "# CONVERTIMOS LAS MANOS EN NÚMEROS\n",
    "\n",
    "# Manos preflop\n",
    "def clasifica_mano_preflop(mano):\n",
    "    manos = {\"Carta Alta Offsuit\": 0, \"Carta Alta Suited\": 1, \"Pareja Offsuit\": 2}\n",
    "    return manos.get(mano, -1)\n",
    "\n",
    "# Manos flop, turn y river\n",
    "def clasifica_mano(mano):\n",
    "    manos = {\"Carta Alta\": 0, \"Pareja\": 1, \"Doble Pareja\": 2, \"Trío\": 3, \"Escalera\": 4, \"Color\": 5, \"Full\": 6, \"Póker\": 7, \"Escalera de Color\": 8, \"Escalera Real\": 9}\n",
    "    return manos.get(mano, -1)\n",
    "\n",
    "# Convertimos los resultados a números\n",
    "def resultado_a_numero(resultado):\n",
    "    if resultado == 'Victoria':\n",
    "        return 2\n",
    "    elif resultado == 'Empate':\n",
    "        return 1\n",
    "    else:\n",
    "        return 0  # Derrota\n",
    "\n",
    "# Leemos el dataset original para procesarlo\n",
    "df = pd.read_csv('data/simulacion_montecarlo.csv')\n",
    "\n",
    "# Aplanamos las columnas de cartas del jugador y convertirlas a números\n",
    "df['carta_1'] = df['cartas_jugador'].apply(lambda x: carta_a_numero(ast.literal_eval(x)[0]))\n",
    "df['carta_2'] = df['cartas_jugador'].apply(lambda x: carta_a_numero(ast.literal_eval(x)[1]))\n",
    "\n",
    "# Convertimos las columnas de cartas del flop, turn y river directamente\n",
    "df['flop_1'] = df['flop'].apply(lambda x: carta_a_numero(ast.literal_eval(x)[0]))\n",
    "df['flop_2'] = df['flop'].apply(lambda x: carta_a_numero(ast.literal_eval(x)[1]))\n",
    "df['flop_3'] = df['flop'].apply(lambda x: carta_a_numero(ast.literal_eval(x)[2]))\n",
    "\n",
    "df['turn'] = df['turn'].apply(lambda x: carta_a_numero(ast.literal_eval(x)[0]))\n",
    "\n",
    "df['river'] = df['river'].apply(lambda x: carta_a_numero(ast.literal_eval(x)[0]))\n",
    "\n",
    "# Convertimos la columna de cartas_river en 5 columnas diferentes para obtener la mano final del jugador en 5 colmnas distintas\n",
    "df['carta_final_1'] = df['cartas_river'].apply(lambda x: carta_a_numero(ast.literal_eval(x)[0]))\n",
    "df['carta_final_2'] = df['cartas_river'].apply(lambda x: carta_a_numero(ast.literal_eval(x)[1]))\n",
    "df['carta_final_3'] = df['cartas_river'].apply(lambda x: carta_a_numero(ast.literal_eval(x)[2]))\n",
    "df['carta_final_4'] = df['cartas_river'].apply(lambda x: carta_a_numero(ast.literal_eval(x)[3]))\n",
    "df['carta_final_5'] = df['cartas_river'].apply(lambda x: carta_a_numero(ast.literal_eval(x)[4]))\n",
    "\n",
    "# Convertimos las clasificaciones de mano (preflop, flop, turn, river) a números\n",
    "df['mano_preflop'] = df['mano_preflop'].apply(clasifica_mano_preflop)\n",
    "df['mano_flop'] = df['mano_flop'].apply(clasifica_mano)\n",
    "df['mano_turn'] = df['mano_turn'].apply(clasifica_mano)\n",
    "df['mano_river'] = df['mano_river'].apply(clasifica_mano)\n",
    "\n",
    "# Convertimos el resultado a números\n",
    "df['resultado'] = df['resultado'].apply(resultado_a_numero)\n",
    "\n",
    "# Seleccionamos las columnas que tendrá el dataset procesado\n",
    "df_procesado= df[['carta_1', 'carta_2', 'num_rivales', 'mano_preflop', 'flop_1', 'flop_2', 'flop_3', 'mano_flop', \n",
    "               'turn', 'mano_turn', 'river', 'mano_river', 'carta_final_1', 'carta_final_2', 'carta_final_3', 'carta_final_4', 'carta_final_5', 'resultado']]\n",
    "\n",
    "# Si lo deseas puedes guardar el dataset procesado en un archivo CSV para ver su arquitectura y entender mejor el modelo\n",
    "# df_procesado.to_csv('data/simulacion_montecarlo_procesado.csv', index=False)"
   ]
  },
  {
   "cell_type": "markdown",
   "metadata": {},
   "source": [
    "### Escalado de Datos (Normalización)\n",
    "\n",
    "El escalado de datos es un paso clave en el preprocesamiento de datos antes de entrenar un modelo de Machine Learning. Este proceso asegura que todas las características numéricas del dataset tengan el mismo rango, lo que mejora la eficiencia del modelo y la convergencia durante el entrenamiento.\n",
    "\n",
    "#### Explicación del Código:\n",
    "\n",
    "1. **MinMaxScaler**:\n",
    "   - Utilizamos `MinMaxScaler`, un escalador que transforma los datos numéricos de las características a un rango específico, típicamente entre 0 y 1.\n",
    "   - La fórmula para la transformación de cada valor es:\n",
    "     $$\n",
    "     X_{\\text{escalado}} = \\frac{X - X_{\\text{min}}}{X_{\\text{max}} - X_{\\text{min}}}\n",
    "     $$\n",
    "     Donde encontramos los valores mínimo y máximo de la característica.\n",
    "\n",
    "2. **Separación de características y etiqueta**:\n",
    "   - Separamos las características (X) y la variable objetivo (y) antes de realizar el escalado. La columna `resultado` es la variable objetivo, mientras que todas las demás columnas son las características que se usarán para entrenar el modelo.\n",
    "\n",
    "3. **Aplicación del escalado**:\n",
    "   - Aplicamos el escalador `MinMaxScaler` a las características `X` y generamos un nuevo conjunto de características escaladas (`X_scaled`)."
   ]
  },
  {
   "cell_type": "code",
   "execution_count": 3,
   "metadata": {},
   "outputs": [],
   "source": [
    "scaler = MinMaxScaler()\n",
    "X = df_procesado.drop(columns=['resultado'])\n",
    "X_scaled = scaler.fit_transform(X)\n",
    "\n",
    "y = df_procesado['resultado']\n",
    "\n",
    "joblib.dump(scaler, 'models/scaler.pkl') # Guardamos el escalador para poder usarlo en el servidor"
   ]
  },
  {
   "cell_type": "markdown",
   "metadata": {},
   "source": [
    "### División del Conjunto de Datos en Entrenamiento y Test\n",
    "\n",
    "Dividimos el conjunto de datos en dos partes: entrenamiento (80%) y test (20%), utilizando la función `train_test_split` de `sklearn`. El conjunto de entrenamiento se usa para entrenar el modelo, mientras que el conjunto de test se emplea para evaluar su rendimiento en datos no vistos."
   ]
  },
  {
   "cell_type": "code",
   "execution_count": 4,
   "metadata": {},
   "outputs": [],
   "source": [
    "X_train, X_test, y_train, y_test = train_test_split(X_scaled, y, test_size=0.2, random_state=42)\n"
   ]
  },
  {
   "cell_type": "markdown",
   "metadata": {},
   "source": [
    "### Arquitectura del Modelo de Red Neuronal\n",
    "\n",
    "El modelo está basado en una red neuronal profunda, utilizando una serie de capas densas (fully connected) con regularización L2, normalización por lotes (BatchNormalization), activación LeakyReLU y Dropout para evitar el sobreajuste.\n",
    "\n",
    "#### Capas del modelo:\n",
    "\n",
    "1. **Capa de entrada**: \n",
    "   - Forma: (Número de características de entrada, `X_train.shape[1]`).\n",
    "   \n",
    "2. **Capas ocultas**:\n",
    "   - **Capa densa 1**: 1024 neuronas, regularización L2, activación LeakyReLU y Dropout del 30%.\n",
    "   - **Capa densa 2**: 512 neuronas, regularización L2, activación LeakyReLU y Dropout del 30%.\n",
    "   - **Capa densa 3**: 256 neuronas, regularización L2, activación LeakyReLU y Dropout del 20%.\n",
    "   - **Capa densa 4**: 128 neuronas, regularización L2, activación LeakyReLU y Dropout del 10%.\n",
    "\n",
    "3. **Capa de salida**:\n",
    "   - **Predicción**: 3 clases, activación `softmax` para clasificación multiclase.\n",
    "\n",
    "#### Compilación:\n",
    "- **Optimizador**: Adam con tasa de aprendizaje de 0.0005.\n",
    "- **Función de pérdida**: `sparse_categorical_crossentropy` (para clasificación multiclase).\n",
    "- **Métricas**: Exactitud (`accuracy`)."
   ]
  },
  {
   "cell_type": "code",
   "execution_count": 5,
   "metadata": {},
   "outputs": [
    {
     "data": {
      "text/html": [
       "<pre style=\"white-space:pre;overflow-x:auto;line-height:normal;font-family:Menlo,'DejaVu Sans Mono',consolas,'Courier New',monospace\"><span style=\"font-weight: bold\">Model: \"sequential\"</span>\n",
       "</pre>\n"
      ],
      "text/plain": [
       "\u001b[1mModel: \"sequential\"\u001b[0m\n"
      ]
     },
     "metadata": {},
     "output_type": "display_data"
    },
    {
     "data": {
      "text/html": [
       "<pre style=\"white-space:pre;overflow-x:auto;line-height:normal;font-family:Menlo,'DejaVu Sans Mono',consolas,'Courier New',monospace\">┏━━━━━━━━━━━━━━━━━━━━━━━━━━━━━━━━━┳━━━━━━━━━━━━━━━━━━━━━━━━┳━━━━━━━━━━━━━━━┓\n",
       "┃<span style=\"font-weight: bold\"> Layer (type)                    </span>┃<span style=\"font-weight: bold\"> Output Shape           </span>┃<span style=\"font-weight: bold\">       Param # </span>┃\n",
       "┡━━━━━━━━━━━━━━━━━━━━━━━━━━━━━━━━━╇━━━━━━━━━━━━━━━━━━━━━━━━╇━━━━━━━━━━━━━━━┩\n",
       "│ dense (<span style=\"color: #0087ff; text-decoration-color: #0087ff\">Dense</span>)                   │ (<span style=\"color: #00d7ff; text-decoration-color: #00d7ff\">None</span>, <span style=\"color: #00af00; text-decoration-color: #00af00\">1024</span>)           │        <span style=\"color: #00af00; text-decoration-color: #00af00\">18,432</span> │\n",
       "├─────────────────────────────────┼────────────────────────┼───────────────┤\n",
       "│ batch_normalization             │ (<span style=\"color: #00d7ff; text-decoration-color: #00d7ff\">None</span>, <span style=\"color: #00af00; text-decoration-color: #00af00\">1024</span>)           │         <span style=\"color: #00af00; text-decoration-color: #00af00\">4,096</span> │\n",
       "│ (<span style=\"color: #0087ff; text-decoration-color: #0087ff\">BatchNormalization</span>)            │                        │               │\n",
       "├─────────────────────────────────┼────────────────────────┼───────────────┤\n",
       "│ leaky_re_lu (<span style=\"color: #0087ff; text-decoration-color: #0087ff\">LeakyReLU</span>)         │ (<span style=\"color: #00d7ff; text-decoration-color: #00d7ff\">None</span>, <span style=\"color: #00af00; text-decoration-color: #00af00\">1024</span>)           │             <span style=\"color: #00af00; text-decoration-color: #00af00\">0</span> │\n",
       "├─────────────────────────────────┼────────────────────────┼───────────────┤\n",
       "│ dropout (<span style=\"color: #0087ff; text-decoration-color: #0087ff\">Dropout</span>)               │ (<span style=\"color: #00d7ff; text-decoration-color: #00d7ff\">None</span>, <span style=\"color: #00af00; text-decoration-color: #00af00\">1024</span>)           │             <span style=\"color: #00af00; text-decoration-color: #00af00\">0</span> │\n",
       "├─────────────────────────────────┼────────────────────────┼───────────────┤\n",
       "│ dense_1 (<span style=\"color: #0087ff; text-decoration-color: #0087ff\">Dense</span>)                 │ (<span style=\"color: #00d7ff; text-decoration-color: #00d7ff\">None</span>, <span style=\"color: #00af00; text-decoration-color: #00af00\">512</span>)            │       <span style=\"color: #00af00; text-decoration-color: #00af00\">524,800</span> │\n",
       "├─────────────────────────────────┼────────────────────────┼───────────────┤\n",
       "│ batch_normalization_1           │ (<span style=\"color: #00d7ff; text-decoration-color: #00d7ff\">None</span>, <span style=\"color: #00af00; text-decoration-color: #00af00\">512</span>)            │         <span style=\"color: #00af00; text-decoration-color: #00af00\">2,048</span> │\n",
       "│ (<span style=\"color: #0087ff; text-decoration-color: #0087ff\">BatchNormalization</span>)            │                        │               │\n",
       "├─────────────────────────────────┼────────────────────────┼───────────────┤\n",
       "│ leaky_re_lu_1 (<span style=\"color: #0087ff; text-decoration-color: #0087ff\">LeakyReLU</span>)       │ (<span style=\"color: #00d7ff; text-decoration-color: #00d7ff\">None</span>, <span style=\"color: #00af00; text-decoration-color: #00af00\">512</span>)            │             <span style=\"color: #00af00; text-decoration-color: #00af00\">0</span> │\n",
       "├─────────────────────────────────┼────────────────────────┼───────────────┤\n",
       "│ dropout_1 (<span style=\"color: #0087ff; text-decoration-color: #0087ff\">Dropout</span>)             │ (<span style=\"color: #00d7ff; text-decoration-color: #00d7ff\">None</span>, <span style=\"color: #00af00; text-decoration-color: #00af00\">512</span>)            │             <span style=\"color: #00af00; text-decoration-color: #00af00\">0</span> │\n",
       "├─────────────────────────────────┼────────────────────────┼───────────────┤\n",
       "│ dense_2 (<span style=\"color: #0087ff; text-decoration-color: #0087ff\">Dense</span>)                 │ (<span style=\"color: #00d7ff; text-decoration-color: #00d7ff\">None</span>, <span style=\"color: #00af00; text-decoration-color: #00af00\">256</span>)            │       <span style=\"color: #00af00; text-decoration-color: #00af00\">131,328</span> │\n",
       "├─────────────────────────────────┼────────────────────────┼───────────────┤\n",
       "│ batch_normalization_2           │ (<span style=\"color: #00d7ff; text-decoration-color: #00d7ff\">None</span>, <span style=\"color: #00af00; text-decoration-color: #00af00\">256</span>)            │         <span style=\"color: #00af00; text-decoration-color: #00af00\">1,024</span> │\n",
       "│ (<span style=\"color: #0087ff; text-decoration-color: #0087ff\">BatchNormalization</span>)            │                        │               │\n",
       "├─────────────────────────────────┼────────────────────────┼───────────────┤\n",
       "│ leaky_re_lu_2 (<span style=\"color: #0087ff; text-decoration-color: #0087ff\">LeakyReLU</span>)       │ (<span style=\"color: #00d7ff; text-decoration-color: #00d7ff\">None</span>, <span style=\"color: #00af00; text-decoration-color: #00af00\">256</span>)            │             <span style=\"color: #00af00; text-decoration-color: #00af00\">0</span> │\n",
       "├─────────────────────────────────┼────────────────────────┼───────────────┤\n",
       "│ dropout_2 (<span style=\"color: #0087ff; text-decoration-color: #0087ff\">Dropout</span>)             │ (<span style=\"color: #00d7ff; text-decoration-color: #00d7ff\">None</span>, <span style=\"color: #00af00; text-decoration-color: #00af00\">256</span>)            │             <span style=\"color: #00af00; text-decoration-color: #00af00\">0</span> │\n",
       "├─────────────────────────────────┼────────────────────────┼───────────────┤\n",
       "│ dense_3 (<span style=\"color: #0087ff; text-decoration-color: #0087ff\">Dense</span>)                 │ (<span style=\"color: #00d7ff; text-decoration-color: #00d7ff\">None</span>, <span style=\"color: #00af00; text-decoration-color: #00af00\">128</span>)            │        <span style=\"color: #00af00; text-decoration-color: #00af00\">32,896</span> │\n",
       "├─────────────────────────────────┼────────────────────────┼───────────────┤\n",
       "│ batch_normalization_3           │ (<span style=\"color: #00d7ff; text-decoration-color: #00d7ff\">None</span>, <span style=\"color: #00af00; text-decoration-color: #00af00\">128</span>)            │           <span style=\"color: #00af00; text-decoration-color: #00af00\">512</span> │\n",
       "│ (<span style=\"color: #0087ff; text-decoration-color: #0087ff\">BatchNormalization</span>)            │                        │               │\n",
       "├─────────────────────────────────┼────────────────────────┼───────────────┤\n",
       "│ leaky_re_lu_3 (<span style=\"color: #0087ff; text-decoration-color: #0087ff\">LeakyReLU</span>)       │ (<span style=\"color: #00d7ff; text-decoration-color: #00d7ff\">None</span>, <span style=\"color: #00af00; text-decoration-color: #00af00\">128</span>)            │             <span style=\"color: #00af00; text-decoration-color: #00af00\">0</span> │\n",
       "├─────────────────────────────────┼────────────────────────┼───────────────┤\n",
       "│ dropout_3 (<span style=\"color: #0087ff; text-decoration-color: #0087ff\">Dropout</span>)             │ (<span style=\"color: #00d7ff; text-decoration-color: #00d7ff\">None</span>, <span style=\"color: #00af00; text-decoration-color: #00af00\">128</span>)            │             <span style=\"color: #00af00; text-decoration-color: #00af00\">0</span> │\n",
       "├─────────────────────────────────┼────────────────────────┼───────────────┤\n",
       "│ dense_4 (<span style=\"color: #0087ff; text-decoration-color: #0087ff\">Dense</span>)                 │ (<span style=\"color: #00d7ff; text-decoration-color: #00d7ff\">None</span>, <span style=\"color: #00af00; text-decoration-color: #00af00\">3</span>)              │           <span style=\"color: #00af00; text-decoration-color: #00af00\">387</span> │\n",
       "└─────────────────────────────────┴────────────────────────┴───────────────┘\n",
       "</pre>\n"
      ],
      "text/plain": [
       "┏━━━━━━━━━━━━━━━━━━━━━━━━━━━━━━━━━┳━━━━━━━━━━━━━━━━━━━━━━━━┳━━━━━━━━━━━━━━━┓\n",
       "┃\u001b[1m \u001b[0m\u001b[1mLayer (type)                   \u001b[0m\u001b[1m \u001b[0m┃\u001b[1m \u001b[0m\u001b[1mOutput Shape          \u001b[0m\u001b[1m \u001b[0m┃\u001b[1m \u001b[0m\u001b[1m      Param #\u001b[0m\u001b[1m \u001b[0m┃\n",
       "┡━━━━━━━━━━━━━━━━━━━━━━━━━━━━━━━━━╇━━━━━━━━━━━━━━━━━━━━━━━━╇━━━━━━━━━━━━━━━┩\n",
       "│ dense (\u001b[38;5;33mDense\u001b[0m)                   │ (\u001b[38;5;45mNone\u001b[0m, \u001b[38;5;34m1024\u001b[0m)           │        \u001b[38;5;34m18,432\u001b[0m │\n",
       "├─────────────────────────────────┼────────────────────────┼───────────────┤\n",
       "│ batch_normalization             │ (\u001b[38;5;45mNone\u001b[0m, \u001b[38;5;34m1024\u001b[0m)           │         \u001b[38;5;34m4,096\u001b[0m │\n",
       "│ (\u001b[38;5;33mBatchNormalization\u001b[0m)            │                        │               │\n",
       "├─────────────────────────────────┼────────────────────────┼───────────────┤\n",
       "│ leaky_re_lu (\u001b[38;5;33mLeakyReLU\u001b[0m)         │ (\u001b[38;5;45mNone\u001b[0m, \u001b[38;5;34m1024\u001b[0m)           │             \u001b[38;5;34m0\u001b[0m │\n",
       "├─────────────────────────────────┼────────────────────────┼───────────────┤\n",
       "│ dropout (\u001b[38;5;33mDropout\u001b[0m)               │ (\u001b[38;5;45mNone\u001b[0m, \u001b[38;5;34m1024\u001b[0m)           │             \u001b[38;5;34m0\u001b[0m │\n",
       "├─────────────────────────────────┼────────────────────────┼───────────────┤\n",
       "│ dense_1 (\u001b[38;5;33mDense\u001b[0m)                 │ (\u001b[38;5;45mNone\u001b[0m, \u001b[38;5;34m512\u001b[0m)            │       \u001b[38;5;34m524,800\u001b[0m │\n",
       "├─────────────────────────────────┼────────────────────────┼───────────────┤\n",
       "│ batch_normalization_1           │ (\u001b[38;5;45mNone\u001b[0m, \u001b[38;5;34m512\u001b[0m)            │         \u001b[38;5;34m2,048\u001b[0m │\n",
       "│ (\u001b[38;5;33mBatchNormalization\u001b[0m)            │                        │               │\n",
       "├─────────────────────────────────┼────────────────────────┼───────────────┤\n",
       "│ leaky_re_lu_1 (\u001b[38;5;33mLeakyReLU\u001b[0m)       │ (\u001b[38;5;45mNone\u001b[0m, \u001b[38;5;34m512\u001b[0m)            │             \u001b[38;5;34m0\u001b[0m │\n",
       "├─────────────────────────────────┼────────────────────────┼───────────────┤\n",
       "│ dropout_1 (\u001b[38;5;33mDropout\u001b[0m)             │ (\u001b[38;5;45mNone\u001b[0m, \u001b[38;5;34m512\u001b[0m)            │             \u001b[38;5;34m0\u001b[0m │\n",
       "├─────────────────────────────────┼────────────────────────┼───────────────┤\n",
       "│ dense_2 (\u001b[38;5;33mDense\u001b[0m)                 │ (\u001b[38;5;45mNone\u001b[0m, \u001b[38;5;34m256\u001b[0m)            │       \u001b[38;5;34m131,328\u001b[0m │\n",
       "├─────────────────────────────────┼────────────────────────┼───────────────┤\n",
       "│ batch_normalization_2           │ (\u001b[38;5;45mNone\u001b[0m, \u001b[38;5;34m256\u001b[0m)            │         \u001b[38;5;34m1,024\u001b[0m │\n",
       "│ (\u001b[38;5;33mBatchNormalization\u001b[0m)            │                        │               │\n",
       "├─────────────────────────────────┼────────────────────────┼───────────────┤\n",
       "│ leaky_re_lu_2 (\u001b[38;5;33mLeakyReLU\u001b[0m)       │ (\u001b[38;5;45mNone\u001b[0m, \u001b[38;5;34m256\u001b[0m)            │             \u001b[38;5;34m0\u001b[0m │\n",
       "├─────────────────────────────────┼────────────────────────┼───────────────┤\n",
       "│ dropout_2 (\u001b[38;5;33mDropout\u001b[0m)             │ (\u001b[38;5;45mNone\u001b[0m, \u001b[38;5;34m256\u001b[0m)            │             \u001b[38;5;34m0\u001b[0m │\n",
       "├─────────────────────────────────┼────────────────────────┼───────────────┤\n",
       "│ dense_3 (\u001b[38;5;33mDense\u001b[0m)                 │ (\u001b[38;5;45mNone\u001b[0m, \u001b[38;5;34m128\u001b[0m)            │        \u001b[38;5;34m32,896\u001b[0m │\n",
       "├─────────────────────────────────┼────────────────────────┼───────────────┤\n",
       "│ batch_normalization_3           │ (\u001b[38;5;45mNone\u001b[0m, \u001b[38;5;34m128\u001b[0m)            │           \u001b[38;5;34m512\u001b[0m │\n",
       "│ (\u001b[38;5;33mBatchNormalization\u001b[0m)            │                        │               │\n",
       "├─────────────────────────────────┼────────────────────────┼───────────────┤\n",
       "│ leaky_re_lu_3 (\u001b[38;5;33mLeakyReLU\u001b[0m)       │ (\u001b[38;5;45mNone\u001b[0m, \u001b[38;5;34m128\u001b[0m)            │             \u001b[38;5;34m0\u001b[0m │\n",
       "├─────────────────────────────────┼────────────────────────┼───────────────┤\n",
       "│ dropout_3 (\u001b[38;5;33mDropout\u001b[0m)             │ (\u001b[38;5;45mNone\u001b[0m, \u001b[38;5;34m128\u001b[0m)            │             \u001b[38;5;34m0\u001b[0m │\n",
       "├─────────────────────────────────┼────────────────────────┼───────────────┤\n",
       "│ dense_4 (\u001b[38;5;33mDense\u001b[0m)                 │ (\u001b[38;5;45mNone\u001b[0m, \u001b[38;5;34m3\u001b[0m)              │           \u001b[38;5;34m387\u001b[0m │\n",
       "└─────────────────────────────────┴────────────────────────┴───────────────┘\n"
      ]
     },
     "metadata": {},
     "output_type": "display_data"
    },
    {
     "data": {
      "text/html": [
       "<pre style=\"white-space:pre;overflow-x:auto;line-height:normal;font-family:Menlo,'DejaVu Sans Mono',consolas,'Courier New',monospace\"><span style=\"font-weight: bold\"> Total params: </span><span style=\"color: #00af00; text-decoration-color: #00af00\">715,523</span> (2.73 MB)\n",
       "</pre>\n"
      ],
      "text/plain": [
       "\u001b[1m Total params: \u001b[0m\u001b[38;5;34m715,523\u001b[0m (2.73 MB)\n"
      ]
     },
     "metadata": {},
     "output_type": "display_data"
    },
    {
     "data": {
      "text/html": [
       "<pre style=\"white-space:pre;overflow-x:auto;line-height:normal;font-family:Menlo,'DejaVu Sans Mono',consolas,'Courier New',monospace\"><span style=\"font-weight: bold\"> Trainable params: </span><span style=\"color: #00af00; text-decoration-color: #00af00\">711,683</span> (2.71 MB)\n",
       "</pre>\n"
      ],
      "text/plain": [
       "\u001b[1m Trainable params: \u001b[0m\u001b[38;5;34m711,683\u001b[0m (2.71 MB)\n"
      ]
     },
     "metadata": {},
     "output_type": "display_data"
    },
    {
     "data": {
      "text/html": [
       "<pre style=\"white-space:pre;overflow-x:auto;line-height:normal;font-family:Menlo,'DejaVu Sans Mono',consolas,'Courier New',monospace\"><span style=\"font-weight: bold\"> Non-trainable params: </span><span style=\"color: #00af00; text-decoration-color: #00af00\">3,840</span> (15.00 KB)\n",
       "</pre>\n"
      ],
      "text/plain": [
       "\u001b[1m Non-trainable params: \u001b[0m\u001b[38;5;34m3,840\u001b[0m (15.00 KB)\n"
      ]
     },
     "metadata": {},
     "output_type": "display_data"
    }
   ],
   "source": [
    "model = Sequential([\n",
    "    Input(shape=(X_train.shape[1],)),\n",
    "\n",
    "    Dense(1024, activation=None, kernel_regularizer=l2(0.0001)),\n",
    "    BatchNormalization(),\n",
    "    LeakyReLU(negative_slope=0.1),\n",
    "    Dropout(0.3),\n",
    "\n",
    "    Dense(512, activation=None, kernel_regularizer=l2(0.0001)),\n",
    "    BatchNormalization(),\n",
    "    LeakyReLU(negative_slope=0.1),\n",
    "    Dropout(0.3),\n",
    "\n",
    "    Dense(256, activation=None, kernel_regularizer=l2(0.0001)),\n",
    "    BatchNormalization(),\n",
    "    LeakyReLU(negative_slope=0.1),\n",
    "    Dropout(0.2),\n",
    "\n",
    "    Dense(128, activation=None, kernel_regularizer=l2(0.0001)),\n",
    "    BatchNormalization(),\n",
    "    LeakyReLU(negative_slope=0.1),\n",
    "    Dropout(0.1),\n",
    "\n",
    "    Dense(3, activation='softmax')\n",
    "])\n",
    "\n",
    "# Compilación del modelo\n",
    "optimizer = Adam(learning_rate=0.0005)\n",
    "model.compile(optimizer=optimizer, loss='sparse_categorical_crossentropy', metrics=['accuracy'])\n",
    "\n",
    "# Resumen del modelo\n",
    "model.summary()"
   ]
  },
  {
   "cell_type": "markdown",
   "metadata": {},
   "source": [
    "### Entrenamiento del Modelo\n",
    "\n",
    "El modelo es entrenado utilizando las siguientes estrategias:\n",
    "\n",
    "#### Callbacks:\n",
    "1. **EarlyStopping**:\n",
    "   - Monitorea la métrica `val_loss` (pérdida de validación).\n",
    "   - Se detiene si no mejora después de 5 épocas consecutivas, y restaura los mejores pesos del modelo.\n",
    "   \n",
    "2. **ReduceLROnPlateau**:\n",
    "   - Monitorea la métrica `val_loss`.\n",
    "   - Reduce la tasa de aprendizaje a la mitad si no hay mejora en la pérdida de validación durante 3 épocas consecutivas.\n",
    "   - Establece un límite mínimo para la tasa de aprendizaje de 1e-6.\n",
    "\n",
    "3. **ModelCheckpoint**:\n",
    "   - Guarda el modelo con el mejor desempeño en `val_loss` en el archivo `models/poker_model.keras`.\n",
    "\n",
    "#### Parámetros del Entrenamiento:\n",
    "- **Épocas**: 50\n",
    "- **Tamaño del lote (batch_size)**: 1024 (ajustado debido al gran tamaño de nuestro dataset)\n",
    "- **Porcentaje de validación**: 20% de los datos se destinan a validación (`validation_split=0.2`)."
   ]
  },
  {
   "cell_type": "code",
   "execution_count": null,
   "metadata": {},
   "outputs": [
    {
     "name": "stdout",
     "output_type": "stream",
     "text": [
      "Epoch 1/50\n",
      "\u001b[1m1250/1250\u001b[0m \u001b[32m━━━━━━━━━━━━━━━━━━━━\u001b[0m\u001b[37m\u001b[0m \u001b[1m56s\u001b[0m 43ms/step - accuracy: 0.7818 - loss: 0.6509 - val_accuracy: 0.8257 - val_loss: 0.4811 - learning_rate: 5.0000e-04\n",
      "Epoch 2/50\n",
      "\u001b[1m1250/1250\u001b[0m \u001b[32m━━━━━━━━━━━━━━━━━━━━\u001b[0m\u001b[37m\u001b[0m \u001b[1m59s\u001b[0m 47ms/step - accuracy: 0.8245 - loss: 0.4785 - val_accuracy: 0.8301 - val_loss: 0.4390 - learning_rate: 5.0000e-04\n",
      "Epoch 3/50\n",
      "\u001b[1m1250/1250\u001b[0m \u001b[32m━━━━━━━━━━━━━━━━━━━━\u001b[0m\u001b[37m\u001b[0m \u001b[1m90s\u001b[0m 72ms/step - accuracy: 0.8272 - loss: 0.4408 - val_accuracy: 0.8294 - val_loss: 0.4241 - learning_rate: 5.0000e-04\n",
      "Epoch 4/50\n",
      "\u001b[1m1250/1250\u001b[0m \u001b[32m━━━━━━━━━━━━━━━━━━━━\u001b[0m\u001b[37m\u001b[0m \u001b[1m111s\u001b[0m 47ms/step - accuracy: 0.8290 - loss: 0.4267 - val_accuracy: 0.8331 - val_loss: 0.4135 - learning_rate: 5.0000e-04\n",
      "Epoch 5/50\n",
      "\u001b[1m1250/1250\u001b[0m \u001b[32m━━━━━━━━━━━━━━━━━━━━\u001b[0m\u001b[37m\u001b[0m \u001b[1m85s\u001b[0m 68ms/step - accuracy: 0.8305 - loss: 0.4194 - val_accuracy: 0.8346 - val_loss: 0.4080 - learning_rate: 5.0000e-04\n",
      "Epoch 6/50\n",
      "\u001b[1m1250/1250\u001b[0m \u001b[32m━━━━━━━━━━━━━━━━━━━━\u001b[0m\u001b[37m\u001b[0m \u001b[1m97s\u001b[0m 77ms/step - accuracy: 0.8318 - loss: 0.4153 - val_accuracy: 0.8350 - val_loss: 0.4054 - learning_rate: 5.0000e-04\n",
      "Epoch 7/50\n",
      "\u001b[1m1250/1250\u001b[0m \u001b[32m━━━━━━━━━━━━━━━━━━━━\u001b[0m\u001b[37m\u001b[0m \u001b[1m55s\u001b[0m 44ms/step - accuracy: 0.8326 - loss: 0.4125 - val_accuracy: 0.8335 - val_loss: 0.4074 - learning_rate: 5.0000e-04\n",
      "Epoch 8/50\n",
      "\u001b[1m1250/1250\u001b[0m \u001b[32m━━━━━━━━━━━━━━━━━━━━\u001b[0m\u001b[37m\u001b[0m \u001b[1m55s\u001b[0m 44ms/step - accuracy: 0.8330 - loss: 0.4110 - val_accuracy: 0.8357 - val_loss: 0.4034 - learning_rate: 5.0000e-04\n",
      "Epoch 9/50\n",
      "\u001b[1m1250/1250\u001b[0m \u001b[32m━━━━━━━━━━━━━━━━━━━━\u001b[0m\u001b[37m\u001b[0m \u001b[1m60s\u001b[0m 48ms/step - accuracy: 0.8340 - loss: 0.4094 - val_accuracy: 0.8373 - val_loss: 0.4000 - learning_rate: 5.0000e-04\n",
      "Epoch 10/50\n",
      "\u001b[1m1250/1250\u001b[0m \u001b[32m━━━━━━━━━━━━━━━━━━━━\u001b[0m\u001b[37m\u001b[0m \u001b[1m65s\u001b[0m 52ms/step - accuracy: 0.8347 - loss: 0.4071 - val_accuracy: 0.8346 - val_loss: 0.4042 - learning_rate: 5.0000e-04\n",
      "Epoch 11/50\n",
      "\u001b[1m1250/1250\u001b[0m \u001b[32m━━━━━━━━━━━━━━━━━━━━\u001b[0m\u001b[37m\u001b[0m \u001b[1m83s\u001b[0m 66ms/step - accuracy: 0.8346 - loss: 0.4074 - val_accuracy: 0.8350 - val_loss: 0.4068 - learning_rate: 5.0000e-04\n",
      "Epoch 12/50\n",
      "\u001b[1m1250/1250\u001b[0m \u001b[32m━━━━━━━━━━━━━━━━━━━━\u001b[0m\u001b[37m\u001b[0m \u001b[1m69s\u001b[0m 55ms/step - accuracy: 0.8341 - loss: 0.4071 - val_accuracy: 0.8368 - val_loss: 0.4004 - learning_rate: 5.0000e-04\n",
      "Epoch 13/50\n",
      "\u001b[1m1250/1250\u001b[0m \u001b[32m━━━━━━━━━━━━━━━━━━━━\u001b[0m\u001b[37m\u001b[0m \u001b[1m69s\u001b[0m 55ms/step - accuracy: 0.8373 - loss: 0.3997 - val_accuracy: 0.8410 - val_loss: 0.3887 - learning_rate: 2.5000e-04\n",
      "Epoch 14/50\n",
      "\u001b[1m1250/1250\u001b[0m \u001b[32m━━━━━━━━━━━━━━━━━━━━\u001b[0m\u001b[37m\u001b[0m \u001b[1m61s\u001b[0m 49ms/step - accuracy: 0.8377 - loss: 0.3962 - val_accuracy: 0.8390 - val_loss: 0.3902 - learning_rate: 2.5000e-04\n",
      "Epoch 15/50\n",
      "\u001b[1m1250/1250\u001b[0m \u001b[32m━━━━━━━━━━━━━━━━━━━━\u001b[0m\u001b[37m\u001b[0m \u001b[1m64s\u001b[0m 51ms/step - accuracy: 0.8378 - loss: 0.3952 - val_accuracy: 0.8408 - val_loss: 0.3883 - learning_rate: 2.5000e-04\n",
      "Epoch 16/50\n",
      "\u001b[1m1250/1250\u001b[0m \u001b[32m━━━━━━━━━━━━━━━━━━━━\u001b[0m\u001b[37m\u001b[0m \u001b[1m68s\u001b[0m 54ms/step - accuracy: 0.8375 - loss: 0.3948 - val_accuracy: 0.8401 - val_loss: 0.3879 - learning_rate: 2.5000e-04\n",
      "Epoch 17/50\n",
      "\u001b[1m1250/1250\u001b[0m \u001b[32m━━━━━━━━━━━━━━━━━━━━\u001b[0m\u001b[37m\u001b[0m \u001b[1m70s\u001b[0m 56ms/step - accuracy: 0.8379 - loss: 0.3939 - val_accuracy: 0.8418 - val_loss: 0.3847 - learning_rate: 2.5000e-04\n",
      "Epoch 18/50\n",
      "\u001b[1m1250/1250\u001b[0m \u001b[32m━━━━━━━━━━━━━━━━━━━━\u001b[0m\u001b[37m\u001b[0m \u001b[1m65s\u001b[0m 52ms/step - accuracy: 0.8385 - loss: 0.3926 - val_accuracy: 0.8388 - val_loss: 0.3899 - learning_rate: 2.5000e-04\n",
      "Epoch 19/50\n",
      "\u001b[1m1250/1250\u001b[0m \u001b[32m━━━━━━━━━━━━━━━━━━━━\u001b[0m\u001b[37m\u001b[0m \u001b[1m58s\u001b[0m 46ms/step - accuracy: 0.8383 - loss: 0.3930 - val_accuracy: 0.8415 - val_loss: 0.3853 - learning_rate: 2.5000e-04\n",
      "Epoch 20/50\n",
      "\u001b[1m1250/1250\u001b[0m \u001b[32m━━━━━━━━━━━━━━━━━━━━\u001b[0m\u001b[37m\u001b[0m \u001b[1m74s\u001b[0m 59ms/step - accuracy: 0.8381 - loss: 0.3928 - val_accuracy: 0.8396 - val_loss: 0.3885 - learning_rate: 2.5000e-04\n",
      "Epoch 21/50\n",
      "\u001b[1m1250/1250\u001b[0m \u001b[32m━━━━━━━━━━━━━━━━━━━━\u001b[0m\u001b[37m\u001b[0m \u001b[1m82s\u001b[0m 65ms/step - accuracy: 0.8401 - loss: 0.3886 - val_accuracy: 0.8437 - val_loss: 0.3785 - learning_rate: 1.2500e-04\n",
      "Epoch 22/50\n",
      "\u001b[1m1250/1250\u001b[0m \u001b[32m━━━━━━━━━━━━━━━━━━━━\u001b[0m\u001b[37m\u001b[0m \u001b[1m57s\u001b[0m 46ms/step - accuracy: 0.8404 - loss: 0.3870 - val_accuracy: 0.8441 - val_loss: 0.3773 - learning_rate: 1.2500e-04\n",
      "Epoch 23/50\n",
      "\u001b[1m1250/1250\u001b[0m \u001b[32m━━━━━━━━━━━━━━━━━━━━\u001b[0m\u001b[37m\u001b[0m \u001b[1m67s\u001b[0m 53ms/step - accuracy: 0.8404 - loss: 0.3865 - val_accuracy: 0.8445 - val_loss: 0.3765 - learning_rate: 1.2500e-04\n",
      "Epoch 24/50\n",
      "\u001b[1m1250/1250\u001b[0m \u001b[32m━━━━━━━━━━━━━━━━━━━━\u001b[0m\u001b[37m\u001b[0m \u001b[1m71s\u001b[0m 57ms/step - accuracy: 0.8408 - loss: 0.3849 - val_accuracy: 0.8440 - val_loss: 0.3778 - learning_rate: 1.2500e-04\n",
      "Epoch 25/50\n",
      "\u001b[1m1250/1250\u001b[0m \u001b[32m━━━━━━━━━━━━━━━━━━━━\u001b[0m\u001b[37m\u001b[0m \u001b[1m57s\u001b[0m 45ms/step - accuracy: 0.8412 - loss: 0.3840 - val_accuracy: 0.8437 - val_loss: 0.3778 - learning_rate: 1.2500e-04\n",
      "Epoch 26/50\n",
      "\u001b[1m1250/1250\u001b[0m \u001b[32m━━━━━━━━━━━━━━━━━━━━\u001b[0m\u001b[37m\u001b[0m \u001b[1m82s\u001b[0m 65ms/step - accuracy: 0.8413 - loss: 0.3842 - val_accuracy: 0.8446 - val_loss: 0.3756 - learning_rate: 1.2500e-04\n",
      "Epoch 27/50\n",
      "\u001b[1m1250/1250\u001b[0m \u001b[32m━━━━━━━━━━━━━━━━━━━━\u001b[0m\u001b[37m\u001b[0m \u001b[1m73s\u001b[0m 59ms/step - accuracy: 0.8412 - loss: 0.3840 - val_accuracy: 0.8445 - val_loss: 0.3754 - learning_rate: 1.2500e-04\n",
      "Epoch 28/50\n",
      "\u001b[1m1250/1250\u001b[0m \u001b[32m━━━━━━━━━━━━━━━━━━━━\u001b[0m\u001b[37m\u001b[0m \u001b[1m75s\u001b[0m 60ms/step - accuracy: 0.8417 - loss: 0.3832 - val_accuracy: 0.8437 - val_loss: 0.3768 - learning_rate: 1.2500e-04\n",
      "Epoch 29/50\n",
      "\u001b[1m1250/1250\u001b[0m \u001b[32m━━━━━━━━━━━━━━━━━━━━\u001b[0m\u001b[37m\u001b[0m \u001b[1m72s\u001b[0m 57ms/step - accuracy: 0.8411 - loss: 0.3831 - val_accuracy: 0.8445 - val_loss: 0.3755 - learning_rate: 1.2500e-04\n",
      "Epoch 30/50\n",
      "\u001b[1m1250/1250\u001b[0m \u001b[32m━━━━━━━━━━━━━━━━━━━━\u001b[0m\u001b[37m\u001b[0m \u001b[1m62s\u001b[0m 50ms/step - accuracy: 0.8419 - loss: 0.3825 - val_accuracy: 0.8445 - val_loss: 0.3749 - learning_rate: 1.2500e-04\n",
      "Epoch 31/50\n",
      "\u001b[1m1250/1250\u001b[0m \u001b[32m━━━━━━━━━━━━━━━━━━━━\u001b[0m\u001b[37m\u001b[0m \u001b[1m61s\u001b[0m 49ms/step - accuracy: 0.8417 - loss: 0.3831 - val_accuracy: 0.8453 - val_loss: 0.3746 - learning_rate: 1.2500e-04\n",
      "Epoch 32/50\n",
      "\u001b[1m1250/1250\u001b[0m \u001b[32m━━━━━━━━━━━━━━━━━━━━\u001b[0m\u001b[37m\u001b[0m \u001b[1m63s\u001b[0m 50ms/step - accuracy: 0.8419 - loss: 0.3821 - val_accuracy: 0.8453 - val_loss: 0.3745 - learning_rate: 1.2500e-04\n",
      "Epoch 33/50\n",
      "\u001b[1m1250/1250\u001b[0m \u001b[32m━━━━━━━━━━━━━━━━━━━━\u001b[0m\u001b[37m\u001b[0m \u001b[1m61s\u001b[0m 49ms/step - accuracy: 0.8410 - loss: 0.3831 - val_accuracy: 0.8443 - val_loss: 0.3750 - learning_rate: 1.2500e-04\n",
      "Epoch 34/50\n",
      "\u001b[1m1250/1250\u001b[0m \u001b[32m━━━━━━━━━━━━━━━━━━━━\u001b[0m\u001b[37m\u001b[0m \u001b[1m90s\u001b[0m 55ms/step - accuracy: 0.8416 - loss: 0.3821 - val_accuracy: 0.8450 - val_loss: 0.3740 - learning_rate: 1.2500e-04\n",
      "Epoch 35/50\n",
      "\u001b[1m1250/1250\u001b[0m \u001b[32m━━━━━━━━━━━━━━━━━━━━\u001b[0m\u001b[37m\u001b[0m \u001b[1m78s\u001b[0m 62ms/step - accuracy: 0.8420 - loss: 0.3816 - val_accuracy: 0.8457 - val_loss: 0.3728 - learning_rate: 1.2500e-04\n",
      "Epoch 36/50\n",
      "\u001b[1m1250/1250\u001b[0m \u001b[32m━━━━━━━━━━━━━━━━━━━━\u001b[0m\u001b[37m\u001b[0m \u001b[1m75s\u001b[0m 60ms/step - accuracy: 0.8419 - loss: 0.3818 - val_accuracy: 0.8456 - val_loss: 0.3734 - learning_rate: 1.2500e-04\n",
      "Epoch 37/50\n",
      "\u001b[1m1250/1250\u001b[0m \u001b[32m━━━━━━━━━━━━━━━━━━━━\u001b[0m\u001b[37m\u001b[0m \u001b[1m82s\u001b[0m 60ms/step - accuracy: 0.8424 - loss: 0.3811 - val_accuracy: 0.8459 - val_loss: 0.3724 - learning_rate: 1.2500e-04\n",
      "Epoch 38/50\n",
      "\u001b[1m1250/1250\u001b[0m \u001b[32m━━━━━━━━━━━━━━━━━━━━\u001b[0m\u001b[37m\u001b[0m \u001b[1m99s\u001b[0m 79ms/step - accuracy: 0.8420 - loss: 0.3820 - val_accuracy: 0.8458 - val_loss: 0.3725 - learning_rate: 1.2500e-04\n",
      "Epoch 39/50\n",
      "\u001b[1m1250/1250\u001b[0m \u001b[32m━━━━━━━━━━━━━━━━━━━━\u001b[0m\u001b[37m\u001b[0m \u001b[1m98s\u001b[0m 43ms/step - accuracy: 0.8419 - loss: 0.3820 - val_accuracy: 0.8456 - val_loss: 0.3736 - learning_rate: 1.2500e-04\n",
      "Epoch 40/50\n",
      "\u001b[1m1250/1250\u001b[0m \u001b[32m━━━━━━━━━━━━━━━━━━━━\u001b[0m\u001b[37m\u001b[0m \u001b[1m74s\u001b[0m 37ms/step - accuracy: 0.8426 - loss: 0.3809 - val_accuracy: 0.8454 - val_loss: 0.3734 - learning_rate: 1.2500e-04\n",
      "Epoch 41/50\n",
      "\u001b[1m1250/1250\u001b[0m \u001b[32m━━━━━━━━━━━━━━━━━━━━\u001b[0m\u001b[37m\u001b[0m \u001b[1m54s\u001b[0m 43ms/step - accuracy: 0.8426 - loss: 0.3797 - val_accuracy: 0.8464 - val_loss: 0.3707 - learning_rate: 6.2500e-05\n",
      "Epoch 42/50\n",
      "\u001b[1m1250/1250\u001b[0m \u001b[32m━━━━━━━━━━━━━━━━━━━━\u001b[0m\u001b[37m\u001b[0m \u001b[1m60s\u001b[0m 48ms/step - accuracy: 0.8435 - loss: 0.3771 - val_accuracy: 0.8468 - val_loss: 0.3695 - learning_rate: 6.2500e-05\n",
      "Epoch 43/50\n",
      "\u001b[1m1250/1250\u001b[0m \u001b[32m━━━━━━━━━━━━━━━━━━━━\u001b[0m\u001b[37m\u001b[0m \u001b[1m70s\u001b[0m 56ms/step - accuracy: 0.8433 - loss: 0.3765 - val_accuracy: 0.8470 - val_loss: 0.3693 - learning_rate: 6.2500e-05\n",
      "Epoch 44/50\n",
      "\u001b[1m1250/1250\u001b[0m \u001b[32m━━━━━━━━━━━━━━━━━━━━\u001b[0m\u001b[37m\u001b[0m \u001b[1m75s\u001b[0m 60ms/step - accuracy: 0.8433 - loss: 0.3767 - val_accuracy: 0.8468 - val_loss: 0.3693 - learning_rate: 6.2500e-05\n",
      "Epoch 45/50\n",
      "\u001b[1m1250/1250\u001b[0m \u001b[32m━━━━━━━━━━━━━━━━━━━━\u001b[0m\u001b[37m\u001b[0m \u001b[1m70s\u001b[0m 56ms/step - accuracy: 0.8439 - loss: 0.3756 - val_accuracy: 0.8469 - val_loss: 0.3694 - learning_rate: 6.2500e-05\n",
      "Epoch 46/50\n",
      "\u001b[1m1250/1250\u001b[0m \u001b[32m━━━━━━━━━━━━━━━━━━━━\u001b[0m\u001b[37m\u001b[0m \u001b[1m62s\u001b[0m 50ms/step - accuracy: 0.8435 - loss: 0.3770 - val_accuracy: 0.8468 - val_loss: 0.3695 - learning_rate: 6.2500e-05\n",
      "Epoch 47/50\n",
      "\u001b[1m1250/1250\u001b[0m \u001b[32m━━━━━━━━━━━━━━━━━━━━\u001b[0m\u001b[37m\u001b[0m \u001b[1m66s\u001b[0m 53ms/step - accuracy: 0.8445 - loss: 0.3745 - val_accuracy: 0.8481 - val_loss: 0.3664 - learning_rate: 3.1250e-05\n",
      "Epoch 48/50\n",
      "\u001b[1m1250/1250\u001b[0m \u001b[32m━━━━━━━━━━━━━━━━━━━━\u001b[0m\u001b[37m\u001b[0m \u001b[1m67s\u001b[0m 54ms/step - accuracy: 0.8451 - loss: 0.3728 - val_accuracy: 0.8483 - val_loss: 0.3668 - learning_rate: 3.1250e-05\n",
      "Epoch 49/50\n",
      "\u001b[1m1250/1250\u001b[0m \u001b[32m━━━━━━━━━━━━━━━━━━━━\u001b[0m\u001b[37m\u001b[0m \u001b[1m62s\u001b[0m 49ms/step - accuracy: 0.8444 - loss: 0.3736 - val_accuracy: 0.8477 - val_loss: 0.3666 - learning_rate: 3.1250e-05\n",
      "Epoch 50/50\n",
      "\u001b[1m1250/1250\u001b[0m \u001b[32m━━━━━━━━━━━━━━━━━━━━\u001b[0m\u001b[37m\u001b[0m \u001b[1m82s\u001b[0m 65ms/step - accuracy: 0.8445 - loss: 0.3733 - val_accuracy: 0.8483 - val_loss: 0.3654 - learning_rate: 3.1250e-05\n"
     ]
    }
   ],
   "source": [
    "# Callbacks\n",
    "early_stopping = EarlyStopping(monitor='val_loss', patience=5, restore_best_weights=True)\n",
    "reduce_lr = ReduceLROnPlateau(monitor='val_loss', factor=0.5, patience=3, min_lr=1e-6)\n",
    "model_checkpoint = ModelCheckpoint('models/poker_model.keras', save_best_only=True, monitor='val_loss')\n",
    "\n",
    "# Entrenamiento\n",
    "history = model.fit(\n",
    "    X_train, y_train,\n",
    "    epochs=50,\n",
    "    batch_size=1024, \n",
    "    validation_split=0.2,\n",
    "    callbacks=[early_stopping, reduce_lr, model_checkpoint]\n",
    ")"
   ]
  },
  {
   "cell_type": "markdown",
   "metadata": {},
   "source": [
    "### Evaluación del Modelo"
   ]
  },
  {
   "cell_type": "code",
   "execution_count": 10,
   "metadata": {},
   "outputs": [
    {
     "name": "stdout",
     "output_type": "stream",
     "text": [
      "\u001b[1m12500/12500\u001b[0m \u001b[32m━━━━━━━━━━━━━━━━━━━━\u001b[0m\u001b[37m\u001b[0m \u001b[1m55s\u001b[0m 4ms/step - accuracy: 0.8478 - loss: 0.3666\n",
      "Test Accuracy: 84.77%\n"
     ]
    }
   ],
   "source": [
    "loss, accuracy = model.evaluate(X_test, y_test)\n",
    "print(f\"Test Accuracy: {accuracy * 100:.2f}%\")\n"
   ]
  },
  {
   "cell_type": "markdown",
   "metadata": {},
   "source": [
    "El modelo ha sido evaluado en el conjunto de prueba, obteniendo una precisión de:\n",
    "\n",
    "**Test Accuracy: 84.77%**\n",
    "\n",
    "### Conclusiones:\n",
    "- **Desempeño General**: \n",
    "  - Una precisión sólida, el modelo acartará en aproximadamente 8 de cada 10 predicciones.\n",
    "- **Áreas de Mejora**:\n",
    "  - Las clases menos representadas (`Empate`) son más difíciles de predecir ya que para empatar una mano de Póker al menos 2 jugadores tienen que acabar con las 5 cartas exáctamente iguales. Podríamos explorar técnicas como balanceo de datos o ajuste de hiperparámetros para mejorar este campo."
   ]
  },
  {
   "cell_type": "markdown",
   "metadata": {},
   "source": [
    "### Matriz de Confusión\n",
    "\n",
    "La matriz de confusión nos proporciona un análisis detallado del desempeño del modelo, mostrando cómo se distribuyen las predicciones en comparación con las etiquetas verdaderas. \n",
    "\n",
    "#### Interpretación:\n",
    "- **Filas**: Representan las etiquetas verdaderas.\n",
    "- **Columnas**: Representan las predicciones del modelo.\n",
    "- Los valores diagonales indican las predicciones correctas.\n",
    "- Los valores fuera de la diagonal muestran los errores de predicción.\n",
    "\n",
    "Esta herramienta es clave para identificar posibles problemas, como desequilibrios en la predicción de clases o patrones de errores específicos.\n"
   ]
  },
  {
   "cell_type": "code",
   "execution_count": 11,
   "metadata": {},
   "outputs": [
    {
     "name": "stdout",
     "output_type": "stream",
     "text": [
      "\u001b[1m12500/12500\u001b[0m \u001b[32m━━━━━━━━━━━━━━━━━━━━\u001b[0m\u001b[37m\u001b[0m \u001b[1m29s\u001b[0m 2ms/step\n"
     ]
    },
    {
     "data": {
      "image/png": "[encoded data removed]",
      "text/plain": [
       "<Figure size 640x480 with 2 Axes>"
      ]
     },
     "metadata": {},
     "output_type": "display_data"
    }
   ],
   "source": [
    "y_pred = model.predict(X_test).argmax(axis=1)\n",
    "cm = confusion_matrix(y_test, y_pred)\n",
    "sns.heatmap(cm, annot=True, fmt='d', cmap='Blues', xticklabels=['Derrota', 'Empate', 'Victoria'], yticklabels=['Derrota', 'Empate', 'Victoria'])\n",
    "plt.xlabel('Predicción')\n",
    "plt.ylabel('Etiqueta Verdadera')\n",
    "plt.title('Matriz de Confusión')\n",
    "plt.show()\n"
   ]
  },
  {
   "cell_type": "markdown",
   "metadata": {},
   "source": [
    "### Informe de Clasificación\n",
    "\n",
    "El **informe de clasificación** nos proporciona una visión detallada del rendimiento del modelo para cada clase y métricas globales. En este caso:\n",
    "\n",
    "#### Métricas por clase:\n",
    "- **Derrota**: \n",
    "  - **Precisión**: 0.89 - El modelo predice correctamente el 89% de las derrotas.\n",
    "  - **Exhaustividad (Recall)**: 0.93 - Identifica el 93% de las derrotas reales.\n",
    "  - **F1-Score**: 0.91 - Buena combinación de precisión y exhaustividad.\n",
    "  - **Soporte**: 301,722 instancias.\n",
    "\n",
    "- **Empate** (Margen de mejora): \n",
    "  - **Precisión**: 0.55 - Moderado rendimiento al predecir empates.\n",
    "  - **Exhaustividad (Recall)**: 0.16 - Sólo identifica el 16% de los empates reales.\n",
    "  - **F1-Score**: 0.25 - Bajo rendimiento en esta clase.\n",
    "  - **Soporte**: 11,760 instancias.\n",
    "\n",
    "- **Victoria**: \n",
    "  - **Precisión**: 0.70 - Buen desempeño en predecir victorias.\n",
    "  - **Exhaustividad (Recall)**: 0.65 - Identifica el 65% de las victorias reales.\n",
    "  - **F1-Score**: 0.68 - Balance razonable entre precisión y exhaustividad.\n",
    "  - **Soporte**: 86,518 instancias.\n",
    "\n",
    "#### Métricas globales:\n",
    "- **Exactitud (Accuracy)**: 0.85 - El modelo clasifica correctamente el 85% de las instancias.\n",
    "- **Promedio Macro (Macro Avg)**:\n",
    "  - Promedio simple de las métricas entre clases: precisión 0.71, exhaustividad 0.58, F1 0.61.\n",
    "  - Resalta que el rendimiento del modelo es inferior en clases minoritarias como \"Empate\".\n",
    "- **Promedio Ponderado (Weighted Avg)**:\n",
    "  - Promedio ponderado por el número de instancias en cada clase: precisión 0.84, exhaustividad 0.85, F1 0.84.\n",
    "  - Refleja el impacto de las clases con mayor soporte, como \"Derrota\".\n",
    "\n",
    "### Conclusión:\n",
    "El modelo tiene un buen desempeño general (85% de exactitud), pero tiene algunos problemas en la predicción de empates por lo que hemos comentado anteriormente, posiblemente debido al bajo número de instancias de esta clase en el conjunto de datos.\n"
   ]
  },
  {
   "cell_type": "code",
   "execution_count": 12,
   "metadata": {},
   "outputs": [
    {
     "name": "stdout",
     "output_type": "stream",
     "text": [
      "              precision    recall  f1-score   support\n",
      "\n",
      "     Derrota       0.89      0.93      0.91    301722\n",
      "      Empate       0.55      0.16      0.25     11760\n",
      "    Victoria       0.70      0.65      0.68     86518\n",
      "\n",
      "    accuracy                           0.85    400000\n",
      "   macro avg       0.71      0.58      0.61    400000\n",
      "weighted avg       0.84      0.85      0.84    400000\n",
      "\n"
     ]
    }
   ],
   "source": [
    "print(classification_report(y_test, y_pred, target_names=['Derrota', 'Empate', 'Victoria']))"
   ]
  },
  {
   "cell_type": "markdown",
   "metadata": {},
   "source": [
    "### Cargar el Modelo y el Escalador\n",
    "\n",
    "Antes de realizar la predicción, verificamos si los archivos del modelo entrenado y el escalador ya existen. Si los archivos están disponibles, los cargamos para hacer la predicción sin necesidad de volver a entrenar el modelo. Si no existen, es necesario entrenar y guardar ambos.\n",
    "\n",
    "- **Modelo**: Se carga el modelo previamente entrenado usando `load_model()`, lo que permite utilizarlo para hacer predicciones sin necesidad de reentrenar.\n",
    "- **Escalador**: El escalador (`MinMaxScaler`) se carga con `joblib.load()`, para aplicar las transformaciones necesarias a los datos de entrada antes de realizar la predicción.\n",
    "\n",
    "Si ambos archivos existen, se carga el modelo y el escalador; si no, se debe proceder con el entrenamiento y guardado."
   ]
  },
  {
   "cell_type": "code",
   "execution_count": 21,
   "metadata": {},
   "outputs": [
    {
     "name": "stdout",
     "output_type": "stream",
     "text": [
      "Modelo y escalador cargados correctamente.\n"
     ]
    }
   ],
   "source": [
    "if os.path.exists('models/poker_model.keras') and os.path.exists('models/scaler.pkl'):\n",
    "    model = load_model('models/poker_model.keras')\n",
    "    scaler = joblib.load('models/scaler.pkl')\n",
    "    print(\"Modelo y escalador cargados correctamente.\")\n",
    "else:\n",
    "    print(\"No se encontraron archivos guardados. Necesitas entrenar y guardar el modelo y el escalador. Ejecuta el notebook entero.\")"
   ]
  },
  {
   "cell_type": "markdown",
   "metadata": {},
   "source": [
    "### Predicción de Probabilidades"
   ]
  },
  {
   "cell_type": "code",
   "execution_count": 13,
   "metadata": {},
   "outputs": [
    {
     "name": "stdout",
     "output_type": "stream",
     "text": [
      "\u001b[1m12500/12500\u001b[0m \u001b[32m━━━━━━━━━━━━━━━━━━━━\u001b[0m\u001b[37m\u001b[0m \u001b[1m28s\u001b[0m 2ms/step\n",
      "Ejemplo 1: Probabilidades -> Derrota: 0.95, Empate: 0.02, Victoria: 0.03\n",
      "Ejemplo 2: Probabilidades -> Derrota: 0.98, Empate: 0.00, Victoria: 0.02\n",
      "Ejemplo 3: Probabilidades -> Derrota: 0.99, Empate: 0.00, Victoria: 0.00\n",
      "Ejemplo 4: Probabilidades -> Derrota: 0.99, Empate: 0.00, Victoria: 0.00\n",
      "Ejemplo 5: Probabilidades -> Derrota: 0.12, Empate: 0.00, Victoria: 0.88\n",
      "Ejemplo 6: Probabilidades -> Derrota: 0.97, Empate: 0.00, Victoria: 0.03\n",
      "Ejemplo 7: Probabilidades -> Derrota: 1.00, Empate: 0.00, Victoria: 0.00\n",
      "Ejemplo 8: Probabilidades -> Derrota: 1.00, Empate: 0.00, Victoria: 0.00\n",
      "Ejemplo 9: Probabilidades -> Derrota: 0.99, Empate: 0.00, Victoria: 0.00\n",
      "Ejemplo 10: Probabilidades -> Derrota: 0.62, Empate: 0.10, Victoria: 0.27\n"
     ]
    }
   ],
   "source": [
    "y_prob = model.predict(X_test)\n",
    "\n",
    "for i, prob in enumerate(y_prob[:10]):  # Muestra las primeras 10 filas\n",
    "    print(f\"Ejemplo {i+1}: Probabilidades -> Derrota: {prob[0]:.2f}, Empate: {prob[1]:.2f}, Victoria: {prob[2]:.2f}\")\n"
   ]
  }
 ],
 "metadata": {
  "kernelspec": {
   "display_name": "poker-env",
   "language": "python",
   "name": "python3"
  },
  "language_info": {
   "codemirror_mode": {
    "name": "ipython",
    "version": 3
   },
   "file_extension": ".py",
   "mimetype": "text/x-python",
   "name": "python",
   "nbconvert_exporter": "python",
   "pygments_lexer": "ipython3",
   "version": "3.11.9"
  }
 },
 "nbformat": 4,
 "nbformat_minor": 2
}
