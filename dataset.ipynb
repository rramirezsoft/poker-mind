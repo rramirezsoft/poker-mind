{
 "cells": [
  {
   "cell_type": "markdown",
   "metadata": {},
   "source": [
    " # Póker Mind - Creación del Dataset"
   ]
  },
  {
   "cell_type": "markdown",
   "metadata": {},
   "source": [
    "**Introducción**\n",
    "\n",
    "Este módulo del proyecto Póker Mind tiene como objetivo construir un dataset con una gran cantidad de manos de póker mediante simulaciones basadas en técnicas de Monte Carlo. Este dataset nos permitirá próximamente poder generar insights estadísticos sobre las probabilidades de éxito de distintas manos en escenarios con múltiples rivales y cartas comunitarias.\n",
    "\n",
    "El presente notebook abarca la etapa de la creación del conjunto de datos, en la que simulamos miles de partidas de póker, registramos las mejores manos posibles en cada fase del juego (flop, turn, river), y obtenemos el rendimiento relativo de las manos preflop en distintos contextos para posteriormente evaluarlos.\n",
    "\n",
    "**Generación del Dataset**\n",
    "\n",
    "El dataset fue construido utilizando simulaciones de partidas de póker generadas con las siguientes características:\n",
    "\n",
    "- Número de simulaciones: Realizaremos 1 Millón de simulaciones de manos para obtener una ran precisión en nuestros resultados\n",
    "- Cartas iniciales: Se generan 2 cartas para el jugador (mano preflop).\n",
    "- Cartas comunitarias: Se generan 5 cartas (flop: 3 cartas, turn: 1 carta, river: 1 carta).\n",
    "- Número de rivales: Varía aleatoriamente entre 1 y 8 jugadores por simulación.\n",
    "- Clasificación preflop: Se evalúa si la mano es una pareja o carta alta, y si las cartas son suited (mismo palo) u offsuit (palos diferentes).\n",
    "- Mejor mano final: Se selecciona la mejor combinación de 5 cartas posible para el jugador y cada rival.\n",
    "- Resultado: Se determina si el jugador ganó, perdió, o empató contra los rivales.\n",
    "\n",
    "El dataset se almacena en un archivo .csv para su posterior análisis y visualización.\n",
    "\n",
    "**¿Cómo lo haremos?**\n",
    "\n",
    "Para la construcción de este dataset vamos a utilizar el famoso *método de Montecarlo*. \n",
    "\n",
    "**Simulaciones Monte Carlo**\n",
    "\n",
    "Las simulaciones de Monte Carlo son un enfoque probabilístico que permite aproximar soluciones a problemas complejos mediante simulaciones aleatorias repetidas. En este caso, utilizamos Monte Carlo para modelar:\n",
    "\n",
    "- La distribución de cartas en el póker.\n",
    "- La probabilidad de formar determinadas manos dadas las cartas comunitarias.\n",
    "- La probabilidad de ganar contra diferentes rivales.\n",
    "\n",
    "**Combinaciones en el póker**\n",
    "\n",
    "En póker, las combinaciones posibles de manos se calculan usando el concepto de combinaciones en matemáticas. Para un deck estándar de 52 cartas, las combinaciones se definen como:\n",
    "\n",
    "\n",
    "$$\n",
    "C(n, k) = \\frac{n!}{k!(n - k)!}\n",
    "$$\n",
    "\n",
    "Donde:\n",
    "\n",
    "- 𝑛 es el total de cartas disponibles (52 del mazo de Póker).\n",
    "- 𝑘 es el número de cartas seleccionadas que conforman una mano.\n",
    "\n",
    "Ejemplo: El número total de combinaciones de 5 cartas seleccionadas de un deck de 52 es:\n",
    "\n",
    "$$\n",
    "C(52, 5) = \\frac{52!}{5!(52 - 5)!} = 2,598,960\n",
    "$$\n",
    "\n",
    "Este principio se utiliza para calcular todas las manos posibles y determinar la mejor mano en cada etapa.\n",
    "\n",
    "**Objetivo del análisis**\n",
    "\n",
    "El objetivo principal de este análisis es explorar el dataset generado y obtener insights sobre el juego de póker. Queremos responder a preguntas como:\n",
    "\n",
    "* ¿Cuáles son las manos más fuertes?\n",
    "* ¿Cómo afectan las cartas iniciales a la probabilidad de ganar?\n",
    "* ¿Qué importancia tienen las cartas comunitarias en el desarrollo de una mano?"
   ]
  },
  {
   "cell_type": "markdown",
   "metadata": {},
   "source": [
    "### Importación de librerías"
   ]
  },
  {
   "cell_type": "code",
   "execution_count": 32,
   "metadata": {},
   "outputs": [],
   "source": [
    "import random\n",
    "from collections import Counter\n",
    "from itertools import combinations\n",
    "import pandas as pd\n",
    "import os"
   ]
  },
  {
   "cell_type": "markdown",
   "metadata": {},
   "source": [
    "### **Función `crear_deck()`**\n",
    "\n",
    "Esta función genera un mazo estándar de cartas de Poker. El mazo contiene 52 cartas divididas en 4 palos (`♠`, `♥`, `♦`, `♣`) y 13 valores (`2`, `3`, `4`, ..., `K`, `A`)."
   ]
  },
  {
   "cell_type": "code",
   "execution_count": 33,
   "metadata": {},
   "outputs": [],
   "source": [
    "def crear_deck():\n",
    "    palos = ['♠', '♥', '♦', '♣']\n",
    "    valores = ['2', '3', '4', '5', '6', '7', '8', '9', '10', 'J', 'Q', 'K', 'A']\n",
    "    return [f'{v}{p}' for v in valores for p in palos]"
   ]
  },
  {
   "cell_type": "markdown",
   "metadata": {},
   "source": [
    "### **Función `clasificar_mano(cartas)`**\n",
    "Esta función clasifica una mano de 5 cartas en uno de los siguientes tipos de manos de poker, según las reglas estándar del juego:\n",
    "\n",
    "- Escalera Real (Royal Flush)\n",
    "- Escalera de Color (Straight Flush)\n",
    "- Póker (Four of a Kind)\n",
    "- Full House (Full House)\n",
    "- Color (Flush)\n",
    "- Escalera (Straight)\n",
    "- Trío (Three of a Kind)\n",
    "- Doble Pareja (Two Pair)\n",
    "- Pareja (One Pair)\n",
    "- Carta Alta (High Card)"
   ]
  },
  {
   "cell_type": "code",
   "execution_count": 34,
   "metadata": {},
   "outputs": [],
   "source": [
    "def clasificar_mano(cartas):\n",
    "    valores = [carta[:-1] for carta in cartas]  # Obtenemos sólo los valores de las cartas (sin los palos)\n",
    "    palos = [carta[-1] for carta in cartas]  # Obtenemos los palos de las cartas\n",
    "\n",
    "    # Definimos los valores en orden\n",
    "    valores_ordenados = ['2', '3', '4', '5', '6', '7', '8', '9', '10', 'J', 'Q', 'K', 'A']\n",
    "    \n",
    "    # Frecuencia de los valores de las cartas\n",
    "    conteo_valores = Counter(valores)\n",
    "    conteo_palos = Counter(palos)\n",
    "\n",
    "    # Verificaciones\n",
    "    es_color = len(conteo_palos) == 1  # Color Todas las cartas del mismo palo\n",
    "    valores_int = [valores_ordenados.index(v) for v in valores]\n",
    "    valores_int.sort()\n",
    "\n",
    "    # Escalera\n",
    "    es_escalera = len(conteo_valores) == 5 and (max(valores_int) - min(valores_int)) == 4  # cinco valores consecutivos\n",
    "    \n",
    "    # Caso especial escalera A, 2, 3, 4, 5\n",
    "    if set(valores) == {'A', '2', '3', '4', '5'}:\n",
    "        es_escalera = True\n",
    "        valores_int = [valores_ordenados.index('2'), valores_ordenados.index('3'), \n",
    "                       valores_ordenados.index('4'), valores_ordenados.index('5'), valores_ordenados.index('A')]\n",
    "        valores_int.sort()\n",
    "\n",
    "    # Evaluamos las manos\n",
    "    if es_color and es_escalera:\n",
    "        if valores_int == [8, 9, 10, 11, 12]:  # Escalera Real\n",
    "            return (10, valores, \"Escalera Real\")  # 10 = Escalera Real\n",
    "        return (9, valores, \"Escalera de Color\")  # 9 = Escalera de Color\n",
    "    elif 4 in conteo_valores.values():\n",
    "        return (8, valores, \"Póker\")  # 8 = Póker\n",
    "    elif 3 in conteo_valores.values() and 2 in conteo_valores.values():\n",
    "        return (7, valores, \"Full House\")  # 7 = Full House\n",
    "    elif es_color:\n",
    "        return (6, valores, \"Color\")  # 6 = Color\n",
    "    elif es_escalera:\n",
    "        return (5, valores, \"Escalera\")  # 5 = Escalera\n",
    "    elif 3 in conteo_valores.values():\n",
    "        return (4, valores, \"Trío\")  # 4 = Trío\n",
    "    elif list(conteo_valores.values()).count(2) == 2:\n",
    "        return (3, valores, \"Doble Pareja\")  # 3 = Doble Pareja\n",
    "    elif 2 in conteo_valores.values():\n",
    "        return (2, valores, \"Pareja\")  # 2 = Pareja\n",
    "    else:\n",
    "        return (1, valores, \"Carta Alta\")  # 1 = Carta Alta"
   ]
  },
  {
   "cell_type": "markdown",
   "metadata": {},
   "source": [
    "### **Función `clasificar_mano_preflop(cartas)`**\n",
    "Clasifica las dos cartas iniciales del jugador en manos preflop. Determina si son una **pareja** o **carta alta**, y si son **suited** (mismo palo) o **offsuit** (palos diferentes). Retorna una cadena que indica el tipo de mano y su categoría suited u offsuit.\n"
   ]
  },
  {
   "cell_type": "code",
   "execution_count": 35,
   "metadata": {},
   "outputs": [],
   "source": [
    "def clasificar_mano_preflop(cartas):\n",
    "    # Si las dos cartas tienen el mismo valor, es una pareja\n",
    "    if cartas[0][:-1] == cartas[1][:-1]:\n",
    "        tipo = \"Pareja\"\n",
    "    else:\n",
    "        tipo = \"Carta Alta\"\n",
    "    \n",
    "    # Comprobamos si son del mismo palo\n",
    "    if cartas[0][-1] == cartas[1][-1]:\n",
    "        suited = \"Suited\"\n",
    "    else:\n",
    "        suited = \"Offsuit\"\n",
    "    \n",
    "    return f\"{tipo} {suited}\""
   ]
  },
  {
   "cell_type": "markdown",
   "metadata": {},
   "source": [
    "### **Función `valor_carta(carta)`**\n",
    "Esta función convierte el valor de una carta a su valor numérico correspondiente, utilizado para comparar cartas en el proceso de evaluación de manos."
   ]
  },
  {
   "cell_type": "code",
   "execution_count": 36,
   "metadata": {},
   "outputs": [],
   "source": [
    "def valor_carta(carta):\n",
    "    \"\"\"Convierte el valor de una carta a su valor numérico correspondiente.\"\"\"\n",
    "    valores_figuras = {'2': 2, '3': 3, '4': 4, '5': 5, '6': 6, '7': 7, '8': 8, '9': 9, '10': 10,\n",
    "                       'J': 11, 'Q': 12, 'K': 13, 'A': 14}\n",
    "    return valores_figuras[carta]"
   ]
  },
  {
   "cell_type": "markdown",
   "metadata": {},
   "source": [
    "### **Función `obtener_mejor_mano(cartas)`**\n",
    "Esta función evalúa todas las combinaciones posibles de 5 cartas a partir del conjunto dado de cartas. Para seleccionar la mejor mano, utiliza una subfunción interna llamada `evaluar_mano()`, que clasifica la mano y realiza un desempate basado en los valores de las cartas (kicker).\n",
    "\n",
    "La fórmula utilizada para evaluar la mejor mano es:\n",
    "\n",
    "$$\n",
    "\\text{Mejor Mano} = \\max \\left( \\text{combinaciones}(\\text{cartas}, 5), \\text{key} = \\text{evaluar\\_mano} \\right)\n",
    "$$\n",
    "\n",
    "Donde `evaluar_mano()` devuelve la clasificación de la mano junto con un desempate basado en los valores numéricos de las cartas.\n",
    "\n",
    "Finalmente, retorna la clasificación de la mejor mano junto con las cartas correspondientes.\n",
    "\n"
   ]
  },
  {
   "cell_type": "code",
   "execution_count": 37,
   "metadata": {},
   "outputs": [],
   "source": [
    "def obtener_mejor_mano(cartas):\n",
    "    \n",
    "    combinaciones_manos = combinations(cartas, 5)\n",
    "    \n",
    "    # Evaluamos una mano con desempate por kicker\n",
    "    def evaluar_mano(c):\n",
    "        clasificacion, valores, _ = clasificar_mano(c)\n",
    "        valores_int = sorted([valor_carta(v) for v in valores], reverse=True)  # Ordenamos valores numéricos descendente\n",
    "        return (clasificacion, valores_int)  # Clasificación principal y desempate por valores\n",
    "\n",
    "    # Seleccionamos la mejor mano considerando clasificación y desempates\n",
    "    mejor_mano = max(combinaciones_manos, key=evaluar_mano)\n",
    "    return clasificar_mano(mejor_mano), mejor_mano"
   ]
  },
  {
   "cell_type": "markdown",
   "metadata": {},
   "source": [
    "### **Función `comparar_manos(mano1, mano2)`**\n",
    "Esta función compara dos manos de póker en base a su clasificación y a un desempate de valores cuando las clasificaciones son iguales.\n",
    "\n",
    "**Pasos de la comparación:**\n",
    "\n",
    "1. **Comparación de la clasificación principal:**\n",
    "   - Si la clasificación de `mano1` es superior a la de `mano2`, se devuelve `1`.\n",
    "   - Si la clasificación de `mano1` es inferior a la de `mano2`, se devuelve `-1`.\n",
    "   - Si las clasificaciones son iguales, se procede al desempate.\n",
    "\n",
    "2. **Desempate de valores:**\n",
    "   - Si las manos son iguales en clasificación, se desempata utilizando los valores de las cartas.\n",
    "   - Las manos se ordenan por los valores de las cartas de mayor a menor, y se comparan de manera secuencial.\n",
    "   - En caso de empate, se revisan manos específicas como el **Full House**, donde se compara el trío y luego la pareja.\n",
    "\n",
    "**Ejemplo de desempate en Full House:**\n",
    "  - Se compara primero el valor del trío (el valor que aparece tres veces), y luego la pareja (el valor que aparece dos veces).\n",
    "  \n",
    "**Devuelve:**\n",
    "- `1` si `mano1` es superior a `mano2`.\n",
    "- `-1` si `mano1` es inferior a `mano2`.\n",
    "- `0` si ambas manos son iguales.\n"
   ]
  },
  {
   "cell_type": "code",
   "execution_count": 38,
   "metadata": {},
   "outputs": [],
   "source": [
    "def comparar_manos(mano1, mano2):\n",
    "\n",
    "    # Comparamos clasificación principal\n",
    "    if mano1[0] > mano2[0]:\n",
    "        return 1\n",
    "    elif mano1[0] < mano2[0]:\n",
    "        return -1\n",
    "    else:\n",
    "        # En caso de clasificación igual, desempatar por valores\n",
    "        valores_ordenados = ['2', '3', '4', '5', '6', '7', '8', '9', '10', 'J', 'Q', 'K', 'A']\n",
    "        valores1 = Counter(mano1[1])\n",
    "        valores2 = Counter(mano2[1])\n",
    "        \n",
    "        # Si ambos son Full House, comparamos primero el trío y luego la pareja\n",
    "        if mano1[0] == 7:  # Full House\n",
    "            trio1 = max((v for v in valores1 if valores1[v] == 3), key=lambda x: valores_ordenados.index(x))\n",
    "            trio2 = max((v for v in valores2 if valores2[v] == 3), key=lambda x: valores_ordenados.index(x))\n",
    "            if valores_ordenados.index(trio1) > valores_ordenados.index(trio2):\n",
    "                return 1\n",
    "            elif valores_ordenados.index(trio1) < valores_ordenados.index(trio2):\n",
    "                return -1\n",
    "            else:\n",
    "                pareja1 = max((v for v in valores1 if valores1[v] == 2), key=lambda x: valores_ordenados.index(x))\n",
    "                pareja2 = max((v for v in valores2 if valores2[v] == 2), key=lambda x: valores_ordenados.index(x))\n",
    "                if valores_ordenados.index(pareja1) > valores_ordenados.index(pareja2):\n",
    "                    return 1\n",
    "                elif valores_ordenados.index(pareja1) < valores_ordenados.index(pareja2):\n",
    "                    return -1\n",
    "                else:\n",
    "                    return 0  # Full House idéntico\n",
    "\n",
    "        # Para otras manos, desempatamos por los valores individuales\n",
    "        valores1 = sorted([valor_carta(v) for v in mano1[1]], reverse=True)\n",
    "        valores2 = sorted([valor_carta(v) for v in mano2[1]], reverse=True)\n",
    "        for v1, v2 in zip(valores1, valores2):\n",
    "            if v1 > v2:\n",
    "                return 1\n",
    "            elif v1 < v2:\n",
    "                return -1\n",
    "        return 0  # Totalmente igual devolvemos empate"
   ]
  },
  {
   "cell_type": "markdown",
   "metadata": {},
   "source": [
    "### **Función `obtener_resultado(mejor_mano_jugador, manos_rivales_completas)`**\n",
    "Compara la mejor mano del jugador con las manos de los rivales para determinar el resultado de la partida.\n",
    "\n",
    "- **Derrota**: Si el jugador pierde contra algún rival.\n",
    "- **Empate**: Si el jugador empata con algún rival pero no pierde.\n",
    "- **Victoria**: Si el jugador no pierde ni empata con nadie.\n",
    "\n",
    "Devuelve `\"Victoria\"`, `\"Empate\"` o `\"Derrota\"`.\n"
   ]
  },
  {
   "cell_type": "code",
   "execution_count": 39,
   "metadata": {},
   "outputs": [],
   "source": [
    "\n",
    "def obtener_resultado(mejor_mano_jugador, manos_rivales_completas):\n",
    "    derrota = False\n",
    "    empate = False\n",
    "    \n",
    "    for mano_rival in manos_rivales_completas:\n",
    "        comparacion = comparar_manos(mejor_mano_jugador, mano_rival)\n",
    "        \n",
    "        if comparacion == -1:  \n",
    "            derrota = True\n",
    "        elif comparacion == 0: \n",
    "            empate = True\n",
    "\n",
    "    if derrota:\n",
    "        return \"Derrota\"\n",
    "    \n",
    "    if empate:\n",
    "        return \"Empate\"\n",
    "    \n",
    "    return \"Victoria\""
   ]
  },
  {
   "cell_type": "markdown",
   "metadata": {},
   "source": [
    "### **Función `simulacion_montecarlo(num_simulaciones=1)`**\n",
    "Realiza simulaciones de partidas de póker utilizando el método de Monte Carlo.\n",
    "\n",
    "- **Proceso**:\n",
    "  1. Crea un mazo de cartas y reparte 2 cartas al jugador y 2 cartas a cada rival (1 a 8 rivales aleatorios).\n",
    "  2. Simula las cartas comunitarias (flop, turn y river).\n",
    "  3. Evalúa la mejor mano del jugador y de los rivales en cada fase del juego.\n",
    "  4. Compara la mano final del jugador con las manos de los rivales y determina el resultado (Victoria, Empate o Derrota).\n",
    "  5. Guarda los resultados de la simulación en un DataFrame y lo exporta como un archivo `.csv`.\n",
    "\n",
    "- **Devuelve**: Un archivo `simulacion_poker.csv` con las simulaciones.\n"
   ]
  },
  {
   "cell_type": "code",
   "execution_count": 40,
   "metadata": {},
   "outputs": [],
   "source": [
    "def simulacion_montecarlo(num_simulaciones=1):\n",
    "    \n",
    "    dataset = [] # Creamos el dataset vacio\n",
    "    \n",
    "    for _ in range(num_simulaciones):\n",
    "        # Creamos el deck y repartimos cartas\n",
    "        deck = crear_deck()\n",
    "        cartas_jugador = random.sample(deck, 2)  # Dos cartas para el jugador\n",
    "        deck = [card for card in deck if card not in cartas_jugador]  # Eliminamos las cartas del jugador del deck\n",
    "        \n",
    "        # Clasificamos la mano preflop del jugador\n",
    "        nombre_mano_preflop = clasificar_mano_preflop(cartas_jugador)\n",
    "        \n",
    "        # Número de rivales\n",
    "        n_rivales = random.randint(1, 8)\n",
    "        \n",
    "        # Manos de los rivales\n",
    "        manos_rivales = []\n",
    "        for _ in range(n_rivales):\n",
    "            mano_rival = random.sample(deck, 2)\n",
    "            manos_rivales.append(mano_rival)\n",
    "            deck = [card for card in deck if card not in mano_rival]  # Eliminamos cartas del rival del deck\n",
    "        \n",
    "        # Cartas comunitarias (flop, turn, river)\n",
    "        flop = random.sample(deck, 3)\n",
    "        deck = [card for card in deck if card not in flop] \n",
    "        turn = random.sample(deck, 1)\n",
    "        deck = [card for card in deck if card not in turn] \n",
    "        river = random.sample(deck, 1)\n",
    "        \n",
    "        # Evaluamos la mejor mano del jugador en cada fase\n",
    "        mejor_mano_flop, cartas_mejor_flop = obtener_mejor_mano(cartas_jugador + flop)\n",
    "        mejor_mano_turn, cartas_mejor_turn = obtener_mejor_mano(cartas_jugador + flop + turn)\n",
    "        mejor_mano_river, cartas_mejor_river = obtener_mejor_mano(cartas_jugador + flop + turn + river)\n",
    "\n",
    "        # Evaluamos las manos rivales con las 5 mejores cartas: 2 del rival + las comunitarias\n",
    "        manos_completas_rivales = [obtener_mejor_mano(mano_rival + flop + turn + river)[0] for mano_rival in manos_rivales]\n",
    "\n",
    "        # Obtenemos el resultado final comparando la mano del jugador con todas las manos rivales\n",
    "        resultado = obtener_resultado(mejor_mano_river, manos_completas_rivales)\n",
    "\n",
    "        # Guardamos la simulación\n",
    "        fila = {\n",
    "            'cartas_jugador': cartas_jugador,\n",
    "            'num_rivales': n_rivales,\n",
    "            'mano_preflop': nombre_mano_preflop,\n",
    "            'flop': flop,\n",
    "            'mano_flop': mejor_mano_flop[2],\n",
    "            'cartas_flop': list(cartas_mejor_flop),\n",
    "            'turn': turn,\n",
    "            'mano_turn': mejor_mano_turn[2],\n",
    "            'cartas_turn': list(cartas_mejor_turn),\n",
    "            'river': river,\n",
    "            'mano_river': mejor_mano_river[2],\n",
    "            'cartas_river': list(cartas_mejor_river),\n",
    "            'resultado': resultado\n",
    "        }\n",
    "        \n",
    "        dataset.append(fila)\n",
    "\n",
    "    # Convertimos a DataFrame y lo guardamos\n",
    "    df = pd.DataFrame(dataset)\n",
    "    output_path = os.path.join('data', 'simulacion_poker.csv')\n",
    "    os.makedirs('data', exist_ok=True)\n",
    "    df.to_csv(output_path, index=False)\n",
    "    print(f\"Dataset guardado en: {output_path}\")"
   ]
  },
  {
   "cell_type": "markdown",
   "metadata": {},
   "source": [
    "### **Simulación de 1,000,000 manos de póker**\n",
    "Ejecutamos la función `simulacion_montecarlo(num_simulaciones=1000000)` para realizar 1,000,000 simulaciones de manos de póker. Este proceso genera el conjunto de datos con toda la información. El resultado lo guardamos en `data/simulacion_poker.csv` para su posterior análisis.\n"
   ]
  },
  {
   "cell_type": "code",
   "execution_count": 41,
   "metadata": {},
   "outputs": [
    {
     "name": "stdout",
     "output_type": "stream",
     "text": [
      "Dataset guardado en: data\\simulacion_poker.csv\n"
     ]
    }
   ],
   "source": [
    "simulacion_montecarlo(num_simulaciones=1000000)"
   ]
  }
 ],
 "metadata": {
  "kernelspec": {
   "display_name": "poker-env",
   "language": "python",
   "name": "python3"
  },
  "language_info": {
   "codemirror_mode": {
    "name": "ipython",
    "version": 3
   },
   "file_extension": ".py",
   "mimetype": "text/x-python",
   "name": "python",
   "nbconvert_exporter": "python",
   "pygments_lexer": "ipython3",
   "version": "3.11.9"
  }
 },
 "nbformat": 4,
 "nbformat_minor": 2
}
