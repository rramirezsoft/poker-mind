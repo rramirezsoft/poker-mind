{
 "cells": [
  {
   "cell_type": "markdown",
   "metadata": {},
   "source": [
    "# Póker Mind - Análisis de Datos"
   ]
  },
  {
   "cell_type": "markdown",
   "metadata": {},
   "source": [
    "**Introducción**\n",
    "\n",
    "Este módulo del proyecto Póker Mind tiene como objetivo analizar en profundidad los datos generados previamente en nuestro dataset de simulaciones de póker. A través de un análisis exploratorio de datos (EDA), buscamos descubrir patrones, tendencias y relaciones clave que nos permitan entender mejor las probabilidades y los factores que influyen en el éxito de las manos de póker en diferentes escenarios.\n",
    "\n",
    "**Objetivos del Análisis Exploratorio**\n",
    "\n",
    "El análisis exploratorio de datos (EDA) en este módulo se organiza en una serie de preguntas clave que guían nuestra investigación. Estas preguntas están diseñadas para aprovechar al máximo la estructura de nuestro dataset y obtener respuestas a problemas fundamentales en el póker.\n",
    "\n",
    "**Visualización del Dataset**\n",
    "\n",
    "El dataset generado previamente incluye las siguientes columnas principales:\n",
    "\n",
    "- `cartas_jugador`: Las dos cartas iniciales del jugador.\n",
    "- `num_rivales`: Número de rivales en la partida simulada.\n",
    "- `mano_preflop`: Clasificación de las cartas iniciales (por ejemplo, \"Pareja\" o \"Carta Alta Suited\").\n",
    "- `flop`, `turn`, `river`: Cartas comunitarias en cada fase del juego.\n",
    "- `mano_flop`, `mano_turn`, `mano_river`: Clasificación de la mano del jugador en cada etapa.\n",
    "- `resultado`: Resultado final del juego (Victoria, Derrota, Empate).\n",
    "\n",
    "Este conjunto de datos es ideal para responder preguntas estratégicas relacionadas con el póker y para identificar los factores que determinan el éxito en este juego. A lo largo del notebook, utilizaremos estas columnas para explorar y visualizar relaciones que nos ayuden a tomar decisiones más informadas en el póker.\n"
   ]
  },
  {
   "cell_type": "markdown",
   "metadata": {},
   "source": [
    "##### **¡¡Observación!!**\n",
    "\n",
    "Ten en cuenta que los porcentajes y datos que doy en los análisis de cada pregunta a la que respondo son estrictamente sacados de mi dataset actual, si tú deseas actualizar el dataset y/o re-ejecutar el notebook de generación de dataset para generar una simulación diferente de 2 millones de manos, tienes que sabes que los porcentajes que veas en las estadisticas no coincidirán al 100% con los que doy yo en el análisis, pero sí que deberían ser muy similares. Por lo tanto, es una buena practica incluso volver a ejecutar el notebook de generación del dataset para asegurarse que las estadísticas y los datos generados tienen coherencia y están funcionando corréctamente. Recuerda que cuantas más manos simuladas generes, más exactitud y veracidad tendrán las estadísticas generadas.\n",
    "\n",
    "Dicho esto, disfruta del análisis del dataset."
   ]
  },
  {
   "cell_type": "markdown",
   "metadata": {},
   "source": [
    "### Importación de librerías"
   ]
  },
  {
   "cell_type": "code",
   "execution_count": 1,
   "metadata": {},
   "outputs": [],
   "source": [
    "import pandas as pd\n",
    "import plotly.express as px"
   ]
  },
  {
   "cell_type": "markdown",
   "metadata": {},
   "source": [
    "### Carga y visualización del dataset"
   ]
  },
  {
   "cell_type": "code",
   "execution_count": 2,
   "metadata": {},
   "outputs": [
    {
     "data": {
      "text/html": [
       "<div>\n",
       "<style scoped>\n",
       "    .dataframe tbody tr th:only-of-type {\n",
       "        vertical-align: middle;\n",
       "    }\n",
       "\n",
       "    .dataframe tbody tr th {\n",
       "        vertical-align: top;\n",
       "    }\n",
       "\n",
       "    .dataframe thead th {\n",
       "        text-align: right;\n",
       "    }\n",
       "</style>\n",
       "<table border=\"1\" class=\"dataframe\">\n",
       "  <thead>\n",
       "    <tr style=\"text-align: right;\">\n",
       "      <th></th>\n",
       "      <th>cartas_jugador</th>\n",
       "      <th>num_rivales</th>\n",
       "      <th>mano_preflop</th>\n",
       "      <th>flop</th>\n",
       "      <th>mano_flop</th>\n",
       "      <th>cartas_flop</th>\n",
       "      <th>turn</th>\n",
       "      <th>mano_turn</th>\n",
       "      <th>cartas_turn</th>\n",
       "      <th>river</th>\n",
       "      <th>mano_river</th>\n",
       "      <th>cartas_river</th>\n",
       "      <th>resultado</th>\n",
       "    </tr>\n",
       "  </thead>\n",
       "  <tbody>\n",
       "    <tr>\n",
       "      <th>0</th>\n",
       "      <td>['A♣', '4♥']</td>\n",
       "      <td>1</td>\n",
       "      <td>Carta Alta Offsuit</td>\n",
       "      <td>['Q♥', 'J♠', '10♠']</td>\n",
       "      <td>Carta Alta</td>\n",
       "      <td>['A♣', '4♥', 'Q♥', 'J♠', '10♠']</td>\n",
       "      <td>['9♣']</td>\n",
       "      <td>Carta Alta</td>\n",
       "      <td>['A♣', 'Q♥', 'J♠', '10♠', '9♣']</td>\n",
       "      <td>['9♦']</td>\n",
       "      <td>Pareja</td>\n",
       "      <td>['A♣', 'Q♥', 'J♠', '9♣', '9♦']</td>\n",
       "      <td>Derrota</td>\n",
       "    </tr>\n",
       "    <tr>\n",
       "      <th>1</th>\n",
       "      <td>['7♦', '10♣']</td>\n",
       "      <td>3</td>\n",
       "      <td>Carta Alta Offsuit</td>\n",
       "      <td>['5♥', '6♣', '7♠']</td>\n",
       "      <td>Pareja</td>\n",
       "      <td>['7♦', '10♣', '5♥', '6♣', '7♠']</td>\n",
       "      <td>['9♥']</td>\n",
       "      <td>Pareja</td>\n",
       "      <td>['7♦', '10♣', '6♣', '7♠', '9♥']</td>\n",
       "      <td>['8♣']</td>\n",
       "      <td>Escalera</td>\n",
       "      <td>['7♦', '10♣', '6♣', '9♥', '8♣']</td>\n",
       "      <td>Victoria</td>\n",
       "    </tr>\n",
       "    <tr>\n",
       "      <th>2</th>\n",
       "      <td>['8♣', '7♦']</td>\n",
       "      <td>7</td>\n",
       "      <td>Carta Alta Offsuit</td>\n",
       "      <td>['9♦', '7♠', '10♥']</td>\n",
       "      <td>Pareja</td>\n",
       "      <td>['8♣', '7♦', '9♦', '7♠', '10♥']</td>\n",
       "      <td>['Q♠']</td>\n",
       "      <td>Pareja</td>\n",
       "      <td>['7♦', '9♦', '7♠', '10♥', 'Q♠']</td>\n",
       "      <td>['5♦']</td>\n",
       "      <td>Pareja</td>\n",
       "      <td>['7♦', '9♦', '7♠', '10♥', 'Q♠']</td>\n",
       "      <td>Derrota</td>\n",
       "    </tr>\n",
       "    <tr>\n",
       "      <th>3</th>\n",
       "      <td>['K♥', '9♥']</td>\n",
       "      <td>1</td>\n",
       "      <td>Carta Alta Suited</td>\n",
       "      <td>['10♠', '6♥', 'K♣']</td>\n",
       "      <td>Pareja</td>\n",
       "      <td>['K♥', '9♥', '10♠', '6♥', 'K♣']</td>\n",
       "      <td>['4♦']</td>\n",
       "      <td>Pareja</td>\n",
       "      <td>['K♥', '9♥', '10♠', '6♥', 'K♣']</td>\n",
       "      <td>['7♠']</td>\n",
       "      <td>Pareja</td>\n",
       "      <td>['K♥', '9♥', '10♠', 'K♣', '7♠']</td>\n",
       "      <td>Victoria</td>\n",
       "    </tr>\n",
       "    <tr>\n",
       "      <th>4</th>\n",
       "      <td>['4♣', 'J♦']</td>\n",
       "      <td>7</td>\n",
       "      <td>Carta Alta Offsuit</td>\n",
       "      <td>['5♥', 'J♠', 'Q♠']</td>\n",
       "      <td>Pareja</td>\n",
       "      <td>['4♣', 'J♦', '5♥', 'J♠', 'Q♠']</td>\n",
       "      <td>['3♦']</td>\n",
       "      <td>Pareja</td>\n",
       "      <td>['4♣', 'J♦', '5♥', 'J♠', 'Q♠']</td>\n",
       "      <td>['5♣']</td>\n",
       "      <td>Doble Pareja</td>\n",
       "      <td>['J♦', '5♥', 'J♠', 'Q♠', '5♣']</td>\n",
       "      <td>Derrota</td>\n",
       "    </tr>\n",
       "  </tbody>\n",
       "</table>\n",
       "</div>"
      ],
      "text/plain": [
       "  cartas_jugador  num_rivales        mano_preflop                 flop  \\\n",
       "0   ['A♣', '4♥']            1  Carta Alta Offsuit  ['Q♥', 'J♠', '10♠']   \n",
       "1  ['7♦', '10♣']            3  Carta Alta Offsuit   ['5♥', '6♣', '7♠']   \n",
       "2   ['8♣', '7♦']            7  Carta Alta Offsuit  ['9♦', '7♠', '10♥']   \n",
       "3   ['K♥', '9♥']            1   Carta Alta Suited  ['10♠', '6♥', 'K♣']   \n",
       "4   ['4♣', 'J♦']            7  Carta Alta Offsuit   ['5♥', 'J♠', 'Q♠']   \n",
       "\n",
       "    mano_flop                      cartas_flop    turn   mano_turn  \\\n",
       "0  Carta Alta  ['A♣', '4♥', 'Q♥', 'J♠', '10♠']  ['9♣']  Carta Alta   \n",
       "1      Pareja  ['7♦', '10♣', '5♥', '6♣', '7♠']  ['9♥']      Pareja   \n",
       "2      Pareja  ['8♣', '7♦', '9♦', '7♠', '10♥']  ['Q♠']      Pareja   \n",
       "3      Pareja  ['K♥', '9♥', '10♠', '6♥', 'K♣']  ['4♦']      Pareja   \n",
       "4      Pareja   ['4♣', 'J♦', '5♥', 'J♠', 'Q♠']  ['3♦']      Pareja   \n",
       "\n",
       "                       cartas_turn   river    mano_river  \\\n",
       "0  ['A♣', 'Q♥', 'J♠', '10♠', '9♣']  ['9♦']        Pareja   \n",
       "1  ['7♦', '10♣', '6♣', '7♠', '9♥']  ['8♣']      Escalera   \n",
       "2  ['7♦', '9♦', '7♠', '10♥', 'Q♠']  ['5♦']        Pareja   \n",
       "3  ['K♥', '9♥', '10♠', '6♥', 'K♣']  ['7♠']        Pareja   \n",
       "4   ['4♣', 'J♦', '5♥', 'J♠', 'Q♠']  ['5♣']  Doble Pareja   \n",
       "\n",
       "                      cartas_river resultado  \n",
       "0   ['A♣', 'Q♥', 'J♠', '9♣', '9♦']   Derrota  \n",
       "1  ['7♦', '10♣', '6♣', '9♥', '8♣']  Victoria  \n",
       "2  ['7♦', '9♦', '7♠', '10♥', 'Q♠']   Derrota  \n",
       "3  ['K♥', '9♥', '10♠', 'K♣', '7♠']  Victoria  \n",
       "4   ['J♦', '5♥', 'J♠', 'Q♠', '5♣']   Derrota  "
      ]
     },
     "execution_count": 2,
     "metadata": {},
     "output_type": "execute_result"
    }
   ],
   "source": [
    "file_path = \"../data/simulacion_montecarlo.csv\"\n",
    "df = pd.read_csv(file_path)\n",
    "\n",
    "df.head()"
   ]
  },
  {
   "cell_type": "markdown",
   "metadata": {},
   "source": [
    "## EDA"
   ]
  },
  {
   "cell_type": "markdown",
   "metadata": {},
   "source": [
    "### 1. **Manos iniciales y probabilidades de éxito**"
   ]
  },
  {
   "cell_type": "markdown",
   "metadata": {},
   "source": [
    "#### 1.1 ¿Cuáles son las manos iniciales (preflop) con mayor probabilidad de victoria?"
   ]
  },
  {
   "cell_type": "code",
   "execution_count": 3,
   "metadata": {},
   "outputs": [
    {
     "data": {
      "application/vnd.plotly.v1+json": {
       "config": {
        "plotlyServerURL": "https://plot.ly"
       },
       "data": [
        {
         "alignmentgroup": "True",
         "hovertemplate": "Tipo de Mano=%{x}<br>Tasa de Victoria (%)=%{text}<extra></extra>",
         "legendgroup": "Carta Alta Offsuit",
         "marker": {
          "color": "rgb(229, 134, 6)",
          "pattern": {
           "shape": ""
          }
         },
         "name": "Carta Alta Offsuit",
         "offsetgroup": "Carta Alta Offsuit",
         "orientation": "v",
         "showlegend": true,
         "text": [
          0.20004874312867124
         ],
         "textposition": "outside",
         "texttemplate": "%{text:.2%}",
         "type": "bar",
         "x": [
          "Carta Alta Offsuit"
         ],
         "xaxis": "x",
         "y": [
          0.20004874312867124
         ],
         "yaxis": "y"
        },
        {
         "alignmentgroup": "True",
         "hovertemplate": "Tipo de Mano=%{x}<br>Tasa de Victoria (%)=%{text}<extra></extra>",
         "legendgroup": "Carta Alta Suited",
         "marker": {
          "color": "rgb(93, 105, 177)",
          "pattern": {
           "shape": ""
          }
         },
         "name": "Carta Alta Suited",
         "offsetgroup": "Carta Alta Suited",
         "orientation": "v",
         "showlegend": true,
         "text": [
          0.23754553405395307
         ],
         "textposition": "outside",
         "texttemplate": "%{text:.2%}",
         "type": "bar",
         "x": [
          "Carta Alta Suited"
         ],
         "xaxis": "x",
         "y": [
          0.23754553405395307
         ],
         "yaxis": "y"
        },
        {
         "alignmentgroup": "True",
         "hovertemplate": "Tipo de Mano=%{x}<br>Tasa de Victoria (%)=%{text}<extra></extra>",
         "legendgroup": "Pareja Offsuit",
         "marker": {
          "color": "rgb(82, 188, 163)",
          "pattern": {
           "shape": ""
          }
         },
         "name": "Pareja Offsuit",
         "offsetgroup": "Pareja Offsuit",
         "orientation": "v",
         "showlegend": true,
         "text": [
          0.3166216803044881
         ],
         "textposition": "outside",
         "texttemplate": "%{text:.2%}",
         "type": "bar",
         "x": [
          "Pareja Offsuit"
         ],
         "xaxis": "x",
         "y": [
          0.3166216803044881
         ],
         "yaxis": "y"
        }
       ],
       "layout": {
        "barmode": "relative",
        "legend": {
         "title": {
          "text": "Tipo de Mano"
         },
         "tracegroupgap": 0
        },
        "margin": {
         "b": 40,
         "l": 40,
         "r": 40,
         "t": 60
        },
        "plot_bgcolor": "White",
        "template": {
         "data": {
          "bar": [
           {
            "error_x": {
             "color": "#2a3f5f"
            },
            "error_y": {
             "color": "#2a3f5f"
            },
            "marker": {
             "line": {
              "color": "#E5ECF6",
              "width": 0.5
             },
             "pattern": {
              "fillmode": "overlay",
              "size": 10,
              "solidity": 0.2
             }
            },
            "type": "bar"
           }
          ],
          "barpolar": [
           {
            "marker": {
             "line": {
              "color": "#E5ECF6",
              "width": 0.5
             },
             "pattern": {
              "fillmode": "overlay",
              "size": 10,
              "solidity": 0.2
             }
            },
            "type": "barpolar"
           }
          ],
          "carpet": [
           {
            "aaxis": {
             "endlinecolor": "#2a3f5f",
             "gridcolor": "white",
             "linecolor": "white",
             "minorgridcolor": "white",
             "startlinecolor": "#2a3f5f"
            },
            "baxis": {
             "endlinecolor": "#2a3f5f",
             "gridcolor": "white",
             "linecolor": "white",
             "minorgridcolor": "white",
             "startlinecolor": "#2a3f5f"
            },
            "type": "carpet"
           }
          ],
          "choropleth": [
           {
            "colorbar": {
             "outlinewidth": 0,
             "ticks": ""
            },
            "type": "choropleth"
           }
          ],
          "contour": [
           {
            "colorbar": {
             "outlinewidth": 0,
             "ticks": ""
            },
            "colorscale": [
             [
              0,
              "#0d0887"
             ],
             [
              0.1111111111111111,
              "#46039f"
             ],
             [
              0.2222222222222222,
              "#7201a8"
             ],
             [
              0.3333333333333333,
              "#9c179e"
             ],
             [
              0.4444444444444444,
              "#bd3786"
             ],
             [
              0.5555555555555556,
              "#d8576b"
             ],
             [
              0.6666666666666666,
              "#ed7953"
             ],
             [
              0.7777777777777778,
              "#fb9f3a"
             ],
             [
              0.8888888888888888,
              "#fdca26"
             ],
             [
              1,
              "#f0f921"
             ]
            ],
            "type": "contour"
           }
          ],
          "contourcarpet": [
           {
            "colorbar": {
             "outlinewidth": 0,
             "ticks": ""
            },
            "type": "contourcarpet"
           }
          ],
          "heatmap": [
           {
            "colorbar": {
             "outlinewidth": 0,
             "ticks": ""
            },
            "colorscale": [
             [
              0,
              "#0d0887"
             ],
             [
              0.1111111111111111,
              "#46039f"
             ],
             [
              0.2222222222222222,
              "#7201a8"
             ],
             [
              0.3333333333333333,
              "#9c179e"
             ],
             [
              0.4444444444444444,
              "#bd3786"
             ],
             [
              0.5555555555555556,
              "#d8576b"
             ],
             [
              0.6666666666666666,
              "#ed7953"
             ],
             [
              0.7777777777777778,
              "#fb9f3a"
             ],
             [
              0.8888888888888888,
              "#fdca26"
             ],
             [
              1,
              "#f0f921"
             ]
            ],
            "type": "heatmap"
           }
          ],
          "heatmapgl": [
           {
            "colorbar": {
             "outlinewidth": 0,
             "ticks": ""
            },
            "colorscale": [
             [
              0,
              "#0d0887"
             ],
             [
              0.1111111111111111,
              "#46039f"
             ],
             [
              0.2222222222222222,
              "#7201a8"
             ],
             [
              0.3333333333333333,
              "#9c179e"
             ],
             [
              0.4444444444444444,
              "#bd3786"
             ],
             [
              0.5555555555555556,
              "#d8576b"
             ],
             [
              0.6666666666666666,
              "#ed7953"
             ],
             [
              0.7777777777777778,
              "#fb9f3a"
             ],
             [
              0.8888888888888888,
              "#fdca26"
             ],
             [
              1,
              "#f0f921"
             ]
            ],
            "type": "heatmapgl"
           }
          ],
          "histogram": [
           {
            "marker": {
             "pattern": {
              "fillmode": "overlay",
              "size": 10,
              "solidity": 0.2
             }
            },
            "type": "histogram"
           }
          ],
          "histogram2d": [
           {
            "colorbar": {
             "outlinewidth": 0,
             "ticks": ""
            },
            "colorscale": [
             [
              0,
              "#0d0887"
             ],
             [
              0.1111111111111111,
              "#46039f"
             ],
             [
              0.2222222222222222,
              "#7201a8"
             ],
             [
              0.3333333333333333,
              "#9c179e"
             ],
             [
              0.4444444444444444,
              "#bd3786"
             ],
             [
              0.5555555555555556,
              "#d8576b"
             ],
             [
              0.6666666666666666,
              "#ed7953"
             ],
             [
              0.7777777777777778,
              "#fb9f3a"
             ],
             [
              0.8888888888888888,
              "#fdca26"
             ],
             [
              1,
              "#f0f921"
             ]
            ],
            "type": "histogram2d"
           }
          ],
          "histogram2dcontour": [
           {
            "colorbar": {
             "outlinewidth": 0,
             "ticks": ""
            },
            "colorscale": [
             [
              0,
              "#0d0887"
             ],
             [
              0.1111111111111111,
              "#46039f"
             ],
             [
              0.2222222222222222,
              "#7201a8"
             ],
             [
              0.3333333333333333,
              "#9c179e"
             ],
             [
              0.4444444444444444,
              "#bd3786"
             ],
             [
              0.5555555555555556,
              "#d8576b"
             ],
             [
              0.6666666666666666,
              "#ed7953"
             ],
             [
              0.7777777777777778,
              "#fb9f3a"
             ],
             [
              0.8888888888888888,
              "#fdca26"
             ],
             [
              1,
              "#f0f921"
             ]
            ],
            "type": "histogram2dcontour"
           }
          ],
          "mesh3d": [
           {
            "colorbar": {
             "outlinewidth": 0,
             "ticks": ""
            },
            "type": "mesh3d"
           }
          ],
          "parcoords": [
           {
            "line": {
             "colorbar": {
              "outlinewidth": 0,
              "ticks": ""
             }
            },
            "type": "parcoords"
           }
          ],
          "pie": [
           {
            "automargin": true,
            "type": "pie"
           }
          ],
          "scatter": [
           {
            "fillpattern": {
             "fillmode": "overlay",
             "size": 10,
             "solidity": 0.2
            },
            "type": "scatter"
           }
          ],
          "scatter3d": [
           {
            "line": {
             "colorbar": {
              "outlinewidth": 0,
              "ticks": ""
             }
            },
            "marker": {
             "colorbar": {
              "outlinewidth": 0,
              "ticks": ""
             }
            },
            "type": "scatter3d"
           }
          ],
          "scattercarpet": [
           {
            "marker": {
             "colorbar": {
              "outlinewidth": 0,
              "ticks": ""
             }
            },
            "type": "scattercarpet"
           }
          ],
          "scattergeo": [
           {
            "marker": {
             "colorbar": {
              "outlinewidth": 0,
              "ticks": ""
             }
            },
            "type": "scattergeo"
           }
          ],
          "scattergl": [
           {
            "marker": {
             "colorbar": {
              "outlinewidth": 0,
              "ticks": ""
             }
            },
            "type": "scattergl"
           }
          ],
          "scattermapbox": [
           {
            "marker": {
             "colorbar": {
              "outlinewidth": 0,
              "ticks": ""
             }
            },
            "type": "scattermapbox"
           }
          ],
          "scatterpolar": [
           {
            "marker": {
             "colorbar": {
              "outlinewidth": 0,
              "ticks": ""
             }
            },
            "type": "scatterpolar"
           }
          ],
          "scatterpolargl": [
           {
            "marker": {
             "colorbar": {
              "outlinewidth": 0,
              "ticks": ""
             }
            },
            "type": "scatterpolargl"
           }
          ],
          "scatterternary": [
           {
            "marker": {
             "colorbar": {
              "outlinewidth": 0,
              "ticks": ""
             }
            },
            "type": "scatterternary"
           }
          ],
          "surface": [
           {
            "colorbar": {
             "outlinewidth": 0,
             "ticks": ""
            },
            "colorscale": [
             [
              0,
              "#0d0887"
             ],
             [
              0.1111111111111111,
              "#46039f"
             ],
             [
              0.2222222222222222,
              "#7201a8"
             ],
             [
              0.3333333333333333,
              "#9c179e"
             ],
             [
              0.4444444444444444,
              "#bd3786"
             ],
             [
              0.5555555555555556,
              "#d8576b"
             ],
             [
              0.6666666666666666,
              "#ed7953"
             ],
             [
              0.7777777777777778,
              "#fb9f3a"
             ],
             [
              0.8888888888888888,
              "#fdca26"
             ],
             [
              1,
              "#f0f921"
             ]
            ],
            "type": "surface"
           }
          ],
          "table": [
           {
            "cells": {
             "fill": {
              "color": "#EBF0F8"
             },
             "line": {
              "color": "white"
             }
            },
            "header": {
             "fill": {
              "color": "#C8D4E3"
             },
             "line": {
              "color": "white"
             }
            },
            "type": "table"
           }
          ]
         },
         "layout": {
          "annotationdefaults": {
           "arrowcolor": "#2a3f5f",
           "arrowhead": 0,
           "arrowwidth": 1
          },
          "autotypenumbers": "strict",
          "coloraxis": {
           "colorbar": {
            "outlinewidth": 0,
            "ticks": ""
           }
          },
          "colorscale": {
           "diverging": [
            [
             0,
             "#8e0152"
            ],
            [
             0.1,
             "#c51b7d"
            ],
            [
             0.2,
             "#de77ae"
            ],
            [
             0.3,
             "#f1b6da"
            ],
            [
             0.4,
             "#fde0ef"
            ],
            [
             0.5,
             "#f7f7f7"
            ],
            [
             0.6,
             "#e6f5d0"
            ],
            [
             0.7,
             "#b8e186"
            ],
            [
             0.8,
             "#7fbc41"
            ],
            [
             0.9,
             "#4d9221"
            ],
            [
             1,
             "#276419"
            ]
           ],
           "sequential": [
            [
             0,
             "#0d0887"
            ],
            [
             0.1111111111111111,
             "#46039f"
            ],
            [
             0.2222222222222222,
             "#7201a8"
            ],
            [
             0.3333333333333333,
             "#9c179e"
            ],
            [
             0.4444444444444444,
             "#bd3786"
            ],
            [
             0.5555555555555556,
             "#d8576b"
            ],
            [
             0.6666666666666666,
             "#ed7953"
            ],
            [
             0.7777777777777778,
             "#fb9f3a"
            ],
            [
             0.8888888888888888,
             "#fdca26"
            ],
            [
             1,
             "#f0f921"
            ]
           ],
           "sequentialminus": [
            [
             0,
             "#0d0887"
            ],
            [
             0.1111111111111111,
             "#46039f"
            ],
            [
             0.2222222222222222,
             "#7201a8"
            ],
            [
             0.3333333333333333,
             "#9c179e"
            ],
            [
             0.4444444444444444,
             "#bd3786"
            ],
            [
             0.5555555555555556,
             "#d8576b"
            ],
            [
             0.6666666666666666,
             "#ed7953"
            ],
            [
             0.7777777777777778,
             "#fb9f3a"
            ],
            [
             0.8888888888888888,
             "#fdca26"
            ],
            [
             1,
             "#f0f921"
            ]
           ]
          },
          "colorway": [
           "#636efa",
           "#EF553B",
           "#00cc96",
           "#ab63fa",
           "#FFA15A",
           "#19d3f3",
           "#FF6692",
           "#B6E880",
           "#FF97FF",
           "#FECB52"
          ],
          "font": {
           "color": "#2a3f5f"
          },
          "geo": {
           "bgcolor": "white",
           "lakecolor": "white",
           "landcolor": "#E5ECF6",
           "showlakes": true,
           "showland": true,
           "subunitcolor": "white"
          },
          "hoverlabel": {
           "align": "left"
          },
          "hovermode": "closest",
          "mapbox": {
           "style": "light"
          },
          "paper_bgcolor": "white",
          "plot_bgcolor": "#E5ECF6",
          "polar": {
           "angularaxis": {
            "gridcolor": "white",
            "linecolor": "white",
            "ticks": ""
           },
           "bgcolor": "#E5ECF6",
           "radialaxis": {
            "gridcolor": "white",
            "linecolor": "white",
            "ticks": ""
           }
          },
          "scene": {
           "xaxis": {
            "backgroundcolor": "#E5ECF6",
            "gridcolor": "white",
            "gridwidth": 2,
            "linecolor": "white",
            "showbackground": true,
            "ticks": "",
            "zerolinecolor": "white"
           },
           "yaxis": {
            "backgroundcolor": "#E5ECF6",
            "gridcolor": "white",
            "gridwidth": 2,
            "linecolor": "white",
            "showbackground": true,
            "ticks": "",
            "zerolinecolor": "white"
           },
           "zaxis": {
            "backgroundcolor": "#E5ECF6",
            "gridcolor": "white",
            "gridwidth": 2,
            "linecolor": "white",
            "showbackground": true,
            "ticks": "",
            "zerolinecolor": "white"
           }
          },
          "shapedefaults": {
           "line": {
            "color": "#2a3f5f"
           }
          },
          "ternary": {
           "aaxis": {
            "gridcolor": "white",
            "linecolor": "white",
            "ticks": ""
           },
           "baxis": {
            "gridcolor": "white",
            "linecolor": "white",
            "ticks": ""
           },
           "bgcolor": "#E5ECF6",
           "caxis": {
            "gridcolor": "white",
            "linecolor": "white",
            "ticks": ""
           }
          },
          "title": {
           "x": 0.05
          },
          "xaxis": {
           "automargin": true,
           "gridcolor": "white",
           "linecolor": "white",
           "ticks": "",
           "title": {
            "standoff": 15
           },
           "zerolinecolor": "white",
           "zerolinewidth": 2
          },
          "yaxis": {
           "automargin": true,
           "gridcolor": "white",
           "linecolor": "white",
           "ticks": "",
           "title": {
            "standoff": 15
           },
           "zerolinecolor": "white",
           "zerolinewidth": 2
          }
         }
        },
        "title": {
         "font": {
          "size": 20
         },
         "text": "Tasa de Victoria por Tipo de Mano Preflop",
         "x": 0.5
        },
        "xaxis": {
         "anchor": "y",
         "categoryarray": [
          "Carta Alta Offsuit",
          "Carta Alta Suited",
          "Pareja Offsuit"
         ],
         "categoryorder": "array",
         "domain": [
          0,
          1
         ],
         "tickfont": {
          "size": 14
         },
         "title": {
          "font": {
           "size": 18
          },
          "text": "Tipo de Mano Preflop"
         }
        },
        "yaxis": {
         "anchor": "x",
         "domain": [
          0,
          1
         ],
         "tickfont": {
          "size": 14
         },
         "title": {
          "font": {
           "size": 18
          },
          "text": "Tasa de Victoria"
         }
        }
       }
      }
     },
     "metadata": {},
     "output_type": "display_data"
    }
   ],
   "source": [
    "# Calculamos la tasa de victoria por tipo de mano preflop\n",
    "victory_rates = (\n",
    "    df.groupby('mano_preflop')['resultado']\n",
    "    .apply(lambda x: (x == 'Victoria').mean())\n",
    "    .reset_index()\n",
    ")\n",
    "victory_rates.columns = ['Tipo de Mano Preflop', 'Tasa de Victoria']\n",
    "\n",
    "# Grafico de barras con Plotly\n",
    "fig = px.bar(\n",
    "    victory_rates,\n",
    "    x='Tipo de Mano Preflop',\n",
    "    y='Tasa de Victoria',\n",
    "    color='Tipo de Mano Preflop',  \n",
    "    text='Tasa de Victoria', \n",
    "    title=\"Tasa de Victoria por Tipo de Mano Preflop\",\n",
    "    labels={\"Tipo de Mano Preflop\": \"Tipo de Mano\", \"Tasa de Victoria\": \"Tasa de Victoria (%)\"},\n",
    "    color_discrete_sequence=px.colors.qualitative.Vivid  \n",
    ")\n",
    "\n",
    "# Formato del gráfico\n",
    "fig.update_traces(texttemplate='%{text:.2%}', textposition='outside') \n",
    "fig.update_layout(\n",
    "    xaxis=dict(\n",
    "        title=\"Tipo de Mano Preflop\",\n",
    "        title_font=dict(size=18),\n",
    "        tickfont=dict(size=14),\n",
    "    ),\n",
    "    yaxis=dict(\n",
    "        title=\"Tasa de Victoria\",\n",
    "        title_font=dict(size=18),\n",
    "        tickfont=dict(size=14),\n",
    "    ),\n",
    "    title=dict(\n",
    "        font=dict(size=20),\n",
    "        x=0.5,  \n",
    "    ),\n",
    "    margin=dict(l=40, r=40, t=60, b=40),  \n",
    "    plot_bgcolor=\"White\"  \n",
    ")\n",
    "\n",
    "fig.show()"
   ]
  },
  {
   "cell_type": "markdown",
   "metadata": {},
   "source": [
    "##### **Análisis de la Tasa de Victoria por Tipo de Mano Preflop**\n",
    "\n",
    "La gráfica muestra que las **parejas** tienen la mayor tasa de victoria preflop con un 31.66%. Le siguen las **cartas altas suited** (23.75%) y las **cartas altas offsuit** (20.00%). Las parejas tienen una clara ventaja sobre los otros tipos de mano.\n",
    "\n",
    "##### **Conclusión**\n",
    "\n",
    "Las **parejas** son las manos preflop más fuertes, seguidas de las **cartas altas suited**. Las **cartas altas offsuit** tienen la menor probabilidad de victoria, pero aún pueden ser competitivas según las cartas comunitarias.\n"
   ]
  },
  {
   "cell_type": "markdown",
   "metadata": {},
   "source": [
    "#### 1.2 ¿Qué porcentaje de Parejas Preflop conectan un Trío en cada etapa de la mano (flop, turn y river)?"
   ]
  },
  {
   "cell_type": "code",
   "execution_count": 4,
   "metadata": {},
   "outputs": [],
   "source": [
    "# Filtramos las manos preflop que son parejas\n",
    "pair_hands = df[df['mano_preflop'] == 'Pareja Offsuit'].copy()\n",
    "\n",
    "# Calculamos la probabilidad de conectar un trío en cada etapa\n",
    "pair_hands['trio_flop'] = pair_hands['mano_flop'].str.contains('Trío')\n",
    "pair_hands['trio_turn'] = pair_hands['mano_turn'].str.contains('Trío') & ~pair_hands['trio_flop']\n",
    "pair_hands['trio_river'] = pair_hands['mano_river'].str.contains('Trío') & ~pair_hands['trio_flop'] & ~pair_hands['trio_turn']\n",
    "\n",
    "# Calculamos porcentajes de probabilidad\n",
    "flop_rate = pair_hands['trio_flop'].mean() * 100\n",
    "turn_rate = pair_hands['trio_turn'].mean() * 100\n",
    "river_rate = pair_hands['trio_river'].mean() * 100\n",
    "total_rate = pair_hands[['trio_flop', 'trio_turn', 'trio_river']].any(axis=1).mean() * 100\n",
    "\n",
    "# Creamos un dataframe para la visualización\n",
    "stages = ['Flop', 'Turn', 'River', 'Total']\n",
    "rates = [flop_rate, turn_rate, river_rate, total_rate]\n",
    "probabilities = pd.DataFrame({'Etapa': stages, 'Probabilidad (%)': rates})"
   ]
  },
  {
   "cell_type": "code",
   "execution_count": 5,
   "metadata": {},
   "outputs": [
    {
     "data": {
      "application/vnd.plotly.v1+json": {
       "config": {
        "plotlyServerURL": "https://plot.ly"
       },
       "data": [
        {
         "hovertemplate": "Etapa de la Mano=%{x}<br>Probabilidad (%)=%{y}<extra></extra>",
         "legendgroup": "",
         "line": {
          "color": "royalblue",
          "dash": "solid",
          "width": 2.5
         },
         "marker": {
          "size": 9,
          "symbol": "circle"
         },
         "mode": "lines+markers",
         "name": "",
         "orientation": "v",
         "showlegend": false,
         "type": "scatter",
         "x": [
          "Flop",
          "Turn",
          "River",
          "Total"
         ],
         "xaxis": "x",
         "y": [
          10.843558151613975,
          2.9410011665233347,
          2.360293929821275,
          16.144853247958586
         ],
         "yaxis": "y"
        }
       ],
       "layout": {
        "annotations": [
         {
          "arrowcolor": "black",
          "arrowhead": 2,
          "ax": 0,
          "ay": -30,
          "bgcolor": "white",
          "font": {
           "color": "black",
           "size": 12
          },
          "opacity": 0.8,
          "showarrow": false,
          "text": "10.84%",
          "x": "Flop",
          "y": 12.843558151613975
         },
         {
          "arrowcolor": "black",
          "arrowhead": 2,
          "ax": 0,
          "ay": -30,
          "bgcolor": "white",
          "font": {
           "color": "black",
           "size": 12
          },
          "opacity": 0.8,
          "showarrow": false,
          "text": "2.94%",
          "x": "Turn",
          "y": 4.941001166523335
         },
         {
          "arrowcolor": "black",
          "arrowhead": 2,
          "ax": 0,
          "ay": -30,
          "bgcolor": "white",
          "font": {
           "color": "black",
           "size": 12
          },
          "opacity": 0.8,
          "showarrow": false,
          "text": "2.36%",
          "x": "River",
          "y": 4.360293929821275
         },
         {
          "arrowcolor": "black",
          "arrowhead": 2,
          "ax": 0,
          "ay": -30,
          "bgcolor": "white",
          "font": {
           "color": "black",
           "size": 12
          },
          "opacity": 0.8,
          "showarrow": false,
          "text": "16.14%",
          "x": "Total",
          "y": 18.144853247958586
         }
        ],
        "legend": {
         "tracegroupgap": 0
        },
        "margin": {
         "b": 40,
         "l": 40,
         "r": 40,
         "t": 60
        },
        "plot_bgcolor": "White",
        "template": {
         "data": {
          "bar": [
           {
            "error_x": {
             "color": "#2a3f5f"
            },
            "error_y": {
             "color": "#2a3f5f"
            },
            "marker": {
             "line": {
              "color": "#E5ECF6",
              "width": 0.5
             },
             "pattern": {
              "fillmode": "overlay",
              "size": 10,
              "solidity": 0.2
             }
            },
            "type": "bar"
           }
          ],
          "barpolar": [
           {
            "marker": {
             "line": {
              "color": "#E5ECF6",
              "width": 0.5
             },
             "pattern": {
              "fillmode": "overlay",
              "size": 10,
              "solidity": 0.2
             }
            },
            "type": "barpolar"
           }
          ],
          "carpet": [
           {
            "aaxis": {
             "endlinecolor": "#2a3f5f",
             "gridcolor": "white",
             "linecolor": "white",
             "minorgridcolor": "white",
             "startlinecolor": "#2a3f5f"
            },
            "baxis": {
             "endlinecolor": "#2a3f5f",
             "gridcolor": "white",
             "linecolor": "white",
             "minorgridcolor": "white",
             "startlinecolor": "#2a3f5f"
            },
            "type": "carpet"
           }
          ],
          "choropleth": [
           {
            "colorbar": {
             "outlinewidth": 0,
             "ticks": ""
            },
            "type": "choropleth"
           }
          ],
          "contour": [
           {
            "colorbar": {
             "outlinewidth": 0,
             "ticks": ""
            },
            "colorscale": [
             [
              0,
              "#0d0887"
             ],
             [
              0.1111111111111111,
              "#46039f"
             ],
             [
              0.2222222222222222,
              "#7201a8"
             ],
             [
              0.3333333333333333,
              "#9c179e"
             ],
             [
              0.4444444444444444,
              "#bd3786"
             ],
             [
              0.5555555555555556,
              "#d8576b"
             ],
             [
              0.6666666666666666,
              "#ed7953"
             ],
             [
              0.7777777777777778,
              "#fb9f3a"
             ],
             [
              0.8888888888888888,
              "#fdca26"
             ],
             [
              1,
              "#f0f921"
             ]
            ],
            "type": "contour"
           }
          ],
          "contourcarpet": [
           {
            "colorbar": {
             "outlinewidth": 0,
             "ticks": ""
            },
            "type": "contourcarpet"
           }
          ],
          "heatmap": [
           {
            "colorbar": {
             "outlinewidth": 0,
             "ticks": ""
            },
            "colorscale": [
             [
              0,
              "#0d0887"
             ],
             [
              0.1111111111111111,
              "#46039f"
             ],
             [
              0.2222222222222222,
              "#7201a8"
             ],
             [
              0.3333333333333333,
              "#9c179e"
             ],
             [
              0.4444444444444444,
              "#bd3786"
             ],
             [
              0.5555555555555556,
              "#d8576b"
             ],
             [
              0.6666666666666666,
              "#ed7953"
             ],
             [
              0.7777777777777778,
              "#fb9f3a"
             ],
             [
              0.8888888888888888,
              "#fdca26"
             ],
             [
              1,
              "#f0f921"
             ]
            ],
            "type": "heatmap"
           }
          ],
          "heatmapgl": [
           {
            "colorbar": {
             "outlinewidth": 0,
             "ticks": ""
            },
            "colorscale": [
             [
              0,
              "#0d0887"
             ],
             [
              0.1111111111111111,
              "#46039f"
             ],
             [
              0.2222222222222222,
              "#7201a8"
             ],
             [
              0.3333333333333333,
              "#9c179e"
             ],
             [
              0.4444444444444444,
              "#bd3786"
             ],
             [
              0.5555555555555556,
              "#d8576b"
             ],
             [
              0.6666666666666666,
              "#ed7953"
             ],
             [
              0.7777777777777778,
              "#fb9f3a"
             ],
             [
              0.8888888888888888,
              "#fdca26"
             ],
             [
              1,
              "#f0f921"
             ]
            ],
            "type": "heatmapgl"
           }
          ],
          "histogram": [
           {
            "marker": {
             "pattern": {
              "fillmode": "overlay",
              "size": 10,
              "solidity": 0.2
             }
            },
            "type": "histogram"
           }
          ],
          "histogram2d": [
           {
            "colorbar": {
             "outlinewidth": 0,
             "ticks": ""
            },
            "colorscale": [
             [
              0,
              "#0d0887"
             ],
             [
              0.1111111111111111,
              "#46039f"
             ],
             [
              0.2222222222222222,
              "#7201a8"
             ],
             [
              0.3333333333333333,
              "#9c179e"
             ],
             [
              0.4444444444444444,
              "#bd3786"
             ],
             [
              0.5555555555555556,
              "#d8576b"
             ],
             [
              0.6666666666666666,
              "#ed7953"
             ],
             [
              0.7777777777777778,
              "#fb9f3a"
             ],
             [
              0.8888888888888888,
              "#fdca26"
             ],
             [
              1,
              "#f0f921"
             ]
            ],
            "type": "histogram2d"
           }
          ],
          "histogram2dcontour": [
           {
            "colorbar": {
             "outlinewidth": 0,
             "ticks": ""
            },
            "colorscale": [
             [
              0,
              "#0d0887"
             ],
             [
              0.1111111111111111,
              "#46039f"
             ],
             [
              0.2222222222222222,
              "#7201a8"
             ],
             [
              0.3333333333333333,
              "#9c179e"
             ],
             [
              0.4444444444444444,
              "#bd3786"
             ],
             [
              0.5555555555555556,
              "#d8576b"
             ],
             [
              0.6666666666666666,
              "#ed7953"
             ],
             [
              0.7777777777777778,
              "#fb9f3a"
             ],
             [
              0.8888888888888888,
              "#fdca26"
             ],
             [
              1,
              "#f0f921"
             ]
            ],
            "type": "histogram2dcontour"
           }
          ],
          "mesh3d": [
           {
            "colorbar": {
             "outlinewidth": 0,
             "ticks": ""
            },
            "type": "mesh3d"
           }
          ],
          "parcoords": [
           {
            "line": {
             "colorbar": {
              "outlinewidth": 0,
              "ticks": ""
             }
            },
            "type": "parcoords"
           }
          ],
          "pie": [
           {
            "automargin": true,
            "type": "pie"
           }
          ],
          "scatter": [
           {
            "fillpattern": {
             "fillmode": "overlay",
             "size": 10,
             "solidity": 0.2
            },
            "type": "scatter"
           }
          ],
          "scatter3d": [
           {
            "line": {
             "colorbar": {
              "outlinewidth": 0,
              "ticks": ""
             }
            },
            "marker": {
             "colorbar": {
              "outlinewidth": 0,
              "ticks": ""
             }
            },
            "type": "scatter3d"
           }
          ],
          "scattercarpet": [
           {
            "marker": {
             "colorbar": {
              "outlinewidth": 0,
              "ticks": ""
             }
            },
            "type": "scattercarpet"
           }
          ],
          "scattergeo": [
           {
            "marker": {
             "colorbar": {
              "outlinewidth": 0,
              "ticks": ""
             }
            },
            "type": "scattergeo"
           }
          ],
          "scattergl": [
           {
            "marker": {
             "colorbar": {
              "outlinewidth": 0,
              "ticks": ""
             }
            },
            "type": "scattergl"
           }
          ],
          "scattermapbox": [
           {
            "marker": {
             "colorbar": {
              "outlinewidth": 0,
              "ticks": ""
             }
            },
            "type": "scattermapbox"
           }
          ],
          "scatterpolar": [
           {
            "marker": {
             "colorbar": {
              "outlinewidth": 0,
              "ticks": ""
             }
            },
            "type": "scatterpolar"
           }
          ],
          "scatterpolargl": [
           {
            "marker": {
             "colorbar": {
              "outlinewidth": 0,
              "ticks": ""
             }
            },
            "type": "scatterpolargl"
           }
          ],
          "scatterternary": [
           {
            "marker": {
             "colorbar": {
              "outlinewidth": 0,
              "ticks": ""
             }
            },
            "type": "scatterternary"
           }
          ],
          "surface": [
           {
            "colorbar": {
             "outlinewidth": 0,
             "ticks": ""
            },
            "colorscale": [
             [
              0,
              "#0d0887"
             ],
             [
              0.1111111111111111,
              "#46039f"
             ],
             [
              0.2222222222222222,
              "#7201a8"
             ],
             [
              0.3333333333333333,
              "#9c179e"
             ],
             [
              0.4444444444444444,
              "#bd3786"
             ],
             [
              0.5555555555555556,
              "#d8576b"
             ],
             [
              0.6666666666666666,
              "#ed7953"
             ],
             [
              0.7777777777777778,
              "#fb9f3a"
             ],
             [
              0.8888888888888888,
              "#fdca26"
             ],
             [
              1,
              "#f0f921"
             ]
            ],
            "type": "surface"
           }
          ],
          "table": [
           {
            "cells": {
             "fill": {
              "color": "#EBF0F8"
             },
             "line": {
              "color": "white"
             }
            },
            "header": {
             "fill": {
              "color": "#C8D4E3"
             },
             "line": {
              "color": "white"
             }
            },
            "type": "table"
           }
          ]
         },
         "layout": {
          "annotationdefaults": {
           "arrowcolor": "#2a3f5f",
           "arrowhead": 0,
           "arrowwidth": 1
          },
          "autotypenumbers": "strict",
          "coloraxis": {
           "colorbar": {
            "outlinewidth": 0,
            "ticks": ""
           }
          },
          "colorscale": {
           "diverging": [
            [
             0,
             "#8e0152"
            ],
            [
             0.1,
             "#c51b7d"
            ],
            [
             0.2,
             "#de77ae"
            ],
            [
             0.3,
             "#f1b6da"
            ],
            [
             0.4,
             "#fde0ef"
            ],
            [
             0.5,
             "#f7f7f7"
            ],
            [
             0.6,
             "#e6f5d0"
            ],
            [
             0.7,
             "#b8e186"
            ],
            [
             0.8,
             "#7fbc41"
            ],
            [
             0.9,
             "#4d9221"
            ],
            [
             1,
             "#276419"
            ]
           ],
           "sequential": [
            [
             0,
             "#0d0887"
            ],
            [
             0.1111111111111111,
             "#46039f"
            ],
            [
             0.2222222222222222,
             "#7201a8"
            ],
            [
             0.3333333333333333,
             "#9c179e"
            ],
            [
             0.4444444444444444,
             "#bd3786"
            ],
            [
             0.5555555555555556,
             "#d8576b"
            ],
            [
             0.6666666666666666,
             "#ed7953"
            ],
            [
             0.7777777777777778,
             "#fb9f3a"
            ],
            [
             0.8888888888888888,
             "#fdca26"
            ],
            [
             1,
             "#f0f921"
            ]
           ],
           "sequentialminus": [
            [
             0,
             "#0d0887"
            ],
            [
             0.1111111111111111,
             "#46039f"
            ],
            [
             0.2222222222222222,
             "#7201a8"
            ],
            [
             0.3333333333333333,
             "#9c179e"
            ],
            [
             0.4444444444444444,
             "#bd3786"
            ],
            [
             0.5555555555555556,
             "#d8576b"
            ],
            [
             0.6666666666666666,
             "#ed7953"
            ],
            [
             0.7777777777777778,
             "#fb9f3a"
            ],
            [
             0.8888888888888888,
             "#fdca26"
            ],
            [
             1,
             "#f0f921"
            ]
           ]
          },
          "colorway": [
           "#636efa",
           "#EF553B",
           "#00cc96",
           "#ab63fa",
           "#FFA15A",
           "#19d3f3",
           "#FF6692",
           "#B6E880",
           "#FF97FF",
           "#FECB52"
          ],
          "font": {
           "color": "#2a3f5f"
          },
          "geo": {
           "bgcolor": "white",
           "lakecolor": "white",
           "landcolor": "#E5ECF6",
           "showlakes": true,
           "showland": true,
           "subunitcolor": "white"
          },
          "hoverlabel": {
           "align": "left"
          },
          "hovermode": "closest",
          "mapbox": {
           "style": "light"
          },
          "paper_bgcolor": "white",
          "plot_bgcolor": "#E5ECF6",
          "polar": {
           "angularaxis": {
            "gridcolor": "white",
            "linecolor": "white",
            "ticks": ""
           },
           "bgcolor": "#E5ECF6",
           "radialaxis": {
            "gridcolor": "white",
            "linecolor": "white",
            "ticks": ""
           }
          },
          "scene": {
           "xaxis": {
            "backgroundcolor": "#E5ECF6",
            "gridcolor": "white",
            "gridwidth": 2,
            "linecolor": "white",
            "showbackground": true,
            "ticks": "",
            "zerolinecolor": "white"
           },
           "yaxis": {
            "backgroundcolor": "#E5ECF6",
            "gridcolor": "white",
            "gridwidth": 2,
            "linecolor": "white",
            "showbackground": true,
            "ticks": "",
            "zerolinecolor": "white"
           },
           "zaxis": {
            "backgroundcolor": "#E5ECF6",
            "gridcolor": "white",
            "gridwidth": 2,
            "linecolor": "white",
            "showbackground": true,
            "ticks": "",
            "zerolinecolor": "white"
           }
          },
          "shapedefaults": {
           "line": {
            "color": "#2a3f5f"
           }
          },
          "ternary": {
           "aaxis": {
            "gridcolor": "white",
            "linecolor": "white",
            "ticks": ""
           },
           "baxis": {
            "gridcolor": "white",
            "linecolor": "white",
            "ticks": ""
           },
           "bgcolor": "#E5ECF6",
           "caxis": {
            "gridcolor": "white",
            "linecolor": "white",
            "ticks": ""
           }
          },
          "title": {
           "x": 0.05
          },
          "xaxis": {
           "automargin": true,
           "gridcolor": "white",
           "linecolor": "white",
           "ticks": "",
           "title": {
            "standoff": 15
           },
           "zerolinecolor": "white",
           "zerolinewidth": 2
          },
          "yaxis": {
           "automargin": true,
           "gridcolor": "white",
           "linecolor": "white",
           "ticks": "",
           "title": {
            "standoff": 15
           },
           "zerolinecolor": "white",
           "zerolinewidth": 2
          }
         }
        },
        "title": {
         "font": {
          "family": "Arial",
          "size": 20
         },
         "text": "Probabilidad de Conectar un Trío con Pareja Preflop por Etapa",
         "x": 0.5
        },
        "xaxis": {
         "anchor": "y",
         "domain": [
          0,
          1
         ],
         "tickfont": {
          "size": 12
         },
         "title": {
          "font": {
           "size": 16
          },
          "text": "Etapa de la Mano"
         }
        },
        "yaxis": {
         "anchor": "x",
         "domain": [
          0,
          1
         ],
         "range": [
          0,
          21.144853247958586
         ],
         "tickfont": {
          "size": 12
         },
         "title": {
          "font": {
           "size": 16
          },
          "text": "Probabilidad (%)"
         }
        }
       }
      }
     },
     "metadata": {},
     "output_type": "display_data"
    }
   ],
   "source": [
    "# Visualización\n",
    "fig = px.line(\n",
    "    probabilities,  \n",
    "    x='Etapa',     \n",
    "    y='Probabilidad (%)',\n",
    "    markers=True,   \n",
    "    title=\"Probabilidad de Conectar un Trío con Pareja Preflop por Etapa\",  \n",
    "    labels={\n",
    "        \"Etapa\": \"Etapa de la Mano\", \n",
    "        \"Probabilidad (%)\": \"Probabilidad (%)\"\n",
    "    },\n",
    "    color_discrete_sequence=['royalblue'] \n",
    ")\n",
    "\n",
    "# Ajustes adicionales al diseño\n",
    "fig.update_traces(\n",
    "    line=dict(width=2.5), \n",
    "    marker=dict(size=9),  \n",
    ")\n",
    "\n",
    "fig.update_layout(\n",
    "    title=dict(\n",
    "        font=dict(size=20, family=\"Arial\"),  \n",
    "        x=0.5  \n",
    "    ),\n",
    "    xaxis=dict(\n",
    "        title=\"Etapa de la Mano\", \n",
    "        title_font=dict(size=16),  \n",
    "        tickfont=dict(size=12),    \n",
    "    ),\n",
    "    yaxis=dict(\n",
    "        title=\"Probabilidad (%)\",  \n",
    "        title_font=dict(size=16), \n",
    "        tickfont=dict(size=12),    \n",
    "        range=[0, probabilities['Probabilidad (%)'].max() + 5] \n",
    "    ),\n",
    "    plot_bgcolor=\"White\", \n",
    "    margin=dict(l=40, r=40, t=60, b=40),  \n",
    ")\n",
    "\n",
    "# Anotaciones con los porcentajes\n",
    "for i, row in probabilities.iterrows():\n",
    "    fig.add_annotation(\n",
    "        x=row['Etapa'],\n",
    "        y=row['Probabilidad (%)'] + 2,\n",
    "        text=f\"{row['Probabilidad (%)']:.2f}%\",\n",
    "        showarrow=False,\n",
    "        arrowhead=2,    \n",
    "        ax=0, ay=-30,   \n",
    "        font=dict(size=12, color=\"black\"), \n",
    "        arrowcolor=\"black\",  \n",
    "        bgcolor=\"white\",     \n",
    "        opacity=0.8         \n",
    "    )\n",
    "\n",
    "fig.show()"
   ]
  },
  {
   "cell_type": "markdown",
   "metadata": {},
   "source": [
    "##### **Análisis de la probabilidad de conectar un trío**\n",
    "\n",
    "Las parejas preflop tienen una probabilidad acumulada del 16.14% de conectar un trío en alguna etapa de la mano. Este resultado se distribuye de la siguiente manera:\n",
    "\n",
    "- Flop: La mayor probabilidad de conectar ocurre aquí (10.84%) porque tres cartas comunitarias se revelan de golpe.\n",
    "- Turn: Si no se conectó en el flop, la probabilidad de conectar en esta etapa baja al 2.94%.\n",
    "- River: La probabilidad es aún menor (2.36%) para conectar con la última carta.\n",
    "\n",
    "En conjunto, este análisis destaca la importancia del flop para mejorar la mano con una pareja inicial. Esto también subraya la dificultad de formar tríos en las etapas posteriores, reforzando que en póker, cada etapa presenta oportunidades decrecientes para mejorar una mano."
   ]
  },
  {
   "cell_type": "markdown",
   "metadata": {},
   "source": [
    "#### 1.3 ¿Cuál es la probabilidad de que los Suited Connectors conecten Escalera, Color o Escalera de Color?"
   ]
  },
  {
   "cell_type": "markdown",
   "metadata": {},
   "source": [
    "En póker, los *Suited Connectors* (dos cartas consecutivas del mismo palo) son manos con gran potencial para formar combinaciones fuertes como escaleras, colores o incluso escaleras de color. En este análisis, evaluaremos qué porcentaje de estas manos preflop terminan conectando alguno de estos proyectos al final de la mano."
   ]
  },
  {
   "cell_type": "code",
   "execution_count": 6,
   "metadata": {},
   "outputs": [],
   "source": [
    "# Función para filtrar manos preflop que son Suited Connectors\n",
    "def is_suited_connector(cards):\n",
    "    ranks = {'2': 2, '3': 3, '4': 4, '5': 5, '6': 6, '7': 7, '8': 8, '9': 9, '10': 10, 'J': 11, 'Q': 12, 'K': 13, 'A': 14}\n",
    "    card1, card2 = cards\n",
    "    return (\n",
    "        card1[-1] == card2[-1] and  # Mismo palo\n",
    "        abs(ranks[card1[:-1]] - ranks[card2[:-1]]) == 1  # Consecutivas\n",
    "    )"
   ]
  },
  {
   "cell_type": "code",
   "execution_count": 7,
   "metadata": {},
   "outputs": [],
   "source": [
    "# Extraemos los suited connectors del dataset\n",
    "df['suited_connector'] = df['cartas_jugador'].apply(eval).apply(is_suited_connector)\n",
    "suited_connectors = df[df['suited_connector']].copy()\n",
    "\n",
    "# Evaluamos si conectan proyectos\n",
    "suited_connectors.loc[:, 'escalera'] = suited_connectors['mano_river'].str.contains('Escalera')\n",
    "suited_connectors.loc[:, 'color'] = suited_connectors['mano_river'].str.contains('Color')\n",
    "suited_connectors.loc[:, 'escalera_color'] = suited_connectors['mano_river'].str.contains('Escalera de Color')\n",
    "\n",
    "# Calculamos % de probabilidad de conectar cada proyecto\n",
    "escalera_rate = suited_connectors['escalera'].mean() * 100\n",
    "color_rate = suited_connectors['color'].mean() * 100\n",
    "escalera_color_rate = suited_connectors['escalera_color'].mean() * 100\n",
    "total_rate = suited_connectors[['escalera', 'color', 'escalera_color']].any(axis=1).mean() * 100\n",
    "\n",
    "# Creamos un dataframe para la visualización\n",
    "categories = ['Escalera', 'Color', 'Escalera de Color', 'Cualquier Proyecto']\n",
    "rates = [escalera_rate, color_rate, escalera_color_rate, total_rate]\n",
    "results = pd.DataFrame({'Categoría': categories, 'Probabilidad (%)': rates})"
   ]
  },
  {
   "cell_type": "code",
   "execution_count": 8,
   "metadata": {},
   "outputs": [
    {
     "data": {
      "application/vnd.plotly.v1+json": {
       "config": {
        "plotlyServerURL": "https://plot.ly"
       },
       "data": [
        {
         "alignmentgroup": "True",
         "hovertemplate": "Tipo de Proyecto=%{x}<br>Probabilidad (%)=%{marker.color}<extra></extra>",
         "legendgroup": "",
         "marker": {
          "color": [
           7.217362510003035,
           6.64753442423908,
           0.1324539860371423,
           13.732442948204973
          ],
          "coloraxis": "coloraxis",
          "line": {
           "color": "black",
           "width": 0.5
          },
          "pattern": {
           "shape": ""
          }
         },
         "name": "",
         "offsetgroup": "",
         "orientation": "v",
         "showlegend": false,
         "text": [
          7.217362510003035,
          6.64753442423908,
          0.1324539860371423,
          13.732442948204973
         ],
         "textposition": "outside",
         "texttemplate": "%{text:.2f}%",
         "type": "bar",
         "x": [
          "Escalera",
          "Color",
          "Escalera de Color",
          "Cualquier Proyecto"
         ],
         "xaxis": "x",
         "y": [
          7.217362510003035,
          6.64753442423908,
          0.1324539860371423,
          13.732442948204973
         ],
         "yaxis": "y"
        }
       ],
       "layout": {
        "barmode": "relative",
        "coloraxis": {
         "colorbar": {
          "title": {
           "text": "Probabilidad (%)"
          }
         },
         "colorscale": [
          [
           0,
           "rgb(255,245,240)"
          ],
          [
           0.125,
           "rgb(254,224,210)"
          ],
          [
           0.25,
           "rgb(252,187,161)"
          ],
          [
           0.375,
           "rgb(252,146,114)"
          ],
          [
           0.5,
           "rgb(251,106,74)"
          ],
          [
           0.625,
           "rgb(239,59,44)"
          ],
          [
           0.75,
           "rgb(203,24,29)"
          ],
          [
           0.875,
           "rgb(165,15,21)"
          ],
          [
           1,
           "rgb(103,0,13)"
          ]
         ],
         "showscale": true
        },
        "legend": {
         "tracegroupgap": 0
        },
        "margin": {
         "b": 40,
         "l": 40,
         "r": 40,
         "t": 60
        },
        "plot_bgcolor": "White",
        "template": {
         "data": {
          "bar": [
           {
            "error_x": {
             "color": "#2a3f5f"
            },
            "error_y": {
             "color": "#2a3f5f"
            },
            "marker": {
             "line": {
              "color": "#E5ECF6",
              "width": 0.5
             },
             "pattern": {
              "fillmode": "overlay",
              "size": 10,
              "solidity": 0.2
             }
            },
            "type": "bar"
           }
          ],
          "barpolar": [
           {
            "marker": {
             "line": {
              "color": "#E5ECF6",
              "width": 0.5
             },
             "pattern": {
              "fillmode": "overlay",
              "size": 10,
              "solidity": 0.2
             }
            },
            "type": "barpolar"
           }
          ],
          "carpet": [
           {
            "aaxis": {
             "endlinecolor": "#2a3f5f",
             "gridcolor": "white",
             "linecolor": "white",
             "minorgridcolor": "white",
             "startlinecolor": "#2a3f5f"
            },
            "baxis": {
             "endlinecolor": "#2a3f5f",
             "gridcolor": "white",
             "linecolor": "white",
             "minorgridcolor": "white",
             "startlinecolor": "#2a3f5f"
            },
            "type": "carpet"
           }
          ],
          "choropleth": [
           {
            "colorbar": {
             "outlinewidth": 0,
             "ticks": ""
            },
            "type": "choropleth"
           }
          ],
          "contour": [
           {
            "colorbar": {
             "outlinewidth": 0,
             "ticks": ""
            },
            "colorscale": [
             [
              0,
              "#0d0887"
             ],
             [
              0.1111111111111111,
              "#46039f"
             ],
             [
              0.2222222222222222,
              "#7201a8"
             ],
             [
              0.3333333333333333,
              "#9c179e"
             ],
             [
              0.4444444444444444,
              "#bd3786"
             ],
             [
              0.5555555555555556,
              "#d8576b"
             ],
             [
              0.6666666666666666,
              "#ed7953"
             ],
             [
              0.7777777777777778,
              "#fb9f3a"
             ],
             [
              0.8888888888888888,
              "#fdca26"
             ],
             [
              1,
              "#f0f921"
             ]
            ],
            "type": "contour"
           }
          ],
          "contourcarpet": [
           {
            "colorbar": {
             "outlinewidth": 0,
             "ticks": ""
            },
            "type": "contourcarpet"
           }
          ],
          "heatmap": [
           {
            "colorbar": {
             "outlinewidth": 0,
             "ticks": ""
            },
            "colorscale": [
             [
              0,
              "#0d0887"
             ],
             [
              0.1111111111111111,
              "#46039f"
             ],
             [
              0.2222222222222222,
              "#7201a8"
             ],
             [
              0.3333333333333333,
              "#9c179e"
             ],
             [
              0.4444444444444444,
              "#bd3786"
             ],
             [
              0.5555555555555556,
              "#d8576b"
             ],
             [
              0.6666666666666666,
              "#ed7953"
             ],
             [
              0.7777777777777778,
              "#fb9f3a"
             ],
             [
              0.8888888888888888,
              "#fdca26"
             ],
             [
              1,
              "#f0f921"
             ]
            ],
            "type": "heatmap"
           }
          ],
          "heatmapgl": [
           {
            "colorbar": {
             "outlinewidth": 0,
             "ticks": ""
            },
            "colorscale": [
             [
              0,
              "#0d0887"
             ],
             [
              0.1111111111111111,
              "#46039f"
             ],
             [
              0.2222222222222222,
              "#7201a8"
             ],
             [
              0.3333333333333333,
              "#9c179e"
             ],
             [
              0.4444444444444444,
              "#bd3786"
             ],
             [
              0.5555555555555556,
              "#d8576b"
             ],
             [
              0.6666666666666666,
              "#ed7953"
             ],
             [
              0.7777777777777778,
              "#fb9f3a"
             ],
             [
              0.8888888888888888,
              "#fdca26"
             ],
             [
              1,
              "#f0f921"
             ]
            ],
            "type": "heatmapgl"
           }
          ],
          "histogram": [
           {
            "marker": {
             "pattern": {
              "fillmode": "overlay",
              "size": 10,
              "solidity": 0.2
             }
            },
            "type": "histogram"
           }
          ],
          "histogram2d": [
           {
            "colorbar": {
             "outlinewidth": 0,
             "ticks": ""
            },
            "colorscale": [
             [
              0,
              "#0d0887"
             ],
             [
              0.1111111111111111,
              "#46039f"
             ],
             [
              0.2222222222222222,
              "#7201a8"
             ],
             [
              0.3333333333333333,
              "#9c179e"
             ],
             [
              0.4444444444444444,
              "#bd3786"
             ],
             [
              0.5555555555555556,
              "#d8576b"
             ],
             [
              0.6666666666666666,
              "#ed7953"
             ],
             [
              0.7777777777777778,
              "#fb9f3a"
             ],
             [
              0.8888888888888888,
              "#fdca26"
             ],
             [
              1,
              "#f0f921"
             ]
            ],
            "type": "histogram2d"
           }
          ],
          "histogram2dcontour": [
           {
            "colorbar": {
             "outlinewidth": 0,
             "ticks": ""
            },
            "colorscale": [
             [
              0,
              "#0d0887"
             ],
             [
              0.1111111111111111,
              "#46039f"
             ],
             [
              0.2222222222222222,
              "#7201a8"
             ],
             [
              0.3333333333333333,
              "#9c179e"
             ],
             [
              0.4444444444444444,
              "#bd3786"
             ],
             [
              0.5555555555555556,
              "#d8576b"
             ],
             [
              0.6666666666666666,
              "#ed7953"
             ],
             [
              0.7777777777777778,
              "#fb9f3a"
             ],
             [
              0.8888888888888888,
              "#fdca26"
             ],
             [
              1,
              "#f0f921"
             ]
            ],
            "type": "histogram2dcontour"
           }
          ],
          "mesh3d": [
           {
            "colorbar": {
             "outlinewidth": 0,
             "ticks": ""
            },
            "type": "mesh3d"
           }
          ],
          "parcoords": [
           {
            "line": {
             "colorbar": {
              "outlinewidth": 0,
              "ticks": ""
             }
            },
            "type": "parcoords"
           }
          ],
          "pie": [
           {
            "automargin": true,
            "type": "pie"
           }
          ],
          "scatter": [
           {
            "fillpattern": {
             "fillmode": "overlay",
             "size": 10,
             "solidity": 0.2
            },
            "type": "scatter"
           }
          ],
          "scatter3d": [
           {
            "line": {
             "colorbar": {
              "outlinewidth": 0,
              "ticks": ""
             }
            },
            "marker": {
             "colorbar": {
              "outlinewidth": 0,
              "ticks": ""
             }
            },
            "type": "scatter3d"
           }
          ],
          "scattercarpet": [
           {
            "marker": {
             "colorbar": {
              "outlinewidth": 0,
              "ticks": ""
             }
            },
            "type": "scattercarpet"
           }
          ],
          "scattergeo": [
           {
            "marker": {
             "colorbar": {
              "outlinewidth": 0,
              "ticks": ""
             }
            },
            "type": "scattergeo"
           }
          ],
          "scattergl": [
           {
            "marker": {
             "colorbar": {
              "outlinewidth": 0,
              "ticks": ""
             }
            },
            "type": "scattergl"
           }
          ],
          "scattermapbox": [
           {
            "marker": {
             "colorbar": {
              "outlinewidth": 0,
              "ticks": ""
             }
            },
            "type": "scattermapbox"
           }
          ],
          "scatterpolar": [
           {
            "marker": {
             "colorbar": {
              "outlinewidth": 0,
              "ticks": ""
             }
            },
            "type": "scatterpolar"
           }
          ],
          "scatterpolargl": [
           {
            "marker": {
             "colorbar": {
              "outlinewidth": 0,
              "ticks": ""
             }
            },
            "type": "scatterpolargl"
           }
          ],
          "scatterternary": [
           {
            "marker": {
             "colorbar": {
              "outlinewidth": 0,
              "ticks": ""
             }
            },
            "type": "scatterternary"
           }
          ],
          "surface": [
           {
            "colorbar": {
             "outlinewidth": 0,
             "ticks": ""
            },
            "colorscale": [
             [
              0,
              "#0d0887"
             ],
             [
              0.1111111111111111,
              "#46039f"
             ],
             [
              0.2222222222222222,
              "#7201a8"
             ],
             [
              0.3333333333333333,
              "#9c179e"
             ],
             [
              0.4444444444444444,
              "#bd3786"
             ],
             [
              0.5555555555555556,
              "#d8576b"
             ],
             [
              0.6666666666666666,
              "#ed7953"
             ],
             [
              0.7777777777777778,
              "#fb9f3a"
             ],
             [
              0.8888888888888888,
              "#fdca26"
             ],
             [
              1,
              "#f0f921"
             ]
            ],
            "type": "surface"
           }
          ],
          "table": [
           {
            "cells": {
             "fill": {
              "color": "#EBF0F8"
             },
             "line": {
              "color": "white"
             }
            },
            "header": {
             "fill": {
              "color": "#C8D4E3"
             },
             "line": {
              "color": "white"
             }
            },
            "type": "table"
           }
          ]
         },
         "layout": {
          "annotationdefaults": {
           "arrowcolor": "#2a3f5f",
           "arrowhead": 0,
           "arrowwidth": 1
          },
          "autotypenumbers": "strict",
          "coloraxis": {
           "colorbar": {
            "outlinewidth": 0,
            "ticks": ""
           }
          },
          "colorscale": {
           "diverging": [
            [
             0,
             "#8e0152"
            ],
            [
             0.1,
             "#c51b7d"
            ],
            [
             0.2,
             "#de77ae"
            ],
            [
             0.3,
             "#f1b6da"
            ],
            [
             0.4,
             "#fde0ef"
            ],
            [
             0.5,
             "#f7f7f7"
            ],
            [
             0.6,
             "#e6f5d0"
            ],
            [
             0.7,
             "#b8e186"
            ],
            [
             0.8,
             "#7fbc41"
            ],
            [
             0.9,
             "#4d9221"
            ],
            [
             1,
             "#276419"
            ]
           ],
           "sequential": [
            [
             0,
             "#0d0887"
            ],
            [
             0.1111111111111111,
             "#46039f"
            ],
            [
             0.2222222222222222,
             "#7201a8"
            ],
            [
             0.3333333333333333,
             "#9c179e"
            ],
            [
             0.4444444444444444,
             "#bd3786"
            ],
            [
             0.5555555555555556,
             "#d8576b"
            ],
            [
             0.6666666666666666,
             "#ed7953"
            ],
            [
             0.7777777777777778,
             "#fb9f3a"
            ],
            [
             0.8888888888888888,
             "#fdca26"
            ],
            [
             1,
             "#f0f921"
            ]
           ],
           "sequentialminus": [
            [
             0,
             "#0d0887"
            ],
            [
             0.1111111111111111,
             "#46039f"
            ],
            [
             0.2222222222222222,
             "#7201a8"
            ],
            [
             0.3333333333333333,
             "#9c179e"
            ],
            [
             0.4444444444444444,
             "#bd3786"
            ],
            [
             0.5555555555555556,
             "#d8576b"
            ],
            [
             0.6666666666666666,
             "#ed7953"
            ],
            [
             0.7777777777777778,
             "#fb9f3a"
            ],
            [
             0.8888888888888888,
             "#fdca26"
            ],
            [
             1,
             "#f0f921"
            ]
           ]
          },
          "colorway": [
           "#636efa",
           "#EF553B",
           "#00cc96",
           "#ab63fa",
           "#FFA15A",
           "#19d3f3",
           "#FF6692",
           "#B6E880",
           "#FF97FF",
           "#FECB52"
          ],
          "font": {
           "color": "#2a3f5f"
          },
          "geo": {
           "bgcolor": "white",
           "lakecolor": "white",
           "landcolor": "#E5ECF6",
           "showlakes": true,
           "showland": true,
           "subunitcolor": "white"
          },
          "hoverlabel": {
           "align": "left"
          },
          "hovermode": "closest",
          "mapbox": {
           "style": "light"
          },
          "paper_bgcolor": "white",
          "plot_bgcolor": "#E5ECF6",
          "polar": {
           "angularaxis": {
            "gridcolor": "white",
            "linecolor": "white",
            "ticks": ""
           },
           "bgcolor": "#E5ECF6",
           "radialaxis": {
            "gridcolor": "white",
            "linecolor": "white",
            "ticks": ""
           }
          },
          "scene": {
           "xaxis": {
            "backgroundcolor": "#E5ECF6",
            "gridcolor": "white",
            "gridwidth": 2,
            "linecolor": "white",
            "showbackground": true,
            "ticks": "",
            "zerolinecolor": "white"
           },
           "yaxis": {
            "backgroundcolor": "#E5ECF6",
            "gridcolor": "white",
            "gridwidth": 2,
            "linecolor": "white",
            "showbackground": true,
            "ticks": "",
            "zerolinecolor": "white"
           },
           "zaxis": {
            "backgroundcolor": "#E5ECF6",
            "gridcolor": "white",
            "gridwidth": 2,
            "linecolor": "white",
            "showbackground": true,
            "ticks": "",
            "zerolinecolor": "white"
           }
          },
          "shapedefaults": {
           "line": {
            "color": "#2a3f5f"
           }
          },
          "ternary": {
           "aaxis": {
            "gridcolor": "white",
            "linecolor": "white",
            "ticks": ""
           },
           "baxis": {
            "gridcolor": "white",
            "linecolor": "white",
            "ticks": ""
           },
           "bgcolor": "#E5ECF6",
           "caxis": {
            "gridcolor": "white",
            "linecolor": "white",
            "ticks": ""
           }
          },
          "title": {
           "x": 0.05
          },
          "xaxis": {
           "automargin": true,
           "gridcolor": "white",
           "linecolor": "white",
           "ticks": "",
           "title": {
            "standoff": 15
           },
           "zerolinecolor": "white",
           "zerolinewidth": 2
          },
          "yaxis": {
           "automargin": true,
           "gridcolor": "white",
           "linecolor": "white",
           "ticks": "",
           "title": {
            "standoff": 15
           },
           "zerolinecolor": "white",
           "zerolinewidth": 2
          }
         }
        },
        "title": {
         "font": {
          "family": "Arial",
          "size": 20
         },
         "text": "Probabilidad de Conectar Proyectos con Suited Connectors",
         "x": 0.5
        },
        "xaxis": {
         "anchor": "y",
         "domain": [
          0,
          1
         ],
         "tickfont": {
          "size": 12
         },
         "title": {
          "font": {
           "size": 16
          },
          "text": "Categoría"
         }
        },
        "yaxis": {
         "anchor": "x",
         "domain": [
          0,
          1
         ],
         "range": [
          0,
          18.732442948204973
         ],
         "tickfont": {
          "size": 12
         },
         "title": {
          "font": {
           "size": 16
          },
          "text": "Probabilidad (%)"
         }
        }
       }
      }
     },
     "metadata": {},
     "output_type": "display_data"
    }
   ],
   "source": [
    "# Visualización\n",
    "fig = px.bar(\n",
    "    results,\n",
    "    x='Categoría',\n",
    "    y='Probabilidad (%)',\n",
    "    text='Probabilidad (%)',\n",
    "    title=\"Probabilidad de Conectar Proyectos con Suited Connectors\",\n",
    "    labels={\n",
    "        \"Categoría\": \"Tipo de Proyecto\",\n",
    "        \"Probabilidad (%)\": \"Probabilidad (%)\"\n",
    "    },\n",
    "    color='Probabilidad (%)',\n",
    "    color_continuous_scale='Reds'  \n",
    ")\n",
    "\n",
    "# Ajustes adicionales al diseño\n",
    "fig.update_traces(\n",
    "    texttemplate='%{text:.2f}%', \n",
    "    textposition='outside',     \n",
    "    marker=dict(line=dict(color='black', width=0.5)) \n",
    ")\n",
    "\n",
    "fig.update_layout(\n",
    "    title=dict(\n",
    "        font=dict(size=20, family=\"Arial\"),  \n",
    "        x=0.5  \n",
    "    ),\n",
    "    xaxis=dict(\n",
    "        title=\"Categoría\", \n",
    "        title_font=dict(size=16), \n",
    "        tickfont=dict(size=12),   \n",
    "    ),\n",
    "    yaxis=dict(\n",
    "        title=\"Probabilidad (%)\",  \n",
    "        title_font=dict(size=16), \n",
    "        tickfont=dict(size=12),    \n",
    "        range=[0, max(rates) + 5]  \n",
    "    ),\n",
    "    plot_bgcolor=\"White\", \n",
    "    margin=dict(l=40, r=40, t=60, b=40), \n",
    "    coloraxis_showscale=True \n",
    ")\n",
    "\n",
    "fig.show()"
   ]
  },
  {
   "cell_type": "markdown",
   "metadata": {},
   "source": [
    "##### **Análisis de la probabilidad de conectar proyectos con *Suited Connectors***\n",
    "\n",
    "Hemos observado en esta gráfica que los *Suited Connectors* son manos muy interesantes de jugar ya que en partidas de 2-9 jugadores conectan proyectos el 13.73% divididos en:\n",
    "\n",
    "- Escalera: 7.22%\n",
    "- Color: 6.65%\n",
    "- Escalera de color: 0.13%\n",
    "\n",
    "Esto sin tener en cuenta proyectos que pueden llegar a conectar de Dobles Parejas, Tríos e incluso Full Houses en algunos de los casos."
   ]
  },
  {
   "cell_type": "markdown",
   "metadata": {},
   "source": [
    "#### 1.4 ¿Cuál es y cómo varía el porcentaje de victorias preflop según la fuerza de la mano y sus características? ¿Cuál es la mano más fuerte? ¿Y la más débil?"
   ]
  },
  {
   "cell_type": "markdown",
   "metadata": {},
   "source": [
    "Para realizar este análisis y poder visualizarlo mediante un Scatterplot o nube de puntos, lo primero que tenemos que hacer es guardar en un dataframe cada combinación de dos cartas que te pueden salir del mazo de Poker. Cómo el dataset no sabe que [A♠, A♦] y [A♦, A♠] es lo mismo, tenemos que normalizar las manos que sean iguales pero en distinto orden y quedarnos con la media de las proporciones de victoria de ambas manos.\n",
    "\n",
    "Obtendremos un total de 1326 manos posibles."
   ]
  },
  {
   "cell_type": "code",
   "execution_count": 9,
   "metadata": {},
   "outputs": [],
   "source": [
    "# Normalizamos las manos para eliminar duplicados\n",
    "def normalize_hand(hand):\n",
    "    cards = eval(hand)\n",
    "    return str(sorted(cards))\n",
    "\n",
    "df['normalized_hand'] = df['cartas_jugador'].apply(normalize_hand)"
   ]
  },
  {
   "cell_type": "markdown",
   "metadata": {},
   "source": [
    "Seguidamente tendremos que calcular el porcentaje de victoria que tiene cada una de las 1326 manos y calcular la probabilidad que tiene el jugador de ganar una partida antes de repartir cartas en manos de 2-9 jugadores. Para ello calculamos la media de jugadores que hay en el millón de simulaciones que tenemos como referencia y sacamos la probabilidad de ganar contra ese número de jugadores. Lo utilizaremos como recta de regresión en nuestro Scatterplot."
   ]
  },
  {
   "cell_type": "code",
   "execution_count": 10,
   "metadata": {},
   "outputs": [],
   "source": [
    "# Calculamos el porcentaje de victoria para manos únicas\n",
    "df['resultado_bin'] = (df['resultado'] == 'Victoria').astype(int)\n",
    "victory_rate_by_hand = df.groupby('normalized_hand')['resultado_bin'].mean() * 100\n",
    "\n",
    "# Calculamos la probabilidad media esperada\n",
    "df['expected_win_rate'] = 100 / (df['num_rivales'] + 1)"
   ]
  },
  {
   "cell_type": "markdown",
   "metadata": {},
   "source": [
    "Por último, visualizamos los datos en un Scatterplot con leyenda para dividir cada tipo de mano en colores, información de cada mano específica al hacer hover sobre ella, recta de regresión lineal para tener como referencia la probabilidad media de ganar una mano etc."
   ]
  },
  {
   "cell_type": "code",
   "execution_count": 11,
   "metadata": {},
   "outputs": [
    {
     "data": {
      "application/vnd.plotly.v1+json": {
       "config": {
        "plotlyServerURL": "https://plot.ly"
       },
       "data": [
        {
         "customdata": [
          [
           "['10♠', '10♣']"
          ],
          [
           "['10♠', '10♥']"
          ],
          [
           "['10♠', '10♦']"
          ],
          [
           "['10♣', '10♥']"
          ],
          [
           "['10♣', '10♦']"
          ],
          [
           "['10♥', '10♦']"
          ],
          [
           "['2♠', '2♣']"
          ],
          [
           "['2♠', '2♥']"
          ],
          [
           "['2♠', '2♦']"
          ],
          [
           "['2♣', '2♥']"
          ],
          [
           "['2♣', '2♦']"
          ],
          [
           "['2♥', '2♦']"
          ],
          [
           "['3♠', '3♣']"
          ],
          [
           "['3♠', '3♥']"
          ],
          [
           "['3♠', '3♦']"
          ],
          [
           "['3♣', '3♥']"
          ],
          [
           "['3♣', '3♦']"
          ],
          [
           "['3♥', '3♦']"
          ],
          [
           "['4♠', '4♣']"
          ],
          [
           "['4♠', '4♥']"
          ],
          [
           "['4♠', '4♦']"
          ],
          [
           "['4♣', '4♥']"
          ],
          [
           "['4♣', '4♦']"
          ],
          [
           "['4♥', '4♦']"
          ],
          [
           "['5♠', '5♣']"
          ],
          [
           "['5♠', '5♥']"
          ],
          [
           "['5♠', '5♦']"
          ],
          [
           "['5♣', '5♥']"
          ],
          [
           "['5♣', '5♦']"
          ],
          [
           "['5♥', '5♦']"
          ],
          [
           "['6♠', '6♣']"
          ],
          [
           "['6♠', '6♥']"
          ],
          [
           "['6♠', '6♦']"
          ],
          [
           "['6♣', '6♥']"
          ],
          [
           "['6♣', '6♦']"
          ],
          [
           "['6♥', '6♦']"
          ],
          [
           "['7♠', '7♣']"
          ],
          [
           "['7♠', '7♥']"
          ],
          [
           "['7♠', '7♦']"
          ],
          [
           "['7♣', '7♥']"
          ],
          [
           "['7♣', '7♦']"
          ],
          [
           "['7♥', '7♦']"
          ],
          [
           "['8♠', '8♣']"
          ],
          [
           "['8♠', '8♥']"
          ],
          [
           "['8♠', '8♦']"
          ],
          [
           "['8♣', '8♥']"
          ],
          [
           "['8♣', '8♦']"
          ],
          [
           "['8♥', '8♦']"
          ],
          [
           "['9♠', '9♣']"
          ],
          [
           "['9♠', '9♥']"
          ],
          [
           "['9♠', '9♦']"
          ],
          [
           "['9♣', '9♥']"
          ],
          [
           "['9♣', '9♦']"
          ],
          [
           "['9♥', '9♦']"
          ],
          [
           "['A♠', 'A♣']"
          ],
          [
           "['A♠', 'A♥']"
          ],
          [
           "['A♠', 'A♦']"
          ],
          [
           "['A♣', 'A♥']"
          ],
          [
           "['A♣', 'A♦']"
          ],
          [
           "['A♥', 'A♦']"
          ],
          [
           "['J♠', 'J♣']"
          ],
          [
           "['J♠', 'J♥']"
          ],
          [
           "['J♠', 'J♦']"
          ],
          [
           "['J♣', 'J♥']"
          ],
          [
           "['J♣', 'J♦']"
          ],
          [
           "['J♥', 'J♦']"
          ],
          [
           "['K♠', 'K♣']"
          ],
          [
           "['K♠', 'K♥']"
          ],
          [
           "['K♠', 'K♦']"
          ],
          [
           "['K♣', 'K♥']"
          ],
          [
           "['K♣', 'K♦']"
          ],
          [
           "['K♥', 'K♦']"
          ],
          [
           "['Q♠', 'Q♣']"
          ],
          [
           "['Q♠', 'Q♥']"
          ],
          [
           "['Q♠', 'Q♦']"
          ],
          [
           "['Q♣', 'Q♥']"
          ],
          [
           "['Q♣', 'Q♦']"
          ],
          [
           "['Q♥', 'Q♦']"
          ]
         ],
         "hovertemplate": "Categoría=Parejas<br>Fuerza de la Mano=%{x}<br>Porcentaje de Victoria=%{y:.2f}<br>Cartas=%{customdata[0]}<extra></extra>",
         "legendgroup": "Parejas",
         "marker": {
          "color": "blue",
          "line": {
           "color": "DarkSlateGrey",
           "width": 1
          },
          "opacity": 0.8,
          "size": 8,
          "symbol": "circle"
         },
         "mode": "markers",
         "name": "Parejas",
         "showlegend": true,
         "type": "scattergl",
         "x": [
          20,
          20,
          20,
          20,
          20,
          20,
          4,
          4,
          4,
          4,
          4,
          4,
          6,
          6,
          6,
          6,
          6,
          6,
          8,
          8,
          8,
          8,
          8,
          8,
          10,
          10,
          10,
          10,
          10,
          10,
          12,
          12,
          12,
          12,
          12,
          12,
          14,
          14,
          14,
          14,
          14,
          14,
          16,
          16,
          16,
          16,
          16,
          16,
          18,
          18,
          18,
          18,
          18,
          18,
          28,
          28,
          28,
          28,
          28,
          28,
          22,
          22,
          22,
          22,
          22,
          22,
          26,
          26,
          26,
          26,
          26,
          26,
          24,
          24,
          24,
          24,
          24,
          24
         ],
         "xaxis": "x",
         "y": [
          31.72043010752688,
          33.702737940026076,
          31.153846153846153,
          33.90061266167461,
          31.318327974276528,
          32.14521452145215,
          22.676837725381414,
          21.335168616655196,
          23.18941504178273,
          23.06136210384356,
          22.030524220305242,
          21.018697614442296,
          21.95281782437746,
          22.582872928176794,
          23.062139654067906,
          22.063595068137573,
          21.4375,
          22.916666666666664,
          22.3410950283197,
          25.134048257372655,
          22.57844474761255,
          22.11404728789986,
          22.539893617021274,
          21.977287909151634,
          25.405405405405407,
          22.524407252440724,
          25.774555042847723,
          24.683965402528276,
          24.5520902455209,
          24.597855227882036,
          27.24850099933378,
          26.378737541528242,
          27.169559412550065,
          24.841571609632446,
          25.383077948034643,
          25.03242542153048,
          26.649583600256243,
          25.928426738690074,
          27.003367003367,
          26.706036745406823,
          27.295756808106397,
          26.859504132231404,
          29.81651376146789,
          28.860759493670884,
          26.084142394822006,
          27.866666666666667,
          27.803278688524593,
          30.250347705146037,
          32.01607501674481,
          28.365068942875904,
          32.507082152974505,
          28.82882882882883,
          29.894179894179896,
          29.365598430346633,
          54.622395833333336,
          55.24523160762943,
          55.16285516285516,
          55.513065646908856,
          54.807063440156966,
          56.729475100942125,
          34.22774869109947,
          36.0180412371134,
          35.48606390210741,
          32.577319587628864,
          33.990482664853836,
          35.505319148936174,
          46.72131147540984,
          48.15560026827633,
          44.80263157894736,
          44.48979591836735,
          47.04336399474376,
          47.82034346103038,
          40.99099099099099,
          39.58620689655172,
          39.53947368421053,
          38.02356020942408,
          40.758620689655174,
          39.00523560209424
         ],
         "yaxis": "y"
        },
        {
         "customdata": [
          [
           "['10♠', '2♠']"
          ],
          [
           "['10♠', '3♠']"
          ],
          [
           "['10♠', '4♠']"
          ],
          [
           "['10♠', '5♠']"
          ],
          [
           "['10♠', '6♠']"
          ],
          [
           "['10♠', '7♠']"
          ],
          [
           "['10♠', '8♠']"
          ],
          [
           "['10♠', 'A♠']"
          ],
          [
           "['10♠', 'K♠']"
          ],
          [
           "['10♠', 'Q♠']"
          ],
          [
           "['10♣', '2♣']"
          ],
          [
           "['10♣', '3♣']"
          ],
          [
           "['10♣', '4♣']"
          ],
          [
           "['10♣', '5♣']"
          ],
          [
           "['10♣', '6♣']"
          ],
          [
           "['10♣', '7♣']"
          ],
          [
           "['10♣', '8♣']"
          ],
          [
           "['10♣', 'A♣']"
          ],
          [
           "['10♣', 'K♣']"
          ],
          [
           "['10♣', 'Q♣']"
          ],
          [
           "['10♥', '2♥']"
          ],
          [
           "['10♥', '3♥']"
          ],
          [
           "['10♥', '4♥']"
          ],
          [
           "['10♥', '5♥']"
          ],
          [
           "['10♥', '6♥']"
          ],
          [
           "['10♥', '7♥']"
          ],
          [
           "['10♥', '8♥']"
          ],
          [
           "['10♥', 'A♥']"
          ],
          [
           "['10♥', 'K♥']"
          ],
          [
           "['10♥', 'Q♥']"
          ],
          [
           "['10♦', '2♦']"
          ],
          [
           "['10♦', '3♦']"
          ],
          [
           "['10♦', '4♦']"
          ],
          [
           "['10♦', '5♦']"
          ],
          [
           "['10♦', '6♦']"
          ],
          [
           "['10♦', '7♦']"
          ],
          [
           "['10♦', '8♦']"
          ],
          [
           "['10♦', 'A♦']"
          ],
          [
           "['10♦', 'K♦']"
          ],
          [
           "['10♦', 'Q♦']"
          ],
          [
           "['2♠', '4♠']"
          ],
          [
           "['2♠', '5♠']"
          ],
          [
           "['2♠', '6♠']"
          ],
          [
           "['2♠', '7♠']"
          ],
          [
           "['2♠', '8♠']"
          ],
          [
           "['2♠', '9♠']"
          ],
          [
           "['2♠', 'A♠']"
          ],
          [
           "['2♠', 'J♠']"
          ],
          [
           "['2♠', 'K♠']"
          ],
          [
           "['2♠', 'Q♠']"
          ],
          [
           "['2♣', '4♣']"
          ],
          [
           "['2♣', '5♣']"
          ],
          [
           "['2♣', '6♣']"
          ],
          [
           "['2♣', '7♣']"
          ],
          [
           "['2♣', '8♣']"
          ],
          [
           "['2♣', '9♣']"
          ],
          [
           "['2♣', 'A♣']"
          ],
          [
           "['2♣', 'J♣']"
          ],
          [
           "['2♣', 'K♣']"
          ],
          [
           "['2♣', 'Q♣']"
          ],
          [
           "['2♥', '4♥']"
          ],
          [
           "['2♥', '5♥']"
          ],
          [
           "['2♥', '6♥']"
          ],
          [
           "['2♥', '7♥']"
          ],
          [
           "['2♥', '8♥']"
          ],
          [
           "['2♥', '9♥']"
          ],
          [
           "['2♥', 'A♥']"
          ],
          [
           "['2♥', 'J♥']"
          ],
          [
           "['2♥', 'K♥']"
          ],
          [
           "['2♥', 'Q♥']"
          ],
          [
           "['2♦', '4♦']"
          ],
          [
           "['2♦', '5♦']"
          ],
          [
           "['2♦', '6♦']"
          ],
          [
           "['2♦', '7♦']"
          ],
          [
           "['2♦', '8♦']"
          ],
          [
           "['2♦', '9♦']"
          ],
          [
           "['2♦', 'A♦']"
          ],
          [
           "['2♦', 'J♦']"
          ],
          [
           "['2♦', 'K♦']"
          ],
          [
           "['2♦', 'Q♦']"
          ],
          [
           "['3♠', '5♠']"
          ],
          [
           "['3♠', '6♠']"
          ],
          [
           "['3♠', '7♠']"
          ],
          [
           "['3♠', '8♠']"
          ],
          [
           "['3♠', '9♠']"
          ],
          [
           "['3♠', 'A♠']"
          ],
          [
           "['3♠', 'J♠']"
          ],
          [
           "['3♠', 'K♠']"
          ],
          [
           "['3♠', 'Q♠']"
          ],
          [
           "['3♣', '5♣']"
          ],
          [
           "['3♣', '6♣']"
          ],
          [
           "['3♣', '7♣']"
          ],
          [
           "['3♣', '8♣']"
          ],
          [
           "['3♣', '9♣']"
          ],
          [
           "['3♣', 'A♣']"
          ],
          [
           "['3♣', 'J♣']"
          ],
          [
           "['3♣', 'K♣']"
          ],
          [
           "['3♣', 'Q♣']"
          ],
          [
           "['3♥', '5♥']"
          ],
          [
           "['3♥', '6♥']"
          ],
          [
           "['3♥', '7♥']"
          ],
          [
           "['3♥', '8♥']"
          ],
          [
           "['3♥', '9♥']"
          ],
          [
           "['3♥', 'A♥']"
          ],
          [
           "['3♥', 'J♥']"
          ],
          [
           "['3♥', 'K♥']"
          ],
          [
           "['3♥', 'Q♥']"
          ],
          [
           "['3♦', '5♦']"
          ],
          [
           "['3♦', '6♦']"
          ],
          [
           "['3♦', '7♦']"
          ],
          [
           "['3♦', '8♦']"
          ],
          [
           "['3♦', '9♦']"
          ],
          [
           "['3♦', 'A♦']"
          ],
          [
           "['3♦', 'J♦']"
          ],
          [
           "['3♦', 'K♦']"
          ],
          [
           "['3♦', 'Q♦']"
          ],
          [
           "['4♠', '6♠']"
          ],
          [
           "['4♠', '7♠']"
          ],
          [
           "['4♠', '8♠']"
          ],
          [
           "['4♠', '9♠']"
          ],
          [
           "['4♠', 'A♠']"
          ],
          [
           "['4♠', 'J♠']"
          ],
          [
           "['4♠', 'K♠']"
          ],
          [
           "['4♠', 'Q♠']"
          ],
          [
           "['4♣', '6♣']"
          ],
          [
           "['4♣', '7♣']"
          ],
          [
           "['4♣', '8♣']"
          ],
          [
           "['4♣', '9♣']"
          ],
          [
           "['4♣', 'A♣']"
          ],
          [
           "['4♣', 'J♣']"
          ],
          [
           "['4♣', 'K♣']"
          ],
          [
           "['4♣', 'Q♣']"
          ],
          [
           "['4♥', '6♥']"
          ],
          [
           "['4♥', '7♥']"
          ],
          [
           "['4♥', '8♥']"
          ],
          [
           "['4♥', '9♥']"
          ],
          [
           "['4♥', 'A♥']"
          ],
          [
           "['4♥', 'J♥']"
          ],
          [
           "['4♥', 'K♥']"
          ],
          [
           "['4♥', 'Q♥']"
          ],
          [
           "['4♦', '6♦']"
          ],
          [
           "['4♦', '7♦']"
          ],
          [
           "['4♦', '8♦']"
          ],
          [
           "['4♦', '9♦']"
          ],
          [
           "['4♦', 'A♦']"
          ],
          [
           "['4♦', 'J♦']"
          ],
          [
           "['4♦', 'K♦']"
          ],
          [
           "['4♦', 'Q♦']"
          ],
          [
           "['5♠', '7♠']"
          ],
          [
           "['5♠', '8♠']"
          ],
          [
           "['5♠', '9♠']"
          ],
          [
           "['5♠', 'A♠']"
          ],
          [
           "['5♠', 'J♠']"
          ],
          [
           "['5♠', 'K♠']"
          ],
          [
           "['5♠', 'Q♠']"
          ],
          [
           "['5♣', '7♣']"
          ],
          [
           "['5♣', '8♣']"
          ],
          [
           "['5♣', '9♣']"
          ],
          [
           "['5♣', 'A♣']"
          ],
          [
           "['5♣', 'J♣']"
          ],
          [
           "['5♣', 'K♣']"
          ],
          [
           "['5♣', 'Q♣']"
          ],
          [
           "['5♥', '7♥']"
          ],
          [
           "['5♥', '8♥']"
          ],
          [
           "['5♥', '9♥']"
          ],
          [
           "['5♥', 'A♥']"
          ],
          [
           "['5♥', 'J♥']"
          ],
          [
           "['5♥', 'K♥']"
          ],
          [
           "['5♥', 'Q♥']"
          ],
          [
           "['5♦', '7♦']"
          ],
          [
           "['5♦', '8♦']"
          ],
          [
           "['5♦', '9♦']"
          ],
          [
           "['5♦', 'A♦']"
          ],
          [
           "['5♦', 'J♦']"
          ],
          [
           "['5♦', 'K♦']"
          ],
          [
           "['5♦', 'Q♦']"
          ],
          [
           "['6♠', '8♠']"
          ],
          [
           "['6♠', '9♠']"
          ],
          [
           "['6♠', 'A♠']"
          ],
          [
           "['6♠', 'J♠']"
          ],
          [
           "['6♠', 'K♠']"
          ],
          [
           "['6♠', 'Q♠']"
          ],
          [
           "['6♣', '8♣']"
          ],
          [
           "['6♣', '9♣']"
          ],
          [
           "['6♣', 'A♣']"
          ],
          [
           "['6♣', 'J♣']"
          ],
          [
           "['6♣', 'K♣']"
          ],
          [
           "['6♣', 'Q♣']"
          ],
          [
           "['6♥', '8♥']"
          ],
          [
           "['6♥', '9♥']"
          ],
          [
           "['6♥', 'A♥']"
          ],
          [
           "['6♥', 'J♥']"
          ],
          [
           "['6♥', 'K♥']"
          ],
          [
           "['6♥', 'Q♥']"
          ],
          [
           "['6♦', '8♦']"
          ],
          [
           "['6♦', '9♦']"
          ],
          [
           "['6♦', 'A♦']"
          ],
          [
           "['6♦', 'J♦']"
          ],
          [
           "['6♦', 'K♦']"
          ],
          [
           "['6♦', 'Q♦']"
          ],
          [
           "['7♠', '9♠']"
          ],
          [
           "['7♠', 'A♠']"
          ],
          [
           "['7♠', 'J♠']"
          ],
          [
           "['7♠', 'K♠']"
          ],
          [
           "['7♠', 'Q♠']"
          ],
          [
           "['7♣', '9♣']"
          ],
          [
           "['7♣', 'A♣']"
          ],
          [
           "['7♣', 'J♣']"
          ],
          [
           "['7♣', 'K♣']"
          ],
          [
           "['7♣', 'Q♣']"
          ],
          [
           "['7♥', '9♥']"
          ],
          [
           "['7♥', 'A♥']"
          ],
          [
           "['7♥', 'J♥']"
          ],
          [
           "['7♥', 'K♥']"
          ],
          [
           "['7♥', 'Q♥']"
          ],
          [
           "['7♦', '9♦']"
          ],
          [
           "['7♦', 'A♦']"
          ],
          [
           "['7♦', 'J♦']"
          ],
          [
           "['7♦', 'K♦']"
          ],
          [
           "['7♦', 'Q♦']"
          ],
          [
           "['8♠', 'A♠']"
          ],
          [
           "['8♠', 'J♠']"
          ],
          [
           "['8♠', 'K♠']"
          ],
          [
           "['8♠', 'Q♠']"
          ],
          [
           "['8♣', 'A♣']"
          ],
          [
           "['8♣', 'J♣']"
          ],
          [
           "['8♣', 'K♣']"
          ],
          [
           "['8♣', 'Q♣']"
          ],
          [
           "['8♥', 'A♥']"
          ],
          [
           "['8♥', 'J♥']"
          ],
          [
           "['8♥', 'K♥']"
          ],
          [
           "['8♥', 'Q♥']"
          ],
          [
           "['8♦', 'A♦']"
          ],
          [
           "['8♦', 'J♦']"
          ],
          [
           "['8♦', 'K♦']"
          ],
          [
           "['8♦', 'Q♦']"
          ],
          [
           "['9♠', 'A♠']"
          ],
          [
           "['9♠', 'J♠']"
          ],
          [
           "['9♠', 'K♠']"
          ],
          [
           "['9♠', 'Q♠']"
          ],
          [
           "['9♣', 'A♣']"
          ],
          [
           "['9♣', 'J♣']"
          ],
          [
           "['9♣', 'K♣']"
          ],
          [
           "['9♣', 'Q♣']"
          ],
          [
           "['9♥', 'A♥']"
          ],
          [
           "['9♥', 'J♥']"
          ],
          [
           "['9♥', 'K♥']"
          ],
          [
           "['9♥', 'Q♥']"
          ],
          [
           "['9♦', 'A♦']"
          ],
          [
           "['9♦', 'J♦']"
          ],
          [
           "['9♦', 'K♦']"
          ],
          [
           "['9♦', 'Q♦']"
          ],
          [
           "['A♠', 'J♠']"
          ],
          [
           "['A♠', 'Q♠']"
          ],
          [
           "['A♣', 'J♣']"
          ],
          [
           "['A♣', 'Q♣']"
          ],
          [
           "['A♥', 'J♥']"
          ],
          [
           "['A♥', 'Q♥']"
          ],
          [
           "['A♦', 'J♦']"
          ],
          [
           "['A♦', 'Q♦']"
          ],
          [
           "['J♠', 'K♠']"
          ],
          [
           "['J♣', 'K♣']"
          ],
          [
           "['J♥', 'K♥']"
          ],
          [
           "['J♦', 'K♦']"
          ]
         ],
         "hovertemplate": "Categoría=Cartas Distintas Suited<br>Fuerza de la Mano=%{x}<br>Porcentaje de Victoria=%{y:.2f}<br>Cartas=%{customdata[0]}<extra></extra>",
         "legendgroup": "Cartas Distintas Suited",
         "marker": {
          "color": "green",
          "line": {
           "color": "DarkSlateGrey",
           "width": 1
          },
          "opacity": 0.8,
          "size": 8,
          "symbol": "circle"
         },
         "mode": "markers",
         "name": "Cartas Distintas Suited",
         "showlegend": true,
         "type": "scattergl",
         "x": [
          12,
          13,
          14,
          15,
          16,
          17,
          18,
          24,
          23,
          22,
          12,
          13,
          14,
          15,
          16,
          17,
          18,
          24,
          23,
          22,
          12,
          13,
          14,
          15,
          16,
          17,
          18,
          24,
          23,
          22,
          12,
          13,
          14,
          15,
          16,
          17,
          18,
          24,
          23,
          22,
          6,
          7,
          8,
          9,
          10,
          11,
          16,
          13,
          15,
          14,
          6,
          7,
          8,
          9,
          10,
          11,
          16,
          13,
          15,
          14,
          6,
          7,
          8,
          9,
          10,
          11,
          16,
          13,
          15,
          14,
          6,
          7,
          8,
          9,
          10,
          11,
          16,
          13,
          15,
          14,
          8,
          9,
          10,
          11,
          12,
          17,
          14,
          16,
          15,
          8,
          9,
          10,
          11,
          12,
          17,
          14,
          16,
          15,
          8,
          9,
          10,
          11,
          12,
          17,
          14,
          16,
          15,
          8,
          9,
          10,
          11,
          12,
          17,
          14,
          16,
          15,
          10,
          11,
          12,
          13,
          18,
          15,
          17,
          16,
          10,
          11,
          12,
          13,
          18,
          15,
          17,
          16,
          10,
          11,
          12,
          13,
          18,
          15,
          17,
          16,
          10,
          11,
          12,
          13,
          18,
          15,
          17,
          16,
          12,
          13,
          14,
          19,
          16,
          18,
          17,
          12,
          13,
          14,
          19,
          16,
          18,
          17,
          12,
          13,
          14,
          19,
          16,
          18,
          17,
          12,
          13,
          14,
          19,
          16,
          18,
          17,
          14,
          15,
          20,
          17,
          19,
          18,
          14,
          15,
          20,
          17,
          19,
          18,
          14,
          15,
          20,
          17,
          19,
          18,
          14,
          15,
          20,
          17,
          19,
          18,
          16,
          21,
          18,
          20,
          19,
          16,
          21,
          18,
          20,
          19,
          16,
          21,
          18,
          20,
          19,
          16,
          21,
          18,
          20,
          19,
          22,
          19,
          21,
          20,
          22,
          19,
          21,
          20,
          22,
          19,
          21,
          20,
          22,
          19,
          21,
          20,
          23,
          20,
          22,
          21,
          23,
          20,
          22,
          21,
          23,
          20,
          22,
          21,
          23,
          20,
          22,
          21,
          25,
          26,
          25,
          26,
          25,
          26,
          25,
          26,
          24,
          24,
          24,
          24
         ],
         "xaxis": "x",
         "y": [
          18.175720992622402,
          18.09713905522289,
          19.987187700192184,
          20.306258322237017,
          19.819238218205292,
          20.45901639344262,
          23.31536388140162,
          34.241788958770094,
          29.91508817766166,
          29.08863920099875,
          17.687074829931973,
          18.322147651006713,
          20.51109616677875,
          20.634920634920633,
          19.04127829560586,
          23.026315789473685,
          25.128865979381445,
          32.175622542595015,
          29.24137931034483,
          29.25,
          21.198453608247423,
          18.858733472512178,
          18.65671641791045,
          19.092122830440587,
          20.8418194161575,
          22.032742155525238,
          22.572002679169458,
          34.02268178785857,
          29.56403269754768,
          27.38935214881334,
          19.497282608695652,
          19.195250659630606,
          19.205298013245034,
          18.283093053735257,
          20.606060606060606,
          21.977287909151634,
          23.61553150859325,
          35.409614082599866,
          30.457179652285898,
          30.162866449511398,
          16.972477064220186,
          18.464730290456433,
          16.965428937259926,
          15.113871635610765,
          17.68976897689769,
          16.544362908605738,
          35.5800388852884,
          19.27877947295423,
          25.31477799867462,
          24.94996664442962,
          18.82501579279848,
          16.721744877726373,
          14.779874213836477,
          14.637391882900866,
          16.103896103896105,
          18.05838424983028,
          32.78145695364238,
          21.26476719944406,
          27.90395846852693,
          24.286662242866623,
          18.04054054054054,
          18.12297734627832,
          15.958904109589042,
          17.169069462647442,
          16.5710643722116,
          19.948018193632226,
          29.935483870967744,
          20.672162333544705,
          27.266839378238345,
          21.993569131832796,
          17.700258397932817,
          16.185784658691063,
          14.496644295302014,
          17.733333333333334,
          17.232375979112273,
          17.914438502673796,
          32.015810276679844,
          19.816272965879264,
          26.781002638522427,
          21.994535519125684,
          17.786308381317976,
          16.943734015345267,
          16.368455931080188,
          15.997366688610928,
          17.363344051446948,
          32.475247524752476,
          20.875420875420875,
          24.753127057274522,
          23.83177570093458,
          19.89596879063719,
          15.898463593854375,
          17.463352453792226,
          14.996767937944409,
          17.62322754895341,
          34.009156311314584,
          21.44212523719165,
          25.559322033898308,
          22.898368883312422,
          18.059299191374663,
          16.97467488021903,
          17.141089108910894,
          17.120106171201062,
          17.089452603471294,
          32.43774574049804,
          21.905424200278166,
          27.243172951885562,
          23.16831683168317,
          16.926070038910506,
          18.67007672634271,
          16.30094043887147,
          16.135328562134028,
          19.273927392739274,
          32.80943025540275,
          20.239680426098534,
          25.35760728218466,
          25.116900467601873,
          18.75,
          18.91711229946524,
          18.355263157894736,
          17.747440273037544,
          32.16689098250337,
          19.57708049113233,
          27.102199223803364,
          25.297225891677677,
          18.570427470217236,
          19.542619542619544,
          16.923076923076923,
          18.762343647136273,
          33.511348464619495,
          19.255050505050505,
          26.596445029624753,
          22.101910828025478,
          16.68848167539267,
          19.28665785997358,
          17.011019283746556,
          17.026850032743944,
          31.620553359683797,
          22.459546925566343,
          27.391021470396876,
          23.647711511789183,
          17.670954637779282,
          17.88836583725622,
          17.466666666666665,
          17.828418230563003,
          30.414120841819415,
          21.94955691888207,
          25.579854208084825,
          23.117921385742836,
          18.979987088444158,
          19.646643109540637,
          20.7225630538514,
          31.101813110181308,
          20.644312952005258,
          26.89020381328074,
          24.37908496732026,
          20.15182884748102,
          17.99109980928163,
          19.774386197743862,
          30.627062706270625,
          19.904891304347828,
          26.72413793103448,
          23.405654174884944,
          18.94807821982468,
          19.253058596265294,
          19.08150064683053,
          34.007832898172325,
          21.346801346801346,
          27.290836653386453,
          24.932614555256063,
          20.657276995305164,
          19.523494374586367,
          17.88836583725622,
          33.016304347826086,
          19.667774086378735,
          29.92980216975112,
          24.337517433751742,
          19.45551128818061,
          21.161290322580644,
          32.6517571884984,
          20.83058668424522,
          28.22966507177033,
          22.780678851174933,
          21.437908496732025,
          18.943298969072163,
          31.558185404339252,
          22.62678803641092,
          27.535301668806163,
          24.708926261319533,
          20.542372881355934,
          18.96774193548387,
          27.81456953642384,
          20.836012861736332,
          25.240054869684496,
          25.883922615076717,
          18.770875083500336,
          21.18758434547908,
          32.510288065843625,
          19.877467665078285,
          26.706827309236946,
          21.941747572815533,
          22.777417261518494,
          31.85279187817259,
          23.097826086956523,
          28.99931926480599,
          22.777417261518494,
          21.839080459770116,
          32.2,
          23.691275167785236,
          27.846454131424853,
          20.922459893048128,
          21.0455764075067,
          31.505016722408026,
          22.029372496662216,
          27.31640356897735,
          25.016722408026755,
          23.18454363757495,
          31.050847457627118,
          23.700202565833898,
          26.288659793814436,
          22.679045092838194,
          32.39974538510503,
          25.17845554834523,
          29.545454545454547,
          26.545217957059208,
          33.47427766032417,
          25.35760728218466,
          26.82763246143528,
          25.94142259414226,
          32.50345781466113,
          22.69409422694094,
          26.072607260726073,
          24.75181998676373,
          33.20026613439787,
          23.54152367879204,
          28.061911170928667,
          26.62251655629139,
          33.35597826086957,
          26.76962676962677,
          28.188358404185742,
          27.67379679144385,
          34.705882352941174,
          23.905943827563682,
          29.80392156862745,
          25.82311168495804,
          34.10138248847927,
          24.007682458386682,
          30.869267624914443,
          27.340067340067343,
          32.03074951953876,
          26.58569500674764,
          28.400503778337534,
          25.676567656765677,
          35.053619302949066,
          35.73351278600269,
          33.91123439667129,
          37.46612466124661,
          35.528942115768466,
          36.89320388349515,
          37.898305084745765,
          35.952848722986246,
          32.52084669660039,
          31.82121414276184,
          31.36482939632546,
          31.211498973305957
         ],
         "yaxis": "y"
        },
        {
         "customdata": [
          [
           "['10♠', '2♣']"
          ],
          [
           "['10♠', '2♥']"
          ],
          [
           "['10♠', '2♦']"
          ],
          [
           "['10♠', '3♣']"
          ],
          [
           "['10♠', '3♥']"
          ],
          [
           "['10♠', '3♦']"
          ],
          [
           "['10♠', '4♣']"
          ],
          [
           "['10♠', '4♥']"
          ],
          [
           "['10♠', '4♦']"
          ],
          [
           "['10♠', '5♣']"
          ],
          [
           "['10♠', '5♥']"
          ],
          [
           "['10♠', '5♦']"
          ],
          [
           "['10♠', '6♣']"
          ],
          [
           "['10♠', '6♥']"
          ],
          [
           "['10♠', '6♦']"
          ],
          [
           "['10♠', '7♣']"
          ],
          [
           "['10♠', '7♥']"
          ],
          [
           "['10♠', '7♦']"
          ],
          [
           "['10♠', '8♣']"
          ],
          [
           "['10♠', '8♥']"
          ],
          [
           "['10♠', '8♦']"
          ],
          [
           "['10♠', 'A♣']"
          ],
          [
           "['10♠', 'A♥']"
          ],
          [
           "['10♠', 'A♦']"
          ],
          [
           "['10♠', 'K♣']"
          ],
          [
           "['10♠', 'K♥']"
          ],
          [
           "['10♠', 'K♦']"
          ],
          [
           "['10♠', 'Q♣']"
          ],
          [
           "['10♠', 'Q♥']"
          ],
          [
           "['10♠', 'Q♦']"
          ],
          [
           "['10♣', '2♠']"
          ],
          [
           "['10♣', '2♥']"
          ],
          [
           "['10♣', '2♦']"
          ],
          [
           "['10♣', '3♠']"
          ],
          [
           "['10♣', '3♥']"
          ],
          [
           "['10♣', '3♦']"
          ],
          [
           "['10♣', '4♠']"
          ],
          [
           "['10♣', '4♥']"
          ],
          [
           "['10♣', '4♦']"
          ],
          [
           "['10♣', '5♠']"
          ],
          [
           "['10♣', '5♥']"
          ],
          [
           "['10♣', '5♦']"
          ],
          [
           "['10♣', '6♠']"
          ],
          [
           "['10♣', '6♥']"
          ],
          [
           "['10♣', '6♦']"
          ],
          [
           "['10♣', '7♠']"
          ],
          [
           "['10♣', '7♥']"
          ],
          [
           "['10♣', '7♦']"
          ],
          [
           "['10♣', '8♠']"
          ],
          [
           "['10♣', '8♥']"
          ],
          [
           "['10♣', '8♦']"
          ],
          [
           "['10♣', 'A♠']"
          ],
          [
           "['10♣', 'A♥']"
          ],
          [
           "['10♣', 'A♦']"
          ],
          [
           "['10♣', 'K♠']"
          ],
          [
           "['10♣', 'K♥']"
          ],
          [
           "['10♣', 'K♦']"
          ],
          [
           "['10♣', 'Q♠']"
          ],
          [
           "['10♣', 'Q♥']"
          ],
          [
           "['10♣', 'Q♦']"
          ],
          [
           "['10♥', '2♠']"
          ],
          [
           "['10♥', '2♣']"
          ],
          [
           "['10♥', '2♦']"
          ],
          [
           "['10♥', '3♠']"
          ],
          [
           "['10♥', '3♣']"
          ],
          [
           "['10♥', '3♦']"
          ],
          [
           "['10♥', '4♠']"
          ],
          [
           "['10♥', '4♣']"
          ],
          [
           "['10♥', '4♦']"
          ],
          [
           "['10♥', '5♠']"
          ],
          [
           "['10♥', '5♣']"
          ],
          [
           "['10♥', '5♦']"
          ],
          [
           "['10♥', '6♠']"
          ],
          [
           "['10♥', '6♣']"
          ],
          [
           "['10♥', '6♦']"
          ],
          [
           "['10♥', '7♠']"
          ],
          [
           "['10♥', '7♣']"
          ],
          [
           "['10♥', '7♦']"
          ],
          [
           "['10♥', '8♠']"
          ],
          [
           "['10♥', '8♣']"
          ],
          [
           "['10♥', '8♦']"
          ],
          [
           "['10♥', 'A♠']"
          ],
          [
           "['10♥', 'A♣']"
          ],
          [
           "['10♥', 'A♦']"
          ],
          [
           "['10♥', 'K♠']"
          ],
          [
           "['10♥', 'K♣']"
          ],
          [
           "['10♥', 'K♦']"
          ],
          [
           "['10♥', 'Q♠']"
          ],
          [
           "['10♥', 'Q♣']"
          ],
          [
           "['10♥', 'Q♦']"
          ],
          [
           "['10♦', '2♠']"
          ],
          [
           "['10♦', '2♣']"
          ],
          [
           "['10♦', '2♥']"
          ],
          [
           "['10♦', '3♠']"
          ],
          [
           "['10♦', '3♣']"
          ],
          [
           "['10♦', '3♥']"
          ],
          [
           "['10♦', '4♠']"
          ],
          [
           "['10♦', '4♣']"
          ],
          [
           "['10♦', '4♥']"
          ],
          [
           "['10♦', '5♠']"
          ],
          [
           "['10♦', '5♣']"
          ],
          [
           "['10♦', '5♥']"
          ],
          [
           "['10♦', '6♠']"
          ],
          [
           "['10♦', '6♣']"
          ],
          [
           "['10♦', '6♥']"
          ],
          [
           "['10♦', '7♠']"
          ],
          [
           "['10♦', '7♣']"
          ],
          [
           "['10♦', '7♥']"
          ],
          [
           "['10♦', '8♠']"
          ],
          [
           "['10♦', '8♣']"
          ],
          [
           "['10♦', '8♥']"
          ],
          [
           "['10♦', 'A♠']"
          ],
          [
           "['10♦', 'A♣']"
          ],
          [
           "['10♦', 'A♥']"
          ],
          [
           "['10♦', 'K♠']"
          ],
          [
           "['10♦', 'K♣']"
          ],
          [
           "['10♦', 'K♥']"
          ],
          [
           "['10♦', 'Q♠']"
          ],
          [
           "['10♦', 'Q♣']"
          ],
          [
           "['10♦', 'Q♥']"
          ],
          [
           "['2♠', '4♣']"
          ],
          [
           "['2♠', '4♥']"
          ],
          [
           "['2♠', '4♦']"
          ],
          [
           "['2♠', '5♣']"
          ],
          [
           "['2♠', '5♥']"
          ],
          [
           "['2♠', '5♦']"
          ],
          [
           "['2♠', '6♣']"
          ],
          [
           "['2♠', '6♥']"
          ],
          [
           "['2♠', '6♦']"
          ],
          [
           "['2♠', '7♣']"
          ],
          [
           "['2♠', '7♥']"
          ],
          [
           "['2♠', '7♦']"
          ],
          [
           "['2♠', '8♣']"
          ],
          [
           "['2♠', '8♥']"
          ],
          [
           "['2♠', '8♦']"
          ],
          [
           "['2♠', '9♣']"
          ],
          [
           "['2♠', '9♥']"
          ],
          [
           "['2♠', '9♦']"
          ],
          [
           "['2♠', 'A♣']"
          ],
          [
           "['2♠', 'A♥']"
          ],
          [
           "['2♠', 'A♦']"
          ],
          [
           "['2♠', 'J♣']"
          ],
          [
           "['2♠', 'J♥']"
          ],
          [
           "['2♠', 'J♦']"
          ],
          [
           "['2♠', 'K♣']"
          ],
          [
           "['2♠', 'K♥']"
          ],
          [
           "['2♠', 'K♦']"
          ],
          [
           "['2♠', 'Q♣']"
          ],
          [
           "['2♠', 'Q♥']"
          ],
          [
           "['2♠', 'Q♦']"
          ],
          [
           "['2♣', '4♠']"
          ],
          [
           "['2♣', '4♥']"
          ],
          [
           "['2♣', '4♦']"
          ],
          [
           "['2♣', '5♠']"
          ],
          [
           "['2♣', '5♥']"
          ],
          [
           "['2♣', '5♦']"
          ],
          [
           "['2♣', '6♠']"
          ],
          [
           "['2♣', '6♥']"
          ],
          [
           "['2♣', '6♦']"
          ],
          [
           "['2♣', '7♠']"
          ],
          [
           "['2♣', '7♥']"
          ],
          [
           "['2♣', '7♦']"
          ],
          [
           "['2♣', '8♠']"
          ],
          [
           "['2♣', '8♥']"
          ],
          [
           "['2♣', '8♦']"
          ],
          [
           "['2♣', '9♠']"
          ],
          [
           "['2♣', '9♥']"
          ],
          [
           "['2♣', '9♦']"
          ],
          [
           "['2♣', 'A♠']"
          ],
          [
           "['2♣', 'A♥']"
          ],
          [
           "['2♣', 'A♦']"
          ],
          [
           "['2♣', 'J♠']"
          ],
          [
           "['2♣', 'J♥']"
          ],
          [
           "['2♣', 'J♦']"
          ],
          [
           "['2♣', 'K♠']"
          ],
          [
           "['2♣', 'K♥']"
          ],
          [
           "['2♣', 'K♦']"
          ],
          [
           "['2♣', 'Q♠']"
          ],
          [
           "['2♣', 'Q♥']"
          ],
          [
           "['2♣', 'Q♦']"
          ],
          [
           "['2♥', '4♠']"
          ],
          [
           "['2♥', '4♣']"
          ],
          [
           "['2♥', '4♦']"
          ],
          [
           "['2♥', '5♠']"
          ],
          [
           "['2♥', '5♣']"
          ],
          [
           "['2♥', '5♦']"
          ],
          [
           "['2♥', '6♠']"
          ],
          [
           "['2♥', '6♣']"
          ],
          [
           "['2♥', '6♦']"
          ],
          [
           "['2♥', '7♠']"
          ],
          [
           "['2♥', '7♣']"
          ],
          [
           "['2♥', '7♦']"
          ],
          [
           "['2♥', '8♠']"
          ],
          [
           "['2♥', '8♣']"
          ],
          [
           "['2♥', '8♦']"
          ],
          [
           "['2♥', '9♠']"
          ],
          [
           "['2♥', '9♣']"
          ],
          [
           "['2♥', '9♦']"
          ],
          [
           "['2♥', 'A♠']"
          ],
          [
           "['2♥', 'A♣']"
          ],
          [
           "['2♥', 'A♦']"
          ],
          [
           "['2♥', 'J♠']"
          ],
          [
           "['2♥', 'J♣']"
          ],
          [
           "['2♥', 'J♦']"
          ],
          [
           "['2♥', 'K♠']"
          ],
          [
           "['2♥', 'K♣']"
          ],
          [
           "['2♥', 'K♦']"
          ],
          [
           "['2♥', 'Q♠']"
          ],
          [
           "['2♥', 'Q♣']"
          ],
          [
           "['2♥', 'Q♦']"
          ],
          [
           "['2♦', '4♠']"
          ],
          [
           "['2♦', '4♣']"
          ],
          [
           "['2♦', '4♥']"
          ],
          [
           "['2♦', '5♠']"
          ],
          [
           "['2♦', '5♣']"
          ],
          [
           "['2♦', '5♥']"
          ],
          [
           "['2♦', '6♠']"
          ],
          [
           "['2♦', '6♣']"
          ],
          [
           "['2♦', '6♥']"
          ],
          [
           "['2♦', '7♠']"
          ],
          [
           "['2♦', '7♣']"
          ],
          [
           "['2♦', '7♥']"
          ],
          [
           "['2♦', '8♠']"
          ],
          [
           "['2♦', '8♣']"
          ],
          [
           "['2♦', '8♥']"
          ],
          [
           "['2♦', '9♠']"
          ],
          [
           "['2♦', '9♣']"
          ],
          [
           "['2♦', '9♥']"
          ],
          [
           "['2♦', 'A♠']"
          ],
          [
           "['2♦', 'A♣']"
          ],
          [
           "['2♦', 'A♥']"
          ],
          [
           "['2♦', 'J♠']"
          ],
          [
           "['2♦', 'J♣']"
          ],
          [
           "['2♦', 'J♥']"
          ],
          [
           "['2♦', 'K♠']"
          ],
          [
           "['2♦', 'K♣']"
          ],
          [
           "['2♦', 'K♥']"
          ],
          [
           "['2♦', 'Q♠']"
          ],
          [
           "['2♦', 'Q♣']"
          ],
          [
           "['2♦', 'Q♥']"
          ],
          [
           "['3♠', '5♣']"
          ],
          [
           "['3♠', '5♥']"
          ],
          [
           "['3♠', '5♦']"
          ],
          [
           "['3♠', '6♣']"
          ],
          [
           "['3♠', '6♥']"
          ],
          [
           "['3♠', '6♦']"
          ],
          [
           "['3♠', '7♣']"
          ],
          [
           "['3♠', '7♥']"
          ],
          [
           "['3♠', '7♦']"
          ],
          [
           "['3♠', '8♣']"
          ],
          [
           "['3♠', '8♥']"
          ],
          [
           "['3♠', '8♦']"
          ],
          [
           "['3♠', '9♣']"
          ],
          [
           "['3♠', '9♥']"
          ],
          [
           "['3♠', '9♦']"
          ],
          [
           "['3♠', 'A♣']"
          ],
          [
           "['3♠', 'A♥']"
          ],
          [
           "['3♠', 'A♦']"
          ],
          [
           "['3♠', 'J♣']"
          ],
          [
           "['3♠', 'J♥']"
          ],
          [
           "['3♠', 'J♦']"
          ],
          [
           "['3♠', 'K♣']"
          ],
          [
           "['3♠', 'K♥']"
          ],
          [
           "['3♠', 'K♦']"
          ],
          [
           "['3♠', 'Q♣']"
          ],
          [
           "['3♠', 'Q♥']"
          ],
          [
           "['3♠', 'Q♦']"
          ],
          [
           "['3♣', '5♠']"
          ],
          [
           "['3♣', '5♥']"
          ],
          [
           "['3♣', '5♦']"
          ],
          [
           "['3♣', '6♠']"
          ],
          [
           "['3♣', '6♥']"
          ],
          [
           "['3♣', '6♦']"
          ],
          [
           "['3♣', '7♠']"
          ],
          [
           "['3♣', '7♥']"
          ],
          [
           "['3♣', '7♦']"
          ],
          [
           "['3♣', '8♠']"
          ],
          [
           "['3♣', '8♥']"
          ],
          [
           "['3♣', '8♦']"
          ],
          [
           "['3♣', '9♠']"
          ],
          [
           "['3♣', '9♥']"
          ],
          [
           "['3♣', '9♦']"
          ],
          [
           "['3♣', 'A♠']"
          ],
          [
           "['3♣', 'A♥']"
          ],
          [
           "['3♣', 'A♦']"
          ],
          [
           "['3♣', 'J♠']"
          ],
          [
           "['3♣', 'J♥']"
          ],
          [
           "['3♣', 'J♦']"
          ],
          [
           "['3♣', 'K♠']"
          ],
          [
           "['3♣', 'K♥']"
          ],
          [
           "['3♣', 'K♦']"
          ],
          [
           "['3♣', 'Q♠']"
          ],
          [
           "['3♣', 'Q♥']"
          ],
          [
           "['3♣', 'Q♦']"
          ],
          [
           "['3♥', '5♠']"
          ],
          [
           "['3♥', '5♣']"
          ],
          [
           "['3♥', '5♦']"
          ],
          [
           "['3♥', '6♠']"
          ],
          [
           "['3♥', '6♣']"
          ],
          [
           "['3♥', '6♦']"
          ],
          [
           "['3♥', '7♠']"
          ],
          [
           "['3♥', '7♣']"
          ],
          [
           "['3♥', '7♦']"
          ],
          [
           "['3♥', '8♠']"
          ],
          [
           "['3♥', '8♣']"
          ],
          [
           "['3♥', '8♦']"
          ],
          [
           "['3♥', '9♠']"
          ],
          [
           "['3♥', '9♣']"
          ],
          [
           "['3♥', '9♦']"
          ],
          [
           "['3♥', 'A♠']"
          ],
          [
           "['3♥', 'A♣']"
          ],
          [
           "['3♥', 'A♦']"
          ],
          [
           "['3♥', 'J♠']"
          ],
          [
           "['3♥', 'J♣']"
          ],
          [
           "['3♥', 'J♦']"
          ],
          [
           "['3♥', 'K♠']"
          ],
          [
           "['3♥', 'K♣']"
          ],
          [
           "['3♥', 'K♦']"
          ],
          [
           "['3♥', 'Q♠']"
          ],
          [
           "['3♥', 'Q♣']"
          ],
          [
           "['3♥', 'Q♦']"
          ],
          [
           "['3♦', '5♠']"
          ],
          [
           "['3♦', '5♣']"
          ],
          [
           "['3♦', '5♥']"
          ],
          [
           "['3♦', '6♠']"
          ],
          [
           "['3♦', '6♣']"
          ],
          [
           "['3♦', '6♥']"
          ],
          [
           "['3♦', '7♠']"
          ],
          [
           "['3♦', '7♣']"
          ],
          [
           "['3♦', '7♥']"
          ],
          [
           "['3♦', '8♠']"
          ],
          [
           "['3♦', '8♣']"
          ],
          [
           "['3♦', '8♥']"
          ],
          [
           "['3♦', '9♠']"
          ],
          [
           "['3♦', '9♣']"
          ],
          [
           "['3♦', '9♥']"
          ],
          [
           "['3♦', 'A♠']"
          ],
          [
           "['3♦', 'A♣']"
          ],
          [
           "['3♦', 'A♥']"
          ],
          [
           "['3♦', 'J♠']"
          ],
          [
           "['3♦', 'J♣']"
          ],
          [
           "['3♦', 'J♥']"
          ],
          [
           "['3♦', 'K♠']"
          ],
          [
           "['3♦', 'K♣']"
          ],
          [
           "['3♦', 'K♥']"
          ],
          [
           "['3♦', 'Q♠']"
          ],
          [
           "['3♦', 'Q♣']"
          ],
          [
           "['3♦', 'Q♥']"
          ],
          [
           "['4♠', '6♣']"
          ],
          [
           "['4♠', '6♥']"
          ],
          [
           "['4♠', '6♦']"
          ],
          [
           "['4♠', '7♣']"
          ],
          [
           "['4♠', '7♥']"
          ],
          [
           "['4♠', '7♦']"
          ],
          [
           "['4♠', '8♣']"
          ],
          [
           "['4♠', '8♥']"
          ],
          [
           "['4♠', '8♦']"
          ],
          [
           "['4♠', '9♣']"
          ],
          [
           "['4♠', '9♥']"
          ],
          [
           "['4♠', '9♦']"
          ],
          [
           "['4♠', 'A♣']"
          ],
          [
           "['4♠', 'A♥']"
          ],
          [
           "['4♠', 'A♦']"
          ],
          [
           "['4♠', 'J♣']"
          ],
          [
           "['4♠', 'J♥']"
          ],
          [
           "['4♠', 'J♦']"
          ],
          [
           "['4♠', 'K♣']"
          ],
          [
           "['4♠', 'K♥']"
          ],
          [
           "['4♠', 'K♦']"
          ],
          [
           "['4♠', 'Q♣']"
          ],
          [
           "['4♠', 'Q♥']"
          ],
          [
           "['4♠', 'Q♦']"
          ],
          [
           "['4♣', '6♠']"
          ],
          [
           "['4♣', '6♥']"
          ],
          [
           "['4♣', '6♦']"
          ],
          [
           "['4♣', '7♠']"
          ],
          [
           "['4♣', '7♥']"
          ],
          [
           "['4♣', '7♦']"
          ],
          [
           "['4♣', '8♠']"
          ],
          [
           "['4♣', '8♥']"
          ],
          [
           "['4♣', '8♦']"
          ],
          [
           "['4♣', '9♠']"
          ],
          [
           "['4♣', '9♥']"
          ],
          [
           "['4♣', '9♦']"
          ],
          [
           "['4♣', 'A♠']"
          ],
          [
           "['4♣', 'A♥']"
          ],
          [
           "['4♣', 'A♦']"
          ],
          [
           "['4♣', 'J♠']"
          ],
          [
           "['4♣', 'J♥']"
          ],
          [
           "['4♣', 'J♦']"
          ],
          [
           "['4♣', 'K♠']"
          ],
          [
           "['4♣', 'K♥']"
          ],
          [
           "['4♣', 'K♦']"
          ],
          [
           "['4♣', 'Q♠']"
          ],
          [
           "['4♣', 'Q♥']"
          ],
          [
           "['4♣', 'Q♦']"
          ],
          [
           "['4♥', '6♠']"
          ],
          [
           "['4♥', '6♣']"
          ],
          [
           "['4♥', '6♦']"
          ],
          [
           "['4♥', '7♠']"
          ],
          [
           "['4♥', '7♣']"
          ],
          [
           "['4♥', '7♦']"
          ],
          [
           "['4♥', '8♠']"
          ],
          [
           "['4♥', '8♣']"
          ],
          [
           "['4♥', '8♦']"
          ],
          [
           "['4♥', '9♠']"
          ],
          [
           "['4♥', '9♣']"
          ],
          [
           "['4♥', '9♦']"
          ],
          [
           "['4♥', 'A♠']"
          ],
          [
           "['4♥', 'A♣']"
          ],
          [
           "['4♥', 'A♦']"
          ],
          [
           "['4♥', 'J♠']"
          ],
          [
           "['4♥', 'J♣']"
          ],
          [
           "['4♥', 'J♦']"
          ],
          [
           "['4♥', 'K♠']"
          ],
          [
           "['4♥', 'K♣']"
          ],
          [
           "['4♥', 'K♦']"
          ],
          [
           "['4♥', 'Q♠']"
          ],
          [
           "['4♥', 'Q♣']"
          ],
          [
           "['4♥', 'Q♦']"
          ],
          [
           "['4♦', '6♠']"
          ],
          [
           "['4♦', '6♣']"
          ],
          [
           "['4♦', '6♥']"
          ],
          [
           "['4♦', '7♠']"
          ],
          [
           "['4♦', '7♣']"
          ],
          [
           "['4♦', '7♥']"
          ],
          [
           "['4♦', '8♠']"
          ],
          [
           "['4♦', '8♣']"
          ],
          [
           "['4♦', '8♥']"
          ],
          [
           "['4♦', '9♠']"
          ],
          [
           "['4♦', '9♣']"
          ],
          [
           "['4♦', '9♥']"
          ],
          [
           "['4♦', 'A♠']"
          ],
          [
           "['4♦', 'A♣']"
          ],
          [
           "['4♦', 'A♥']"
          ],
          [
           "['4♦', 'J♠']"
          ],
          [
           "['4♦', 'J♣']"
          ],
          [
           "['4♦', 'J♥']"
          ],
          [
           "['4♦', 'K♠']"
          ],
          [
           "['4♦', 'K♣']"
          ],
          [
           "['4♦', 'K♥']"
          ],
          [
           "['4♦', 'Q♠']"
          ],
          [
           "['4♦', 'Q♣']"
          ],
          [
           "['4♦', 'Q♥']"
          ],
          [
           "['5♠', '7♣']"
          ],
          [
           "['5♠', '7♥']"
          ],
          [
           "['5♠', '7♦']"
          ],
          [
           "['5♠', '8♣']"
          ],
          [
           "['5♠', '8♥']"
          ],
          [
           "['5♠', '8♦']"
          ],
          [
           "['5♠', '9♣']"
          ],
          [
           "['5♠', '9♥']"
          ],
          [
           "['5♠', '9♦']"
          ],
          [
           "['5♠', 'A♣']"
          ],
          [
           "['5♠', 'A♥']"
          ],
          [
           "['5♠', 'A♦']"
          ],
          [
           "['5♠', 'J♣']"
          ],
          [
           "['5♠', 'J♥']"
          ],
          [
           "['5♠', 'J♦']"
          ],
          [
           "['5♠', 'K♣']"
          ],
          [
           "['5♠', 'K♥']"
          ],
          [
           "['5♠', 'K♦']"
          ],
          [
           "['5♠', 'Q♣']"
          ],
          [
           "['5♠', 'Q♥']"
          ],
          [
           "['5♠', 'Q♦']"
          ],
          [
           "['5♣', '7♠']"
          ],
          [
           "['5♣', '7♥']"
          ],
          [
           "['5♣', '7♦']"
          ],
          [
           "['5♣', '8♠']"
          ],
          [
           "['5♣', '8♥']"
          ],
          [
           "['5♣', '8♦']"
          ],
          [
           "['5♣', '9♠']"
          ],
          [
           "['5♣', '9♥']"
          ],
          [
           "['5♣', '9♦']"
          ],
          [
           "['5♣', 'A♠']"
          ],
          [
           "['5♣', 'A♥']"
          ],
          [
           "['5♣', 'A♦']"
          ],
          [
           "['5♣', 'J♠']"
          ],
          [
           "['5♣', 'J♥']"
          ],
          [
           "['5♣', 'J♦']"
          ],
          [
           "['5♣', 'K♠']"
          ],
          [
           "['5♣', 'K♥']"
          ],
          [
           "['5♣', 'K♦']"
          ],
          [
           "['5♣', 'Q♠']"
          ],
          [
           "['5♣', 'Q♥']"
          ],
          [
           "['5♣', 'Q♦']"
          ],
          [
           "['5♥', '7♠']"
          ],
          [
           "['5♥', '7♣']"
          ],
          [
           "['5♥', '7♦']"
          ],
          [
           "['5♥', '8♠']"
          ],
          [
           "['5♥', '8♣']"
          ],
          [
           "['5♥', '8♦']"
          ],
          [
           "['5♥', '9♠']"
          ],
          [
           "['5♥', '9♣']"
          ],
          [
           "['5♥', '9♦']"
          ],
          [
           "['5♥', 'A♠']"
          ],
          [
           "['5♥', 'A♣']"
          ],
          [
           "['5♥', 'A♦']"
          ],
          [
           "['5♥', 'J♠']"
          ],
          [
           "['5♥', 'J♣']"
          ],
          [
           "['5♥', 'J♦']"
          ],
          [
           "['5♥', 'K♠']"
          ],
          [
           "['5♥', 'K♣']"
          ],
          [
           "['5♥', 'K♦']"
          ],
          [
           "['5♥', 'Q♠']"
          ],
          [
           "['5♥', 'Q♣']"
          ],
          [
           "['5♥', 'Q♦']"
          ],
          [
           "['5♦', '7♠']"
          ],
          [
           "['5♦', '7♣']"
          ],
          [
           "['5♦', '7♥']"
          ],
          [
           "['5♦', '8♠']"
          ],
          [
           "['5♦', '8♣']"
          ],
          [
           "['5♦', '8♥']"
          ],
          [
           "['5♦', '9♠']"
          ],
          [
           "['5♦', '9♣']"
          ],
          [
           "['5♦', '9♥']"
          ],
          [
           "['5♦', 'A♠']"
          ],
          [
           "['5♦', 'A♣']"
          ],
          [
           "['5♦', 'A♥']"
          ],
          [
           "['5♦', 'J♠']"
          ],
          [
           "['5♦', 'J♣']"
          ],
          [
           "['5♦', 'J♥']"
          ],
          [
           "['5♦', 'K♠']"
          ],
          [
           "['5♦', 'K♣']"
          ],
          [
           "['5♦', 'K♥']"
          ],
          [
           "['5♦', 'Q♠']"
          ],
          [
           "['5♦', 'Q♣']"
          ],
          [
           "['5♦', 'Q♥']"
          ],
          [
           "['6♠', '8♣']"
          ],
          [
           "['6♠', '8♥']"
          ],
          [
           "['6♠', '8♦']"
          ],
          [
           "['6♠', '9♣']"
          ],
          [
           "['6♠', '9♥']"
          ],
          [
           "['6♠', '9♦']"
          ],
          [
           "['6♠', 'A♣']"
          ],
          [
           "['6♠', 'A♥']"
          ],
          [
           "['6♠', 'A♦']"
          ],
          [
           "['6♠', 'J♣']"
          ],
          [
           "['6♠', 'J♥']"
          ],
          [
           "['6♠', 'J♦']"
          ],
          [
           "['6♠', 'K♣']"
          ],
          [
           "['6♠', 'K♥']"
          ],
          [
           "['6♠', 'K♦']"
          ],
          [
           "['6♠', 'Q♣']"
          ],
          [
           "['6♠', 'Q♥']"
          ],
          [
           "['6♠', 'Q♦']"
          ],
          [
           "['6♣', '8♠']"
          ],
          [
           "['6♣', '8♥']"
          ],
          [
           "['6♣', '8♦']"
          ],
          [
           "['6♣', '9♠']"
          ],
          [
           "['6♣', '9♥']"
          ],
          [
           "['6♣', '9♦']"
          ],
          [
           "['6♣', 'A♠']"
          ],
          [
           "['6♣', 'A♥']"
          ],
          [
           "['6♣', 'A♦']"
          ],
          [
           "['6♣', 'J♠']"
          ],
          [
           "['6♣', 'J♥']"
          ],
          [
           "['6♣', 'J♦']"
          ],
          [
           "['6♣', 'K♠']"
          ],
          [
           "['6♣', 'K♥']"
          ],
          [
           "['6♣', 'K♦']"
          ],
          [
           "['6♣', 'Q♠']"
          ],
          [
           "['6♣', 'Q♥']"
          ],
          [
           "['6♣', 'Q♦']"
          ],
          [
           "['6♥', '8♠']"
          ],
          [
           "['6♥', '8♣']"
          ],
          [
           "['6♥', '8♦']"
          ],
          [
           "['6♥', '9♠']"
          ],
          [
           "['6♥', '9♣']"
          ],
          [
           "['6♥', '9♦']"
          ],
          [
           "['6♥', 'A♠']"
          ],
          [
           "['6♥', 'A♣']"
          ],
          [
           "['6♥', 'A♦']"
          ],
          [
           "['6♥', 'J♠']"
          ],
          [
           "['6♥', 'J♣']"
          ],
          [
           "['6♥', 'J♦']"
          ],
          [
           "['6♥', 'K♠']"
          ],
          [
           "['6♥', 'K♣']"
          ],
          [
           "['6♥', 'K♦']"
          ],
          [
           "['6♥', 'Q♠']"
          ],
          [
           "['6♥', 'Q♣']"
          ],
          [
           "['6♥', 'Q♦']"
          ],
          [
           "['6♦', '8♠']"
          ],
          [
           "['6♦', '8♣']"
          ],
          [
           "['6♦', '8♥']"
          ],
          [
           "['6♦', '9♠']"
          ],
          [
           "['6♦', '9♣']"
          ],
          [
           "['6♦', '9♥']"
          ],
          [
           "['6♦', 'A♠']"
          ],
          [
           "['6♦', 'A♣']"
          ],
          [
           "['6♦', 'A♥']"
          ],
          [
           "['6♦', 'J♠']"
          ],
          [
           "['6♦', 'J♣']"
          ],
          [
           "['6♦', 'J♥']"
          ],
          [
           "['6♦', 'K♠']"
          ],
          [
           "['6♦', 'K♣']"
          ],
          [
           "['6♦', 'K♥']"
          ],
          [
           "['6♦', 'Q♠']"
          ],
          [
           "['6♦', 'Q♣']"
          ],
          [
           "['6♦', 'Q♥']"
          ],
          [
           "['7♠', '9♣']"
          ],
          [
           "['7♠', '9♥']"
          ],
          [
           "['7♠', '9♦']"
          ],
          [
           "['7♠', 'A♣']"
          ],
          [
           "['7♠', 'A♥']"
          ],
          [
           "['7♠', 'A♦']"
          ],
          [
           "['7♠', 'J♣']"
          ],
          [
           "['7♠', 'J♥']"
          ],
          [
           "['7♠', 'J♦']"
          ],
          [
           "['7♠', 'K♣']"
          ],
          [
           "['7♠', 'K♥']"
          ],
          [
           "['7♠', 'K♦']"
          ],
          [
           "['7♠', 'Q♣']"
          ],
          [
           "['7♠', 'Q♥']"
          ],
          [
           "['7♠', 'Q♦']"
          ],
          [
           "['7♣', '9♠']"
          ],
          [
           "['7♣', '9♥']"
          ],
          [
           "['7♣', '9♦']"
          ],
          [
           "['7♣', 'A♠']"
          ],
          [
           "['7♣', 'A♥']"
          ],
          [
           "['7♣', 'A♦']"
          ],
          [
           "['7♣', 'J♠']"
          ],
          [
           "['7♣', 'J♥']"
          ],
          [
           "['7♣', 'J♦']"
          ],
          [
           "['7♣', 'K♠']"
          ],
          [
           "['7♣', 'K♥']"
          ],
          [
           "['7♣', 'K♦']"
          ],
          [
           "['7♣', 'Q♠']"
          ],
          [
           "['7♣', 'Q♥']"
          ],
          [
           "['7♣', 'Q♦']"
          ],
          [
           "['7♥', '9♠']"
          ],
          [
           "['7♥', '9♣']"
          ],
          [
           "['7♥', '9♦']"
          ],
          [
           "['7♥', 'A♠']"
          ],
          [
           "['7♥', 'A♣']"
          ],
          [
           "['7♥', 'A♦']"
          ],
          [
           "['7♥', 'J♠']"
          ],
          [
           "['7♥', 'J♣']"
          ],
          [
           "['7♥', 'J♦']"
          ],
          [
           "['7♥', 'K♠']"
          ],
          [
           "['7♥', 'K♣']"
          ],
          [
           "['7♥', 'K♦']"
          ],
          [
           "['7♥', 'Q♠']"
          ],
          [
           "['7♥', 'Q♣']"
          ],
          [
           "['7♥', 'Q♦']"
          ],
          [
           "['7♦', '9♠']"
          ],
          [
           "['7♦', '9♣']"
          ],
          [
           "['7♦', '9♥']"
          ],
          [
           "['7♦', 'A♠']"
          ],
          [
           "['7♦', 'A♣']"
          ],
          [
           "['7♦', 'A♥']"
          ],
          [
           "['7♦', 'J♠']"
          ],
          [
           "['7♦', 'J♣']"
          ],
          [
           "['7♦', 'J♥']"
          ],
          [
           "['7♦', 'K♠']"
          ],
          [
           "['7♦', 'K♣']"
          ],
          [
           "['7♦', 'K♥']"
          ],
          [
           "['7♦', 'Q♠']"
          ],
          [
           "['7♦', 'Q♣']"
          ],
          [
           "['7♦', 'Q♥']"
          ],
          [
           "['8♠', 'A♣']"
          ],
          [
           "['8♠', 'A♥']"
          ],
          [
           "['8♠', 'A♦']"
          ],
          [
           "['8♠', 'J♣']"
          ],
          [
           "['8♠', 'J♥']"
          ],
          [
           "['8♠', 'J♦']"
          ],
          [
           "['8♠', 'K♣']"
          ],
          [
           "['8♠', 'K♥']"
          ],
          [
           "['8♠', 'K♦']"
          ],
          [
           "['8♠', 'Q♣']"
          ],
          [
           "['8♠', 'Q♥']"
          ],
          [
           "['8♠', 'Q♦']"
          ],
          [
           "['8♣', 'A♠']"
          ],
          [
           "['8♣', 'A♥']"
          ],
          [
           "['8♣', 'A♦']"
          ],
          [
           "['8♣', 'J♠']"
          ],
          [
           "['8♣', 'J♥']"
          ],
          [
           "['8♣', 'J♦']"
          ],
          [
           "['8♣', 'K♠']"
          ],
          [
           "['8♣', 'K♥']"
          ],
          [
           "['8♣', 'K♦']"
          ],
          [
           "['8♣', 'Q♠']"
          ],
          [
           "['8♣', 'Q♥']"
          ],
          [
           "['8♣', 'Q♦']"
          ],
          [
           "['8♥', 'A♠']"
          ],
          [
           "['8♥', 'A♣']"
          ],
          [
           "['8♥', 'A♦']"
          ],
          [
           "['8♥', 'J♠']"
          ],
          [
           "['8♥', 'J♣']"
          ],
          [
           "['8♥', 'J♦']"
          ],
          [
           "['8♥', 'K♠']"
          ],
          [
           "['8♥', 'K♣']"
          ],
          [
           "['8♥', 'K♦']"
          ],
          [
           "['8♥', 'Q♠']"
          ],
          [
           "['8♥', 'Q♣']"
          ],
          [
           "['8♥', 'Q♦']"
          ],
          [
           "['8♦', 'A♠']"
          ],
          [
           "['8♦', 'A♣']"
          ],
          [
           "['8♦', 'A♥']"
          ],
          [
           "['8♦', 'J♠']"
          ],
          [
           "['8♦', 'J♣']"
          ],
          [
           "['8♦', 'J♥']"
          ],
          [
           "['8♦', 'K♠']"
          ],
          [
           "['8♦', 'K♣']"
          ],
          [
           "['8♦', 'K♥']"
          ],
          [
           "['8♦', 'Q♠']"
          ],
          [
           "['8♦', 'Q♣']"
          ],
          [
           "['8♦', 'Q♥']"
          ],
          [
           "['9♠', 'A♣']"
          ],
          [
           "['9♠', 'A♥']"
          ],
          [
           "['9♠', 'A♦']"
          ],
          [
           "['9♠', 'J♣']"
          ],
          [
           "['9♠', 'J♥']"
          ],
          [
           "['9♠', 'J♦']"
          ],
          [
           "['9♠', 'K♣']"
          ],
          [
           "['9♠', 'K♥']"
          ],
          [
           "['9♠', 'K♦']"
          ],
          [
           "['9♠', 'Q♣']"
          ],
          [
           "['9♠', 'Q♥']"
          ],
          [
           "['9♠', 'Q♦']"
          ],
          [
           "['9♣', 'A♠']"
          ],
          [
           "['9♣', 'A♥']"
          ],
          [
           "['9♣', 'A♦']"
          ],
          [
           "['9♣', 'J♠']"
          ],
          [
           "['9♣', 'J♥']"
          ],
          [
           "['9♣', 'J♦']"
          ],
          [
           "['9♣', 'K♠']"
          ],
          [
           "['9♣', 'K♥']"
          ],
          [
           "['9♣', 'K♦']"
          ],
          [
           "['9♣', 'Q♠']"
          ],
          [
           "['9♣', 'Q♥']"
          ],
          [
           "['9♣', 'Q♦']"
          ],
          [
           "['9♥', 'A♠']"
          ],
          [
           "['9♥', 'A♣']"
          ],
          [
           "['9♥', 'A♦']"
          ],
          [
           "['9♥', 'J♠']"
          ],
          [
           "['9♥', 'J♣']"
          ],
          [
           "['9♥', 'J♦']"
          ],
          [
           "['9♥', 'K♠']"
          ],
          [
           "['9♥', 'K♣']"
          ],
          [
           "['9♥', 'K♦']"
          ],
          [
           "['9♥', 'Q♠']"
          ],
          [
           "['9♥', 'Q♣']"
          ],
          [
           "['9♥', 'Q♦']"
          ],
          [
           "['9♦', 'A♠']"
          ],
          [
           "['9♦', 'A♣']"
          ],
          [
           "['9♦', 'A♥']"
          ],
          [
           "['9♦', 'J♠']"
          ],
          [
           "['9♦', 'J♣']"
          ],
          [
           "['9♦', 'J♥']"
          ],
          [
           "['9♦', 'K♠']"
          ],
          [
           "['9♦', 'K♣']"
          ],
          [
           "['9♦', 'K♥']"
          ],
          [
           "['9♦', 'Q♠']"
          ],
          [
           "['9♦', 'Q♣']"
          ],
          [
           "['9♦', 'Q♥']"
          ],
          [
           "['A♠', 'J♣']"
          ],
          [
           "['A♠', 'J♥']"
          ],
          [
           "['A♠', 'J♦']"
          ],
          [
           "['A♠', 'Q♣']"
          ],
          [
           "['A♠', 'Q♥']"
          ],
          [
           "['A♠', 'Q♦']"
          ],
          [
           "['A♣', 'J♠']"
          ],
          [
           "['A♣', 'J♥']"
          ],
          [
           "['A♣', 'J♦']"
          ],
          [
           "['A♣', 'Q♠']"
          ],
          [
           "['A♣', 'Q♥']"
          ],
          [
           "['A♣', 'Q♦']"
          ],
          [
           "['A♥', 'J♠']"
          ],
          [
           "['A♥', 'J♣']"
          ],
          [
           "['A♥', 'J♦']"
          ],
          [
           "['A♥', 'Q♠']"
          ],
          [
           "['A♥', 'Q♣']"
          ],
          [
           "['A♥', 'Q♦']"
          ],
          [
           "['A♦', 'J♠']"
          ],
          [
           "['A♦', 'J♣']"
          ],
          [
           "['A♦', 'J♥']"
          ],
          [
           "['A♦', 'Q♠']"
          ],
          [
           "['A♦', 'Q♣']"
          ],
          [
           "['A♦', 'Q♥']"
          ],
          [
           "['J♠', 'K♣']"
          ],
          [
           "['J♠', 'K♥']"
          ],
          [
           "['J♠', 'K♦']"
          ],
          [
           "['J♣', 'K♠']"
          ],
          [
           "['J♣', 'K♥']"
          ],
          [
           "['J♣', 'K♦']"
          ],
          [
           "['J♥', 'K♠']"
          ],
          [
           "['J♥', 'K♣']"
          ],
          [
           "['J♥', 'K♦']"
          ],
          [
           "['J♦', 'K♠']"
          ],
          [
           "['J♦', 'K♣']"
          ],
          [
           "['J♦', 'K♥']"
          ]
         ],
         "hovertemplate": "Categoría=Cartas Distintas Offsuit<br>Fuerza de la Mano=%{x}<br>Porcentaje de Victoria=%{y:.2f}<br>Cartas=%{customdata[0]}<extra></extra>",
         "legendgroup": "Cartas Distintas Offsuit",
         "marker": {
          "color": "orange",
          "line": {
           "color": "DarkSlateGrey",
           "width": 1
          },
          "opacity": 0.8,
          "size": 8,
          "symbol": "circle"
         },
         "mode": "markers",
         "name": "Cartas Distintas Offsuit",
         "showlegend": true,
         "type": "scattergl",
         "x": [
          12,
          12,
          12,
          13,
          13,
          13,
          14,
          14,
          14,
          15,
          15,
          15,
          16,
          16,
          16,
          17,
          17,
          17,
          18,
          18,
          18,
          24,
          24,
          24,
          23,
          23,
          23,
          22,
          22,
          22,
          12,
          12,
          12,
          13,
          13,
          13,
          14,
          14,
          14,
          15,
          15,
          15,
          16,
          16,
          16,
          17,
          17,
          17,
          18,
          18,
          18,
          24,
          24,
          24,
          23,
          23,
          23,
          22,
          22,
          22,
          12,
          12,
          12,
          13,
          13,
          13,
          14,
          14,
          14,
          15,
          15,
          15,
          16,
          16,
          16,
          17,
          17,
          17,
          18,
          18,
          18,
          24,
          24,
          24,
          23,
          23,
          23,
          22,
          22,
          22,
          12,
          12,
          12,
          13,
          13,
          13,
          14,
          14,
          14,
          15,
          15,
          15,
          16,
          16,
          16,
          17,
          17,
          17,
          18,
          18,
          18,
          24,
          24,
          24,
          23,
          23,
          23,
          22,
          22,
          22,
          6,
          6,
          6,
          7,
          7,
          7,
          8,
          8,
          8,
          9,
          9,
          9,
          10,
          10,
          10,
          11,
          11,
          11,
          16,
          16,
          16,
          13,
          13,
          13,
          15,
          15,
          15,
          14,
          14,
          14,
          6,
          6,
          6,
          7,
          7,
          7,
          8,
          8,
          8,
          9,
          9,
          9,
          10,
          10,
          10,
          11,
          11,
          11,
          16,
          16,
          16,
          13,
          13,
          13,
          15,
          15,
          15,
          14,
          14,
          14,
          6,
          6,
          6,
          7,
          7,
          7,
          8,
          8,
          8,
          9,
          9,
          9,
          10,
          10,
          10,
          11,
          11,
          11,
          16,
          16,
          16,
          13,
          13,
          13,
          15,
          15,
          15,
          14,
          14,
          14,
          6,
          6,
          6,
          7,
          7,
          7,
          8,
          8,
          8,
          9,
          9,
          9,
          10,
          10,
          10,
          11,
          11,
          11,
          16,
          16,
          16,
          13,
          13,
          13,
          15,
          15,
          15,
          14,
          14,
          14,
          8,
          8,
          8,
          9,
          9,
          9,
          10,
          10,
          10,
          11,
          11,
          11,
          12,
          12,
          12,
          17,
          17,
          17,
          14,
          14,
          14,
          16,
          16,
          16,
          15,
          15,
          15,
          8,
          8,
          8,
          9,
          9,
          9,
          10,
          10,
          10,
          11,
          11,
          11,
          12,
          12,
          12,
          17,
          17,
          17,
          14,
          14,
          14,
          16,
          16,
          16,
          15,
          15,
          15,
          8,
          8,
          8,
          9,
          9,
          9,
          10,
          10,
          10,
          11,
          11,
          11,
          12,
          12,
          12,
          17,
          17,
          17,
          14,
          14,
          14,
          16,
          16,
          16,
          15,
          15,
          15,
          8,
          8,
          8,
          9,
          9,
          9,
          10,
          10,
          10,
          11,
          11,
          11,
          12,
          12,
          12,
          17,
          17,
          17,
          14,
          14,
          14,
          16,
          16,
          16,
          15,
          15,
          15,
          10,
          10,
          10,
          11,
          11,
          11,
          12,
          12,
          12,
          13,
          13,
          13,
          18,
          18,
          18,
          15,
          15,
          15,
          17,
          17,
          17,
          16,
          16,
          16,
          10,
          10,
          10,
          11,
          11,
          11,
          12,
          12,
          12,
          13,
          13,
          13,
          18,
          18,
          18,
          15,
          15,
          15,
          17,
          17,
          17,
          16,
          16,
          16,
          10,
          10,
          10,
          11,
          11,
          11,
          12,
          12,
          12,
          13,
          13,
          13,
          18,
          18,
          18,
          15,
          15,
          15,
          17,
          17,
          17,
          16,
          16,
          16,
          10,
          10,
          10,
          11,
          11,
          11,
          12,
          12,
          12,
          13,
          13,
          13,
          18,
          18,
          18,
          15,
          15,
          15,
          17,
          17,
          17,
          16,
          16,
          16,
          12,
          12,
          12,
          13,
          13,
          13,
          14,
          14,
          14,
          19,
          19,
          19,
          16,
          16,
          16,
          18,
          18,
          18,
          17,
          17,
          17,
          12,
          12,
          12,
          13,
          13,
          13,
          14,
          14,
          14,
          19,
          19,
          19,
          16,
          16,
          16,
          18,
          18,
          18,
          17,
          17,
          17,
          12,
          12,
          12,
          13,
          13,
          13,
          14,
          14,
          14,
          19,
          19,
          19,
          16,
          16,
          16,
          18,
          18,
          18,
          17,
          17,
          17,
          12,
          12,
          12,
          13,
          13,
          13,
          14,
          14,
          14,
          19,
          19,
          19,
          16,
          16,
          16,
          18,
          18,
          18,
          17,
          17,
          17,
          14,
          14,
          14,
          15,
          15,
          15,
          20,
          20,
          20,
          17,
          17,
          17,
          19,
          19,
          19,
          18,
          18,
          18,
          14,
          14,
          14,
          15,
          15,
          15,
          20,
          20,
          20,
          17,
          17,
          17,
          19,
          19,
          19,
          18,
          18,
          18,
          14,
          14,
          14,
          15,
          15,
          15,
          20,
          20,
          20,
          17,
          17,
          17,
          19,
          19,
          19,
          18,
          18,
          18,
          14,
          14,
          14,
          15,
          15,
          15,
          20,
          20,
          20,
          17,
          17,
          17,
          19,
          19,
          19,
          18,
          18,
          18,
          16,
          16,
          16,
          21,
          21,
          21,
          18,
          18,
          18,
          20,
          20,
          20,
          19,
          19,
          19,
          16,
          16,
          16,
          21,
          21,
          21,
          18,
          18,
          18,
          20,
          20,
          20,
          19,
          19,
          19,
          16,
          16,
          16,
          21,
          21,
          21,
          18,
          18,
          18,
          20,
          20,
          20,
          19,
          19,
          19,
          16,
          16,
          16,
          21,
          21,
          21,
          18,
          18,
          18,
          20,
          20,
          20,
          19,
          19,
          19,
          22,
          22,
          22,
          19,
          19,
          19,
          21,
          21,
          21,
          20,
          20,
          20,
          22,
          22,
          22,
          19,
          19,
          19,
          21,
          21,
          21,
          20,
          20,
          20,
          22,
          22,
          22,
          19,
          19,
          19,
          21,
          21,
          21,
          20,
          20,
          20,
          22,
          22,
          22,
          19,
          19,
          19,
          21,
          21,
          21,
          20,
          20,
          20,
          23,
          23,
          23,
          20,
          20,
          20,
          22,
          22,
          22,
          21,
          21,
          21,
          23,
          23,
          23,
          20,
          20,
          20,
          22,
          22,
          22,
          21,
          21,
          21,
          23,
          23,
          23,
          20,
          20,
          20,
          22,
          22,
          22,
          21,
          21,
          21,
          23,
          23,
          23,
          20,
          20,
          20,
          22,
          22,
          22,
          21,
          21,
          21,
          25,
          25,
          25,
          26,
          26,
          26,
          25,
          25,
          25,
          26,
          26,
          26,
          25,
          25,
          25,
          26,
          26,
          26,
          25,
          25,
          25,
          26,
          26,
          26,
          24,
          24,
          24,
          24,
          24,
          24,
          24,
          24,
          24,
          24,
          24,
          24
         ],
         "xaxis": "x",
         "y": [
          15.013054830287206,
          15.447667087011348,
          15.28788881535407,
          15.496688741721854,
          14.626075446724023,
          16.79946879150066,
          15.24390243902439,
          15.091863517060366,
          17.57035003431709,
          14.082599864590387,
          14.605978260869565,
          12.901069518716577,
          16.038382453735437,
          16.955684007707127,
          16.442738323736407,
          16.158940397350992,
          17.981888745148773,
          19.29474384564205,
          18.558673469387756,
          20,
          19.50261780104712,
          30.869267624914443,
          30.612244897959183,
          33.310719131614654,
          27.04186684969115,
          28.232189973614773,
          26.4026402640264,
          22.952933591231464,
          25.016722408026755,
          24.96493688639551,
          15.141540487162608,
          15.128900949796472,
          14.401622718052739,
          15.560165975103734,
          16.58955717118308,
          14.42687747035573,
          15.68241469816273,
          16.92411014103425,
          14.84480431848853,
          14.696058784235136,
          16.923076923076923,
          14.776409591704473,
          16.666666666666664,
          14.322747893713544,
          15.753887762001353,
          18.498659517426276,
          18.458549222797927,
          17.57209926224011,
          19.160104986876643,
          20.36673215455141,
          19.88379599741769,
          33.33333333333333,
          32,
          30.209035738368172,
          28.875968992248062,
          25.579854208084825,
          27.475409836065573,
          26.932989690721648,
          25.667752442996743,
          24.796195652173914,
          16.275954454119223,
          14.209472981987991,
          14.34948979591837,
          13.205128205128206,
          16.633532140490388,
          17.071569271175314,
          14.454482279360667,
          15.28046421663443,
          14.819850441876275,
          15.796344647519584,
          16.28056628056628,
          17.314246762099522,
          17.445687952600395,
          16.48422408242112,
          15.767634854771783,
          17.014122394082047,
          17.391304347826086,
          17.65886287625418,
          19.243104554201413,
          20.252324037184593,
          20.190995907230562,
          33.13492063492063,
          33.13293253173013,
          32.23767383059418,
          27.437794216543377,
          27.395498392282956,
          27.29676140118969,
          23.29113924050633,
          26.058201058201057,
          26.948051948051948,
          16.259087904824852,
          13.945578231292515,
          14.218958611481977,
          16.3659793814433,
          13.142094729819881,
          15.74750830564784,
          16.300731869594145,
          15.522984676882079,
          15.95460614152203,
          14.70189701897019,
          17.765814266487215,
          15.691489361702127,
          17.405913978494624,
          16.62125340599455,
          17.15652768284347,
          18.23568136932192,
          18.41415465268676,
          18.57335127860027,
          21.916890080428956,
          19.896640826873384,
          20.59800664451827,
          32.634338138925294,
          33.22454308093995,
          32.64900662251656,
          25.616083009079116,
          28.332170272156315,
          28.816920026437543,
          25.734813847158723,
          24.024226110363394,
          25.473546701502286,
          13.85665529010239,
          12.656558998022414,
          11.928429423459244,
          13.684210526315791,
          13.642297650130548,
          14.568226763348715,
          12.282958199356914,
          12.358803986710964,
          11.443433029908972,
          12.282958199356914,
          11.223118279569892,
          11.543624161073826,
          13.85665529010239,
          12.6514131897712,
          11.365040148239654,
          12.103174603174603,
          14.266211604095563,
          13.695801789401237,
          28.963210702341136,
          26.70191672174488,
          27.393617021276594,
          17.635270541082164,
          18.438320209973753,
          17.527173913043477,
          22.121604139715394,
          21.877205363443895,
          21.628664495114005,
          20.182887001959504,
          19.245773732119638,
          19.135410044500954,
          12.352941176470589,
          11.925976696367375,
          12.432795698924732,
          13.022618231665525,
          11.509817197020988,
          12.616201859229747,
          10.242941562705186,
          11.95054945054945,
          11.901681759379043,
          12.47429746401645,
          10.917615539182854,
          11.994784876140809,
          11.651131824234353,
          14.03631284916201,
          14.645776566757492,
          11.859838274932615,
          12.143826322930801,
          14.055144586415603,
          28.362183754993342,
          29.44297082228117,
          27.698309492847855,
          17.183288409703504,
          15.547945205479452,
          16.010854816824967,
          22.305593451568896,
          23.85786802030457,
          20.903573836817262,
          19.245773732119638,
          20.050922978994272,
          19.118644067796613,
          14.087301587301587,
          14.841218405703174,
          13.577863577863578,
          12.460063897763577,
          12.239408204438467,
          12.347354138398913,
          11.705685618729097,
          11.556446225784903,
          11.76470588235294,
          10.909090909090908,
          11.653645833333332,
          12.693935119887165,
          10.89171974522293,
          11.975642760487144,
          13.222591362126245,
          13.320079522862823,
          13.157894736842104,
          14.512785072563924,
          29.667345553292602,
          28.885832187070154,
          26.930693069306933,
          17.220744680851062,
          17.175066312997348,
          15.234375,
          20.531227566403444,
          23.19034852546917,
          24.12129565816678,
          19.974309569685293,
          16.677567037279267,
          19.45551128818061,
          11.463730569948186,
          12.144702842377262,
          11.948051948051948,
          12.810194500335346,
          13.35095836087244,
          15.220207253886011,
          10.719041278295606,
          13.517148621385338,
          11.399317406143345,
          12.634408602150538,
          10.663021189336979,
          10.733333333333334,
          11.428571428571429,
          14.734774066797643,
          13.101045296167246,
          12.93888166449935,
          14.106789716545814,
          13.03501945525292,
          26.618705035971225,
          29.042485732403296,
          27.161290322580644,
          16.078697421981005,
          16.440217391304348,
          17.190635451505017,
          21.676489849377862,
          23.642384105960264,
          23.45514950166113,
          20.53206002728513,
          17.425742574257423,
          19.4639438417358,
          13.790849673202615,
          12.775616083009078,
          14.014895057549086,
          13.692407527579494,
          13.115802943058222,
          12.027491408934708,
          11.304909560723514,
          13.366336633663368,
          13.009708737864079,
          14.238845144356954,
          10.997267759562842,
          11.540941328175371,
          14.18918918918919,
          13.333333333333334,
          13.695937090432503,
          25.97402597402597,
          29.961587708066585,
          29.117442668519804,
          16.848174247277388,
          17.522245037645447,
          18.053777208706787,
          21.58322056833559,
          22.161422708618332,
          24.626380766731643,
          17.717086834733895,
          17.666666666666668,
          21.816976127320956,
          14.461960246744345,
          15.374677002583978,
          12.804453723034099,
          12.795275590551181,
          14.933333333333335,
          14.07068062827225,
          12.961719274680995,
          12.51655629139073,
          11.348464619492656,
          12.508101101749839,
          12.40073304825901,
          13.830508474576272,
          12.227362855254462,
          13.7012987012987,
          12.51564455569462,
          30.25879230258792,
          27.284856571047367,
          27.448275862068964,
          16.90427698574338,
          16.181229773462782,
          16.008037508372404,
          23.69146005509642,
          20.905459387483354,
          23.580494321977287,
          18.393094289508632,
          18.73713109128346,
          18.121693121693124,
          14.409606404269512,
          13.903743315508022,
          15.469973890339425,
          13.951890034364261,
          14.183937823834198,
          14.741544352265477,
          12.96774193548387,
          13.342228152101402,
          13.108108108108107,
          13.439787092481703,
          12.578616352201259,
          12.627551020408163,
          12.868632707774799,
          13.920645595158037,
          14.88933601609658,
          30.935709739019735,
          28.59051436205745,
          28.993288590604028,
          17.473821989528794,
          15.616966580976863,
          17.974513749161638,
          22.006688963210703,
          22.300771208226223,
          22.798948751642577,
          20.395634379263303,
          17.421124828532236,
          19.589675711449374,
          13.657561625582945,
          14.645460569913851,
          13.156146179401992,
          12.474576271186441,
          13.2890365448505,
          14.123159303882197,
          14.990006662225182,
          11.799999999999999,
          13.079019073569482,
          11.163734776725304,
          12.041884816753926,
          12.145748987854251,
          13.841059602649006,
          14.17058428475487,
          14.048442906574394,
          28.86923562855338,
          27.092946605141726,
          27.784974093264246,
          15.444516547696303,
          14.769820971867006,
          17.446524064171122,
          22.24462365591398,
          21.41414141414141,
          24.03405370006549,
          16.711409395973153,
          20.401337792642142,
          17.805519053876477,
          13.890717577353524,
          14.928292046936114,
          14.563758389261745,
          14.046822742474916,
          14.117647058823529,
          13.865271419228254,
          14.906832298136646,
          14.210526315789473,
          14.190981432360742,
          14.917825537294563,
          14.93421052631579,
          13.482384823848239,
          29.17789757412399,
          27.565392354124747,
          29.20237310481213,
          15.497661990647963,
          17.670682730923694,
          17.491525423728813,
          22.980132450331126,
          21.56996587030717,
          21.19248217757615,
          18.438320209973753,
          20.3564084989719,
          18.55807743658211,
          13.724226804123713,
          14.507422402159245,
          13.749114103472715,
          15.74074074074074,
          14.550264550264549,
          14.524421593830333,
          12.524983344437041,
          12.449255751014885,
          14.521452145214523,
          14.339622641509434,
          12.789203084832904,
          13.0625,
          29.513657561625585,
          29.254302103250478,
          29.87012987012987,
          15.349143610013174,
          17.131474103585656,
          17.23692704970949,
          23.86587771203156,
          22.390019697964544,
          21.21212121212121,
          18.827361563517915,
          18.58760826115923,
          19.75077881619938,
          12.94820717131474,
          14.37456807187284,
          15.69806279225117,
          13.500992720052945,
          13.66622864651774,
          13.419618528610355,
          14.19141914191419,
          13.788659793814434,
          15.308988764044946,
          12.532981530343006,
          13.302448709463931,
          13.726790450928384,
          26.73469387755102,
          27.895073576455538,
          28.037383177570092,
          15.11400651465798,
          17.333333333333336,
          15.986622073578596,
          24.00793650793651,
          21.511232130701156,
          22.04778156996587,
          19.047619047619047,
          19.743069641649765,
          20.02652519893899,
          15.91203104786546,
          14.2761841227485,
          15.045395590142672,
          14.612794612794614,
          14.304635761589404,
          13.90685640362225,
          13.696808510638297,
          13.324538258575197,
          14.496644295302014,
          12.351387054161163,
          14.11451398135819,
          14.577836411609498,
          26.698049764626763,
          30.867518493611296,
          28.739386022207707,
          16.00817438692098,
          18.386243386243386,
          18.08731808731809,
          25.582860743541275,
          24.171539961013643,
          22.316200390370852,
          18.976683937823836,
          20.25065963060686,
          16.790289952798382,
          14.935064935064934,
          14.895013123359579,
          16.710700132100396,
          16.472868217054263,
          15.978695073235686,
          15.692711753118843,
          13.475650433622416,
          14.944042132982224,
          16.463022508038584,
          30.555555555555557,
          29.102990033222593,
          29.16396629941672,
          16.18421052631579,
          18.06367771280052,
          17.43295019157088,
          23.793787177792467,
          22.5201072386059,
          23.506988564167724,
          17.33921815889029,
          21.105866486850978,
          20.21709633649932,
          16.9281045751634,
          15.415282392026578,
          16,
          16.18780658724597,
          15.48731642189586,
          17.87375415282392,
          14.025157232704402,
          15.940143135979179,
          14.351547070441079,
          27.971109652002625,
          30.282174810736407,
          27.599738391105298,
          17.60154738878143,
          16.634429400386846,
          16.588628762541806,
          24.90144546649146,
          21.805467260012716,
          22.403258655804482,
          19.118644067796613,
          19.028871391076116,
          21.676891615541923,
          17.033678756476682,
          14.734774066797643,
          15.202702702702704,
          14.479025710419485,
          15.667311411992262,
          15.62700964630225,
          15.458627325208468,
          14.266117969821673,
          14.103382259093811,
          28.931652289316524,
          30.31645569620253,
          28.82943143812709,
          16.698656429942417,
          17.456021650879567,
          16.95865451997197,
          23.091849935316947,
          22.272727272727273,
          23.581681476418318,
          19.8300283286119,
          19.035532994923855,
          20.258899676375407,
          13.832658569500675,
          15.302727877578176,
          16.65573770491803,
          14.380825565912117,
          14.977404777275662,
          15.00339443312967,
          13.624161073825503,
          13.639387890884896,
          14.660691421254802,
          26.948924731182792,
          30.162866449511398,
          27.42044685172647,
          17.292746113989637,
          15.49652118912081,
          17.599999999999998,
          23.07162534435262,
          23.443983402489625,
          23.02587923025879,
          20.092226613965742,
          18.200134318334452,
          18.45522898154477,
          17.86896095301125,
          16.418875242404653,
          17.905405405405407,
          17.56756756756757,
          15.864759427828348,
          15.666666666666668,
          27.310924369747898,
          29.030006978367062,
          30.533333333333335,
          17.25955204216074,
          15.071283095723015,
          16.402116402116402,
          22.76094276094276,
          21.179624664879356,
          22.08835341365462,
          18.53417899929528,
          19.601100412654745,
          19.268451992161985,
          16.569954867827207,
          14.11451398135819,
          14.37246963562753,
          16.377649325626205,
          17.161290322580644,
          16.937053861129137,
          26.449511400651467,
          27.03604806408545,
          27.751834556370913,
          18.13953488372093,
          16.247450713800134,
          17.51152073732719,
          23.875661375661377,
          24.37877770315648,
          24.40677966101695,
          17.7036561898653,
          18.904823989569753,
          20.168067226890756,
          16.8218085106383,
          15.298013245033113,
          16.60802251935257,
          14.541695382494831,
          15.07472384665367,
          16.74326986211425,
          27.953518398967077,
          30.39945836154367,
          27.602108036890645,
          17.216828478964402,
          16.81063122923588,
          18.387909319899247,
          23.991797676008204,
          22.274881516587676,
          22.992935131663454,
          19.569347688410385,
          19.07514450867052,
          20.875420875420875,
          16.02951039570758,
          16.732026143790847,
          16.139878950907868,
          16.74418604651163,
          16.321243523316063,
          16.32791327913279,
          25.718194254445965,
          27.42966751918158,
          27.385620915032682,
          16.091205211726383,
          19.40500338066261,
          16.96136214800262,
          23.282188125416944,
          24.680564895763283,
          22.391857506361323,
          20.83614295347269,
          18.41415465268676,
          21.40490390987409,
          17.4061433447099,
          16.70175438596491,
          17.838541666666664,
          27.16643741403026,
          26.438267614738205,
          28.915662650602407,
          20.190995907230562,
          17.5745784695201,
          18.16353887399464,
          22.16323822163238,
          23.322033898305083,
          25.797691785471827,
          22.015915119363395,
          19.960861056751465,
          20.54439403758911,
          16.644204851752022,
          19.146183699870633,
          15.843489416292494,
          28.431372549019606,
          27.42894910773298,
          30.863402061855673,
          17.86918408631153,
          17.43357096565133,
          18.84057971014493,
          22.26775956284153,
          24.112021857923498,
          24.579124579124578,
          18.89554224883566,
          21.50326797385621,
          21.277997364953887,
          17.608409986859396,
          19.418758256274767,
          18.639633747547414,
          26.748133061778685,
          27.201051248357423,
          27.760051052967455,
          18.72053872053872,
          19.486504279131005,
          17.964071856287426,
          25.81721147431621,
          22.727272727272727,
          22.128851540616246,
          21.676489849377862,
          22.673656618610746,
          19.476158495634653,
          17.311475409836067,
          18.276085547634477,
          18.820577164366373,
          27.410832232496695,
          29.62226640159046,
          30.800542740841248,
          19.431891542930924,
          18.253968253968253,
          18.447923757658273,
          24.112021857923498,
          24.677835051546392,
          25.642760487144788,
          21.35728542914172,
          21.102661596958175,
          20.735785953177256,
          29.10958904109589,
          29.838187702265373,
          30.570652173913043,
          19.594594594594593,
          20.346897931954636,
          23.021582733812952,
          23.714094856379425,
          22.918100481761872,
          22.90836653386454,
          21.210230817217717,
          20.93175853018373,
          21.585609593604264,
          27.815934065934066,
          29.629629629629626,
          28.504672897196258,
          21.107994389901823,
          20.397690827453495,
          21.71945701357466,
          26.001313197636243,
          23.63519588953115,
          24.13127413127413,
          20.45016077170418,
          20.87912087912088,
          21.57413914265636,
          28.232189973614773,
          28.306709265175716,
          28.244788164088767,
          20.181564245810055,
          21.32911392405063,
          21.155094094743674,
          22.652659225213394,
          23.711340206185564,
          25.31645569620253,
          21.773659827928523,
          21.48409893992933,
          21.938441388343158,
          31.40983606557377,
          26.101928374655646,
          29.119788219722036,
          22.779661016949152,
          21.93283070596299,
          19.268451992161985,
          24.070450097847356,
          24.217687074829932,
          23.39331619537275,
          21.60904255319149,
          21.692789968652036,
          22.546419098143236,
          31.93990855649902,
          31.22476446837147,
          30.648464163822524,
          21.696891191709845,
          22.144670050761423,
          18.854568854568853,
          26.118904475617903,
          27.523553162853297,
          24.98334443704197,
          24.286662242866623,
          23.05061559507524,
          25.352112676056336,
          29.361979166666668,
          30.684039087947884,
          32.519788918205805,
          20.524899057873487,
          22.24448897795591,
          22.148098732488325,
          25.149700598802394,
          27.034297242770677,
          25.47814207650273,
          23.784834737524303,
          23.490813648293962,
          23.217789404839763,
          30.510752688172044,
          29.150579150579148,
          28.02379378717779,
          20.72538860103627,
          21.632937892533146,
          23.537508602890572,
          25.602202339986235,
          26.21776504297994,
          24.96757457846952,
          21.84434270765206,
          26.203208556149733,
          23.45514950166113,
          29.222144358794672,
          29.486324216144094,
          30.62295081967213,
          22.6056338028169,
          21.730382293762577,
          21.172638436482085,
          26.101468624833114,
          25.303643724696357,
          26.273291925465834,
          24.117255163224517,
          25.18370073480294,
          24.90272373540856,
          30.99606815203145,
          31.885026737967912,
          29.905913978494624,
          32.701111837802486,
          34.260515603799185,
          36.11302549965541,
          32.980832782551225,
          33.04635761589404,
          30.860144451739984,
          33.729372937293725,
          32.94279807029635,
          32.105628908964555,
          33.61618798955613,
          33.63321799307958,
          32.87858117326057,
          32.46173469387755,
          34.63541666666667,
          32.277628032345014,
          33.82254836557705,
          32.061579651941095,
          32.444733420026004,
          33.63572923935799,
          34.4640434192673,
          33.70418848167539,
          27.365728900255753,
          28.094302554027507,
          29.28327645051195,
          28.71157619359058,
          30.05249343832021,
          29.255989911727614,
          29.02777777777778,
          27.71317829457364,
          26.79948586118252,
          29.144736842105264,
          29.83978638184246,
          28.17643186306781
         ],
         "yaxis": "y"
        },
        {
         "customdata": [
          [
           "['10♠', '9♠']"
          ],
          [
           "['10♠', 'J♠']"
          ],
          [
           "['10♣', '9♣']"
          ],
          [
           "['10♣', 'J♣']"
          ],
          [
           "['10♥', '9♥']"
          ],
          [
           "['10♥', 'J♥']"
          ],
          [
           "['10♦', '9♦']"
          ],
          [
           "['10♦', 'J♦']"
          ],
          [
           "['2♠', '3♠']"
          ],
          [
           "['2♣', '3♣']"
          ],
          [
           "['2♥', '3♥']"
          ],
          [
           "['2♦', '3♦']"
          ],
          [
           "['3♠', '4♠']"
          ],
          [
           "['3♣', '4♣']"
          ],
          [
           "['3♥', '4♥']"
          ],
          [
           "['3♦', '4♦']"
          ],
          [
           "['4♠', '5♠']"
          ],
          [
           "['4♣', '5♣']"
          ],
          [
           "['4♥', '5♥']"
          ],
          [
           "['4♦', '5♦']"
          ],
          [
           "['5♠', '6♠']"
          ],
          [
           "['5♣', '6♣']"
          ],
          [
           "['5♥', '6♥']"
          ],
          [
           "['5♦', '6♦']"
          ],
          [
           "['6♠', '7♠']"
          ],
          [
           "['6♣', '7♣']"
          ],
          [
           "['6♥', '7♥']"
          ],
          [
           "['6♦', '7♦']"
          ],
          [
           "['7♠', '8♠']"
          ],
          [
           "['7♣', '8♣']"
          ],
          [
           "['7♥', '8♥']"
          ],
          [
           "['7♦', '8♦']"
          ],
          [
           "['8♠', '9♠']"
          ],
          [
           "['8♣', '9♣']"
          ],
          [
           "['8♥', '9♥']"
          ],
          [
           "['8♦', '9♦']"
          ],
          [
           "['A♠', 'K♠']"
          ],
          [
           "['A♣', 'K♣']"
          ],
          [
           "['A♥', 'K♥']"
          ],
          [
           "['A♦', 'K♦']"
          ],
          [
           "['J♠', 'Q♠']"
          ],
          [
           "['J♣', 'Q♣']"
          ],
          [
           "['J♥', 'Q♥']"
          ],
          [
           "['J♦', 'Q♦']"
          ],
          [
           "['K♠', 'Q♠']"
          ],
          [
           "['K♣', 'Q♣']"
          ],
          [
           "['K♥', 'Q♥']"
          ],
          [
           "['K♦', 'Q♦']"
          ]
         ],
         "hovertemplate": "Categoría=Conectores Suited<br>Fuerza de la Mano=%{x}<br>Porcentaje de Victoria=%{y:.2f}<br>Cartas=%{customdata[0]}<extra></extra>",
         "legendgroup": "Conectores Suited",
         "marker": {
          "color": "purple",
          "line": {
           "color": "DarkSlateGrey",
           "width": 1
          },
          "opacity": 0.8,
          "size": 8,
          "symbol": "circle"
         },
         "mode": "markers",
         "name": "Conectores Suited",
         "showlegend": true,
         "type": "scattergl",
         "x": [
          19,
          21,
          19,
          21,
          19,
          21,
          19,
          21,
          5,
          5,
          5,
          5,
          7,
          7,
          7,
          7,
          9,
          9,
          9,
          9,
          11,
          11,
          11,
          11,
          13,
          13,
          13,
          13,
          15,
          15,
          15,
          15,
          17,
          17,
          17,
          17,
          27,
          27,
          27,
          27,
          23,
          23,
          23,
          23,
          25,
          25,
          25,
          25
         ],
         "xaxis": "x",
         "y": [
          23.83838383838384,
          26.964047936085215,
          24.778761061946902,
          27.445830597504923,
          24.71698113207547,
          26.272912423625254,
          25.524712254570076,
          27.77777777777778,
          16.086130462317925,
          15.421521590130228,
          15.277777777777779,
          14.953886693017127,
          18.127490039840637,
          17.608409986859396,
          17.39974126778784,
          18.94303363074811,
          21.03494623655914,
          18.45042678923178,
          19.311276164753544,
          19.112850619699934,
          19.746031746031743,
          18.436109345200254,
          18.566775244299674,
          18.6030428769018,
          18.841544607190414,
          20.599999999999998,
          17.989417989417987,
          20.026178010471206,
          19.973890339425587,
          24.035206499661477,
          20.891550232867598,
          22.845417236662108,
          22.905405405405403,
          21.127673363577447,
          23.204068658614112,
          23.703703703703706,
          34.99675955930007,
          36.934023285899094,
          36.5296803652968,
          36.206896551724135,
          30.32345013477089,
          29.539473684210527,
          29.152067274001404,
          29.6969696969697,
          33.56643356643357,
          32.10039630118891,
          31.486486486486488,
          31.77822853279243
         ],
         "yaxis": "y"
        },
        {
         "customdata": [
          [
           "['10♠', '9♣']"
          ],
          [
           "['10♠', '9♥']"
          ],
          [
           "['10♠', '9♦']"
          ],
          [
           "['10♠', 'J♣']"
          ],
          [
           "['10♠', 'J♥']"
          ],
          [
           "['10♠', 'J♦']"
          ],
          [
           "['10♣', '9♠']"
          ],
          [
           "['10♣', '9♥']"
          ],
          [
           "['10♣', '9♦']"
          ],
          [
           "['10♣', 'J♠']"
          ],
          [
           "['10♣', 'J♥']"
          ],
          [
           "['10♣', 'J♦']"
          ],
          [
           "['10♥', '9♠']"
          ],
          [
           "['10♥', '9♣']"
          ],
          [
           "['10♥', '9♦']"
          ],
          [
           "['10♥', 'J♠']"
          ],
          [
           "['10♥', 'J♣']"
          ],
          [
           "['10♥', 'J♦']"
          ],
          [
           "['10♦', '9♠']"
          ],
          [
           "['10♦', '9♣']"
          ],
          [
           "['10♦', '9♥']"
          ],
          [
           "['10♦', 'J♠']"
          ],
          [
           "['10♦', 'J♣']"
          ],
          [
           "['10♦', 'J♥']"
          ],
          [
           "['2♠', '3♣']"
          ],
          [
           "['2♠', '3♥']"
          ],
          [
           "['2♠', '3♦']"
          ],
          [
           "['2♣', '3♠']"
          ],
          [
           "['2♣', '3♥']"
          ],
          [
           "['2♣', '3♦']"
          ],
          [
           "['2♥', '3♠']"
          ],
          [
           "['2♥', '3♣']"
          ],
          [
           "['2♥', '3♦']"
          ],
          [
           "['2♦', '3♠']"
          ],
          [
           "['2♦', '3♣']"
          ],
          [
           "['2♦', '3♥']"
          ],
          [
           "['3♠', '4♣']"
          ],
          [
           "['3♠', '4♥']"
          ],
          [
           "['3♠', '4♦']"
          ],
          [
           "['3♣', '4♠']"
          ],
          [
           "['3♣', '4♥']"
          ],
          [
           "['3♣', '4♦']"
          ],
          [
           "['3♥', '4♠']"
          ],
          [
           "['3♥', '4♣']"
          ],
          [
           "['3♥', '4♦']"
          ],
          [
           "['3♦', '4♠']"
          ],
          [
           "['3♦', '4♣']"
          ],
          [
           "['3♦', '4♥']"
          ],
          [
           "['4♠', '5♣']"
          ],
          [
           "['4♠', '5♥']"
          ],
          [
           "['4♠', '5♦']"
          ],
          [
           "['4♣', '5♠']"
          ],
          [
           "['4♣', '5♥']"
          ],
          [
           "['4♣', '5♦']"
          ],
          [
           "['4♥', '5♠']"
          ],
          [
           "['4♥', '5♣']"
          ],
          [
           "['4♥', '5♦']"
          ],
          [
           "['4♦', '5♠']"
          ],
          [
           "['4♦', '5♣']"
          ],
          [
           "['4♦', '5♥']"
          ],
          [
           "['5♠', '6♣']"
          ],
          [
           "['5♠', '6♥']"
          ],
          [
           "['5♠', '6♦']"
          ],
          [
           "['5♣', '6♠']"
          ],
          [
           "['5♣', '6♥']"
          ],
          [
           "['5♣', '6♦']"
          ],
          [
           "['5♥', '6♠']"
          ],
          [
           "['5♥', '6♣']"
          ],
          [
           "['5♥', '6♦']"
          ],
          [
           "['5♦', '6♠']"
          ],
          [
           "['5♦', '6♣']"
          ],
          [
           "['5♦', '6♥']"
          ],
          [
           "['6♠', '7♣']"
          ],
          [
           "['6♠', '7♥']"
          ],
          [
           "['6♠', '7♦']"
          ],
          [
           "['6♣', '7♠']"
          ],
          [
           "['6♣', '7♥']"
          ],
          [
           "['6♣', '7♦']"
          ],
          [
           "['6♥', '7♠']"
          ],
          [
           "['6♥', '7♣']"
          ],
          [
           "['6♥', '7♦']"
          ],
          [
           "['6♦', '7♠']"
          ],
          [
           "['6♦', '7♣']"
          ],
          [
           "['6♦', '7♥']"
          ],
          [
           "['7♠', '8♣']"
          ],
          [
           "['7♠', '8♥']"
          ],
          [
           "['7♠', '8♦']"
          ],
          [
           "['7♣', '8♠']"
          ],
          [
           "['7♣', '8♥']"
          ],
          [
           "['7♣', '8♦']"
          ],
          [
           "['7♥', '8♠']"
          ],
          [
           "['7♥', '8♣']"
          ],
          [
           "['7♥', '8♦']"
          ],
          [
           "['7♦', '8♠']"
          ],
          [
           "['7♦', '8♣']"
          ],
          [
           "['7♦', '8♥']"
          ],
          [
           "['8♠', '9♣']"
          ],
          [
           "['8♠', '9♥']"
          ],
          [
           "['8♠', '9♦']"
          ],
          [
           "['8♣', '9♠']"
          ],
          [
           "['8♣', '9♥']"
          ],
          [
           "['8♣', '9♦']"
          ],
          [
           "['8♥', '9♠']"
          ],
          [
           "['8♥', '9♣']"
          ],
          [
           "['8♥', '9♦']"
          ],
          [
           "['8♦', '9♠']"
          ],
          [
           "['8♦', '9♣']"
          ],
          [
           "['8♦', '9♥']"
          ],
          [
           "['A♠', 'K♣']"
          ],
          [
           "['A♠', 'K♥']"
          ],
          [
           "['A♠', 'K♦']"
          ],
          [
           "['A♣', 'K♠']"
          ],
          [
           "['A♣', 'K♥']"
          ],
          [
           "['A♣', 'K♦']"
          ],
          [
           "['A♥', 'K♠']"
          ],
          [
           "['A♥', 'K♣']"
          ],
          [
           "['A♥', 'K♦']"
          ],
          [
           "['A♦', 'K♠']"
          ],
          [
           "['A♦', 'K♣']"
          ],
          [
           "['A♦', 'K♥']"
          ],
          [
           "['J♠', 'Q♣']"
          ],
          [
           "['J♠', 'Q♥']"
          ],
          [
           "['J♠', 'Q♦']"
          ],
          [
           "['J♣', 'Q♠']"
          ],
          [
           "['J♣', 'Q♥']"
          ],
          [
           "['J♣', 'Q♦']"
          ],
          [
           "['J♥', 'Q♠']"
          ],
          [
           "['J♥', 'Q♣']"
          ],
          [
           "['J♥', 'Q♦']"
          ],
          [
           "['J♦', 'Q♠']"
          ],
          [
           "['J♦', 'Q♣']"
          ],
          [
           "['J♦', 'Q♥']"
          ],
          [
           "['K♠', 'Q♣']"
          ],
          [
           "['K♠', 'Q♥']"
          ],
          [
           "['K♠', 'Q♦']"
          ],
          [
           "['K♣', 'Q♠']"
          ],
          [
           "['K♣', 'Q♥']"
          ],
          [
           "['K♣', 'Q♦']"
          ],
          [
           "['K♥', 'Q♠']"
          ],
          [
           "['K♥', 'Q♣']"
          ],
          [
           "['K♥', 'Q♦']"
          ],
          [
           "['K♦', 'Q♠']"
          ],
          [
           "['K♦', 'Q♣']"
          ],
          [
           "['K♦', 'Q♥']"
          ]
         ],
         "hovertemplate": "Categoría=Conectores Offsuit<br>Fuerza de la Mano=%{x}<br>Porcentaje de Victoria=%{y:.2f}<br>Cartas=%{customdata[0]}<extra></extra>",
         "legendgroup": "Conectores Offsuit",
         "marker": {
          "color": "red",
          "line": {
           "color": "DarkSlateGrey",
           "width": 1
          },
          "opacity": 0.8,
          "size": 8,
          "symbol": "circle"
         },
         "mode": "markers",
         "name": "Conectores Offsuit",
         "showlegend": true,
         "type": "scattergl",
         "x": [
          19,
          19,
          19,
          21,
          21,
          21,
          19,
          19,
          19,
          21,
          21,
          21,
          19,
          19,
          19,
          21,
          21,
          21,
          19,
          19,
          19,
          21,
          21,
          21,
          5,
          5,
          5,
          5,
          5,
          5,
          5,
          5,
          5,
          5,
          5,
          5,
          7,
          7,
          7,
          7,
          7,
          7,
          7,
          7,
          7,
          7,
          7,
          7,
          9,
          9,
          9,
          9,
          9,
          9,
          9,
          9,
          9,
          9,
          9,
          9,
          11,
          11,
          11,
          11,
          11,
          11,
          11,
          11,
          11,
          11,
          11,
          11,
          13,
          13,
          13,
          13,
          13,
          13,
          13,
          13,
          13,
          13,
          13,
          13,
          15,
          15,
          15,
          15,
          15,
          15,
          15,
          15,
          15,
          15,
          15,
          15,
          17,
          17,
          17,
          17,
          17,
          17,
          17,
          17,
          17,
          17,
          17,
          17,
          27,
          27,
          27,
          27,
          27,
          27,
          27,
          27,
          27,
          27,
          27,
          27,
          23,
          23,
          23,
          23,
          23,
          23,
          23,
          23,
          23,
          23,
          23,
          23,
          25,
          25,
          25,
          25,
          25,
          25,
          25,
          25,
          25,
          25,
          25,
          25
         ],
         "xaxis": "x",
         "y": [
          22.420907840440165,
          20.718409236690185,
          22.519582245430808,
          23.537414965986393,
          22.748498999332888,
          24.350649350649352,
          21.32796780684105,
          20.027624309392262,
          22.82894736842105,
          24.137931034482758,
          21.46433041301627,
          22.83515073765234,
          18.230563002680967,
          20,
          21.936758893280633,
          21.419098143236074,
          24.849699398797593,
          24.796747967479675,
          22.04946996466431,
          20.84967320261438,
          21.50033489618218,
          23.52941176470588,
          25.0852079072938,
          23.52941176470588,
          12.165775401069519,
          13.753943217665615,
          13.223684210526315,
          11.680726800778714,
          11.176470588235295,
          13.568521031207597,
          12.247557003257329,
          14.713896457765669,
          13.052345343303875,
          11.162483487450462,
          12.35651586765699,
          12.680683311432325,
          14.27627230667548,
          13.624678663239074,
          13.809206137424951,
          12.517385257301807,
          14.538043478260871,
          13.083497698882315,
          14.067684140676842,
          14.29539295392954,
          13.4765625,
          13.362336855189557,
          12.860013395847286,
          13.67053998632946,
          16.827852998065765,
          14.87820934825543,
          16.4257555847569,
          15.177398160315375,
          16.469038208168644,
          15.492957746478872,
          16.633132126089873,
          14.854827819041189,
          16.010673782521682,
          16.525146962769433,
          15.598705501618124,
          16.059817945383614,
          16.247450713800134,
          15.124441608168473,
          17.54729288975864,
          15.340547422024189,
          16.752910737386806,
          15.792880258899677,
          15.651604453176162,
          14.91749174917492,
          16.513157894736842,
          16.655907036797934,
          16.745124411566913,
          16.219667943805874,
          17.045454545454543,
          16.35610766045549,
          15.939153439153438,
          15.006821282401091,
          16.453995970449967,
          17.10794297352342,
          15.631262525050099,
          17.539267015706805,
          16.372282608695652,
          16.214470284237727,
          17.788141239173886,
          17.572944297082227,
          17.209302325581397,
          18.361955085865258,
          17.92452830188679,
          16.51376146788991,
          16.689373297002724,
          16.070222822417286,
          18.13110181311018,
          19.389110225763613,
          18.304431599229286,
          16.950306330837304,
          17.57944557133198,
          16.836388323150032,
          18.872870249017037,
          18.88586956521739,
          19.210526315789473,
          20.611702127659576,
          20.308483290488432,
          17.892503536067892,
          21.38690861957226,
          18.057553956834532,
          19.28020565552699,
          16.176470588235293,
          20.33003300330033,
          17.732366512854316,
          36.00269179004037,
          33.035714285714285,
          34.58549222797927,
          36.47675180091683,
          34.236615994712494,
          36.118421052631575,
          30.774503084304317,
          34.90019317450096,
          33.80921479558728,
          34.02545210984595,
          34.97757847533632,
          33.24572930354796,
          25.18370073480294,
          25.28201725282017,
          24.705882352941178,
          25.944055944055943,
          25.5663430420712,
          26.55518394648829,
          25.392491467576793,
          24.13563829787234,
          26.78082191780822,
          26.232741617357004,
          26.322664924885697,
          24.93150684931507,
          28.636363636363637,
          28.55254461335096,
          29.954218443427077,
          27.058029689608638,
          29.147078576225656,
          29.20353982300885,
          30.189914865749834,
          30.631229235880397,
          30.910281597904387,
          31.055480378890394,
          27.569444444444446,
          29.511400651465795
         ],
         "yaxis": "y"
        }
       ],
       "layout": {
        "annotations": [
         {
          "align": "center",
          "bgcolor": "white",
          "bordercolor": "red",
          "borderwidth": 1,
          "font": {
           "color": "Red",
           "size": 14
          },
          "opacity": 0.8,
          "showarrow": false,
          "text": "Probabilidad media esperada (22.87%)",
          "x": 16,
          "xref": "x",
          "y": 45.74163416666664,
          "yref": "y"
         }
        ],
        "legend": {
         "title": {
          "text": "Categoría de Mano"
         },
         "tracegroupgap": 0
        },
        "margin": {
         "b": 40,
         "l": 40,
         "r": 40,
         "t": 60
        },
        "shapes": [
         {
          "line": {
           "color": "Red",
           "dash": "dash",
           "width": 2
          },
          "type": "line",
          "x0": 4,
          "x1": 28,
          "xref": "x",
          "y0": 22.87081708333332,
          "y1": 22.87081708333332,
          "yref": "y"
         }
        ],
        "template": {
         "data": {
          "bar": [
           {
            "error_x": {
             "color": "#2a3f5f"
            },
            "error_y": {
             "color": "#2a3f5f"
            },
            "marker": {
             "line": {
              "color": "#E5ECF6",
              "width": 0.5
             },
             "pattern": {
              "fillmode": "overlay",
              "size": 10,
              "solidity": 0.2
             }
            },
            "type": "bar"
           }
          ],
          "barpolar": [
           {
            "marker": {
             "line": {
              "color": "#E5ECF6",
              "width": 0.5
             },
             "pattern": {
              "fillmode": "overlay",
              "size": 10,
              "solidity": 0.2
             }
            },
            "type": "barpolar"
           }
          ],
          "carpet": [
           {
            "aaxis": {
             "endlinecolor": "#2a3f5f",
             "gridcolor": "white",
             "linecolor": "white",
             "minorgridcolor": "white",
             "startlinecolor": "#2a3f5f"
            },
            "baxis": {
             "endlinecolor": "#2a3f5f",
             "gridcolor": "white",
             "linecolor": "white",
             "minorgridcolor": "white",
             "startlinecolor": "#2a3f5f"
            },
            "type": "carpet"
           }
          ],
          "choropleth": [
           {
            "colorbar": {
             "outlinewidth": 0,
             "ticks": ""
            },
            "type": "choropleth"
           }
          ],
          "contour": [
           {
            "colorbar": {
             "outlinewidth": 0,
             "ticks": ""
            },
            "colorscale": [
             [
              0,
              "#0d0887"
             ],
             [
              0.1111111111111111,
              "#46039f"
             ],
             [
              0.2222222222222222,
              "#7201a8"
             ],
             [
              0.3333333333333333,
              "#9c179e"
             ],
             [
              0.4444444444444444,
              "#bd3786"
             ],
             [
              0.5555555555555556,
              "#d8576b"
             ],
             [
              0.6666666666666666,
              "#ed7953"
             ],
             [
              0.7777777777777778,
              "#fb9f3a"
             ],
             [
              0.8888888888888888,
              "#fdca26"
             ],
             [
              1,
              "#f0f921"
             ]
            ],
            "type": "contour"
           }
          ],
          "contourcarpet": [
           {
            "colorbar": {
             "outlinewidth": 0,
             "ticks": ""
            },
            "type": "contourcarpet"
           }
          ],
          "heatmap": [
           {
            "colorbar": {
             "outlinewidth": 0,
             "ticks": ""
            },
            "colorscale": [
             [
              0,
              "#0d0887"
             ],
             [
              0.1111111111111111,
              "#46039f"
             ],
             [
              0.2222222222222222,
              "#7201a8"
             ],
             [
              0.3333333333333333,
              "#9c179e"
             ],
             [
              0.4444444444444444,
              "#bd3786"
             ],
             [
              0.5555555555555556,
              "#d8576b"
             ],
             [
              0.6666666666666666,
              "#ed7953"
             ],
             [
              0.7777777777777778,
              "#fb9f3a"
             ],
             [
              0.8888888888888888,
              "#fdca26"
             ],
             [
              1,
              "#f0f921"
             ]
            ],
            "type": "heatmap"
           }
          ],
          "heatmapgl": [
           {
            "colorbar": {
             "outlinewidth": 0,
             "ticks": ""
            },
            "colorscale": [
             [
              0,
              "#0d0887"
             ],
             [
              0.1111111111111111,
              "#46039f"
             ],
             [
              0.2222222222222222,
              "#7201a8"
             ],
             [
              0.3333333333333333,
              "#9c179e"
             ],
             [
              0.4444444444444444,
              "#bd3786"
             ],
             [
              0.5555555555555556,
              "#d8576b"
             ],
             [
              0.6666666666666666,
              "#ed7953"
             ],
             [
              0.7777777777777778,
              "#fb9f3a"
             ],
             [
              0.8888888888888888,
              "#fdca26"
             ],
             [
              1,
              "#f0f921"
             ]
            ],
            "type": "heatmapgl"
           }
          ],
          "histogram": [
           {
            "marker": {
             "pattern": {
              "fillmode": "overlay",
              "size": 10,
              "solidity": 0.2
             }
            },
            "type": "histogram"
           }
          ],
          "histogram2d": [
           {
            "colorbar": {
             "outlinewidth": 0,
             "ticks": ""
            },
            "colorscale": [
             [
              0,
              "#0d0887"
             ],
             [
              0.1111111111111111,
              "#46039f"
             ],
             [
              0.2222222222222222,
              "#7201a8"
             ],
             [
              0.3333333333333333,
              "#9c179e"
             ],
             [
              0.4444444444444444,
              "#bd3786"
             ],
             [
              0.5555555555555556,
              "#d8576b"
             ],
             [
              0.6666666666666666,
              "#ed7953"
             ],
             [
              0.7777777777777778,
              "#fb9f3a"
             ],
             [
              0.8888888888888888,
              "#fdca26"
             ],
             [
              1,
              "#f0f921"
             ]
            ],
            "type": "histogram2d"
           }
          ],
          "histogram2dcontour": [
           {
            "colorbar": {
             "outlinewidth": 0,
             "ticks": ""
            },
            "colorscale": [
             [
              0,
              "#0d0887"
             ],
             [
              0.1111111111111111,
              "#46039f"
             ],
             [
              0.2222222222222222,
              "#7201a8"
             ],
             [
              0.3333333333333333,
              "#9c179e"
             ],
             [
              0.4444444444444444,
              "#bd3786"
             ],
             [
              0.5555555555555556,
              "#d8576b"
             ],
             [
              0.6666666666666666,
              "#ed7953"
             ],
             [
              0.7777777777777778,
              "#fb9f3a"
             ],
             [
              0.8888888888888888,
              "#fdca26"
             ],
             [
              1,
              "#f0f921"
             ]
            ],
            "type": "histogram2dcontour"
           }
          ],
          "mesh3d": [
           {
            "colorbar": {
             "outlinewidth": 0,
             "ticks": ""
            },
            "type": "mesh3d"
           }
          ],
          "parcoords": [
           {
            "line": {
             "colorbar": {
              "outlinewidth": 0,
              "ticks": ""
             }
            },
            "type": "parcoords"
           }
          ],
          "pie": [
           {
            "automargin": true,
            "type": "pie"
           }
          ],
          "scatter": [
           {
            "fillpattern": {
             "fillmode": "overlay",
             "size": 10,
             "solidity": 0.2
            },
            "type": "scatter"
           }
          ],
          "scatter3d": [
           {
            "line": {
             "colorbar": {
              "outlinewidth": 0,
              "ticks": ""
             }
            },
            "marker": {
             "colorbar": {
              "outlinewidth": 0,
              "ticks": ""
             }
            },
            "type": "scatter3d"
           }
          ],
          "scattercarpet": [
           {
            "marker": {
             "colorbar": {
              "outlinewidth": 0,
              "ticks": ""
             }
            },
            "type": "scattercarpet"
           }
          ],
          "scattergeo": [
           {
            "marker": {
             "colorbar": {
              "outlinewidth": 0,
              "ticks": ""
             }
            },
            "type": "scattergeo"
           }
          ],
          "scattergl": [
           {
            "marker": {
             "colorbar": {
              "outlinewidth": 0,
              "ticks": ""
             }
            },
            "type": "scattergl"
           }
          ],
          "scattermapbox": [
           {
            "marker": {
             "colorbar": {
              "outlinewidth": 0,
              "ticks": ""
             }
            },
            "type": "scattermapbox"
           }
          ],
          "scatterpolar": [
           {
            "marker": {
             "colorbar": {
              "outlinewidth": 0,
              "ticks": ""
             }
            },
            "type": "scatterpolar"
           }
          ],
          "scatterpolargl": [
           {
            "marker": {
             "colorbar": {
              "outlinewidth": 0,
              "ticks": ""
             }
            },
            "type": "scatterpolargl"
           }
          ],
          "scatterternary": [
           {
            "marker": {
             "colorbar": {
              "outlinewidth": 0,
              "ticks": ""
             }
            },
            "type": "scatterternary"
           }
          ],
          "surface": [
           {
            "colorbar": {
             "outlinewidth": 0,
             "ticks": ""
            },
            "colorscale": [
             [
              0,
              "#0d0887"
             ],
             [
              0.1111111111111111,
              "#46039f"
             ],
             [
              0.2222222222222222,
              "#7201a8"
             ],
             [
              0.3333333333333333,
              "#9c179e"
             ],
             [
              0.4444444444444444,
              "#bd3786"
             ],
             [
              0.5555555555555556,
              "#d8576b"
             ],
             [
              0.6666666666666666,
              "#ed7953"
             ],
             [
              0.7777777777777778,
              "#fb9f3a"
             ],
             [
              0.8888888888888888,
              "#fdca26"
             ],
             [
              1,
              "#f0f921"
             ]
            ],
            "type": "surface"
           }
          ],
          "table": [
           {
            "cells": {
             "fill": {
              "color": "#EBF0F8"
             },
             "line": {
              "color": "white"
             }
            },
            "header": {
             "fill": {
              "color": "#C8D4E3"
             },
             "line": {
              "color": "white"
             }
            },
            "type": "table"
           }
          ]
         },
         "layout": {
          "annotationdefaults": {
           "arrowcolor": "#2a3f5f",
           "arrowhead": 0,
           "arrowwidth": 1
          },
          "autotypenumbers": "strict",
          "coloraxis": {
           "colorbar": {
            "outlinewidth": 0,
            "ticks": ""
           }
          },
          "colorscale": {
           "diverging": [
            [
             0,
             "#8e0152"
            ],
            [
             0.1,
             "#c51b7d"
            ],
            [
             0.2,
             "#de77ae"
            ],
            [
             0.3,
             "#f1b6da"
            ],
            [
             0.4,
             "#fde0ef"
            ],
            [
             0.5,
             "#f7f7f7"
            ],
            [
             0.6,
             "#e6f5d0"
            ],
            [
             0.7,
             "#b8e186"
            ],
            [
             0.8,
             "#7fbc41"
            ],
            [
             0.9,
             "#4d9221"
            ],
            [
             1,
             "#276419"
            ]
           ],
           "sequential": [
            [
             0,
             "#0d0887"
            ],
            [
             0.1111111111111111,
             "#46039f"
            ],
            [
             0.2222222222222222,
             "#7201a8"
            ],
            [
             0.3333333333333333,
             "#9c179e"
            ],
            [
             0.4444444444444444,
             "#bd3786"
            ],
            [
             0.5555555555555556,
             "#d8576b"
            ],
            [
             0.6666666666666666,
             "#ed7953"
            ],
            [
             0.7777777777777778,
             "#fb9f3a"
            ],
            [
             0.8888888888888888,
             "#fdca26"
            ],
            [
             1,
             "#f0f921"
            ]
           ],
           "sequentialminus": [
            [
             0,
             "#0d0887"
            ],
            [
             0.1111111111111111,
             "#46039f"
            ],
            [
             0.2222222222222222,
             "#7201a8"
            ],
            [
             0.3333333333333333,
             "#9c179e"
            ],
            [
             0.4444444444444444,
             "#bd3786"
            ],
            [
             0.5555555555555556,
             "#d8576b"
            ],
            [
             0.6666666666666666,
             "#ed7953"
            ],
            [
             0.7777777777777778,
             "#fb9f3a"
            ],
            [
             0.8888888888888888,
             "#fdca26"
            ],
            [
             1,
             "#f0f921"
            ]
           ]
          },
          "colorway": [
           "#636efa",
           "#EF553B",
           "#00cc96",
           "#ab63fa",
           "#FFA15A",
           "#19d3f3",
           "#FF6692",
           "#B6E880",
           "#FF97FF",
           "#FECB52"
          ],
          "font": {
           "color": "#2a3f5f"
          },
          "geo": {
           "bgcolor": "white",
           "lakecolor": "white",
           "landcolor": "#E5ECF6",
           "showlakes": true,
           "showland": true,
           "subunitcolor": "white"
          },
          "hoverlabel": {
           "align": "left"
          },
          "hovermode": "closest",
          "mapbox": {
           "style": "light"
          },
          "paper_bgcolor": "white",
          "plot_bgcolor": "#E5ECF6",
          "polar": {
           "angularaxis": {
            "gridcolor": "white",
            "linecolor": "white",
            "ticks": ""
           },
           "bgcolor": "#E5ECF6",
           "radialaxis": {
            "gridcolor": "white",
            "linecolor": "white",
            "ticks": ""
           }
          },
          "scene": {
           "xaxis": {
            "backgroundcolor": "#E5ECF6",
            "gridcolor": "white",
            "gridwidth": 2,
            "linecolor": "white",
            "showbackground": true,
            "ticks": "",
            "zerolinecolor": "white"
           },
           "yaxis": {
            "backgroundcolor": "#E5ECF6",
            "gridcolor": "white",
            "gridwidth": 2,
            "linecolor": "white",
            "showbackground": true,
            "ticks": "",
            "zerolinecolor": "white"
           },
           "zaxis": {
            "backgroundcolor": "#E5ECF6",
            "gridcolor": "white",
            "gridwidth": 2,
            "linecolor": "white",
            "showbackground": true,
            "ticks": "",
            "zerolinecolor": "white"
           }
          },
          "shapedefaults": {
           "line": {
            "color": "#2a3f5f"
           }
          },
          "ternary": {
           "aaxis": {
            "gridcolor": "white",
            "linecolor": "white",
            "ticks": ""
           },
           "baxis": {
            "gridcolor": "white",
            "linecolor": "white",
            "ticks": ""
           },
           "bgcolor": "#E5ECF6",
           "caxis": {
            "gridcolor": "white",
            "linecolor": "white",
            "ticks": ""
           }
          },
          "title": {
           "x": 0.05
          },
          "xaxis": {
           "automargin": true,
           "gridcolor": "white",
           "linecolor": "white",
           "ticks": "",
           "title": {
            "standoff": 15
           },
           "zerolinecolor": "white",
           "zerolinewidth": 2
          },
          "yaxis": {
           "automargin": true,
           "gridcolor": "white",
           "linecolor": "white",
           "ticks": "",
           "title": {
            "standoff": 15
           },
           "zerolinecolor": "white",
           "zerolinewidth": 2
          }
         }
        },
        "title": {
         "font": {
          "family": "Arial",
          "size": 20
         },
         "text": "Porcentaje de Victoria de Manos Preflop Exactas",
         "x": 0.5
        },
        "xaxis": {
         "anchor": "y",
         "domain": [
          0,
          1
         ],
         "title": {
          "text": "Fuerza de la Mano"
         }
        },
        "yaxis": {
         "anchor": "x",
         "domain": [
          0,
          1
         ],
         "title": {
          "text": "Porcentaje de Victoria"
         }
        }
       }
      }
     },
     "metadata": {},
     "output_type": "display_data"
    }
   ],
   "source": [
    "# Creamos una métrica para el eje X: fuerza de la mano\n",
    "card_values = {str(i): i for i in range(2, 10)}\n",
    "card_values.update({'10': 10, 'J': 11, 'Q': 12, 'K': 13, 'A': 14})\n",
    "\n",
    "def hand_strength(hand):\n",
    "    cards = eval(hand)\n",
    "    return sum(card_values[card[:-1]] for card in cards)\n",
    "\n",
    "scatter_data = victory_rate_by_hand.reset_index()\n",
    "scatter_data.columns = ['Cartas', 'Win Rate']\n",
    "scatter_data['Strength'] = scatter_data['Cartas'].apply(hand_strength)\n",
    "\n",
    "# Categorizamos las manos para colorear el scatterplot\n",
    "def categorize_hand(hand):\n",
    "    cards = eval(hand)\n",
    "    values = [card[:-1] for card in cards]\n",
    "    suits = [card[-1] for card in cards]\n",
    "    value_ranks = sorted([card_values[v] for v in values])\n",
    "    \n",
    "    if values[0] == values[1]:\n",
    "        return \"Parejas\"\n",
    "    elif suits[0] == suits[1]:\n",
    "        if abs(value_ranks[1] - value_ranks[0]) == 1:\n",
    "            return \"Conectores Suited\"\n",
    "        else:\n",
    "            return \"Cartas Distintas Suited\"\n",
    "    else:\n",
    "        if abs(value_ranks[1] - value_ranks[0]) == 1:\n",
    "            return \"Conectores Offsuit\"\n",
    "        else:\n",
    "            return \"Cartas Distintas Offsuit\"\n",
    "\n",
    "# Guardamos la categoría en el dataframe\n",
    "scatter_data['Category'] = scatter_data['Cartas'].apply(categorize_hand)\n",
    "\n",
    "# Creamos el scatterplot con la categoría como color\n",
    "fig = px.scatter(\n",
    "    scatter_data,\n",
    "    x='Strength',\n",
    "    y='Win Rate',\n",
    "    color='Category',\n",
    "    hover_data={\n",
    "        'Cartas': True,\n",
    "        'Win Rate': ':.2f',\n",
    "    },\n",
    "    title=\"Porcentaje de Victoria de Manos Preflop Exactas\",\n",
    "    labels={\"Strength\": \"Fuerza de la Mano\", \"Win Rate\": \"Porcentaje de Victoria\", \"Category\": \"Categoría\"},\n",
    "    color_discrete_map={\n",
    "        \"Parejas\": \"blue\",\n",
    "        \"Cartas Distintas Offsuit\": \"orange\",\n",
    "        \"Cartas Distintas Suited\": \"green\",\n",
    "        \"Conectores Suited\": \"purple\",\n",
    "        \"Conectores Offsuit\": \"red\",\n",
    "    }\n",
    ")\n",
    "\n",
    "# Agregamos la recta de regresión lineal como referencia\n",
    "average_expected_rate = df['expected_win_rate'].mean()\n",
    "fig.add_shape(\n",
    "    type=\"line\",\n",
    "    x0=scatter_data['Strength'].min(),\n",
    "    y0=average_expected_rate,\n",
    "    x1=scatter_data['Strength'].max(),\n",
    "    y1=average_expected_rate,\n",
    "    line=dict(color=\"Red\", width=2, dash=\"dash\"),\n",
    "    xref=\"x\",\n",
    "    yref=\"y\"\n",
    ")\n",
    "\n",
    "# Añadimos una anotación con la probabilidad media esperada\n",
    "fig.add_annotation(\n",
    "    x=scatter_data['Strength'].mean(),  \n",
    "    y=average_expected_rate * 2,\n",
    "    xref=\"x\",\n",
    "    yref=\"y\",\n",
    "    text=f\"Probabilidad media esperada ({average_expected_rate:.2f}%)\",\n",
    "    showarrow=False,\n",
    "    font=dict(color=\"Red\", size=14),\n",
    "    align=\"center\",\n",
    "    bgcolor=\"white\",\n",
    "    bordercolor=\"red\",\n",
    "    borderwidth=1,\n",
    "    opacity=0.8\n",
    ")\n",
    "\n",
    "# Ajustamos el diseño del gráfico\n",
    "fig.update_traces(marker=dict(size=8, opacity=0.8, line=dict(width=1, color='DarkSlateGrey')))\n",
    "fig.update_layout(\n",
    "    legend=dict(title=\"Categoría de Mano\"),\n",
    "    title=dict(font=dict(size=20, family=\"Arial\"), x=0.5),\n",
    "    margin=dict(l=40, r=40, t=60, b=40)\n",
    ")\n",
    "\n",
    "# Mostrar el gráfico\n",
    "fig.show()"
   ]
  },
  {
   "cell_type": "markdown",
   "metadata": {},
   "source": [
    "##### **Análisis del porcentaje de victoria de cada mano**\n",
    "\n",
    "Gracias a este Scatterplot estamos viendo a primer golpe de vista que la mano con menos proporción de victoria es el [2, 6] Offsuit. En el caso de nuestro dataset (recuerda que este porcentaje exacto varía si vuelves a generar el dataset con 2 millones de manos simuladas) el porcentaje de victoria de esta mano es del 10.24% mientras que, evidentemente, la mano más fuerte [A, A] tiene una tasa de victoria de en torno al 55% cada combinación de manos [A, A]\n",
    "\n",
    "También se puede apreciar muy rapido que en cada nivel de fuerza de la mano (la medimos por la suma de los números de las dos cartas) las parejas predominan en todos los niveles de fuerza par, ya que en el impar es imposible formar una pareja. Sin embargo, en todos los niveles vemos que las peores manos siempre están representadas por las cartas distintas suited.\n",
    "\n",
    "En resumen, si te tiran All In preflop, ten muy en cuenta esta estadística para plantearte ver el All In estríctamente si la mano que posees tiene un % de victoria por encima de la recta de regresión."
   ]
  },
  {
   "cell_type": "markdown",
   "metadata": {},
   "source": [
    "### 2. **Tipos de manos finales**"
   ]
  },
  {
   "cell_type": "markdown",
   "metadata": {},
   "source": [
    "#### 2.1 ¿Cuál es la proporción de cada tipo de mano que se forma al final de una mano de Poker?"
   ]
  },
  {
   "cell_type": "code",
   "execution_count": 12,
   "metadata": {},
   "outputs": [],
   "source": [
    "# Calculamos la proporción de cada tipo de mano final\n",
    "hand_type_distribution = df['mano_river'].value_counts(normalize=True) * 100\n",
    "hand_type_distribution = hand_type_distribution.reset_index()\n",
    "hand_type_distribution.columns = ['Tipo de Mano', 'Proporción (%)']"
   ]
  },
  {
   "cell_type": "code",
   "execution_count": 13,
   "metadata": {},
   "outputs": [
    {
     "data": {
      "application/vnd.plotly.v1+json": {
       "config": {
        "plotlyServerURL": "https://plot.ly"
       },
       "data": [
        {
         "customdata": [
          [
           "Pareja"
          ],
          [
           "Doble Pareja"
          ],
          [
           "Carta Alta"
          ],
          [
           "Trío"
          ],
          [
           "Escalera"
          ],
          [
           "Color"
          ],
          [
           "Full House"
          ],
          [
           "Póker"
          ],
          [
           "Escalera de Color"
          ],
          [
           "Escalera Real"
          ]
         ],
         "domain": {
          "x": [
           0,
           1
          ],
          "y": [
           0,
           1
          ]
         },
         "hole": 0.4,
         "hovertemplate": "Tipo de Mano=%{customdata[0]}<br>Proporción (%)=%{value}<extra></extra>",
         "labels": [
          "Pareja",
          "Doble Pareja",
          "Carta Alta",
          "Trío",
          "Escalera",
          "Color",
          "Full House",
          "Póker",
          "Escalera de Color",
          "Escalera Real"
         ],
         "legendgroup": "",
         "marker": {
          "colors": [
           "rgb(102,194,165)",
           "rgb(252,141,98)",
           "rgb(141,160,203)",
           "rgb(231,138,195)",
           "rgb(166,216,84)",
           "rgb(255,217,47)",
           "rgb(229,196,148)",
           "rgb(179,179,179)",
           "rgb(102,194,165)",
           "rgb(252,141,98)"
          ]
         },
         "name": "",
         "showlegend": true,
         "type": "pie",
         "values": [
          43.793549999999996,
          23.49725,
          17.41835,
          4.855099999999999,
          4.6063,
          3.02685,
          2.6094,
          0.16365,
          0.0263,
          0.00325
         ]
        }
       ],
       "layout": {
        "annotations": [
         {
          "font": {
           "family": "Arial",
           "size": 15
          },
          "showarrow": false,
          "text": "Total: 2,000,000 manos",
          "x": 0.5,
          "y": 1.1
         }
        ],
        "legend": {
         "tracegroupgap": 0
        },
        "piecolorway": [
         "rgb(102,194,165)",
         "rgb(252,141,98)",
         "rgb(141,160,203)",
         "rgb(231,138,195)",
         "rgb(166,216,84)",
         "rgb(255,217,47)",
         "rgb(229,196,148)",
         "rgb(179,179,179)"
        ],
        "template": {
         "data": {
          "bar": [
           {
            "error_x": {
             "color": "#2a3f5f"
            },
            "error_y": {
             "color": "#2a3f5f"
            },
            "marker": {
             "line": {
              "color": "#E5ECF6",
              "width": 0.5
             },
             "pattern": {
              "fillmode": "overlay",
              "size": 10,
              "solidity": 0.2
             }
            },
            "type": "bar"
           }
          ],
          "barpolar": [
           {
            "marker": {
             "line": {
              "color": "#E5ECF6",
              "width": 0.5
             },
             "pattern": {
              "fillmode": "overlay",
              "size": 10,
              "solidity": 0.2
             }
            },
            "type": "barpolar"
           }
          ],
          "carpet": [
           {
            "aaxis": {
             "endlinecolor": "#2a3f5f",
             "gridcolor": "white",
             "linecolor": "white",
             "minorgridcolor": "white",
             "startlinecolor": "#2a3f5f"
            },
            "baxis": {
             "endlinecolor": "#2a3f5f",
             "gridcolor": "white",
             "linecolor": "white",
             "minorgridcolor": "white",
             "startlinecolor": "#2a3f5f"
            },
            "type": "carpet"
           }
          ],
          "choropleth": [
           {
            "colorbar": {
             "outlinewidth": 0,
             "ticks": ""
            },
            "type": "choropleth"
           }
          ],
          "contour": [
           {
            "colorbar": {
             "outlinewidth": 0,
             "ticks": ""
            },
            "colorscale": [
             [
              0,
              "#0d0887"
             ],
             [
              0.1111111111111111,
              "#46039f"
             ],
             [
              0.2222222222222222,
              "#7201a8"
             ],
             [
              0.3333333333333333,
              "#9c179e"
             ],
             [
              0.4444444444444444,
              "#bd3786"
             ],
             [
              0.5555555555555556,
              "#d8576b"
             ],
             [
              0.6666666666666666,
              "#ed7953"
             ],
             [
              0.7777777777777778,
              "#fb9f3a"
             ],
             [
              0.8888888888888888,
              "#fdca26"
             ],
             [
              1,
              "#f0f921"
             ]
            ],
            "type": "contour"
           }
          ],
          "contourcarpet": [
           {
            "colorbar": {
             "outlinewidth": 0,
             "ticks": ""
            },
            "type": "contourcarpet"
           }
          ],
          "heatmap": [
           {
            "colorbar": {
             "outlinewidth": 0,
             "ticks": ""
            },
            "colorscale": [
             [
              0,
              "#0d0887"
             ],
             [
              0.1111111111111111,
              "#46039f"
             ],
             [
              0.2222222222222222,
              "#7201a8"
             ],
             [
              0.3333333333333333,
              "#9c179e"
             ],
             [
              0.4444444444444444,
              "#bd3786"
             ],
             [
              0.5555555555555556,
              "#d8576b"
             ],
             [
              0.6666666666666666,
              "#ed7953"
             ],
             [
              0.7777777777777778,
              "#fb9f3a"
             ],
             [
              0.8888888888888888,
              "#fdca26"
             ],
             [
              1,
              "#f0f921"
             ]
            ],
            "type": "heatmap"
           }
          ],
          "heatmapgl": [
           {
            "colorbar": {
             "outlinewidth": 0,
             "ticks": ""
            },
            "colorscale": [
             [
              0,
              "#0d0887"
             ],
             [
              0.1111111111111111,
              "#46039f"
             ],
             [
              0.2222222222222222,
              "#7201a8"
             ],
             [
              0.3333333333333333,
              "#9c179e"
             ],
             [
              0.4444444444444444,
              "#bd3786"
             ],
             [
              0.5555555555555556,
              "#d8576b"
             ],
             [
              0.6666666666666666,
              "#ed7953"
             ],
             [
              0.7777777777777778,
              "#fb9f3a"
             ],
             [
              0.8888888888888888,
              "#fdca26"
             ],
             [
              1,
              "#f0f921"
             ]
            ],
            "type": "heatmapgl"
           }
          ],
          "histogram": [
           {
            "marker": {
             "pattern": {
              "fillmode": "overlay",
              "size": 10,
              "solidity": 0.2
             }
            },
            "type": "histogram"
           }
          ],
          "histogram2d": [
           {
            "colorbar": {
             "outlinewidth": 0,
             "ticks": ""
            },
            "colorscale": [
             [
              0,
              "#0d0887"
             ],
             [
              0.1111111111111111,
              "#46039f"
             ],
             [
              0.2222222222222222,
              "#7201a8"
             ],
             [
              0.3333333333333333,
              "#9c179e"
             ],
             [
              0.4444444444444444,
              "#bd3786"
             ],
             [
              0.5555555555555556,
              "#d8576b"
             ],
             [
              0.6666666666666666,
              "#ed7953"
             ],
             [
              0.7777777777777778,
              "#fb9f3a"
             ],
             [
              0.8888888888888888,
              "#fdca26"
             ],
             [
              1,
              "#f0f921"
             ]
            ],
            "type": "histogram2d"
           }
          ],
          "histogram2dcontour": [
           {
            "colorbar": {
             "outlinewidth": 0,
             "ticks": ""
            },
            "colorscale": [
             [
              0,
              "#0d0887"
             ],
             [
              0.1111111111111111,
              "#46039f"
             ],
             [
              0.2222222222222222,
              "#7201a8"
             ],
             [
              0.3333333333333333,
              "#9c179e"
             ],
             [
              0.4444444444444444,
              "#bd3786"
             ],
             [
              0.5555555555555556,
              "#d8576b"
             ],
             [
              0.6666666666666666,
              "#ed7953"
             ],
             [
              0.7777777777777778,
              "#fb9f3a"
             ],
             [
              0.8888888888888888,
              "#fdca26"
             ],
             [
              1,
              "#f0f921"
             ]
            ],
            "type": "histogram2dcontour"
           }
          ],
          "mesh3d": [
           {
            "colorbar": {
             "outlinewidth": 0,
             "ticks": ""
            },
            "type": "mesh3d"
           }
          ],
          "parcoords": [
           {
            "line": {
             "colorbar": {
              "outlinewidth": 0,
              "ticks": ""
             }
            },
            "type": "parcoords"
           }
          ],
          "pie": [
           {
            "automargin": true,
            "type": "pie"
           }
          ],
          "scatter": [
           {
            "fillpattern": {
             "fillmode": "overlay",
             "size": 10,
             "solidity": 0.2
            },
            "type": "scatter"
           }
          ],
          "scatter3d": [
           {
            "line": {
             "colorbar": {
              "outlinewidth": 0,
              "ticks": ""
             }
            },
            "marker": {
             "colorbar": {
              "outlinewidth": 0,
              "ticks": ""
             }
            },
            "type": "scatter3d"
           }
          ],
          "scattercarpet": [
           {
            "marker": {
             "colorbar": {
              "outlinewidth": 0,
              "ticks": ""
             }
            },
            "type": "scattercarpet"
           }
          ],
          "scattergeo": [
           {
            "marker": {
             "colorbar": {
              "outlinewidth": 0,
              "ticks": ""
             }
            },
            "type": "scattergeo"
           }
          ],
          "scattergl": [
           {
            "marker": {
             "colorbar": {
              "outlinewidth": 0,
              "ticks": ""
             }
            },
            "type": "scattergl"
           }
          ],
          "scattermapbox": [
           {
            "marker": {
             "colorbar": {
              "outlinewidth": 0,
              "ticks": ""
             }
            },
            "type": "scattermapbox"
           }
          ],
          "scatterpolar": [
           {
            "marker": {
             "colorbar": {
              "outlinewidth": 0,
              "ticks": ""
             }
            },
            "type": "scatterpolar"
           }
          ],
          "scatterpolargl": [
           {
            "marker": {
             "colorbar": {
              "outlinewidth": 0,
              "ticks": ""
             }
            },
            "type": "scatterpolargl"
           }
          ],
          "scatterternary": [
           {
            "marker": {
             "colorbar": {
              "outlinewidth": 0,
              "ticks": ""
             }
            },
            "type": "scatterternary"
           }
          ],
          "surface": [
           {
            "colorbar": {
             "outlinewidth": 0,
             "ticks": ""
            },
            "colorscale": [
             [
              0,
              "#0d0887"
             ],
             [
              0.1111111111111111,
              "#46039f"
             ],
             [
              0.2222222222222222,
              "#7201a8"
             ],
             [
              0.3333333333333333,
              "#9c179e"
             ],
             [
              0.4444444444444444,
              "#bd3786"
             ],
             [
              0.5555555555555556,
              "#d8576b"
             ],
             [
              0.6666666666666666,
              "#ed7953"
             ],
             [
              0.7777777777777778,
              "#fb9f3a"
             ],
             [
              0.8888888888888888,
              "#fdca26"
             ],
             [
              1,
              "#f0f921"
             ]
            ],
            "type": "surface"
           }
          ],
          "table": [
           {
            "cells": {
             "fill": {
              "color": "#EBF0F8"
             },
             "line": {
              "color": "white"
             }
            },
            "header": {
             "fill": {
              "color": "#C8D4E3"
             },
             "line": {
              "color": "white"
             }
            },
            "type": "table"
           }
          ]
         },
         "layout": {
          "annotationdefaults": {
           "arrowcolor": "#2a3f5f",
           "arrowhead": 0,
           "arrowwidth": 1
          },
          "autotypenumbers": "strict",
          "coloraxis": {
           "colorbar": {
            "outlinewidth": 0,
            "ticks": ""
           }
          },
          "colorscale": {
           "diverging": [
            [
             0,
             "#8e0152"
            ],
            [
             0.1,
             "#c51b7d"
            ],
            [
             0.2,
             "#de77ae"
            ],
            [
             0.3,
             "#f1b6da"
            ],
            [
             0.4,
             "#fde0ef"
            ],
            [
             0.5,
             "#f7f7f7"
            ],
            [
             0.6,
             "#e6f5d0"
            ],
            [
             0.7,
             "#b8e186"
            ],
            [
             0.8,
             "#7fbc41"
            ],
            [
             0.9,
             "#4d9221"
            ],
            [
             1,
             "#276419"
            ]
           ],
           "sequential": [
            [
             0,
             "#0d0887"
            ],
            [
             0.1111111111111111,
             "#46039f"
            ],
            [
             0.2222222222222222,
             "#7201a8"
            ],
            [
             0.3333333333333333,
             "#9c179e"
            ],
            [
             0.4444444444444444,
             "#bd3786"
            ],
            [
             0.5555555555555556,
             "#d8576b"
            ],
            [
             0.6666666666666666,
             "#ed7953"
            ],
            [
             0.7777777777777778,
             "#fb9f3a"
            ],
            [
             0.8888888888888888,
             "#fdca26"
            ],
            [
             1,
             "#f0f921"
            ]
           ],
           "sequentialminus": [
            [
             0,
             "#0d0887"
            ],
            [
             0.1111111111111111,
             "#46039f"
            ],
            [
             0.2222222222222222,
             "#7201a8"
            ],
            [
             0.3333333333333333,
             "#9c179e"
            ],
            [
             0.4444444444444444,
             "#bd3786"
            ],
            [
             0.5555555555555556,
             "#d8576b"
            ],
            [
             0.6666666666666666,
             "#ed7953"
            ],
            [
             0.7777777777777778,
             "#fb9f3a"
            ],
            [
             0.8888888888888888,
             "#fdca26"
            ],
            [
             1,
             "#f0f921"
            ]
           ]
          },
          "colorway": [
           "#636efa",
           "#EF553B",
           "#00cc96",
           "#ab63fa",
           "#FFA15A",
           "#19d3f3",
           "#FF6692",
           "#B6E880",
           "#FF97FF",
           "#FECB52"
          ],
          "font": {
           "color": "#2a3f5f"
          },
          "geo": {
           "bgcolor": "white",
           "lakecolor": "white",
           "landcolor": "#E5ECF6",
           "showlakes": true,
           "showland": true,
           "subunitcolor": "white"
          },
          "hoverlabel": {
           "align": "left"
          },
          "hovermode": "closest",
          "mapbox": {
           "style": "light"
          },
          "paper_bgcolor": "white",
          "plot_bgcolor": "#E5ECF6",
          "polar": {
           "angularaxis": {
            "gridcolor": "white",
            "linecolor": "white",
            "ticks": ""
           },
           "bgcolor": "#E5ECF6",
           "radialaxis": {
            "gridcolor": "white",
            "linecolor": "white",
            "ticks": ""
           }
          },
          "scene": {
           "xaxis": {
            "backgroundcolor": "#E5ECF6",
            "gridcolor": "white",
            "gridwidth": 2,
            "linecolor": "white",
            "showbackground": true,
            "ticks": "",
            "zerolinecolor": "white"
           },
           "yaxis": {
            "backgroundcolor": "#E5ECF6",
            "gridcolor": "white",
            "gridwidth": 2,
            "linecolor": "white",
            "showbackground": true,
            "ticks": "",
            "zerolinecolor": "white"
           },
           "zaxis": {
            "backgroundcolor": "#E5ECF6",
            "gridcolor": "white",
            "gridwidth": 2,
            "linecolor": "white",
            "showbackground": true,
            "ticks": "",
            "zerolinecolor": "white"
           }
          },
          "shapedefaults": {
           "line": {
            "color": "#2a3f5f"
           }
          },
          "ternary": {
           "aaxis": {
            "gridcolor": "white",
            "linecolor": "white",
            "ticks": ""
           },
           "baxis": {
            "gridcolor": "white",
            "linecolor": "white",
            "ticks": ""
           },
           "bgcolor": "#E5ECF6",
           "caxis": {
            "gridcolor": "white",
            "linecolor": "white",
            "ticks": ""
           }
          },
          "title": {
           "x": 0.05
          },
          "xaxis": {
           "automargin": true,
           "gridcolor": "white",
           "linecolor": "white",
           "ticks": "",
           "title": {
            "standoff": 15
           },
           "zerolinecolor": "white",
           "zerolinewidth": 2
          },
          "yaxis": {
           "automargin": true,
           "gridcolor": "white",
           "linecolor": "white",
           "ticks": "",
           "title": {
            "standoff": 15
           },
           "zerolinecolor": "white",
           "zerolinewidth": 2
          }
         }
        },
        "title": {
         "font": {
          "family": "Arial",
          "size": 20
         },
         "text": "Proporción de Cada Tipo de Mano Final",
         "x": 0.5
        }
       }
      }
     },
     "metadata": {},
     "output_type": "display_data"
    }
   ],
   "source": [
    "# Visualización en un gráfico de rosquilla\n",
    "fig = px.pie(\n",
    "    hand_type_distribution,\n",
    "    names='Tipo de Mano',\n",
    "    values='Proporción (%)',\n",
    "    title='Proporción de Cada Tipo de Mano Final',\n",
    "    hole=0.4,\n",
    "    color='Tipo de Mano',\n",
    "    color_discrete_sequence=px.colors.qualitative.Set2\n",
    ")\n",
    "\n",
    "# Diseño\n",
    "fig.update_layout(\n",
    "    title=dict(font=dict(size=20, family=\"Arial\"), x=0.5),\n",
    "    annotations=[\n",
    "        dict(\n",
    "            text=f\"Total: {df.shape[0]:,} manos\",\n",
    "            x=0.5, y=1.1,\n",
    "            font=dict(size=15, family=\"Arial\"),\n",
    "            showarrow=False\n",
    "        )\n",
    "    ]\n",
    ")\n",
    "\n",
    "fig.show()"
   ]
  },
  {
   "cell_type": "markdown",
   "metadata": {},
   "source": [
    "##### **Análisis de las proporciones de cada tipo de mano final**\n",
    "\n",
    "En este gráfico de Rosquilla, hemos observado que el tipo de mano mas frecuente con diferencia es la *Pareja*. Esto tiene mucho sentido ya que para conseguir este tipo de mano sólo tienes que conectar 2 cartas iguales entre las 7 posibles cartas de la mano.\n",
    "\n",
    "A este tipo de mano le siguen las *Dobles Parejas* y la *Carta Alta* con porcentajes bastante similares. Es sorprendente ver que sean más frecuenten las *Dobles Parejas* que la *Carta Alta* pero tiene todo el sentido del mundo.\n",
    "\n",
    "Finalmente vemos manos como *Trío* y *Escalera* que son muy parecidas porcentualmente. A estas manos las siguen también muy similares, el *Color* y el *Full House* con porcentajes bastante similares, y por último tenemos las tres manos menos probables que son *Poker*, *Escalera de Color* y *Escalera Real* con porcentajes tan bajos que no suman ni un 0.25% entre las 3. Son manos realmente poco comunes."
   ]
  },
  {
   "cell_type": "markdown",
   "metadata": {},
   "source": [
    "#### 2.2 ¿Cuál es la probabilidad de victoria asociada con cada tipo de mano final?"
   ]
  },
  {
   "cell_type": "markdown",
   "metadata": {},
   "source": [
    "Una vez analizada la rareza de cada mano, queremos ver cómo de probable es ser la mano mas fuerte de la partida con cada uno de los tipos de manos. posibles"
   ]
  },
  {
   "cell_type": "code",
   "execution_count": 14,
   "metadata": {},
   "outputs": [],
   "source": [
    "# Calculamos la proporción de victorias por tipo de mano final y convertimos a porcentaje\n",
    "victory_rate_by_hand_type = (\n",
    "    df.groupby('mano_river')['resultado_bin']\n",
    "    .mean()\n",
    "    .reset_index()\n",
    "    .rename(columns={'resultado_bin': 'Win Rate'})\n",
    "    .sort_values(by='Win Rate', ascending=False)\n",
    ")\n",
    "\n",
    "victory_rate_by_hand_type['Win Rate'] *= 100"
   ]
  },
  {
   "cell_type": "code",
   "execution_count": 15,
   "metadata": {},
   "outputs": [
    {
     "data": {
      "application/vnd.plotly.v1+json": {
       "config": {
        "plotlyServerURL": "https://plot.ly"
       },
       "data": [
        {
         "alignmentgroup": "True",
         "hovertemplate": "Proporción de Victoria (%)=%{marker.color}<br>Tipo de Mano Final=%{y}<extra></extra>",
         "legendgroup": "",
         "marker": {
          "color": [
           93.84615384615384,
           92.39543726235742,
           86.86220592728384,
           69.02736261209473,
           64.11285660009581,
           54.85964874194038,
           50.80327902617866,
           28.635691410696996,
           12.56520652013824,
           2.5054037839404995
          ],
          "coloraxis": "coloraxis",
          "line": {
           "color": "black",
           "width": 0.5
          },
          "opacity": 0.85,
          "pattern": {
           "shape": ""
          }
         },
         "name": "",
         "offsetgroup": "",
         "orientation": "h",
         "showlegend": false,
         "text": [
          93.84615384615384,
          92.39543726235742,
          86.86220592728384,
          69.02736261209473,
          64.11285660009581,
          54.85964874194038,
          50.80327902617866,
          28.635691410696996,
          12.56520652013824,
          2.5054037839404995
         ],
         "textposition": "outside",
         "texttemplate": "%{text:.2f}%",
         "type": "bar",
         "x": [
          93.84615384615384,
          92.39543726235742,
          86.86220592728384,
          69.02736261209473,
          64.11285660009581,
          54.85964874194038,
          50.80327902617866,
          28.635691410696996,
          12.56520652013824,
          2.5054037839404995
         ],
         "xaxis": "x",
         "y": [
          "Escalera Real",
          "Escalera de Color",
          "Póker",
          "Full House",
          "Color",
          "Escalera",
          "Trío",
          "Doble Pareja",
          "Pareja",
          "Carta Alta"
         ],
         "yaxis": "y"
        }
       ],
       "layout": {
        "barmode": "relative",
        "coloraxis": {
         "colorbar": {
          "title": {
           "text": "Proporción de Victoria (%)"
          }
         },
         "colorscale": [
          [
           0,
           "#440154"
          ],
          [
           0.1111111111111111,
           "#482878"
          ],
          [
           0.2222222222222222,
           "#3e4989"
          ],
          [
           0.3333333333333333,
           "#31688e"
          ],
          [
           0.4444444444444444,
           "#26828e"
          ],
          [
           0.5555555555555556,
           "#1f9e89"
          ],
          [
           0.6666666666666666,
           "#35b779"
          ],
          [
           0.7777777777777778,
           "#6ece58"
          ],
          [
           0.8888888888888888,
           "#b5de2b"
          ],
          [
           1,
           "#fde725"
          ]
         ],
         "showscale": false
        },
        "legend": {
         "tracegroupgap": 0
        },
        "margin": {
         "b": 50,
         "l": 100,
         "r": 50,
         "t": 80
        },
        "plot_bgcolor": "White",
        "template": {
         "data": {
          "bar": [
           {
            "error_x": {
             "color": "#2a3f5f"
            },
            "error_y": {
             "color": "#2a3f5f"
            },
            "marker": {
             "line": {
              "color": "#E5ECF6",
              "width": 0.5
             },
             "pattern": {
              "fillmode": "overlay",
              "size": 10,
              "solidity": 0.2
             }
            },
            "type": "bar"
           }
          ],
          "barpolar": [
           {
            "marker": {
             "line": {
              "color": "#E5ECF6",
              "width": 0.5
             },
             "pattern": {
              "fillmode": "overlay",
              "size": 10,
              "solidity": 0.2
             }
            },
            "type": "barpolar"
           }
          ],
          "carpet": [
           {
            "aaxis": {
             "endlinecolor": "#2a3f5f",
             "gridcolor": "white",
             "linecolor": "white",
             "minorgridcolor": "white",
             "startlinecolor": "#2a3f5f"
            },
            "baxis": {
             "endlinecolor": "#2a3f5f",
             "gridcolor": "white",
             "linecolor": "white",
             "minorgridcolor": "white",
             "startlinecolor": "#2a3f5f"
            },
            "type": "carpet"
           }
          ],
          "choropleth": [
           {
            "colorbar": {
             "outlinewidth": 0,
             "ticks": ""
            },
            "type": "choropleth"
           }
          ],
          "contour": [
           {
            "colorbar": {
             "outlinewidth": 0,
             "ticks": ""
            },
            "colorscale": [
             [
              0,
              "#0d0887"
             ],
             [
              0.1111111111111111,
              "#46039f"
             ],
             [
              0.2222222222222222,
              "#7201a8"
             ],
             [
              0.3333333333333333,
              "#9c179e"
             ],
             [
              0.4444444444444444,
              "#bd3786"
             ],
             [
              0.5555555555555556,
              "#d8576b"
             ],
             [
              0.6666666666666666,
              "#ed7953"
             ],
             [
              0.7777777777777778,
              "#fb9f3a"
             ],
             [
              0.8888888888888888,
              "#fdca26"
             ],
             [
              1,
              "#f0f921"
             ]
            ],
            "type": "contour"
           }
          ],
          "contourcarpet": [
           {
            "colorbar": {
             "outlinewidth": 0,
             "ticks": ""
            },
            "type": "contourcarpet"
           }
          ],
          "heatmap": [
           {
            "colorbar": {
             "outlinewidth": 0,
             "ticks": ""
            },
            "colorscale": [
             [
              0,
              "#0d0887"
             ],
             [
              0.1111111111111111,
              "#46039f"
             ],
             [
              0.2222222222222222,
              "#7201a8"
             ],
             [
              0.3333333333333333,
              "#9c179e"
             ],
             [
              0.4444444444444444,
              "#bd3786"
             ],
             [
              0.5555555555555556,
              "#d8576b"
             ],
             [
              0.6666666666666666,
              "#ed7953"
             ],
             [
              0.7777777777777778,
              "#fb9f3a"
             ],
             [
              0.8888888888888888,
              "#fdca26"
             ],
             [
              1,
              "#f0f921"
             ]
            ],
            "type": "heatmap"
           }
          ],
          "heatmapgl": [
           {
            "colorbar": {
             "outlinewidth": 0,
             "ticks": ""
            },
            "colorscale": [
             [
              0,
              "#0d0887"
             ],
             [
              0.1111111111111111,
              "#46039f"
             ],
             [
              0.2222222222222222,
              "#7201a8"
             ],
             [
              0.3333333333333333,
              "#9c179e"
             ],
             [
              0.4444444444444444,
              "#bd3786"
             ],
             [
              0.5555555555555556,
              "#d8576b"
             ],
             [
              0.6666666666666666,
              "#ed7953"
             ],
             [
              0.7777777777777778,
              "#fb9f3a"
             ],
             [
              0.8888888888888888,
              "#fdca26"
             ],
             [
              1,
              "#f0f921"
             ]
            ],
            "type": "heatmapgl"
           }
          ],
          "histogram": [
           {
            "marker": {
             "pattern": {
              "fillmode": "overlay",
              "size": 10,
              "solidity": 0.2
             }
            },
            "type": "histogram"
           }
          ],
          "histogram2d": [
           {
            "colorbar": {
             "outlinewidth": 0,
             "ticks": ""
            },
            "colorscale": [
             [
              0,
              "#0d0887"
             ],
             [
              0.1111111111111111,
              "#46039f"
             ],
             [
              0.2222222222222222,
              "#7201a8"
             ],
             [
              0.3333333333333333,
              "#9c179e"
             ],
             [
              0.4444444444444444,
              "#bd3786"
             ],
             [
              0.5555555555555556,
              "#d8576b"
             ],
             [
              0.6666666666666666,
              "#ed7953"
             ],
             [
              0.7777777777777778,
              "#fb9f3a"
             ],
             [
              0.8888888888888888,
              "#fdca26"
             ],
             [
              1,
              "#f0f921"
             ]
            ],
            "type": "histogram2d"
           }
          ],
          "histogram2dcontour": [
           {
            "colorbar": {
             "outlinewidth": 0,
             "ticks": ""
            },
            "colorscale": [
             [
              0,
              "#0d0887"
             ],
             [
              0.1111111111111111,
              "#46039f"
             ],
             [
              0.2222222222222222,
              "#7201a8"
             ],
             [
              0.3333333333333333,
              "#9c179e"
             ],
             [
              0.4444444444444444,
              "#bd3786"
             ],
             [
              0.5555555555555556,
              "#d8576b"
             ],
             [
              0.6666666666666666,
              "#ed7953"
             ],
             [
              0.7777777777777778,
              "#fb9f3a"
             ],
             [
              0.8888888888888888,
              "#fdca26"
             ],
             [
              1,
              "#f0f921"
             ]
            ],
            "type": "histogram2dcontour"
           }
          ],
          "mesh3d": [
           {
            "colorbar": {
             "outlinewidth": 0,
             "ticks": ""
            },
            "type": "mesh3d"
           }
          ],
          "parcoords": [
           {
            "line": {
             "colorbar": {
              "outlinewidth": 0,
              "ticks": ""
             }
            },
            "type": "parcoords"
           }
          ],
          "pie": [
           {
            "automargin": true,
            "type": "pie"
           }
          ],
          "scatter": [
           {
            "fillpattern": {
             "fillmode": "overlay",
             "size": 10,
             "solidity": 0.2
            },
            "type": "scatter"
           }
          ],
          "scatter3d": [
           {
            "line": {
             "colorbar": {
              "outlinewidth": 0,
              "ticks": ""
             }
            },
            "marker": {
             "colorbar": {
              "outlinewidth": 0,
              "ticks": ""
             }
            },
            "type": "scatter3d"
           }
          ],
          "scattercarpet": [
           {
            "marker": {
             "colorbar": {
              "outlinewidth": 0,
              "ticks": ""
             }
            },
            "type": "scattercarpet"
           }
          ],
          "scattergeo": [
           {
            "marker": {
             "colorbar": {
              "outlinewidth": 0,
              "ticks": ""
             }
            },
            "type": "scattergeo"
           }
          ],
          "scattergl": [
           {
            "marker": {
             "colorbar": {
              "outlinewidth": 0,
              "ticks": ""
             }
            },
            "type": "scattergl"
           }
          ],
          "scattermapbox": [
           {
            "marker": {
             "colorbar": {
              "outlinewidth": 0,
              "ticks": ""
             }
            },
            "type": "scattermapbox"
           }
          ],
          "scatterpolar": [
           {
            "marker": {
             "colorbar": {
              "outlinewidth": 0,
              "ticks": ""
             }
            },
            "type": "scatterpolar"
           }
          ],
          "scatterpolargl": [
           {
            "marker": {
             "colorbar": {
              "outlinewidth": 0,
              "ticks": ""
             }
            },
            "type": "scatterpolargl"
           }
          ],
          "scatterternary": [
           {
            "marker": {
             "colorbar": {
              "outlinewidth": 0,
              "ticks": ""
             }
            },
            "type": "scatterternary"
           }
          ],
          "surface": [
           {
            "colorbar": {
             "outlinewidth": 0,
             "ticks": ""
            },
            "colorscale": [
             [
              0,
              "#0d0887"
             ],
             [
              0.1111111111111111,
              "#46039f"
             ],
             [
              0.2222222222222222,
              "#7201a8"
             ],
             [
              0.3333333333333333,
              "#9c179e"
             ],
             [
              0.4444444444444444,
              "#bd3786"
             ],
             [
              0.5555555555555556,
              "#d8576b"
             ],
             [
              0.6666666666666666,
              "#ed7953"
             ],
             [
              0.7777777777777778,
              "#fb9f3a"
             ],
             [
              0.8888888888888888,
              "#fdca26"
             ],
             [
              1,
              "#f0f921"
             ]
            ],
            "type": "surface"
           }
          ],
          "table": [
           {
            "cells": {
             "fill": {
              "color": "#EBF0F8"
             },
             "line": {
              "color": "white"
             }
            },
            "header": {
             "fill": {
              "color": "#C8D4E3"
             },
             "line": {
              "color": "white"
             }
            },
            "type": "table"
           }
          ]
         },
         "layout": {
          "annotationdefaults": {
           "arrowcolor": "#2a3f5f",
           "arrowhead": 0,
           "arrowwidth": 1
          },
          "autotypenumbers": "strict",
          "coloraxis": {
           "colorbar": {
            "outlinewidth": 0,
            "ticks": ""
           }
          },
          "colorscale": {
           "diverging": [
            [
             0,
             "#8e0152"
            ],
            [
             0.1,
             "#c51b7d"
            ],
            [
             0.2,
             "#de77ae"
            ],
            [
             0.3,
             "#f1b6da"
            ],
            [
             0.4,
             "#fde0ef"
            ],
            [
             0.5,
             "#f7f7f7"
            ],
            [
             0.6,
             "#e6f5d0"
            ],
            [
             0.7,
             "#b8e186"
            ],
            [
             0.8,
             "#7fbc41"
            ],
            [
             0.9,
             "#4d9221"
            ],
            [
             1,
             "#276419"
            ]
           ],
           "sequential": [
            [
             0,
             "#0d0887"
            ],
            [
             0.1111111111111111,
             "#46039f"
            ],
            [
             0.2222222222222222,
             "#7201a8"
            ],
            [
             0.3333333333333333,
             "#9c179e"
            ],
            [
             0.4444444444444444,
             "#bd3786"
            ],
            [
             0.5555555555555556,
             "#d8576b"
            ],
            [
             0.6666666666666666,
             "#ed7953"
            ],
            [
             0.7777777777777778,
             "#fb9f3a"
            ],
            [
             0.8888888888888888,
             "#fdca26"
            ],
            [
             1,
             "#f0f921"
            ]
           ],
           "sequentialminus": [
            [
             0,
             "#0d0887"
            ],
            [
             0.1111111111111111,
             "#46039f"
            ],
            [
             0.2222222222222222,
             "#7201a8"
            ],
            [
             0.3333333333333333,
             "#9c179e"
            ],
            [
             0.4444444444444444,
             "#bd3786"
            ],
            [
             0.5555555555555556,
             "#d8576b"
            ],
            [
             0.6666666666666666,
             "#ed7953"
            ],
            [
             0.7777777777777778,
             "#fb9f3a"
            ],
            [
             0.8888888888888888,
             "#fdca26"
            ],
            [
             1,
             "#f0f921"
            ]
           ]
          },
          "colorway": [
           "#636efa",
           "#EF553B",
           "#00cc96",
           "#ab63fa",
           "#FFA15A",
           "#19d3f3",
           "#FF6692",
           "#B6E880",
           "#FF97FF",
           "#FECB52"
          ],
          "font": {
           "color": "#2a3f5f"
          },
          "geo": {
           "bgcolor": "white",
           "lakecolor": "white",
           "landcolor": "#E5ECF6",
           "showlakes": true,
           "showland": true,
           "subunitcolor": "white"
          },
          "hoverlabel": {
           "align": "left"
          },
          "hovermode": "closest",
          "mapbox": {
           "style": "light"
          },
          "paper_bgcolor": "white",
          "plot_bgcolor": "#E5ECF6",
          "polar": {
           "angularaxis": {
            "gridcolor": "white",
            "linecolor": "white",
            "ticks": ""
           },
           "bgcolor": "#E5ECF6",
           "radialaxis": {
            "gridcolor": "white",
            "linecolor": "white",
            "ticks": ""
           }
          },
          "scene": {
           "xaxis": {
            "backgroundcolor": "#E5ECF6",
            "gridcolor": "white",
            "gridwidth": 2,
            "linecolor": "white",
            "showbackground": true,
            "ticks": "",
            "zerolinecolor": "white"
           },
           "yaxis": {
            "backgroundcolor": "#E5ECF6",
            "gridcolor": "white",
            "gridwidth": 2,
            "linecolor": "white",
            "showbackground": true,
            "ticks": "",
            "zerolinecolor": "white"
           },
           "zaxis": {
            "backgroundcolor": "#E5ECF6",
            "gridcolor": "white",
            "gridwidth": 2,
            "linecolor": "white",
            "showbackground": true,
            "ticks": "",
            "zerolinecolor": "white"
           }
          },
          "shapedefaults": {
           "line": {
            "color": "#2a3f5f"
           }
          },
          "ternary": {
           "aaxis": {
            "gridcolor": "white",
            "linecolor": "white",
            "ticks": ""
           },
           "baxis": {
            "gridcolor": "white",
            "linecolor": "white",
            "ticks": ""
           },
           "bgcolor": "#E5ECF6",
           "caxis": {
            "gridcolor": "white",
            "linecolor": "white",
            "ticks": ""
           }
          },
          "title": {
           "x": 0.05
          },
          "xaxis": {
           "automargin": true,
           "gridcolor": "white",
           "linecolor": "white",
           "ticks": "",
           "title": {
            "standoff": 15
           },
           "zerolinecolor": "white",
           "zerolinewidth": 2
          },
          "yaxis": {
           "automargin": true,
           "gridcolor": "white",
           "linecolor": "white",
           "ticks": "",
           "title": {
            "standoff": 15
           },
           "zerolinecolor": "white",
           "zerolinewidth": 2
          }
         }
        },
        "title": {
         "font": {
          "color": "Black",
          "family": "Arial",
          "size": 24
         },
         "text": "Proporción de Victoria Según el Tipo de Mano Final",
         "x": 0.5
        },
        "xaxis": {
         "anchor": "y",
         "domain": [
          0,
          1
         ],
         "gridcolor": "LightGray",
         "tickfont": {
          "color": "Gray",
          "family": "Arial",
          "size": 14
         },
         "title": {
          "font": {
           "color": "Gray",
           "family": "Arial",
           "size": 18
          },
          "text": "Proporción de Victoria (%)"
         },
         "zeroline": false
        },
        "yaxis": {
         "anchor": "x",
         "domain": [
          0,
          1
         ],
         "tickfont": {
          "color": "Gray",
          "family": "Arial",
          "size": 14
         },
         "title": {
          "font": {
           "color": "Gray",
           "family": "Arial",
           "size": 18
          },
          "text": "Tipo de Mano Final"
         }
        }
       }
      }
     },
     "metadata": {},
     "output_type": "display_data"
    }
   ],
   "source": [
    "# Visualización en un gráfico de barras horizontales\n",
    "fig = px.bar(\n",
    "    victory_rate_by_hand_type,\n",
    "    x='Win Rate',\n",
    "    y='mano_river',\n",
    "    orientation='h',\n",
    "    text='Win Rate',\n",
    "    title=\"Proporción de Victoria Según el Tipo de Mano Final\",\n",
    "    labels={\"mano_river\": \"Tipo de Mano Final\", \"Win Rate\": \"Proporción de Victoria (%)\"},\n",
    "    color='Win Rate',\n",
    "    color_continuous_scale=px.colors.sequential.Viridis,\n",
    ")\n",
    "\n",
    "# Diseño de las barras\n",
    "fig.update_traces(\n",
    "    texttemplate='%{text:.2f}%', \n",
    "    textposition='outside',    \n",
    "    marker=dict(\n",
    "        line=dict(color='black', width=0.5),  \n",
    "        opacity=0.85                          \n",
    "    )\n",
    ")\n",
    "\n",
    "# Diseño general\n",
    "fig.update_layout(\n",
    "    title=dict(\n",
    "        text=\"Proporción de Victoria Según el Tipo de Mano Final\",\n",
    "        font=dict(size=24, family=\"Arial\", color=\"Black\"),\n",
    "        x=0.5\n",
    "    ),\n",
    "    xaxis=dict(\n",
    "        title=\"Proporción de Victoria (%)\",\n",
    "        title_font=dict(size=18, family=\"Arial\", color=\"Gray\"),\n",
    "        tickfont=dict(size=14, family=\"Arial\", color=\"Gray\"),\n",
    "        gridcolor=\"LightGray\",  \n",
    "        zeroline=False         \n",
    "    ),\n",
    "    yaxis=dict(\n",
    "        title=\"Tipo de Mano Final\",\n",
    "        title_font=dict(size=18, family=\"Arial\", color=\"Gray\"),\n",
    "        tickfont=dict(size=14, family=\"Arial\", color=\"Gray\"),\n",
    "    ),\n",
    "    coloraxis_showscale=False,  \n",
    "    margin=dict(l=100, r=50, t=80, b=50),  \n",
    "    plot_bgcolor=\"White\",\n",
    ")\n",
    "\n",
    "fig.show()"
   ]
  },
  {
   "cell_type": "markdown",
   "metadata": {},
   "source": [
    "##### **Análisis de la proporción de victoria según el tipo de mano final**\n",
    "\n",
    "En este gráfico podemos observar que efectivamente las manos menos comunes que habíamos visto en el grafico anterior, *Poker, Escalera de Color y Escalera Real*, son manos realmente fuertes y la tasa de victoria es altísima.\n",
    "\n",
    "De hecho este análisis lo realizamos para todas las manos en el River únicamente, es por eso que el *Poker* por ejemplo tiene un 13.14% en el que pierde o empata, porque habrá alguna simulación en la que nos encontremos el *Poker* en las cartas comunitarias y habrá empates y partidas decididas por el *Kicker*. Este tipo de manos, si empezamos con proyecto preflop tienen una tasa de victoria que tiende a 100.\n",
    "\n",
    "También podemos observar que la tasa de *Escalera Real* es prácticamente 100%. Es una mano que sale aproximadamente 1 de cada 30,000 veces pero esa vez que es prácticamente victoria asegurada.\n",
    "\n",
    "Por último, es muy destacable el bajo porcentaje de victoria de *Carta Alta*, en nuestro caso un 2.51%. Esto nos da una idea de que en la gran mayoría de los casos si nos vamos al River con *Carta Alta* es una mano que ganaremos 1 de cada 40 veces aproximádamente en partidas de 2-9 jugadores, unos 4-5 jugadores de media."
   ]
  }
 ],
 "metadata": {
  "kernelspec": {
   "display_name": "poker-env",
   "language": "python",
   "name": "python3"
  },
  "language_info": {
   "codemirror_mode": {
    "name": "ipython",
    "version": 3
   },
   "file_extension": ".py",
   "mimetype": "text/x-python",
   "name": "python",
   "nbconvert_exporter": "python",
   "pygments_lexer": "ipython3",
   "version": "3.11.9"
  }
 },
 "nbformat": 4,
 "nbformat_minor": 4
}
